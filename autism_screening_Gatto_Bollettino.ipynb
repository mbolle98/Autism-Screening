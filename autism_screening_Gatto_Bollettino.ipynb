{
 "cells": [
  {
   "cell_type": "markdown",
   "metadata": {},
   "source": [
    "# AUTISMO o TRASTORNOS DEL ESPECTRO AUTISTA (TEA)\n",
    "\n",
    "## Autism or autism spectrum disorder (ASD)"
   ]
  },
  {
   "cell_type": "markdown",
   "metadata": {},
   "source": [
    "### Autores del trabajo:  MADHURII GATTO y MATTEO BOLLETTINO"
   ]
  },
  {
   "cell_type": "markdown",
   "metadata": {},
   "source": [
    "**Fuente de datos**: [Link_kaggle](https://www.kaggle.com/andrewmvd/autism-screening-on-adults)"
   ]
  },
  {
   "cell_type": "markdown",
   "metadata": {},
   "source": [
    "El **autismo** es un **conjunto de alteraciones del desarrollo cerebral**, que varían de un sujeto a otro, que implican una **alteración de las habilidades sociales y del lenguaje, además de varios trastornos del comportamiento.** La palabra \"autismo\" viene del griego, su significado literal es <em>\"estar solo consigo mismo\"</em>. El autismo no es un trastorno definido con certeza, por lo que es preferible utilizar la definición de **\"trastornos del espectro autista\"**. \n",
    "\n",
    "**Los trastornos del espectro autista son variables de un sujeto a otro**: cada sujeto autista es diferente de los demás, y algunos son capaces de integrarse en la vida social y de tener relaciones más o menos satisfactorias. Esquemáticamente podemos dividir las diferentes manifestaciones del espectro autista en **autismo de alto funcionamiento** (sujetos capaces de comunicarse verbalmente y dotados de una inteligencia normal o incluso superior, hasta el punto de tener a veces extraordinarias habilidades en muchos campos) y **autismo de bajo funcionamiento** (sujetos que no son capaces de usar un lenguaje apropiado y tienen capacidades mentales insuficientes).\n",
    "\n"
   ]
  },
  {
   "cell_type": "markdown",
   "metadata": {},
   "source": [
    "#### El impacto económico del autismo y el aumento del número de casos de TEA en todo el mundo revela una necesidad urgente de desarrollar métodos de detección eficaces y de fácil aplicación. Por lo tanto, un tiempo eficiente y accesible deTEA detección es necesario para ayudar a los profesionales de la salud e informar a las personas si deben seguir el diagnóstico clínico formal.\n",
    "\n",
    "#### Además el rápido crecimiento del número de casos de autismo requiere conjuntos de datos relacionados con rasgos de comportamiento pero estos conjuntos de datos son raros, lo que dificulta realizar análisis exhaustivos para mejorar la eficiencia, sensibilidad, especificidad y exactitud predictiva del proceso de selección de TEA.\n",
    "\n",
    "#### Sin embargo, hemos encontrado el siguiente conjunto de datos sobre cribado de autismo (autism screening) en adultos y nos proponemos proporcionar una clasificación binaria en personas con autismo contro personas sin autismo.\n",
    "\n",
    "#### Estes resultados serán útiles para análisis clínicos subsiguientes más detalladas, es decir para identificar a los sospechosos de autismo que deben seguir con el diagnóstico clínico formal."
   ]
  },
  {
   "cell_type": "markdown",
   "metadata": {},
   "source": [
    "## Información sobre las variables"
   ]
  },
  {
   "cell_type": "markdown",
   "metadata": {},
   "source": [
    "En este conjunto de datos, se registran **diez características de comportamiento** (**AQ-10-Adult**, vease pdf en anexo) más las siguientes **diez características** de individuos que han demostrado ser eficaces en la detección de los casos de autismo a partir de controles en la ciencia del comportamiento:\n",
    "- Edad en años (integer)\n",
    "- Género Hombre o Mujer (string)\n",
    "- Etnias (string)\n",
    "- Nacido con enfermedad ictericia (boolean)\n",
    "- País de residencia (string)\n",
    "- Si el usuario ha ya utilizado en pasado la aplicación de detección (boolean)\n",
    "- Resultado de las 10 pruebas (integer)\n",
    "- Descripcion de la categoria de edad (string)\n",
    "- Quién está completando el test (string)\n",
    "- Si la aplicacion ha clasificado el sujeto con autismo o sin autismo\n",
    "\n",
    "La variable respuesta es la columna **autism** que indica si la persona fue diagnosticada con autismo o no."
   ]
  },
  {
   "cell_type": "code",
   "execution_count": 1,
   "metadata": {},
   "outputs": [],
   "source": [
    "%matplotlib inline\n",
    "import matplotlib.pyplot as plt\n",
    "plt.rcParams.update({'figure.max_open_warning': 0})\n",
    "import numpy as np\n",
    "import pandas as pd\n",
    "import mglearn"
   ]
  },
  {
   "cell_type": "markdown",
   "metadata": {},
   "source": [
    "## Importamos los datos\n"
   ]
  },
  {
   "cell_type": "code",
   "execution_count": 2,
   "metadata": {
    "scrolled": true
   },
   "outputs": [
    {
     "data": {
      "text/html": [
       "<div>\n",
       "<style scoped>\n",
       "    .dataframe tbody tr th:only-of-type {\n",
       "        vertical-align: middle;\n",
       "    }\n",
       "\n",
       "    .dataframe tbody tr th {\n",
       "        vertical-align: top;\n",
       "    }\n",
       "\n",
       "    .dataframe thead th {\n",
       "        text-align: right;\n",
       "    }\n",
       "</style>\n",
       "<table border=\"1\" class=\"dataframe\">\n",
       "  <thead>\n",
       "    <tr style=\"text-align: right;\">\n",
       "      <th></th>\n",
       "      <th>A1_Score</th>\n",
       "      <th>A2_Score</th>\n",
       "      <th>A3_Score</th>\n",
       "      <th>A4_Score</th>\n",
       "      <th>A5_Score</th>\n",
       "      <th>A6_Score</th>\n",
       "      <th>A7_Score</th>\n",
       "      <th>A8_Score</th>\n",
       "      <th>A9_Score</th>\n",
       "      <th>A10_Score</th>\n",
       "      <th>...</th>\n",
       "      <th>gender</th>\n",
       "      <th>ethnicity</th>\n",
       "      <th>jundice</th>\n",
       "      <th>austim</th>\n",
       "      <th>contry_of_res</th>\n",
       "      <th>used_app_before</th>\n",
       "      <th>result</th>\n",
       "      <th>age_desc</th>\n",
       "      <th>relation</th>\n",
       "      <th>Class/ASD</th>\n",
       "    </tr>\n",
       "  </thead>\n",
       "  <tbody>\n",
       "    <tr>\n",
       "      <th>0</th>\n",
       "      <td>1</td>\n",
       "      <td>1</td>\n",
       "      <td>1</td>\n",
       "      <td>1</td>\n",
       "      <td>0</td>\n",
       "      <td>0</td>\n",
       "      <td>1</td>\n",
       "      <td>1</td>\n",
       "      <td>0</td>\n",
       "      <td>0</td>\n",
       "      <td>...</td>\n",
       "      <td>f</td>\n",
       "      <td>White-European</td>\n",
       "      <td>no</td>\n",
       "      <td>no</td>\n",
       "      <td>United States</td>\n",
       "      <td>no</td>\n",
       "      <td>6</td>\n",
       "      <td>18 and more</td>\n",
       "      <td>Self</td>\n",
       "      <td>NO</td>\n",
       "    </tr>\n",
       "    <tr>\n",
       "      <th>1</th>\n",
       "      <td>1</td>\n",
       "      <td>1</td>\n",
       "      <td>0</td>\n",
       "      <td>1</td>\n",
       "      <td>0</td>\n",
       "      <td>0</td>\n",
       "      <td>0</td>\n",
       "      <td>1</td>\n",
       "      <td>0</td>\n",
       "      <td>1</td>\n",
       "      <td>...</td>\n",
       "      <td>m</td>\n",
       "      <td>Latino</td>\n",
       "      <td>no</td>\n",
       "      <td>yes</td>\n",
       "      <td>Brazil</td>\n",
       "      <td>no</td>\n",
       "      <td>5</td>\n",
       "      <td>18 and more</td>\n",
       "      <td>Self</td>\n",
       "      <td>NO</td>\n",
       "    </tr>\n",
       "    <tr>\n",
       "      <th>2</th>\n",
       "      <td>1</td>\n",
       "      <td>1</td>\n",
       "      <td>0</td>\n",
       "      <td>1</td>\n",
       "      <td>1</td>\n",
       "      <td>0</td>\n",
       "      <td>1</td>\n",
       "      <td>1</td>\n",
       "      <td>1</td>\n",
       "      <td>1</td>\n",
       "      <td>...</td>\n",
       "      <td>m</td>\n",
       "      <td>Latino</td>\n",
       "      <td>yes</td>\n",
       "      <td>yes</td>\n",
       "      <td>Spain</td>\n",
       "      <td>no</td>\n",
       "      <td>8</td>\n",
       "      <td>18 and more</td>\n",
       "      <td>Parent</td>\n",
       "      <td>YES</td>\n",
       "    </tr>\n",
       "    <tr>\n",
       "      <th>3</th>\n",
       "      <td>1</td>\n",
       "      <td>1</td>\n",
       "      <td>0</td>\n",
       "      <td>1</td>\n",
       "      <td>0</td>\n",
       "      <td>0</td>\n",
       "      <td>1</td>\n",
       "      <td>1</td>\n",
       "      <td>0</td>\n",
       "      <td>1</td>\n",
       "      <td>...</td>\n",
       "      <td>f</td>\n",
       "      <td>White-European</td>\n",
       "      <td>no</td>\n",
       "      <td>yes</td>\n",
       "      <td>United States</td>\n",
       "      <td>no</td>\n",
       "      <td>6</td>\n",
       "      <td>18 and more</td>\n",
       "      <td>Self</td>\n",
       "      <td>NO</td>\n",
       "    </tr>\n",
       "    <tr>\n",
       "      <th>4</th>\n",
       "      <td>1</td>\n",
       "      <td>0</td>\n",
       "      <td>0</td>\n",
       "      <td>0</td>\n",
       "      <td>0</td>\n",
       "      <td>0</td>\n",
       "      <td>0</td>\n",
       "      <td>1</td>\n",
       "      <td>0</td>\n",
       "      <td>0</td>\n",
       "      <td>...</td>\n",
       "      <td>f</td>\n",
       "      <td>NaN</td>\n",
       "      <td>no</td>\n",
       "      <td>no</td>\n",
       "      <td>Egypt</td>\n",
       "      <td>no</td>\n",
       "      <td>2</td>\n",
       "      <td>18 and more</td>\n",
       "      <td>NaN</td>\n",
       "      <td>NO</td>\n",
       "    </tr>\n",
       "  </tbody>\n",
       "</table>\n",
       "<p>5 rows × 21 columns</p>\n",
       "</div>"
      ],
      "text/plain": [
       "   A1_Score  A2_Score  A3_Score  A4_Score  A5_Score  A6_Score  A7_Score  \\\n",
       "0         1         1         1         1         0         0         1   \n",
       "1         1         1         0         1         0         0         0   \n",
       "2         1         1         0         1         1         0         1   \n",
       "3         1         1         0         1         0         0         1   \n",
       "4         1         0         0         0         0         0         0   \n",
       "\n",
       "   A8_Score  A9_Score  A10_Score  ...  gender       ethnicity jundice austim  \\\n",
       "0         1         0          0  ...       f  White-European      no     no   \n",
       "1         1         0          1  ...       m          Latino      no    yes   \n",
       "2         1         1          1  ...       m          Latino     yes    yes   \n",
       "3         1         0          1  ...       f  White-European      no    yes   \n",
       "4         1         0          0  ...       f             NaN      no     no   \n",
       "\n",
       "   contry_of_res used_app_before result     age_desc relation Class/ASD  \n",
       "0  United States              no      6  18 and more     Self        NO  \n",
       "1         Brazil              no      5  18 and more     Self        NO  \n",
       "2          Spain              no      8  18 and more   Parent       YES  \n",
       "3  United States              no      6  18 and more     Self        NO  \n",
       "4          Egypt              no      2  18 and more      NaN        NO  \n",
       "\n",
       "[5 rows x 21 columns]"
      ]
     },
     "execution_count": 2,
     "metadata": {},
     "output_type": "execute_result"
    }
   ],
   "source": [
    "dataframe=pd.read_csv(\"autism_screening.csv\",na_values=\"?\")\n",
    "dataframe.head()"
   ]
  },
  {
   "cell_type": "markdown",
   "metadata": {},
   "source": [
    "##  Limpieza de los datos"
   ]
  },
  {
   "cell_type": "markdown",
   "metadata": {},
   "source": [
    "Primero notamos que hay una **variable cuyo valor es el mismo para todas las instancias del conjunto**.\n",
    "Nos parece que no tiene sentido utilizarla para nuestro estudio de clasificacion, por eso elijimos de quitarla.\n",
    "\n",
    "Comprobacion:"
   ]
  },
  {
   "cell_type": "code",
   "execution_count": 3,
   "metadata": {},
   "outputs": [
    {
     "data": {
      "text/plain": [
       "array(['18 and more'], dtype=object)"
      ]
     },
     "execution_count": 3,
     "metadata": {},
     "output_type": "execute_result"
    }
   ],
   "source": [
    "np.unique(dataframe['age_desc'])"
   ]
  },
  {
   "cell_type": "code",
   "execution_count": 51,
   "metadata": {},
   "outputs": [
    {
     "data": {
      "text/html": [
       "<div>\n",
       "<style scoped>\n",
       "    .dataframe tbody tr th:only-of-type {\n",
       "        vertical-align: middle;\n",
       "    }\n",
       "\n",
       "    .dataframe tbody tr th {\n",
       "        vertical-align: top;\n",
       "    }\n",
       "\n",
       "    .dataframe thead th {\n",
       "        text-align: right;\n",
       "    }\n",
       "</style>\n",
       "<table border=\"1\" class=\"dataframe\">\n",
       "  <thead>\n",
       "    <tr style=\"text-align: right;\">\n",
       "      <th></th>\n",
       "      <th>A1_Score</th>\n",
       "      <th>A2_Score</th>\n",
       "      <th>A3_Score</th>\n",
       "      <th>A4_Score</th>\n",
       "      <th>A5_Score</th>\n",
       "      <th>A6_Score</th>\n",
       "      <th>A7_Score</th>\n",
       "      <th>A8_Score</th>\n",
       "      <th>A9_Score</th>\n",
       "      <th>A10_Score</th>\n",
       "      <th>age</th>\n",
       "      <th>gender</th>\n",
       "      <th>ethnicity</th>\n",
       "      <th>jundice</th>\n",
       "      <th>austim</th>\n",
       "      <th>contry_of_res</th>\n",
       "      <th>used_app_before</th>\n",
       "      <th>result</th>\n",
       "      <th>relation</th>\n",
       "      <th>Class/ASD</th>\n",
       "    </tr>\n",
       "  </thead>\n",
       "  <tbody>\n",
       "    <tr>\n",
       "      <th>0</th>\n",
       "      <td>1</td>\n",
       "      <td>1</td>\n",
       "      <td>1</td>\n",
       "      <td>1</td>\n",
       "      <td>0</td>\n",
       "      <td>0</td>\n",
       "      <td>1</td>\n",
       "      <td>1</td>\n",
       "      <td>0</td>\n",
       "      <td>0</td>\n",
       "      <td>26.0</td>\n",
       "      <td>f</td>\n",
       "      <td>White-European</td>\n",
       "      <td>no</td>\n",
       "      <td>no</td>\n",
       "      <td>United States</td>\n",
       "      <td>no</td>\n",
       "      <td>6</td>\n",
       "      <td>Self</td>\n",
       "      <td>NO</td>\n",
       "    </tr>\n",
       "    <tr>\n",
       "      <th>1</th>\n",
       "      <td>1</td>\n",
       "      <td>1</td>\n",
       "      <td>0</td>\n",
       "      <td>1</td>\n",
       "      <td>0</td>\n",
       "      <td>0</td>\n",
       "      <td>0</td>\n",
       "      <td>1</td>\n",
       "      <td>0</td>\n",
       "      <td>1</td>\n",
       "      <td>24.0</td>\n",
       "      <td>m</td>\n",
       "      <td>Latino</td>\n",
       "      <td>no</td>\n",
       "      <td>yes</td>\n",
       "      <td>Brazil</td>\n",
       "      <td>no</td>\n",
       "      <td>5</td>\n",
       "      <td>Self</td>\n",
       "      <td>NO</td>\n",
       "    </tr>\n",
       "    <tr>\n",
       "      <th>2</th>\n",
       "      <td>1</td>\n",
       "      <td>1</td>\n",
       "      <td>0</td>\n",
       "      <td>1</td>\n",
       "      <td>1</td>\n",
       "      <td>0</td>\n",
       "      <td>1</td>\n",
       "      <td>1</td>\n",
       "      <td>1</td>\n",
       "      <td>1</td>\n",
       "      <td>27.0</td>\n",
       "      <td>m</td>\n",
       "      <td>Latino</td>\n",
       "      <td>yes</td>\n",
       "      <td>yes</td>\n",
       "      <td>Spain</td>\n",
       "      <td>no</td>\n",
       "      <td>8</td>\n",
       "      <td>Parent</td>\n",
       "      <td>YES</td>\n",
       "    </tr>\n",
       "    <tr>\n",
       "      <th>3</th>\n",
       "      <td>1</td>\n",
       "      <td>1</td>\n",
       "      <td>0</td>\n",
       "      <td>1</td>\n",
       "      <td>0</td>\n",
       "      <td>0</td>\n",
       "      <td>1</td>\n",
       "      <td>1</td>\n",
       "      <td>0</td>\n",
       "      <td>1</td>\n",
       "      <td>35.0</td>\n",
       "      <td>f</td>\n",
       "      <td>White-European</td>\n",
       "      <td>no</td>\n",
       "      <td>yes</td>\n",
       "      <td>United States</td>\n",
       "      <td>no</td>\n",
       "      <td>6</td>\n",
       "      <td>Self</td>\n",
       "      <td>NO</td>\n",
       "    </tr>\n",
       "    <tr>\n",
       "      <th>4</th>\n",
       "      <td>1</td>\n",
       "      <td>0</td>\n",
       "      <td>0</td>\n",
       "      <td>0</td>\n",
       "      <td>0</td>\n",
       "      <td>0</td>\n",
       "      <td>0</td>\n",
       "      <td>1</td>\n",
       "      <td>0</td>\n",
       "      <td>0</td>\n",
       "      <td>40.0</td>\n",
       "      <td>f</td>\n",
       "      <td>NaN</td>\n",
       "      <td>no</td>\n",
       "      <td>no</td>\n",
       "      <td>Egypt</td>\n",
       "      <td>no</td>\n",
       "      <td>2</td>\n",
       "      <td>NaN</td>\n",
       "      <td>NO</td>\n",
       "    </tr>\n",
       "  </tbody>\n",
       "</table>\n",
       "</div>"
      ],
      "text/plain": [
       "   A1_Score  A2_Score  A3_Score  A4_Score  A5_Score  A6_Score  A7_Score  \\\n",
       "0         1         1         1         1         0         0         1   \n",
       "1         1         1         0         1         0         0         0   \n",
       "2         1         1         0         1         1         0         1   \n",
       "3         1         1         0         1         0         0         1   \n",
       "4         1         0         0         0         0         0         0   \n",
       "\n",
       "   A8_Score  A9_Score  A10_Score   age gender       ethnicity jundice austim  \\\n",
       "0         1         0          0  26.0      f  White-European      no     no   \n",
       "1         1         0          1  24.0      m          Latino      no    yes   \n",
       "2         1         1          1  27.0      m          Latino     yes    yes   \n",
       "3         1         0          1  35.0      f  White-European      no    yes   \n",
       "4         1         0          0  40.0      f             NaN      no     no   \n",
       "\n",
       "   contry_of_res used_app_before  result relation Class/ASD  \n",
       "0  United States              no       6     Self        NO  \n",
       "1         Brazil              no       5     Self        NO  \n",
       "2          Spain              no       8   Parent       YES  \n",
       "3  United States              no       6     Self        NO  \n",
       "4          Egypt              no       2      NaN        NO  "
      ]
     },
     "execution_count": 51,
     "metadata": {},
     "output_type": "execute_result"
    }
   ],
   "source": [
    "del dataframe['age_desc']\n",
    "\n",
    "dataframe.head()"
   ]
  },
  {
   "cell_type": "markdown",
   "metadata": {},
   "source": [
    "## Exploración de los datos y visualización mediante gráficos"
   ]
  },
  {
   "cell_type": "code",
   "execution_count": 52,
   "metadata": {},
   "outputs": [
    {
     "data": {
      "text/html": [
       "<div>\n",
       "<style scoped>\n",
       "    .dataframe tbody tr th:only-of-type {\n",
       "        vertical-align: middle;\n",
       "    }\n",
       "\n",
       "    .dataframe tbody tr th {\n",
       "        vertical-align: top;\n",
       "    }\n",
       "\n",
       "    .dataframe thead th {\n",
       "        text-align: right;\n",
       "    }\n",
       "</style>\n",
       "<table border=\"1\" class=\"dataframe\">\n",
       "  <thead>\n",
       "    <tr style=\"text-align: right;\">\n",
       "      <th></th>\n",
       "      <th>A1_Score</th>\n",
       "      <th>A2_Score</th>\n",
       "      <th>A3_Score</th>\n",
       "      <th>A4_Score</th>\n",
       "      <th>A5_Score</th>\n",
       "      <th>A6_Score</th>\n",
       "      <th>A7_Score</th>\n",
       "      <th>A8_Score</th>\n",
       "      <th>A9_Score</th>\n",
       "      <th>A10_Score</th>\n",
       "      <th>age</th>\n",
       "      <th>result</th>\n",
       "    </tr>\n",
       "  </thead>\n",
       "  <tbody>\n",
       "    <tr>\n",
       "      <th>count</th>\n",
       "      <td>704.000000</td>\n",
       "      <td>704.000000</td>\n",
       "      <td>704.000000</td>\n",
       "      <td>704.000000</td>\n",
       "      <td>704.000000</td>\n",
       "      <td>704.000000</td>\n",
       "      <td>704.000000</td>\n",
       "      <td>704.000000</td>\n",
       "      <td>704.000000</td>\n",
       "      <td>704.000000</td>\n",
       "      <td>702.000000</td>\n",
       "      <td>704.000000</td>\n",
       "    </tr>\n",
       "    <tr>\n",
       "      <th>mean</th>\n",
       "      <td>0.721591</td>\n",
       "      <td>0.453125</td>\n",
       "      <td>0.457386</td>\n",
       "      <td>0.495739</td>\n",
       "      <td>0.498580</td>\n",
       "      <td>0.284091</td>\n",
       "      <td>0.417614</td>\n",
       "      <td>0.649148</td>\n",
       "      <td>0.323864</td>\n",
       "      <td>0.573864</td>\n",
       "      <td>29.698006</td>\n",
       "      <td>4.875000</td>\n",
       "    </tr>\n",
       "    <tr>\n",
       "      <th>std</th>\n",
       "      <td>0.448535</td>\n",
       "      <td>0.498152</td>\n",
       "      <td>0.498535</td>\n",
       "      <td>0.500337</td>\n",
       "      <td>0.500353</td>\n",
       "      <td>0.451301</td>\n",
       "      <td>0.493516</td>\n",
       "      <td>0.477576</td>\n",
       "      <td>0.468281</td>\n",
       "      <td>0.494866</td>\n",
       "      <td>16.507465</td>\n",
       "      <td>2.501493</td>\n",
       "    </tr>\n",
       "    <tr>\n",
       "      <th>min</th>\n",
       "      <td>0.000000</td>\n",
       "      <td>0.000000</td>\n",
       "      <td>0.000000</td>\n",
       "      <td>0.000000</td>\n",
       "      <td>0.000000</td>\n",
       "      <td>0.000000</td>\n",
       "      <td>0.000000</td>\n",
       "      <td>0.000000</td>\n",
       "      <td>0.000000</td>\n",
       "      <td>0.000000</td>\n",
       "      <td>17.000000</td>\n",
       "      <td>0.000000</td>\n",
       "    </tr>\n",
       "    <tr>\n",
       "      <th>25%</th>\n",
       "      <td>0.000000</td>\n",
       "      <td>0.000000</td>\n",
       "      <td>0.000000</td>\n",
       "      <td>0.000000</td>\n",
       "      <td>0.000000</td>\n",
       "      <td>0.000000</td>\n",
       "      <td>0.000000</td>\n",
       "      <td>0.000000</td>\n",
       "      <td>0.000000</td>\n",
       "      <td>0.000000</td>\n",
       "      <td>21.000000</td>\n",
       "      <td>3.000000</td>\n",
       "    </tr>\n",
       "    <tr>\n",
       "      <th>50%</th>\n",
       "      <td>1.000000</td>\n",
       "      <td>0.000000</td>\n",
       "      <td>0.000000</td>\n",
       "      <td>0.000000</td>\n",
       "      <td>0.000000</td>\n",
       "      <td>0.000000</td>\n",
       "      <td>0.000000</td>\n",
       "      <td>1.000000</td>\n",
       "      <td>0.000000</td>\n",
       "      <td>1.000000</td>\n",
       "      <td>27.000000</td>\n",
       "      <td>4.000000</td>\n",
       "    </tr>\n",
       "    <tr>\n",
       "      <th>75%</th>\n",
       "      <td>1.000000</td>\n",
       "      <td>1.000000</td>\n",
       "      <td>1.000000</td>\n",
       "      <td>1.000000</td>\n",
       "      <td>1.000000</td>\n",
       "      <td>1.000000</td>\n",
       "      <td>1.000000</td>\n",
       "      <td>1.000000</td>\n",
       "      <td>1.000000</td>\n",
       "      <td>1.000000</td>\n",
       "      <td>35.000000</td>\n",
       "      <td>7.000000</td>\n",
       "    </tr>\n",
       "    <tr>\n",
       "      <th>max</th>\n",
       "      <td>1.000000</td>\n",
       "      <td>1.000000</td>\n",
       "      <td>1.000000</td>\n",
       "      <td>1.000000</td>\n",
       "      <td>1.000000</td>\n",
       "      <td>1.000000</td>\n",
       "      <td>1.000000</td>\n",
       "      <td>1.000000</td>\n",
       "      <td>1.000000</td>\n",
       "      <td>1.000000</td>\n",
       "      <td>383.000000</td>\n",
       "      <td>10.000000</td>\n",
       "    </tr>\n",
       "  </tbody>\n",
       "</table>\n",
       "</div>"
      ],
      "text/plain": [
       "         A1_Score    A2_Score    A3_Score    A4_Score    A5_Score    A6_Score  \\\n",
       "count  704.000000  704.000000  704.000000  704.000000  704.000000  704.000000   \n",
       "mean     0.721591    0.453125    0.457386    0.495739    0.498580    0.284091   \n",
       "std      0.448535    0.498152    0.498535    0.500337    0.500353    0.451301   \n",
       "min      0.000000    0.000000    0.000000    0.000000    0.000000    0.000000   \n",
       "25%      0.000000    0.000000    0.000000    0.000000    0.000000    0.000000   \n",
       "50%      1.000000    0.000000    0.000000    0.000000    0.000000    0.000000   \n",
       "75%      1.000000    1.000000    1.000000    1.000000    1.000000    1.000000   \n",
       "max      1.000000    1.000000    1.000000    1.000000    1.000000    1.000000   \n",
       "\n",
       "         A7_Score    A8_Score    A9_Score   A10_Score         age      result  \n",
       "count  704.000000  704.000000  704.000000  704.000000  702.000000  704.000000  \n",
       "mean     0.417614    0.649148    0.323864    0.573864   29.698006    4.875000  \n",
       "std      0.493516    0.477576    0.468281    0.494866   16.507465    2.501493  \n",
       "min      0.000000    0.000000    0.000000    0.000000   17.000000    0.000000  \n",
       "25%      0.000000    0.000000    0.000000    0.000000   21.000000    3.000000  \n",
       "50%      0.000000    1.000000    0.000000    1.000000   27.000000    4.000000  \n",
       "75%      1.000000    1.000000    1.000000    1.000000   35.000000    7.000000  \n",
       "max      1.000000    1.000000    1.000000    1.000000  383.000000   10.000000  "
      ]
     },
     "execution_count": 52,
     "metadata": {},
     "output_type": "execute_result"
    }
   ],
   "source": [
    "dataframe.describe()"
   ]
  },
  {
   "cell_type": "markdown",
   "metadata": {},
   "source": [
    "Notamos que el max de la variable age es **383**, valor que no tiene para nada sentido. Controlamos cuales son los **datos con edad sin sentido** extraendo donde la columna age es mayor que 100."
   ]
  },
  {
   "cell_type": "code",
   "execution_count": 53,
   "metadata": {},
   "outputs": [
    {
     "data": {
      "text/plain": [
       "52    383.0\n",
       "Name: age, dtype: float64"
      ]
     },
     "execution_count": 53,
     "metadata": {},
     "output_type": "execute_result"
    }
   ],
   "source": [
    "dataframe[dataframe['age']>100]['age']"
   ]
  },
  {
   "cell_type": "markdown",
   "metadata": {},
   "source": [
    "Elijimos de no quitar este dato, sino di **substituirlo con la media de los datos (calculada claramente sin el 383)**"
   ]
  },
  {
   "cell_type": "code",
   "execution_count": 54,
   "metadata": {},
   "outputs": [
    {
     "data": {
      "text/plain": [
       "29.110953058321478"
      ]
     },
     "execution_count": 54,
     "metadata": {},
     "output_type": "execute_result"
    }
   ],
   "source": [
    "(dataframe['age'].sum() - 383)/(dataframe.shape[0]-1)"
   ]
  },
  {
   "cell_type": "code",
   "execution_count": 55,
   "metadata": {},
   "outputs": [
    {
     "data": {
      "text/html": [
       "<div>\n",
       "<style scoped>\n",
       "    .dataframe tbody tr th:only-of-type {\n",
       "        vertical-align: middle;\n",
       "    }\n",
       "\n",
       "    .dataframe tbody tr th {\n",
       "        vertical-align: top;\n",
       "    }\n",
       "\n",
       "    .dataframe thead th {\n",
       "        text-align: right;\n",
       "    }\n",
       "</style>\n",
       "<table border=\"1\" class=\"dataframe\">\n",
       "  <thead>\n",
       "    <tr style=\"text-align: right;\">\n",
       "      <th></th>\n",
       "      <th>A1_Score</th>\n",
       "      <th>A2_Score</th>\n",
       "      <th>A3_Score</th>\n",
       "      <th>A4_Score</th>\n",
       "      <th>A5_Score</th>\n",
       "      <th>A6_Score</th>\n",
       "      <th>A7_Score</th>\n",
       "      <th>A8_Score</th>\n",
       "      <th>A9_Score</th>\n",
       "      <th>A10_Score</th>\n",
       "      <th>age</th>\n",
       "      <th>result</th>\n",
       "    </tr>\n",
       "  </thead>\n",
       "  <tbody>\n",
       "    <tr>\n",
       "      <th>count</th>\n",
       "      <td>704.000000</td>\n",
       "      <td>704.000000</td>\n",
       "      <td>704.000000</td>\n",
       "      <td>704.000000</td>\n",
       "      <td>704.000000</td>\n",
       "      <td>704.000000</td>\n",
       "      <td>704.000000</td>\n",
       "      <td>704.000000</td>\n",
       "      <td>704.000000</td>\n",
       "      <td>704.000000</td>\n",
       "      <td>702.000000</td>\n",
       "      <td>704.000000</td>\n",
       "    </tr>\n",
       "    <tr>\n",
       "      <th>mean</th>\n",
       "      <td>0.721591</td>\n",
       "      <td>0.453125</td>\n",
       "      <td>0.457386</td>\n",
       "      <td>0.495739</td>\n",
       "      <td>0.498580</td>\n",
       "      <td>0.284091</td>\n",
       "      <td>0.417614</td>\n",
       "      <td>0.649148</td>\n",
       "      <td>0.323864</td>\n",
       "      <td>0.573864</td>\n",
       "      <td>29.193732</td>\n",
       "      <td>4.875000</td>\n",
       "    </tr>\n",
       "    <tr>\n",
       "      <th>std</th>\n",
       "      <td>0.448535</td>\n",
       "      <td>0.498152</td>\n",
       "      <td>0.498535</td>\n",
       "      <td>0.500337</td>\n",
       "      <td>0.500353</td>\n",
       "      <td>0.451301</td>\n",
       "      <td>0.493516</td>\n",
       "      <td>0.477576</td>\n",
       "      <td>0.468281</td>\n",
       "      <td>0.494866</td>\n",
       "      <td>9.704599</td>\n",
       "      <td>2.501493</td>\n",
       "    </tr>\n",
       "    <tr>\n",
       "      <th>min</th>\n",
       "      <td>0.000000</td>\n",
       "      <td>0.000000</td>\n",
       "      <td>0.000000</td>\n",
       "      <td>0.000000</td>\n",
       "      <td>0.000000</td>\n",
       "      <td>0.000000</td>\n",
       "      <td>0.000000</td>\n",
       "      <td>0.000000</td>\n",
       "      <td>0.000000</td>\n",
       "      <td>0.000000</td>\n",
       "      <td>17.000000</td>\n",
       "      <td>0.000000</td>\n",
       "    </tr>\n",
       "    <tr>\n",
       "      <th>25%</th>\n",
       "      <td>0.000000</td>\n",
       "      <td>0.000000</td>\n",
       "      <td>0.000000</td>\n",
       "      <td>0.000000</td>\n",
       "      <td>0.000000</td>\n",
       "      <td>0.000000</td>\n",
       "      <td>0.000000</td>\n",
       "      <td>0.000000</td>\n",
       "      <td>0.000000</td>\n",
       "      <td>0.000000</td>\n",
       "      <td>21.000000</td>\n",
       "      <td>3.000000</td>\n",
       "    </tr>\n",
       "    <tr>\n",
       "      <th>50%</th>\n",
       "      <td>1.000000</td>\n",
       "      <td>0.000000</td>\n",
       "      <td>0.000000</td>\n",
       "      <td>0.000000</td>\n",
       "      <td>0.000000</td>\n",
       "      <td>0.000000</td>\n",
       "      <td>0.000000</td>\n",
       "      <td>1.000000</td>\n",
       "      <td>0.000000</td>\n",
       "      <td>1.000000</td>\n",
       "      <td>27.000000</td>\n",
       "      <td>4.000000</td>\n",
       "    </tr>\n",
       "    <tr>\n",
       "      <th>75%</th>\n",
       "      <td>1.000000</td>\n",
       "      <td>1.000000</td>\n",
       "      <td>1.000000</td>\n",
       "      <td>1.000000</td>\n",
       "      <td>1.000000</td>\n",
       "      <td>1.000000</td>\n",
       "      <td>1.000000</td>\n",
       "      <td>1.000000</td>\n",
       "      <td>1.000000</td>\n",
       "      <td>1.000000</td>\n",
       "      <td>35.000000</td>\n",
       "      <td>7.000000</td>\n",
       "    </tr>\n",
       "    <tr>\n",
       "      <th>max</th>\n",
       "      <td>1.000000</td>\n",
       "      <td>1.000000</td>\n",
       "      <td>1.000000</td>\n",
       "      <td>1.000000</td>\n",
       "      <td>1.000000</td>\n",
       "      <td>1.000000</td>\n",
       "      <td>1.000000</td>\n",
       "      <td>1.000000</td>\n",
       "      <td>1.000000</td>\n",
       "      <td>1.000000</td>\n",
       "      <td>64.000000</td>\n",
       "      <td>10.000000</td>\n",
       "    </tr>\n",
       "  </tbody>\n",
       "</table>\n",
       "</div>"
      ],
      "text/plain": [
       "         A1_Score    A2_Score    A3_Score    A4_Score    A5_Score    A6_Score  \\\n",
       "count  704.000000  704.000000  704.000000  704.000000  704.000000  704.000000   \n",
       "mean     0.721591    0.453125    0.457386    0.495739    0.498580    0.284091   \n",
       "std      0.448535    0.498152    0.498535    0.500337    0.500353    0.451301   \n",
       "min      0.000000    0.000000    0.000000    0.000000    0.000000    0.000000   \n",
       "25%      0.000000    0.000000    0.000000    0.000000    0.000000    0.000000   \n",
       "50%      1.000000    0.000000    0.000000    0.000000    0.000000    0.000000   \n",
       "75%      1.000000    1.000000    1.000000    1.000000    1.000000    1.000000   \n",
       "max      1.000000    1.000000    1.000000    1.000000    1.000000    1.000000   \n",
       "\n",
       "         A7_Score    A8_Score    A9_Score   A10_Score         age      result  \n",
       "count  704.000000  704.000000  704.000000  704.000000  702.000000  704.000000  \n",
       "mean     0.417614    0.649148    0.323864    0.573864   29.193732    4.875000  \n",
       "std      0.493516    0.477576    0.468281    0.494866    9.704599    2.501493  \n",
       "min      0.000000    0.000000    0.000000    0.000000   17.000000    0.000000  \n",
       "25%      0.000000    0.000000    0.000000    0.000000   21.000000    3.000000  \n",
       "50%      0.000000    1.000000    0.000000    1.000000   27.000000    4.000000  \n",
       "75%      1.000000    1.000000    1.000000    1.000000   35.000000    7.000000  \n",
       "max      1.000000    1.000000    1.000000    1.000000   64.000000   10.000000  "
      ]
     },
     "execution_count": 55,
     "metadata": {},
     "output_type": "execute_result"
    }
   ],
   "source": [
    "dataframe.loc[52,'age']=29    #aproximacion \n",
    "dataframe.describe()    #comprobacion"
   ]
  },
  {
   "cell_type": "markdown",
   "metadata": {},
   "source": [
    "Para **explorar los datos graficamente** consideramos un par de características numericas (result y edad) y presentamos en un gráfico 2D un conjunto de puntos que representan los **resultados de las pruebas AQ-10-Adult en función de la edad de los individuos.** Para diferenciar los valores de clasificación usamos 2 distintos colores: **verde para el primer valor de clasificación (no autismo), rojo para el segundo valor de clasificación (si autismo).** "
   ]
  },
  {
   "cell_type": "code",
   "execution_count": 56,
   "metadata": {},
   "outputs": [
    {
     "data": {
      "text/plain": [
       "Text(0, 0.5, 'Result')"
      ]
     },
     "execution_count": 56,
     "metadata": {},
     "output_type": "execute_result"
    },
    {
     "data": {
      "image/png": "[encoded data removed]",
      "text/plain": [
       "<Figure size 864x576 with 1 Axes>"
      ]
     },
     "metadata": {
      "needs_background": "light"
     },
     "output_type": "display_data"
    }
   ],
   "source": [
    "plt.figure(figsize=(12, 8))\n",
    "clases=np.unique(dataframe.austim)\n",
    "col=[\"green\",\"red\"]\n",
    "for color,clase in zip(col,clases):\n",
    "    plt.scatter(np.array(dataframe)[dataframe.austim==clase,10],  #10 es la columna edad\n",
    "                np.array(dataframe)[dataframe.austim==clase,17],c=color)   #17 es la columna result\n",
    "plt.xlabel(\"Edad\")\n",
    "plt.ylabel(\"Result\")"
   ]
  },
  {
   "cell_type": "markdown",
   "metadata": {},
   "source": [
    "Desde este grafico notamos que el result de las pruebas no depiende de la edad de los individuos. Además non hay clara separación entre las dos clases solamente utilizando estas dos variables. "
   ]
  },
  {
   "cell_type": "markdown",
   "metadata": {},
   "source": [
    "Ahora representamos un **gráfico de barras para la variable categorica ethnicity**:"
   ]
  },
  {
   "cell_type": "code",
   "execution_count": 57,
   "metadata": {},
   "outputs": [
    {
     "data": {
      "text/plain": [
       "Text(0.5, 1.0, 'Gráfico de barras variable ethnicity')"
      ]
     },
     "execution_count": 57,
     "metadata": {},
     "output_type": "execute_result"
    },
    {
     "data": {
      "image/png": "[encoded data removed]",
      "text/plain": [
       "<Figure size 1152x576 with 1 Axes>"
      ]
     },
     "metadata": {
      "needs_background": "light"
     },
     "output_type": "display_data"
    }
   ],
   "source": [
    "import seaborn as sns\n",
    "plt.figure(figsize=(16,8))\n",
    "sns.countplot(x=\"ethnicity\", data= dataframe)\n",
    "plt.title(\"Gráfico de barras variable ethnicity\")"
   ]
  },
  {
   "cell_type": "markdown",
   "metadata": {},
   "source": [
    "**NB**: Notamos que en la columna ethnicity hay una stringa escrita mal, es decir en lugar de \"Others\" esta escrito \"others\". Explorando los datos comprobamos el problema, luego lo arreglamos."
   ]
  },
  {
   "cell_type": "code",
   "execution_count": 58,
   "metadata": {},
   "outputs": [],
   "source": [
    "mask=dataframe['ethnicity']=='others'   #boolean vector\n",
    "dataframe.loc[mask,'ethnicity']='Others'   #arreglo\n",
    "#dataframe.loc[:,'ethnicity'][dataframe['ethnicity']=='others'] ='Others'   #nos daba warning"
   ]
  },
  {
   "cell_type": "code",
   "execution_count": 59,
   "metadata": {},
   "outputs": [
    {
     "data": {
      "text/plain": [
       "Text(0.5, 1.0, 'Gráfico de barras variable ethnicity')"
      ]
     },
     "execution_count": 59,
     "metadata": {},
     "output_type": "execute_result"
    },
    {
     "data": {
      "image/png": "[encoded data removed]",
      "text/plain": [
       "<Figure size 1152x576 with 1 Axes>"
      ]
     },
     "metadata": {
      "needs_background": "light"
     },
     "output_type": "display_data"
    }
   ],
   "source": [
    "plt.figure(figsize=(16,8))\n",
    "sns.countplot(x=\"ethnicity\", data= dataframe)  #comprobo\n",
    "plt.title(\"Gráfico de barras variable ethnicity\")"
   ]
  },
  {
   "cell_type": "markdown",
   "metadata": {},
   "source": [
    "Además representamos un **gráfico de barras para la variable categorica country_of_res**:"
   ]
  },
  {
   "cell_type": "code",
   "execution_count": 60,
   "metadata": {},
   "outputs": [
    {
     "data": {
      "text/plain": [
       "Text(0.5, 1.0, 'Gráfico de barras variable country_of_res')"
      ]
     },
     "execution_count": 60,
     "metadata": {},
     "output_type": "execute_result"
    },
    {
     "data": {
      "image/png": "[encoded data removed]",
      "text/plain": [
       "<Figure size 1008x1152 with 1 Axes>"
      ]
     },
     "metadata": {
      "needs_background": "light"
     },
     "output_type": "display_data"
    }
   ],
   "source": [
    "plt.figure(figsize=(14,16))\n",
    "sns.countplot(y=\"contry_of_res\", data= dataframe)\n",
    "plt.title(\"Gráfico de barras variable country_of_res\")"
   ]
  },
  {
   "cell_type": "markdown",
   "metadata": {},
   "source": [
    "## Preprocesado de los datos: valores ausentes, tratamiento de variables categoricas y escalado"
   ]
  },
  {
   "cell_type": "markdown",
   "metadata": {},
   "source": [
    "Combrobamos l'**existencia de valores ausentes** usando el método isnull() de los dataframe de Pandas, que crea un índice de los valores nulos, y a continuación contamos cuantos valores nulos hay para cada característica con el método sum()."
   ]
  },
  {
   "cell_type": "code",
   "execution_count": 61,
   "metadata": {},
   "outputs": [
    {
     "data": {
      "text/plain": [
       "A1_Score            0\n",
       "A2_Score            0\n",
       "A3_Score            0\n",
       "A4_Score            0\n",
       "A5_Score            0\n",
       "A6_Score            0\n",
       "A7_Score            0\n",
       "A8_Score            0\n",
       "A9_Score            0\n",
       "A10_Score           0\n",
       "age                 2\n",
       "gender              0\n",
       "ethnicity          95\n",
       "jundice             0\n",
       "austim              0\n",
       "contry_of_res       0\n",
       "used_app_before     0\n",
       "result              0\n",
       "relation           95\n",
       "Class/ASD           0\n",
       "dtype: int64"
      ]
     },
     "execution_count": 61,
     "metadata": {},
     "output_type": "execute_result"
    }
   ],
   "source": [
    "dataframe.isnull().sum()"
   ]
  },
  {
   "cell_type": "markdown",
   "metadata": {},
   "source": [
    "Primero miramos que tenemos **dos valores perdidos por la variable edad**. \n",
    "\n",
    "Vamos a **rellenar los valores ausentes de la característica edad con la media de todos los datos disponibles**. El valor de la media se puede obtener con el método mean() de los dataframe."
   ]
  },
  {
   "cell_type": "code",
   "execution_count": 62,
   "metadata": {},
   "outputs": [
    {
     "data": {
      "text/plain": [
       "29.193732193732195"
      ]
     },
     "execution_count": 62,
     "metadata": {},
     "output_type": "execute_result"
    }
   ],
   "source": [
    "dataframe['age'].mean()"
   ]
  },
  {
   "cell_type": "markdown",
   "metadata": {},
   "source": [
    "Antes de proceder, **separamos la columna de clasificacion**:"
   ]
  },
  {
   "cell_type": "code",
   "execution_count": 63,
   "metadata": {},
   "outputs": [
    {
     "data": {
      "text/html": [
       "<div>\n",
       "<style scoped>\n",
       "    .dataframe tbody tr th:only-of-type {\n",
       "        vertical-align: middle;\n",
       "    }\n",
       "\n",
       "    .dataframe tbody tr th {\n",
       "        vertical-align: top;\n",
       "    }\n",
       "\n",
       "    .dataframe thead th {\n",
       "        text-align: right;\n",
       "    }\n",
       "</style>\n",
       "<table border=\"1\" class=\"dataframe\">\n",
       "  <thead>\n",
       "    <tr style=\"text-align: right;\">\n",
       "      <th></th>\n",
       "      <th>A1_Score</th>\n",
       "      <th>A2_Score</th>\n",
       "      <th>A3_Score</th>\n",
       "      <th>A4_Score</th>\n",
       "      <th>A5_Score</th>\n",
       "      <th>A6_Score</th>\n",
       "      <th>A7_Score</th>\n",
       "      <th>A8_Score</th>\n",
       "      <th>A9_Score</th>\n",
       "      <th>A10_Score</th>\n",
       "      <th>age</th>\n",
       "      <th>gender</th>\n",
       "      <th>ethnicity</th>\n",
       "      <th>jundice</th>\n",
       "      <th>contry_of_res</th>\n",
       "      <th>used_app_before</th>\n",
       "      <th>result</th>\n",
       "      <th>relation</th>\n",
       "      <th>Class/ASD</th>\n",
       "    </tr>\n",
       "  </thead>\n",
       "  <tbody>\n",
       "    <tr>\n",
       "      <th>0</th>\n",
       "      <td>1</td>\n",
       "      <td>1</td>\n",
       "      <td>1</td>\n",
       "      <td>1</td>\n",
       "      <td>0</td>\n",
       "      <td>0</td>\n",
       "      <td>1</td>\n",
       "      <td>1</td>\n",
       "      <td>0</td>\n",
       "      <td>0</td>\n",
       "      <td>26.0</td>\n",
       "      <td>f</td>\n",
       "      <td>White-European</td>\n",
       "      <td>no</td>\n",
       "      <td>United States</td>\n",
       "      <td>no</td>\n",
       "      <td>6</td>\n",
       "      <td>Self</td>\n",
       "      <td>NO</td>\n",
       "    </tr>\n",
       "    <tr>\n",
       "      <th>1</th>\n",
       "      <td>1</td>\n",
       "      <td>1</td>\n",
       "      <td>0</td>\n",
       "      <td>1</td>\n",
       "      <td>0</td>\n",
       "      <td>0</td>\n",
       "      <td>0</td>\n",
       "      <td>1</td>\n",
       "      <td>0</td>\n",
       "      <td>1</td>\n",
       "      <td>24.0</td>\n",
       "      <td>m</td>\n",
       "      <td>Latino</td>\n",
       "      <td>no</td>\n",
       "      <td>Brazil</td>\n",
       "      <td>no</td>\n",
       "      <td>5</td>\n",
       "      <td>Self</td>\n",
       "      <td>NO</td>\n",
       "    </tr>\n",
       "    <tr>\n",
       "      <th>2</th>\n",
       "      <td>1</td>\n",
       "      <td>1</td>\n",
       "      <td>0</td>\n",
       "      <td>1</td>\n",
       "      <td>1</td>\n",
       "      <td>0</td>\n",
       "      <td>1</td>\n",
       "      <td>1</td>\n",
       "      <td>1</td>\n",
       "      <td>1</td>\n",
       "      <td>27.0</td>\n",
       "      <td>m</td>\n",
       "      <td>Latino</td>\n",
       "      <td>yes</td>\n",
       "      <td>Spain</td>\n",
       "      <td>no</td>\n",
       "      <td>8</td>\n",
       "      <td>Parent</td>\n",
       "      <td>YES</td>\n",
       "    </tr>\n",
       "    <tr>\n",
       "      <th>3</th>\n",
       "      <td>1</td>\n",
       "      <td>1</td>\n",
       "      <td>0</td>\n",
       "      <td>1</td>\n",
       "      <td>0</td>\n",
       "      <td>0</td>\n",
       "      <td>1</td>\n",
       "      <td>1</td>\n",
       "      <td>0</td>\n",
       "      <td>1</td>\n",
       "      <td>35.0</td>\n",
       "      <td>f</td>\n",
       "      <td>White-European</td>\n",
       "      <td>no</td>\n",
       "      <td>United States</td>\n",
       "      <td>no</td>\n",
       "      <td>6</td>\n",
       "      <td>Self</td>\n",
       "      <td>NO</td>\n",
       "    </tr>\n",
       "    <tr>\n",
       "      <th>4</th>\n",
       "      <td>1</td>\n",
       "      <td>0</td>\n",
       "      <td>0</td>\n",
       "      <td>0</td>\n",
       "      <td>0</td>\n",
       "      <td>0</td>\n",
       "      <td>0</td>\n",
       "      <td>1</td>\n",
       "      <td>0</td>\n",
       "      <td>0</td>\n",
       "      <td>40.0</td>\n",
       "      <td>f</td>\n",
       "      <td>NaN</td>\n",
       "      <td>no</td>\n",
       "      <td>Egypt</td>\n",
       "      <td>no</td>\n",
       "      <td>2</td>\n",
       "      <td>NaN</td>\n",
       "      <td>NO</td>\n",
       "    </tr>\n",
       "  </tbody>\n",
       "</table>\n",
       "</div>"
      ],
      "text/plain": [
       "   A1_Score  A2_Score  A3_Score  A4_Score  A5_Score  A6_Score  A7_Score  \\\n",
       "0         1         1         1         1         0         0         1   \n",
       "1         1         1         0         1         0         0         0   \n",
       "2         1         1         0         1         1         0         1   \n",
       "3         1         1         0         1         0         0         1   \n",
       "4         1         0         0         0         0         0         0   \n",
       "\n",
       "   A8_Score  A9_Score  A10_Score   age gender       ethnicity jundice  \\\n",
       "0         1         0          0  26.0      f  White-European      no   \n",
       "1         1         0          1  24.0      m          Latino      no   \n",
       "2         1         1          1  27.0      m          Latino     yes   \n",
       "3         1         0          1  35.0      f  White-European      no   \n",
       "4         1         0          0  40.0      f             NaN      no   \n",
       "\n",
       "   contry_of_res used_app_before  result relation Class/ASD  \n",
       "0  United States              no       6     Self        NO  \n",
       "1         Brazil              no       5     Self        NO  \n",
       "2          Spain              no       8   Parent       YES  \n",
       "3  United States              no       6     Self        NO  \n",
       "4          Egypt              no       2      NaN        NO  "
      ]
     },
     "execution_count": 63,
     "metadata": {},
     "output_type": "execute_result"
    }
   ],
   "source": [
    "y_ASD=dataframe['austim']\n",
    "\n",
    "del dataframe['austim']\n",
    "dataframe.head()"
   ]
  },
  {
   "cell_type": "markdown",
   "metadata": {},
   "source": [
    "Con el comando unique de la librería numpy notamos que **no tenemos clases equilibradas**:"
   ]
  },
  {
   "cell_type": "code",
   "execution_count": 64,
   "metadata": {},
   "outputs": [
    {
     "data": {
      "text/plain": [
       "(array(['no', 'yes'], dtype=object), array([613,  91], dtype=int64))"
      ]
     },
     "execution_count": 64,
     "metadata": {},
     "output_type": "execute_result"
    }
   ],
   "source": [
    "np.unique(y_ASD,return_counts=True) #clases no balanceadas"
   ]
  },
  {
   "cell_type": "markdown",
   "metadata": {},
   "source": [
    "Utilizamos la clase **ColumnTransformer** para rellenar los valores vacios de **edad**. La clase **SimpleImputer** utilizada sola no estaría bien porque utilizaría el mismo metodo sobre todos los vacios del conjunto de datos, que no es lo que queremos hacer.\n",
    "Añadimos **parametros adicionales para mantener el orden de las variables**.\n",
    "Además a través del mismo comando podemos tratar los **datos categoricos** (ad excepción de ethnicity y relation, que rellenaremos despues mediante imputacion predictiva y de contry_of_res para la cual utilizaremos codificación por frecuencia).\n",
    "\n",
    "Eligimos **codificación One-Hot para la variable Gender (Sexo)**, porque no tiene sentido introducir un orden artificial para esta variable.\n",
    "Mientras que para las **variables jundice, used_app_before y Class/ASD**  utilizamos un ajuste con **correspondencia numerica**, porque se trata de valores que indican presencia o ausencia de una cierta caracteristica."
   ]
  },
  {
   "cell_type": "code",
   "execution_count": 65,
   "metadata": {
    "scrolled": true
   },
   "outputs": [
    {
     "name": "stdout",
     "output_type": "stream",
     "text": [
      "[[0 0 0 0 0 0 0 0 0 0 29.193732193732195 0.0 1.0 nan 0.0 'Saudi Arabia'\n",
      "  0.0 0 nan 0.0]\n",
      " [0 1 0 0 1 0 1 0 0 1 29.193732193732195 1.0 0.0 nan 0.0 'Jordan' 0.0 4\n",
      "  nan 0.0]] \n",
      "\n",
      "[[1 1 1 1 0 0 1 1 0 0 26.0 1.0 0.0 'White-European' 0.0 'United States'\n",
      "  0.0 6 'Self' 0.0]\n",
      " [1 1 0 1 0 0 0 1 0 1 24.0 0.0 1.0 'Latino' 0.0 'Brazil' 0.0 5 'Self' 0.0]\n",
      " [1 1 0 1 1 0 1 1 1 1 27.0 0.0 1.0 'Latino' 1.0 'Spain' 0.0 8 'Parent'\n",
      "  1.0]\n",
      " [1 1 0 1 0 0 1 1 0 1 35.0 1.0 0.0 'White-European' 0.0 'United States'\n",
      "  0.0 6 'Self' 0.0]\n",
      " [1 0 0 0 0 0 0 1 0 0 40.0 1.0 0.0 nan 0.0 'Egypt' 0.0 2 nan 0.0]]\n"
     ]
    },
    {
     "data": {
      "text/html": [
       "<div>\n",
       "<style scoped>\n",
       "    .dataframe tbody tr th:only-of-type {\n",
       "        vertical-align: middle;\n",
       "    }\n",
       "\n",
       "    .dataframe tbody tr th {\n",
       "        vertical-align: top;\n",
       "    }\n",
       "\n",
       "    .dataframe thead th {\n",
       "        text-align: right;\n",
       "    }\n",
       "</style>\n",
       "<table border=\"1\" class=\"dataframe\">\n",
       "  <thead>\n",
       "    <tr style=\"text-align: right;\">\n",
       "      <th></th>\n",
       "      <th>A1_Score</th>\n",
       "      <th>A2_Score</th>\n",
       "      <th>A3_Score</th>\n",
       "      <th>A4_Score</th>\n",
       "      <th>A5_Score</th>\n",
       "      <th>A6_Score</th>\n",
       "      <th>A7_Score</th>\n",
       "      <th>A8_Score</th>\n",
       "      <th>A9_Score</th>\n",
       "      <th>A10_Score</th>\n",
       "      <th>age</th>\n",
       "      <th>gender</th>\n",
       "      <th>ethnicity</th>\n",
       "      <th>jundice</th>\n",
       "      <th>contry_of_res</th>\n",
       "      <th>used_app_before</th>\n",
       "      <th>result</th>\n",
       "      <th>relation</th>\n",
       "      <th>Class/ASD</th>\n",
       "    </tr>\n",
       "  </thead>\n",
       "  <tbody>\n",
       "    <tr>\n",
       "      <th>0</th>\n",
       "      <td>1</td>\n",
       "      <td>1</td>\n",
       "      <td>1</td>\n",
       "      <td>1</td>\n",
       "      <td>0</td>\n",
       "      <td>0</td>\n",
       "      <td>1</td>\n",
       "      <td>1</td>\n",
       "      <td>0</td>\n",
       "      <td>0</td>\n",
       "      <td>26.0</td>\n",
       "      <td>f</td>\n",
       "      <td>White-European</td>\n",
       "      <td>no</td>\n",
       "      <td>United States</td>\n",
       "      <td>no</td>\n",
       "      <td>6</td>\n",
       "      <td>Self</td>\n",
       "      <td>NO</td>\n",
       "    </tr>\n",
       "    <tr>\n",
       "      <th>1</th>\n",
       "      <td>1</td>\n",
       "      <td>1</td>\n",
       "      <td>0</td>\n",
       "      <td>1</td>\n",
       "      <td>0</td>\n",
       "      <td>0</td>\n",
       "      <td>0</td>\n",
       "      <td>1</td>\n",
       "      <td>0</td>\n",
       "      <td>1</td>\n",
       "      <td>24.0</td>\n",
       "      <td>m</td>\n",
       "      <td>Latino</td>\n",
       "      <td>no</td>\n",
       "      <td>Brazil</td>\n",
       "      <td>no</td>\n",
       "      <td>5</td>\n",
       "      <td>Self</td>\n",
       "      <td>NO</td>\n",
       "    </tr>\n",
       "    <tr>\n",
       "      <th>2</th>\n",
       "      <td>1</td>\n",
       "      <td>1</td>\n",
       "      <td>0</td>\n",
       "      <td>1</td>\n",
       "      <td>1</td>\n",
       "      <td>0</td>\n",
       "      <td>1</td>\n",
       "      <td>1</td>\n",
       "      <td>1</td>\n",
       "      <td>1</td>\n",
       "      <td>27.0</td>\n",
       "      <td>m</td>\n",
       "      <td>Latino</td>\n",
       "      <td>yes</td>\n",
       "      <td>Spain</td>\n",
       "      <td>no</td>\n",
       "      <td>8</td>\n",
       "      <td>Parent</td>\n",
       "      <td>YES</td>\n",
       "    </tr>\n",
       "    <tr>\n",
       "      <th>3</th>\n",
       "      <td>1</td>\n",
       "      <td>1</td>\n",
       "      <td>0</td>\n",
       "      <td>1</td>\n",
       "      <td>0</td>\n",
       "      <td>0</td>\n",
       "      <td>1</td>\n",
       "      <td>1</td>\n",
       "      <td>0</td>\n",
       "      <td>1</td>\n",
       "      <td>35.0</td>\n",
       "      <td>f</td>\n",
       "      <td>White-European</td>\n",
       "      <td>no</td>\n",
       "      <td>United States</td>\n",
       "      <td>no</td>\n",
       "      <td>6</td>\n",
       "      <td>Self</td>\n",
       "      <td>NO</td>\n",
       "    </tr>\n",
       "    <tr>\n",
       "      <th>4</th>\n",
       "      <td>1</td>\n",
       "      <td>0</td>\n",
       "      <td>0</td>\n",
       "      <td>0</td>\n",
       "      <td>0</td>\n",
       "      <td>0</td>\n",
       "      <td>0</td>\n",
       "      <td>1</td>\n",
       "      <td>0</td>\n",
       "      <td>0</td>\n",
       "      <td>40.0</td>\n",
       "      <td>f</td>\n",
       "      <td>NaN</td>\n",
       "      <td>no</td>\n",
       "      <td>Egypt</td>\n",
       "      <td>no</td>\n",
       "      <td>2</td>\n",
       "      <td>NaN</td>\n",
       "      <td>NO</td>\n",
       "    </tr>\n",
       "  </tbody>\n",
       "</table>\n",
       "</div>"
      ],
      "text/plain": [
       "   A1_Score  A2_Score  A3_Score  A4_Score  A5_Score  A6_Score  A7_Score  \\\n",
       "0         1         1         1         1         0         0         1   \n",
       "1         1         1         0         1         0         0         0   \n",
       "2         1         1         0         1         1         0         1   \n",
       "3         1         1         0         1         0         0         1   \n",
       "4         1         0         0         0         0         0         0   \n",
       "\n",
       "   A8_Score  A9_Score  A10_Score   age gender       ethnicity jundice  \\\n",
       "0         1         0          0  26.0      f  White-European      no   \n",
       "1         1         0          1  24.0      m          Latino      no   \n",
       "2         1         1          1  27.0      m          Latino     yes   \n",
       "3         1         0          1  35.0      f  White-European      no   \n",
       "4         1         0          0  40.0      f             NaN      no   \n",
       "\n",
       "   contry_of_res used_app_before  result relation Class/ASD  \n",
       "0  United States              no       6     Self        NO  \n",
       "1         Brazil              no       5     Self        NO  \n",
       "2          Spain              no       8   Parent       YES  \n",
       "3  United States              no       6     Self        NO  \n",
       "4          Egypt              no       2      NaN        NO  "
      ]
     },
     "execution_count": 65,
     "metadata": {},
     "output_type": "execute_result"
    }
   ],
   "source": [
    "from sklearn.impute import SimpleImputer\n",
    "from sklearn.compose import ColumnTransformer\n",
    "from sklearn.preprocessing import OneHotEncoder\n",
    "from sklearn.preprocessing import OrdinalEncoder\n",
    "\n",
    "\n",
    "ct = ColumnTransformer([(\"original1\",'passthrough',['A1_Score','A2_Score','A3_Score','A4_Score','A5_Score','A6_Score','A7_Score','A8_Score','A9_Score','A10_Score']),\n",
    "                        (\"media\",SimpleImputer(strategy='mean'),['age']),   #relleno variable edad con media de los datos\n",
    "                        (\"ohe1\",OneHotEncoder(),['gender']),   #codificación One Hot para el gender\n",
    "                        (\"original2\",'passthrough',['ethnicity']),\n",
    "                        (\"oe1\",OrdinalEncoder(),['jundice']),  #codificación numerica\n",
    "                        (\"original3\",'passthrough',['contry_of_res']),\n",
    "                        (\"oe2\",OrdinalEncoder(),['used_app_before']),   #codificación numerica\n",
    "                        (\"original4\",'passthrough',['result','relation']),\n",
    "                        (\"oe3\",OrdinalEncoder(),['Class/ASD'])])   #codificación numerica\n",
    "\n",
    "X_ASD = ct.fit_transform(dataframe)  #aplicamos el transformador\n",
    "X_ASD\n",
    "\n",
    "#Comprobacion age\n",
    "missing_age=dataframe['age'].isnull()\n",
    "print(X_ASD[missing_age],\"\\n\")\n",
    "\n",
    "#Comprobacion que las mujeres son la primera columna, y los hombres la segunda de las dos anadidas con one-hot encoding\n",
    "\n",
    "#Comprobacion que en las variables jundice, used_app y Class/ASD el ajuste con correspondencia numerica substituye los no con 0 \n",
    "#y los yes con 1\n",
    "\n",
    "print(X_ASD[0:5,:])\n",
    "dataframe.head()"
   ]
  },
  {
   "cell_type": "markdown",
   "metadata": {},
   "source": [
    "Tranformamos la variable **country_of_res** utilizando un orden artificial dado da una **codificación por frecuencia**. Preferimos esto respeto a añadir 66 nuevas variables, que produciría demasiado aumento de la dimensionalidad."
   ]
  },
  {
   "cell_type": "code",
   "execution_count": 66,
   "metadata": {},
   "outputs": [
    {
     "data": {
      "text/plain": [
       "(67,)"
      ]
     },
     "execution_count": 66,
     "metadata": {},
     "output_type": "execute_result"
    }
   ],
   "source": [
    "np.shape(np.unique(dataframe.contry_of_res))"
   ]
  },
  {
   "cell_type": "code",
   "execution_count": 85,
   "metadata": {},
   "outputs": [
    {
     "name": "stdout",
     "output_type": "stream",
     "text": [
      "Index(['United States', 'United Arab Emirates', 'New Zealand', 'India',\n",
      "       'United Kingdom', 'Jordan', 'Australia', 'Canada', 'Sri Lanka',\n",
      "       'Afghanistan', 'France', 'Netherlands', 'Brazil', 'Mexico', 'Russia',\n",
      "       'Iran', 'Ireland', 'Italy', 'Viet Nam', 'Malaysia', 'Austria',\n",
      "       'Saudi Arabia', 'Philippines', 'Germany', 'Spain', 'Romania', 'Egypt',\n",
      "       'Kazakhstan', 'Belgium', 'Bangladesh', 'Pakistan', 'Ethiopia',\n",
      "       'Armenia', 'Ukraine', 'South Africa', 'Sweden', 'Bahamas', 'Argentina',\n",
      "       'Iceland', 'AmericanSamoa', 'Bolivia', 'China', 'Burundi', 'Oman',\n",
      "       'Lebanon', 'Chile', 'Serbia', 'Nicaragua', 'Angola', 'Iraq', 'Cyprus',\n",
      "       'Japan', 'Czech Republic', 'Finland', 'Azerbaijan', 'Costa Rica',\n",
      "       'Indonesia', 'Turkey', 'Aruba', 'Nepal', 'Tonga', 'Uruguay',\n",
      "       'Hong Kong', 'Ecuador', 'Sierra Leone', 'Portugal', 'Niger'],\n",
      "      dtype='object') \n",
      "\n"
     ]
    },
    {
     "data": {
      "text/plain": [
       "0       1\n",
       "1      13\n",
       "2      25\n",
       "3       1\n",
       "4      27\n",
       "       ..\n",
       "699    15\n",
       "700    14\n",
       "701    15\n",
       "702    31\n",
       "703    51\n",
       "Name: country_of_res, Length: 704, dtype: int64"
      ]
     },
     "execution_count": 85,
     "metadata": {},
     "output_type": "execute_result"
    }
   ],
   "source": [
    "#convertimos X_ASD en un dataframe para proceder con el ajuste de codificacion por frecuencia\n",
    "\n",
    "colnames=['A1_Score','A2_Score','A3_Score','A4_Score','A5_Score','A6_Score','A7_Score','A8_Score','A9_Score','A10_Score','age','woman','man','ethnicity','jundice','country_of_res','used_app_before','result','relation','Class/ASD']\n",
    "dataframe= pd.DataFrame(X_ASD,columns=colnames)\n",
    "dataframe.head()\n",
    "\n",
    "sorted_indices = dataframe.country_of_res.value_counts().index   #countries en orden de frecuencia\n",
    "print(sorted_indices, \"\\n\")\n",
    "dataframe.country_of_res = dataframe.country_of_res.map(dict(zip(sorted_indices, range(1, len(sorted_indices)+1))))\n",
    "dataframe.country_of_res   #hemos construido un diccionario con llaves los paises y con valores el orden introducido y \n",
    "                           #luego sustituimos en el dataframe los paises con los valores correspondientes \n",
    "                           # (codificación por frecuencia)"
   ]
  },
  {
   "cell_type": "markdown",
   "metadata": {},
   "source": [
    "Notamos que hay tambien **95 valores ausentes** para las dos variables **ethnicity** y **relation** que comprobamos provenir de los mismos datos. Entonces siendo que estes 95 datos añaden incertitumbres sobre dos variables una opcion que en nuestra situacion tendria sentido seria eliminarlos. Pero elijimos de no hacer esta decision drastica, es decir **los rellenamos**."
   ]
  },
  {
   "cell_type": "code",
   "execution_count": 67,
   "metadata": {},
   "outputs": [
    {
     "data": {
      "text/plain": [
       "array([ True,  True,  True,  True,  True,  True,  True,  True,  True,\n",
       "        True,  True,  True,  True,  True,  True,  True,  True,  True,\n",
       "        True,  True,  True,  True,  True,  True,  True,  True,  True,\n",
       "        True,  True,  True,  True,  True,  True,  True,  True,  True,\n",
       "        True,  True,  True,  True,  True,  True,  True,  True,  True,\n",
       "        True,  True,  True,  True,  True,  True,  True,  True,  True,\n",
       "        True,  True,  True,  True,  True,  True,  True,  True,  True,\n",
       "        True,  True,  True,  True,  True,  True,  True,  True,  True,\n",
       "        True,  True,  True,  True,  True,  True,  True,  True,  True,\n",
       "        True,  True,  True,  True,  True,  True,  True,  True,  True,\n",
       "        True,  True,  True,  True,  True])"
      ]
     },
     "execution_count": 67,
     "metadata": {},
     "output_type": "execute_result"
    }
   ],
   "source": [
    "#comprobacion que los valores ausentes provienen de los mismos datos\n",
    "missing1=dataframe['ethnicity'].isnull()\n",
    "missing2=dataframe['relation'].isnull()\n",
    "\n",
    "dataframe[missing2].index==dataframe[missing1].index"
   ]
  },
  {
   "cell_type": "markdown",
   "metadata": {},
   "source": [
    "Decidimos de utilizar un **metodo de imputacion predictiva** para rellenar los huecos de las dos variables.\n",
    "En particular utilizamos un **Arbol de Clasificación y dos versiones de Regresion Logistica (One vs rest y Multinomial)** analizando los diferentes rendimientos sobre un subconjunto de validacion (extraido desde los datos completos) para elegir el mejor metodo a utilizar.\n",
    "\n",
    "###### Es decir, para cada de las dos variables y para cada metodo elegido, entrenamos un modelo predictivo siendo la variable respuesta una variable con valores ausentes y considerando como conjunto de entrenamiento registros de datos con valores conocidos para la variable. Los nuevos valores seran las predicciones sobre los registros con valor desconocido."
   ]
  },
  {
   "cell_type": "code",
   "execution_count": 86,
   "metadata": {},
   "outputs": [
    {
     "data": {
      "text/html": [
       "<div>\n",
       "<style scoped>\n",
       "    .dataframe tbody tr th:only-of-type {\n",
       "        vertical-align: middle;\n",
       "    }\n",
       "\n",
       "    .dataframe tbody tr th {\n",
       "        vertical-align: top;\n",
       "    }\n",
       "\n",
       "    .dataframe thead th {\n",
       "        text-align: right;\n",
       "    }\n",
       "</style>\n",
       "<table border=\"1\" class=\"dataframe\">\n",
       "  <thead>\n",
       "    <tr style=\"text-align: right;\">\n",
       "      <th></th>\n",
       "      <th>A1_Score</th>\n",
       "      <th>A2_Score</th>\n",
       "      <th>A3_Score</th>\n",
       "      <th>A4_Score</th>\n",
       "      <th>A5_Score</th>\n",
       "      <th>A6_Score</th>\n",
       "      <th>A7_Score</th>\n",
       "      <th>A8_Score</th>\n",
       "      <th>A9_Score</th>\n",
       "      <th>A10_Score</th>\n",
       "      <th>age</th>\n",
       "      <th>woman</th>\n",
       "      <th>man</th>\n",
       "      <th>ethnicity</th>\n",
       "      <th>jundice</th>\n",
       "      <th>country_of_res</th>\n",
       "      <th>used_app_before</th>\n",
       "      <th>result</th>\n",
       "      <th>relation</th>\n",
       "      <th>Class/ASD</th>\n",
       "    </tr>\n",
       "  </thead>\n",
       "  <tbody>\n",
       "    <tr>\n",
       "      <th>0</th>\n",
       "      <td>1</td>\n",
       "      <td>1</td>\n",
       "      <td>1</td>\n",
       "      <td>1</td>\n",
       "      <td>0</td>\n",
       "      <td>0</td>\n",
       "      <td>1</td>\n",
       "      <td>1</td>\n",
       "      <td>0</td>\n",
       "      <td>0</td>\n",
       "      <td>26</td>\n",
       "      <td>1</td>\n",
       "      <td>0</td>\n",
       "      <td>White-European</td>\n",
       "      <td>0</td>\n",
       "      <td>1</td>\n",
       "      <td>0</td>\n",
       "      <td>6</td>\n",
       "      <td>Self</td>\n",
       "      <td>0</td>\n",
       "    </tr>\n",
       "    <tr>\n",
       "      <th>1</th>\n",
       "      <td>1</td>\n",
       "      <td>1</td>\n",
       "      <td>0</td>\n",
       "      <td>1</td>\n",
       "      <td>0</td>\n",
       "      <td>0</td>\n",
       "      <td>0</td>\n",
       "      <td>1</td>\n",
       "      <td>0</td>\n",
       "      <td>1</td>\n",
       "      <td>24</td>\n",
       "      <td>0</td>\n",
       "      <td>1</td>\n",
       "      <td>Latino</td>\n",
       "      <td>0</td>\n",
       "      <td>13</td>\n",
       "      <td>0</td>\n",
       "      <td>5</td>\n",
       "      <td>Self</td>\n",
       "      <td>0</td>\n",
       "    </tr>\n",
       "    <tr>\n",
       "      <th>2</th>\n",
       "      <td>1</td>\n",
       "      <td>1</td>\n",
       "      <td>0</td>\n",
       "      <td>1</td>\n",
       "      <td>1</td>\n",
       "      <td>0</td>\n",
       "      <td>1</td>\n",
       "      <td>1</td>\n",
       "      <td>1</td>\n",
       "      <td>1</td>\n",
       "      <td>27</td>\n",
       "      <td>0</td>\n",
       "      <td>1</td>\n",
       "      <td>Latino</td>\n",
       "      <td>1</td>\n",
       "      <td>25</td>\n",
       "      <td>0</td>\n",
       "      <td>8</td>\n",
       "      <td>Parent</td>\n",
       "      <td>1</td>\n",
       "    </tr>\n",
       "    <tr>\n",
       "      <th>3</th>\n",
       "      <td>1</td>\n",
       "      <td>1</td>\n",
       "      <td>0</td>\n",
       "      <td>1</td>\n",
       "      <td>0</td>\n",
       "      <td>0</td>\n",
       "      <td>1</td>\n",
       "      <td>1</td>\n",
       "      <td>0</td>\n",
       "      <td>1</td>\n",
       "      <td>35</td>\n",
       "      <td>1</td>\n",
       "      <td>0</td>\n",
       "      <td>White-European</td>\n",
       "      <td>0</td>\n",
       "      <td>1</td>\n",
       "      <td>0</td>\n",
       "      <td>6</td>\n",
       "      <td>Self</td>\n",
       "      <td>0</td>\n",
       "    </tr>\n",
       "    <tr>\n",
       "      <th>5</th>\n",
       "      <td>1</td>\n",
       "      <td>1</td>\n",
       "      <td>1</td>\n",
       "      <td>1</td>\n",
       "      <td>1</td>\n",
       "      <td>0</td>\n",
       "      <td>1</td>\n",
       "      <td>1</td>\n",
       "      <td>1</td>\n",
       "      <td>1</td>\n",
       "      <td>36</td>\n",
       "      <td>0</td>\n",
       "      <td>1</td>\n",
       "      <td>Others</td>\n",
       "      <td>1</td>\n",
       "      <td>1</td>\n",
       "      <td>0</td>\n",
       "      <td>9</td>\n",
       "      <td>Self</td>\n",
       "      <td>1</td>\n",
       "    </tr>\n",
       "    <tr>\n",
       "      <th>...</th>\n",
       "      <td>...</td>\n",
       "      <td>...</td>\n",
       "      <td>...</td>\n",
       "      <td>...</td>\n",
       "      <td>...</td>\n",
       "      <td>...</td>\n",
       "      <td>...</td>\n",
       "      <td>...</td>\n",
       "      <td>...</td>\n",
       "      <td>...</td>\n",
       "      <td>...</td>\n",
       "      <td>...</td>\n",
       "      <td>...</td>\n",
       "      <td>...</td>\n",
       "      <td>...</td>\n",
       "      <td>...</td>\n",
       "      <td>...</td>\n",
       "      <td>...</td>\n",
       "      <td>...</td>\n",
       "      <td>...</td>\n",
       "    </tr>\n",
       "    <tr>\n",
       "      <th>698</th>\n",
       "      <td>1</td>\n",
       "      <td>1</td>\n",
       "      <td>1</td>\n",
       "      <td>1</td>\n",
       "      <td>1</td>\n",
       "      <td>1</td>\n",
       "      <td>1</td>\n",
       "      <td>1</td>\n",
       "      <td>1</td>\n",
       "      <td>1</td>\n",
       "      <td>27</td>\n",
       "      <td>1</td>\n",
       "      <td>0</td>\n",
       "      <td>Pasifika</td>\n",
       "      <td>0</td>\n",
       "      <td>7</td>\n",
       "      <td>0</td>\n",
       "      <td>10</td>\n",
       "      <td>Self</td>\n",
       "      <td>1</td>\n",
       "    </tr>\n",
       "    <tr>\n",
       "      <th>699</th>\n",
       "      <td>0</td>\n",
       "      <td>1</td>\n",
       "      <td>0</td>\n",
       "      <td>1</td>\n",
       "      <td>1</td>\n",
       "      <td>0</td>\n",
       "      <td>1</td>\n",
       "      <td>1</td>\n",
       "      <td>1</td>\n",
       "      <td>1</td>\n",
       "      <td>25</td>\n",
       "      <td>1</td>\n",
       "      <td>0</td>\n",
       "      <td>White-European</td>\n",
       "      <td>0</td>\n",
       "      <td>15</td>\n",
       "      <td>0</td>\n",
       "      <td>7</td>\n",
       "      <td>Self</td>\n",
       "      <td>1</td>\n",
       "    </tr>\n",
       "    <tr>\n",
       "      <th>700</th>\n",
       "      <td>1</td>\n",
       "      <td>0</td>\n",
       "      <td>0</td>\n",
       "      <td>0</td>\n",
       "      <td>0</td>\n",
       "      <td>0</td>\n",
       "      <td>0</td>\n",
       "      <td>1</td>\n",
       "      <td>0</td>\n",
       "      <td>1</td>\n",
       "      <td>34</td>\n",
       "      <td>0</td>\n",
       "      <td>1</td>\n",
       "      <td>Hispanic</td>\n",
       "      <td>0</td>\n",
       "      <td>14</td>\n",
       "      <td>0</td>\n",
       "      <td>3</td>\n",
       "      <td>Parent</td>\n",
       "      <td>0</td>\n",
       "    </tr>\n",
       "    <tr>\n",
       "      <th>702</th>\n",
       "      <td>1</td>\n",
       "      <td>0</td>\n",
       "      <td>0</td>\n",
       "      <td>1</td>\n",
       "      <td>1</td>\n",
       "      <td>0</td>\n",
       "      <td>1</td>\n",
       "      <td>0</td>\n",
       "      <td>1</td>\n",
       "      <td>1</td>\n",
       "      <td>35</td>\n",
       "      <td>0</td>\n",
       "      <td>1</td>\n",
       "      <td>South Asian</td>\n",
       "      <td>0</td>\n",
       "      <td>31</td>\n",
       "      <td>0</td>\n",
       "      <td>6</td>\n",
       "      <td>Self</td>\n",
       "      <td>0</td>\n",
       "    </tr>\n",
       "    <tr>\n",
       "      <th>703</th>\n",
       "      <td>1</td>\n",
       "      <td>0</td>\n",
       "      <td>1</td>\n",
       "      <td>1</td>\n",
       "      <td>1</td>\n",
       "      <td>0</td>\n",
       "      <td>1</td>\n",
       "      <td>1</td>\n",
       "      <td>1</td>\n",
       "      <td>1</td>\n",
       "      <td>26</td>\n",
       "      <td>1</td>\n",
       "      <td>0</td>\n",
       "      <td>White-European</td>\n",
       "      <td>0</td>\n",
       "      <td>51</td>\n",
       "      <td>0</td>\n",
       "      <td>8</td>\n",
       "      <td>Self</td>\n",
       "      <td>1</td>\n",
       "    </tr>\n",
       "  </tbody>\n",
       "</table>\n",
       "<p>609 rows × 20 columns</p>\n",
       "</div>"
      ],
      "text/plain": [
       "    A1_Score A2_Score A3_Score A4_Score A5_Score A6_Score A7_Score A8_Score  \\\n",
       "0          1        1        1        1        0        0        1        1   \n",
       "1          1        1        0        1        0        0        0        1   \n",
       "2          1        1        0        1        1        0        1        1   \n",
       "3          1        1        0        1        0        0        1        1   \n",
       "5          1        1        1        1        1        0        1        1   \n",
       "..       ...      ...      ...      ...      ...      ...      ...      ...   \n",
       "698        1        1        1        1        1        1        1        1   \n",
       "699        0        1        0        1        1        0        1        1   \n",
       "700        1        0        0        0        0        0        0        1   \n",
       "702        1        0        0        1        1        0        1        0   \n",
       "703        1        0        1        1        1        0        1        1   \n",
       "\n",
       "    A9_Score A10_Score age woman man       ethnicity jundice  country_of_res  \\\n",
       "0          0         0  26     1   0  White-European       0               1   \n",
       "1          0         1  24     0   1          Latino       0              13   \n",
       "2          1         1  27     0   1          Latino       1              25   \n",
       "3          0         1  35     1   0  White-European       0               1   \n",
       "5          1         1  36     0   1          Others       1               1   \n",
       "..       ...       ...  ..   ...  ..             ...     ...             ...   \n",
       "698        1         1  27     1   0        Pasifika       0               7   \n",
       "699        1         1  25     1   0  White-European       0              15   \n",
       "700        0         1  34     0   1        Hispanic       0              14   \n",
       "702        1         1  35     0   1     South Asian       0              31   \n",
       "703        1         1  26     1   0  White-European       0              51   \n",
       "\n",
       "    used_app_before result relation Class/ASD  \n",
       "0                 0      6     Self         0  \n",
       "1                 0      5     Self         0  \n",
       "2                 0      8   Parent         1  \n",
       "3                 0      6     Self         0  \n",
       "5                 0      9     Self         1  \n",
       "..              ...    ...      ...       ...  \n",
       "698               0     10     Self         1  \n",
       "699               0      7     Self         1  \n",
       "700               0      3   Parent         0  \n",
       "702               0      6     Self         0  \n",
       "703               0      8     Self         1  \n",
       "\n",
       "[609 rows x 20 columns]"
      ]
     },
     "execution_count": 86,
     "metadata": {},
     "output_type": "execute_result"
    }
   ],
   "source": [
    "data_no_miss = dataframe[dataframe.ethnicity.notnull()]\n",
    "data_no_miss"
   ]
  },
  {
   "cell_type": "markdown",
   "metadata": {},
   "source": [
    "**Separamos las dos columnas relativas a las dos variables contenientes valores ausentes**. Entrenamos los modelos utilizando todas las otras variables asi que los valores perdidos de la variable que no estamos predicendo no influyen los entrenamientos de los modelos predictivos para la otra variable."
   ]
  },
  {
   "cell_type": "code",
   "execution_count": 87,
   "metadata": {
    "scrolled": true
   },
   "outputs": [
    {
     "data": {
      "text/html": [
       "<div>\n",
       "<style scoped>\n",
       "    .dataframe tbody tr th:only-of-type {\n",
       "        vertical-align: middle;\n",
       "    }\n",
       "\n",
       "    .dataframe tbody tr th {\n",
       "        vertical-align: top;\n",
       "    }\n",
       "\n",
       "    .dataframe thead th {\n",
       "        text-align: right;\n",
       "    }\n",
       "</style>\n",
       "<table border=\"1\" class=\"dataframe\">\n",
       "  <thead>\n",
       "    <tr style=\"text-align: right;\">\n",
       "      <th></th>\n",
       "      <th>A1_Score</th>\n",
       "      <th>A2_Score</th>\n",
       "      <th>A3_Score</th>\n",
       "      <th>A4_Score</th>\n",
       "      <th>A5_Score</th>\n",
       "      <th>A6_Score</th>\n",
       "      <th>A7_Score</th>\n",
       "      <th>A8_Score</th>\n",
       "      <th>A9_Score</th>\n",
       "      <th>A10_Score</th>\n",
       "      <th>age</th>\n",
       "      <th>woman</th>\n",
       "      <th>man</th>\n",
       "      <th>jundice</th>\n",
       "      <th>country_of_res</th>\n",
       "      <th>used_app_before</th>\n",
       "      <th>result</th>\n",
       "      <th>Class/ASD</th>\n",
       "    </tr>\n",
       "  </thead>\n",
       "  <tbody>\n",
       "    <tr>\n",
       "      <th>0</th>\n",
       "      <td>1</td>\n",
       "      <td>1</td>\n",
       "      <td>1</td>\n",
       "      <td>1</td>\n",
       "      <td>0</td>\n",
       "      <td>0</td>\n",
       "      <td>1</td>\n",
       "      <td>1</td>\n",
       "      <td>0</td>\n",
       "      <td>0</td>\n",
       "      <td>26</td>\n",
       "      <td>1</td>\n",
       "      <td>0</td>\n",
       "      <td>0</td>\n",
       "      <td>1</td>\n",
       "      <td>0</td>\n",
       "      <td>6</td>\n",
       "      <td>0</td>\n",
       "    </tr>\n",
       "    <tr>\n",
       "      <th>1</th>\n",
       "      <td>1</td>\n",
       "      <td>1</td>\n",
       "      <td>0</td>\n",
       "      <td>1</td>\n",
       "      <td>0</td>\n",
       "      <td>0</td>\n",
       "      <td>0</td>\n",
       "      <td>1</td>\n",
       "      <td>0</td>\n",
       "      <td>1</td>\n",
       "      <td>24</td>\n",
       "      <td>0</td>\n",
       "      <td>1</td>\n",
       "      <td>0</td>\n",
       "      <td>13</td>\n",
       "      <td>0</td>\n",
       "      <td>5</td>\n",
       "      <td>0</td>\n",
       "    </tr>\n",
       "    <tr>\n",
       "      <th>2</th>\n",
       "      <td>1</td>\n",
       "      <td>1</td>\n",
       "      <td>0</td>\n",
       "      <td>1</td>\n",
       "      <td>1</td>\n",
       "      <td>0</td>\n",
       "      <td>1</td>\n",
       "      <td>1</td>\n",
       "      <td>1</td>\n",
       "      <td>1</td>\n",
       "      <td>27</td>\n",
       "      <td>0</td>\n",
       "      <td>1</td>\n",
       "      <td>1</td>\n",
       "      <td>25</td>\n",
       "      <td>0</td>\n",
       "      <td>8</td>\n",
       "      <td>1</td>\n",
       "    </tr>\n",
       "    <tr>\n",
       "      <th>3</th>\n",
       "      <td>1</td>\n",
       "      <td>1</td>\n",
       "      <td>0</td>\n",
       "      <td>1</td>\n",
       "      <td>0</td>\n",
       "      <td>0</td>\n",
       "      <td>1</td>\n",
       "      <td>1</td>\n",
       "      <td>0</td>\n",
       "      <td>1</td>\n",
       "      <td>35</td>\n",
       "      <td>1</td>\n",
       "      <td>0</td>\n",
       "      <td>0</td>\n",
       "      <td>1</td>\n",
       "      <td>0</td>\n",
       "      <td>6</td>\n",
       "      <td>0</td>\n",
       "    </tr>\n",
       "    <tr>\n",
       "      <th>5</th>\n",
       "      <td>1</td>\n",
       "      <td>1</td>\n",
       "      <td>1</td>\n",
       "      <td>1</td>\n",
       "      <td>1</td>\n",
       "      <td>0</td>\n",
       "      <td>1</td>\n",
       "      <td>1</td>\n",
       "      <td>1</td>\n",
       "      <td>1</td>\n",
       "      <td>36</td>\n",
       "      <td>0</td>\n",
       "      <td>1</td>\n",
       "      <td>1</td>\n",
       "      <td>1</td>\n",
       "      <td>0</td>\n",
       "      <td>9</td>\n",
       "      <td>1</td>\n",
       "    </tr>\n",
       "  </tbody>\n",
       "</table>\n",
       "</div>"
      ],
      "text/plain": [
       "  A1_Score A2_Score A3_Score A4_Score A5_Score A6_Score A7_Score A8_Score  \\\n",
       "0        1        1        1        1        0        0        1        1   \n",
       "1        1        1        0        1        0        0        0        1   \n",
       "2        1        1        0        1        1        0        1        1   \n",
       "3        1        1        0        1        0        0        1        1   \n",
       "5        1        1        1        1        1        0        1        1   \n",
       "\n",
       "  A9_Score A10_Score age woman man jundice  country_of_res used_app_before  \\\n",
       "0        0         0  26     1   0       0               1               0   \n",
       "1        0         1  24     0   1       0              13               0   \n",
       "2        1         1  27     0   1       1              25               0   \n",
       "3        0         1  35     1   0       0               1               0   \n",
       "5        1         1  36     0   1       1               1               0   \n",
       "\n",
       "  result Class/ASD  \n",
       "0      6         0  \n",
       "1      5         0  \n",
       "2      8         1  \n",
       "3      6         0  \n",
       "5      9         1  "
      ]
     },
     "execution_count": 87,
     "metadata": {},
     "output_type": "execute_result"
    }
   ],
   "source": [
    "y_ethnicity=data_no_miss.ethnicity\n",
    "y_relation=data_no_miss.relation\n",
    "\n",
    "del data_no_miss['ethnicity']\n",
    "del data_no_miss['relation']\n",
    "\n",
    "data_no_miss.head()"
   ]
  },
  {
   "cell_type": "markdown",
   "metadata": {},
   "source": [
    "#### **VARIABLE ETHNICITY**: elección mejor metodo de clasificación"
   ]
  },
  {
   "cell_type": "code",
   "execution_count": 88,
   "metadata": {},
   "outputs": [],
   "source": [
    "from sklearn.model_selection import train_test_split\n",
    "\n",
    "\n",
    "X_eth_train, X_eth_valid, y_eth_train, y_eth_valid = train_test_split(np.array(data_no_miss), np.array(y_ethnicity),\n",
    "                                                                      stratify=np.array(y_ethnicity))\n"
   ]
  },
  {
   "cell_type": "markdown",
   "metadata": {},
   "source": [
    "**ARBOL DE DECISION**\n",
    "\n",
    "Elijimos el valor de max-depth veendo como **evoluciona el error sobre el conjunto de validación para diferentes profundidades**:"
   ]
  },
  {
   "cell_type": "code",
   "execution_count": 89,
   "metadata": {},
   "outputs": [
    {
     "name": "stdout",
     "output_type": "stream",
     "text": [
      "Depth: 1. Accuracy on training set: 0.382\n",
      "Depth: 1. Accuracy on valid set: 0.386\n",
      "Depth: 2. Accuracy on training set: 0.439\n",
      "Depth: 2. Accuracy on valid set: 0.431\n",
      "Depth: 3. Accuracy on training set: 0.564\n",
      "Depth: 3. Accuracy on valid set: 0.582\n",
      "Depth: 4. Accuracy on training set: 0.594\n",
      "Depth: 4. Accuracy on valid set: 0.569\n",
      "Depth: 5. Accuracy on training set: 0.636\n",
      "Depth: 5. Accuracy on valid set: 0.562\n",
      "Depth: 6. Accuracy on training set: 0.684\n",
      "Depth: 6. Accuracy on valid set: 0.562\n",
      "Depth: 7. Accuracy on training set: 0.741\n",
      "Depth: 7. Accuracy on valid set: 0.510\n",
      "Depth: 8. Accuracy on training set: 0.814\n",
      "Depth: 8. Accuracy on valid set: 0.503\n",
      "Depth: 9. Accuracy on training set: 0.875\n",
      "Depth: 9. Accuracy on valid set: 0.510\n",
      "Depth: 10. Accuracy on training set: 0.925\n",
      "Depth: 10. Accuracy on valid set: 0.497\n",
      "Depth: 11. Accuracy on training set: 0.958\n",
      "Depth: 11. Accuracy on valid set: 0.471\n",
      "Depth: 12. Accuracy on training set: 0.974\n",
      "Depth: 12. Accuracy on valid set: 0.477\n",
      "Depth: 13. Accuracy on training set: 0.982\n",
      "Depth: 13. Accuracy on valid set: 0.471\n",
      "Depth: 14. Accuracy on training set: 0.989\n",
      "Depth: 14. Accuracy on valid set: 0.471\n",
      "Depth: 15. Accuracy on training set: 0.991\n",
      "Depth: 15. Accuracy on valid set: 0.464\n",
      "Depth: 16. Accuracy on training set: 0.996\n",
      "Depth: 16. Accuracy on valid set: 0.471\n",
      "Depth: 17. Accuracy on training set: 0.998\n",
      "Depth: 17. Accuracy on valid set: 0.471\n",
      "Depth: 18. Accuracy on training set: 0.998\n",
      "Depth: 18. Accuracy on valid set: 0.471\n",
      "Depth: 19. Accuracy on training set: 0.998\n",
      "Depth: 19. Accuracy on valid set: 0.471\n",
      "Depth: 20. Accuracy on training set: 0.998\n",
      "Depth: 20. Accuracy on valid set: 0.471\n",
      "Depth: 21. Accuracy on training set: 0.998\n",
      "Depth: 21. Accuracy on valid set: 0.471\n",
      "Depth: 22. Accuracy on training set: 0.998\n",
      "Depth: 22. Accuracy on valid set: 0.471\n",
      "Depth: 23. Accuracy on training set: 0.998\n",
      "Depth: 23. Accuracy on valid set: 0.471\n",
      "Depth: 24. Accuracy on training set: 0.998\n",
      "Depth: 24. Accuracy on valid set: 0.471\n",
      "Depth: 25. Accuracy on training set: 0.998\n",
      "Depth: 25. Accuracy on valid set: 0.471\n",
      "Depth: 26. Accuracy on training set: 0.998\n",
      "Depth: 26. Accuracy on valid set: 0.471\n",
      "Depth: 27. Accuracy on training set: 0.998\n",
      "Depth: 27. Accuracy on valid set: 0.471\n",
      "Depth: 28. Accuracy on training set: 0.998\n",
      "Depth: 28. Accuracy on valid set: 0.471\n",
      "Depth: 29. Accuracy on training set: 0.998\n",
      "Depth: 29. Accuracy on valid set: 0.471\n"
     ]
    }
   ],
   "source": [
    "from sklearn.tree import DecisionTreeClassifier\n",
    "\n",
    "for i in range(1,30):\n",
    "    tree = DecisionTreeClassifier(max_depth=i, random_state=0)\n",
    "    tree.fit(X_eth_train, y_eth_train)\n",
    "\n",
    "    print(\"Depth: {}. Accuracy on training set: {:.3f}\".format(i, tree.score(X_eth_train, y_eth_train)))\n",
    "    print(\"Depth: {}. Accuracy on valid set: {:.3f}\".format(i, tree.score(X_eth_valid, y_eth_valid)))"
   ]
  },
  {
   "cell_type": "markdown",
   "metadata": {},
   "source": [
    "**REGRESION LOGISTICA: ONE VS REST**"
   ]
  },
  {
   "cell_type": "code",
   "execution_count": 90,
   "metadata": {},
   "outputs": [
    {
     "name": "stdout",
     "output_type": "stream",
     "text": [
      "Rendimiento sobre valid: 0.451\n"
     ]
    }
   ],
   "source": [
    "from sklearn.linear_model import LogisticRegression\n",
    "\n",
    "logreg_ovr = LogisticRegression(max_iter=2000,multi_class='ovr').fit(X_eth_train, y_eth_train)\n",
    "\n",
    "print(\"Rendimiento sobre valid: {:.3f}\".format(logreg_ovr.score(X_eth_valid, y_eth_valid)))"
   ]
  },
  {
   "cell_type": "markdown",
   "metadata": {},
   "source": [
    "**REGRESION LOGISTICA: MULTINOMIAL**"
   ]
  },
  {
   "cell_type": "code",
   "execution_count": 91,
   "metadata": {},
   "outputs": [
    {
     "name": "stdout",
     "output_type": "stream",
     "text": [
      "Rendimiento sobre valid: 0.438\n"
     ]
    }
   ],
   "source": [
    "logreg_multi = LogisticRegression(max_iter=2000,multi_class='multinomial').fit(X_eth_train, y_eth_train)\n",
    "\n",
    "print(\"Rendimiento sobre valid: {:.3f}\".format(logreg_multi.score(X_eth_valid, y_eth_valid)))"
   ]
  },
  {
   "cell_type": "markdown",
   "metadata": {},
   "source": [
    "**VARIABLE RELATION**: eleccion mejor metodo de clasificacion"
   ]
  },
  {
   "cell_type": "code",
   "execution_count": 92,
   "metadata": {},
   "outputs": [],
   "source": [
    "X_rel_train, X_rel_valid, y_rel_train, y_rel_valid = train_test_split(np.array(data_no_miss), np.array(y_relation),\n",
    "                                                                      stratify=np.array(y_relation))"
   ]
  },
  {
   "cell_type": "markdown",
   "metadata": {},
   "source": [
    "**ARBOL DE DECISION**\n",
    "\n",
    "Elijimos el valor de max-depth veendo como evoluciona el error sobre el conjunto de evaluación para diferentes profundidades:"
   ]
  },
  {
   "cell_type": "code",
   "execution_count": 93,
   "metadata": {},
   "outputs": [
    {
     "name": "stdout",
     "output_type": "stream",
     "text": [
      "Depth: 1. Accuracy on training set: 0.857\n",
      "Depth: 1. Accuracy on valid set: 0.856\n",
      "Depth: 2. Accuracy on training set: 0.857\n",
      "Depth: 2. Accuracy on valid set: 0.856\n",
      "Depth: 3. Accuracy on training set: 0.871\n",
      "Depth: 3. Accuracy on valid set: 0.850\n",
      "Depth: 4. Accuracy on training set: 0.890\n",
      "Depth: 4. Accuracy on valid set: 0.856\n",
      "Depth: 5. Accuracy on training set: 0.904\n",
      "Depth: 5. Accuracy on valid set: 0.856\n",
      "Depth: 6. Accuracy on training set: 0.912\n",
      "Depth: 6. Accuracy on valid set: 0.850\n",
      "Depth: 7. Accuracy on training set: 0.932\n",
      "Depth: 7. Accuracy on valid set: 0.824\n",
      "Depth: 8. Accuracy on training set: 0.941\n",
      "Depth: 8. Accuracy on valid set: 0.817\n",
      "Depth: 9. Accuracy on training set: 0.954\n",
      "Depth: 9. Accuracy on valid set: 0.810\n",
      "Depth: 10. Accuracy on training set: 0.967\n",
      "Depth: 10. Accuracy on valid set: 0.784\n",
      "Depth: 11. Accuracy on training set: 0.978\n",
      "Depth: 11. Accuracy on valid set: 0.791\n",
      "Depth: 12. Accuracy on training set: 0.993\n",
      "Depth: 12. Accuracy on valid set: 0.758\n",
      "Depth: 13. Accuracy on training set: 0.998\n",
      "Depth: 13. Accuracy on valid set: 0.765\n",
      "Depth: 14. Accuracy on training set: 1.000\n",
      "Depth: 14. Accuracy on valid set: 0.791\n",
      "Depth: 15. Accuracy on training set: 1.000\n",
      "Depth: 15. Accuracy on valid set: 0.791\n",
      "Depth: 16. Accuracy on training set: 1.000\n",
      "Depth: 16. Accuracy on valid set: 0.791\n",
      "Depth: 17. Accuracy on training set: 1.000\n",
      "Depth: 17. Accuracy on valid set: 0.791\n",
      "Depth: 18. Accuracy on training set: 1.000\n",
      "Depth: 18. Accuracy on valid set: 0.791\n",
      "Depth: 19. Accuracy on training set: 1.000\n",
      "Depth: 19. Accuracy on valid set: 0.791\n",
      "Depth: 20. Accuracy on training set: 1.000\n",
      "Depth: 20. Accuracy on valid set: 0.791\n",
      "Depth: 21. Accuracy on training set: 1.000\n",
      "Depth: 21. Accuracy on valid set: 0.791\n",
      "Depth: 22. Accuracy on training set: 1.000\n",
      "Depth: 22. Accuracy on valid set: 0.791\n",
      "Depth: 23. Accuracy on training set: 1.000\n",
      "Depth: 23. Accuracy on valid set: 0.791\n",
      "Depth: 24. Accuracy on training set: 1.000\n",
      "Depth: 24. Accuracy on valid set: 0.791\n",
      "Depth: 25. Accuracy on training set: 1.000\n",
      "Depth: 25. Accuracy on valid set: 0.791\n",
      "Depth: 26. Accuracy on training set: 1.000\n",
      "Depth: 26. Accuracy on valid set: 0.791\n",
      "Depth: 27. Accuracy on training set: 1.000\n",
      "Depth: 27. Accuracy on valid set: 0.791\n",
      "Depth: 28. Accuracy on training set: 1.000\n",
      "Depth: 28. Accuracy on valid set: 0.791\n",
      "Depth: 29. Accuracy on training set: 1.000\n",
      "Depth: 29. Accuracy on valid set: 0.791\n"
     ]
    }
   ],
   "source": [
    "for i in range(1, 30):\n",
    "    tree = DecisionTreeClassifier(max_depth=i, random_state=0)\n",
    "    tree.fit(X_rel_train, y_rel_train)\n",
    "\n",
    "    print(\"Depth: {}. Accuracy on training set: {:.3f}\".format(i, tree.score(X_rel_train, y_rel_train)))\n",
    "    print(\"Depth: {}. Accuracy on valid set: {:.3f}\".format(i, tree.score(X_rel_valid, y_rel_valid)))"
   ]
  },
  {
   "cell_type": "markdown",
   "metadata": {},
   "source": [
    "#### REGRESION LOGISTICA: ONE VS REST"
   ]
  },
  {
   "cell_type": "code",
   "execution_count": 94,
   "metadata": {
    "scrolled": true
   },
   "outputs": [
    {
     "name": "stdout",
     "output_type": "stream",
     "text": [
      "Rendimiento sobre valid: 0.856\n"
     ]
    }
   ],
   "source": [
    "logreg_ovr = LogisticRegression(max_iter=2000,multi_class='ovr').fit(X_rel_train, y_rel_train)\n",
    "\n",
    "print(\"Rendimiento sobre valid: {:.3f}\".format(logreg_ovr.score(X_rel_valid, y_rel_valid)))"
   ]
  },
  {
   "cell_type": "markdown",
   "metadata": {},
   "source": [
    "**REGRESION LOGISTICA: MULTINOMIAL**"
   ]
  },
  {
   "cell_type": "code",
   "execution_count": 95,
   "metadata": {},
   "outputs": [
    {
     "name": "stdout",
     "output_type": "stream",
     "text": [
      "Rendimiento sobre valid: 0.856\n"
     ]
    }
   ],
   "source": [
    "logreg_multi = LogisticRegression(max_iter=2000,multi_class='multinomial').fit(X_rel_train, y_rel_train)\n",
    "\n",
    "print(\"Rendimiento sobre valid: {:.3f}\".format(logreg_multi.score(X_rel_valid, y_rel_valid)))"
   ]
  },
  {
   "cell_type": "markdown",
   "metadata": {},
   "source": [
    "**CONCLUSIONES**\n",
    "\n",
    "Para la **variable ethnicity**, independientemente del metodo utilizado, desafortunatamente **no obtenemos buenos valores de rendimiento**, es decir el maximo rendimiento sobre el conjunto de validacion es alreadeador del 58% (a veces mas, a veces meno, siendo la separacion en los dos conjuntos de train y de valid aleatoria). Haciendolo partir diferentes veces, notamos que la **clasificacion mediante arboles** es siempre mejor que mediante regresion logistica. En particular elijimos max_depth=3 (la aleatoriedad cada vez modifica el valor optimo de max_depth).\n",
    "\n",
    "Para la **variable relation** obtenemos muy **buenos valores de rendimientos con todos los tres metodos utilizados**. En particular la clasificacion mediante regresion logistica (ambos con OvR y Multinomial) nos devuelve casi siempre el mismo valor alto de rendimiento: 85.6 %. Elijimos de utilizar **Regresion logistica OvR**."
   ]
  },
  {
   "cell_type": "code",
   "execution_count": 96,
   "metadata": {},
   "outputs": [
    {
     "data": {
      "text/html": [
       "<div>\n",
       "<style scoped>\n",
       "    .dataframe tbody tr th:only-of-type {\n",
       "        vertical-align: middle;\n",
       "    }\n",
       "\n",
       "    .dataframe tbody tr th {\n",
       "        vertical-align: top;\n",
       "    }\n",
       "\n",
       "    .dataframe thead th {\n",
       "        text-align: right;\n",
       "    }\n",
       "</style>\n",
       "<table border=\"1\" class=\"dataframe\">\n",
       "  <thead>\n",
       "    <tr style=\"text-align: right;\">\n",
       "      <th></th>\n",
       "      <th>A1_Score</th>\n",
       "      <th>A2_Score</th>\n",
       "      <th>A3_Score</th>\n",
       "      <th>A4_Score</th>\n",
       "      <th>A5_Score</th>\n",
       "      <th>A6_Score</th>\n",
       "      <th>A7_Score</th>\n",
       "      <th>A8_Score</th>\n",
       "      <th>A9_Score</th>\n",
       "      <th>A10_Score</th>\n",
       "      <th>age</th>\n",
       "      <th>woman</th>\n",
       "      <th>man</th>\n",
       "      <th>jundice</th>\n",
       "      <th>country_of_res</th>\n",
       "      <th>used_app_before</th>\n",
       "      <th>result</th>\n",
       "      <th>Class/ASD</th>\n",
       "    </tr>\n",
       "  </thead>\n",
       "  <tbody>\n",
       "    <tr>\n",
       "      <th>4</th>\n",
       "      <td>1</td>\n",
       "      <td>0</td>\n",
       "      <td>0</td>\n",
       "      <td>0</td>\n",
       "      <td>0</td>\n",
       "      <td>0</td>\n",
       "      <td>0</td>\n",
       "      <td>1</td>\n",
       "      <td>0</td>\n",
       "      <td>0</td>\n",
       "      <td>40</td>\n",
       "      <td>1</td>\n",
       "      <td>0</td>\n",
       "      <td>0</td>\n",
       "      <td>27</td>\n",
       "      <td>0</td>\n",
       "      <td>2</td>\n",
       "      <td>0</td>\n",
       "    </tr>\n",
       "    <tr>\n",
       "      <th>12</th>\n",
       "      <td>0</td>\n",
       "      <td>1</td>\n",
       "      <td>1</td>\n",
       "      <td>1</td>\n",
       "      <td>1</td>\n",
       "      <td>1</td>\n",
       "      <td>0</td>\n",
       "      <td>0</td>\n",
       "      <td>1</td>\n",
       "      <td>0</td>\n",
       "      <td>17</td>\n",
       "      <td>1</td>\n",
       "      <td>0</td>\n",
       "      <td>0</td>\n",
       "      <td>37</td>\n",
       "      <td>0</td>\n",
       "      <td>6</td>\n",
       "      <td>0</td>\n",
       "    </tr>\n",
       "    <tr>\n",
       "      <th>13</th>\n",
       "      <td>1</td>\n",
       "      <td>0</td>\n",
       "      <td>0</td>\n",
       "      <td>0</td>\n",
       "      <td>0</td>\n",
       "      <td>0</td>\n",
       "      <td>1</td>\n",
       "      <td>1</td>\n",
       "      <td>0</td>\n",
       "      <td>1</td>\n",
       "      <td>17</td>\n",
       "      <td>0</td>\n",
       "      <td>1</td>\n",
       "      <td>0</td>\n",
       "      <td>21</td>\n",
       "      <td>0</td>\n",
       "      <td>4</td>\n",
       "      <td>0</td>\n",
       "    </tr>\n",
       "    <tr>\n",
       "      <th>14</th>\n",
       "      <td>1</td>\n",
       "      <td>0</td>\n",
       "      <td>0</td>\n",
       "      <td>0</td>\n",
       "      <td>0</td>\n",
       "      <td>0</td>\n",
       "      <td>1</td>\n",
       "      <td>1</td>\n",
       "      <td>0</td>\n",
       "      <td>1</td>\n",
       "      <td>17</td>\n",
       "      <td>1</td>\n",
       "      <td>0</td>\n",
       "      <td>0</td>\n",
       "      <td>38</td>\n",
       "      <td>0</td>\n",
       "      <td>4</td>\n",
       "      <td>0</td>\n",
       "    </tr>\n",
       "    <tr>\n",
       "      <th>19</th>\n",
       "      <td>0</td>\n",
       "      <td>0</td>\n",
       "      <td>0</td>\n",
       "      <td>0</td>\n",
       "      <td>0</td>\n",
       "      <td>0</td>\n",
       "      <td>1</td>\n",
       "      <td>1</td>\n",
       "      <td>0</td>\n",
       "      <td>1</td>\n",
       "      <td>34</td>\n",
       "      <td>0</td>\n",
       "      <td>1</td>\n",
       "      <td>1</td>\n",
       "      <td>2</td>\n",
       "      <td>0</td>\n",
       "      <td>3</td>\n",
       "      <td>0</td>\n",
       "    </tr>\n",
       "    <tr>\n",
       "      <th>...</th>\n",
       "      <td>...</td>\n",
       "      <td>...</td>\n",
       "      <td>...</td>\n",
       "      <td>...</td>\n",
       "      <td>...</td>\n",
       "      <td>...</td>\n",
       "      <td>...</td>\n",
       "      <td>...</td>\n",
       "      <td>...</td>\n",
       "      <td>...</td>\n",
       "      <td>...</td>\n",
       "      <td>...</td>\n",
       "      <td>...</td>\n",
       "      <td>...</td>\n",
       "      <td>...</td>\n",
       "      <td>...</td>\n",
       "      <td>...</td>\n",
       "      <td>...</td>\n",
       "    </tr>\n",
       "    <tr>\n",
       "      <th>652</th>\n",
       "      <td>0</td>\n",
       "      <td>0</td>\n",
       "      <td>0</td>\n",
       "      <td>0</td>\n",
       "      <td>0</td>\n",
       "      <td>0</td>\n",
       "      <td>0</td>\n",
       "      <td>0</td>\n",
       "      <td>0</td>\n",
       "      <td>1</td>\n",
       "      <td>33</td>\n",
       "      <td>1</td>\n",
       "      <td>0</td>\n",
       "      <td>0</td>\n",
       "      <td>1</td>\n",
       "      <td>0</td>\n",
       "      <td>1</td>\n",
       "      <td>0</td>\n",
       "    </tr>\n",
       "    <tr>\n",
       "      <th>658</th>\n",
       "      <td>0</td>\n",
       "      <td>0</td>\n",
       "      <td>1</td>\n",
       "      <td>1</td>\n",
       "      <td>0</td>\n",
       "      <td>0</td>\n",
       "      <td>1</td>\n",
       "      <td>0</td>\n",
       "      <td>0</td>\n",
       "      <td>0</td>\n",
       "      <td>43</td>\n",
       "      <td>0</td>\n",
       "      <td>1</td>\n",
       "      <td>0</td>\n",
       "      <td>55</td>\n",
       "      <td>0</td>\n",
       "      <td>3</td>\n",
       "      <td>0</td>\n",
       "    </tr>\n",
       "    <tr>\n",
       "      <th>659</th>\n",
       "      <td>1</td>\n",
       "      <td>1</td>\n",
       "      <td>1</td>\n",
       "      <td>1</td>\n",
       "      <td>1</td>\n",
       "      <td>1</td>\n",
       "      <td>0</td>\n",
       "      <td>0</td>\n",
       "      <td>1</td>\n",
       "      <td>1</td>\n",
       "      <td>44</td>\n",
       "      <td>0</td>\n",
       "      <td>1</td>\n",
       "      <td>0</td>\n",
       "      <td>31</td>\n",
       "      <td>0</td>\n",
       "      <td>8</td>\n",
       "      <td>1</td>\n",
       "    </tr>\n",
       "    <tr>\n",
       "      <th>666</th>\n",
       "      <td>0</td>\n",
       "      <td>0</td>\n",
       "      <td>0</td>\n",
       "      <td>0</td>\n",
       "      <td>0</td>\n",
       "      <td>0</td>\n",
       "      <td>0</td>\n",
       "      <td>1</td>\n",
       "      <td>0</td>\n",
       "      <td>0</td>\n",
       "      <td>56</td>\n",
       "      <td>0</td>\n",
       "      <td>1</td>\n",
       "      <td>0</td>\n",
       "      <td>50</td>\n",
       "      <td>0</td>\n",
       "      <td>1</td>\n",
       "      <td>0</td>\n",
       "    </tr>\n",
       "    <tr>\n",
       "      <th>701</th>\n",
       "      <td>1</td>\n",
       "      <td>0</td>\n",
       "      <td>1</td>\n",
       "      <td>1</td>\n",
       "      <td>1</td>\n",
       "      <td>0</td>\n",
       "      <td>1</td>\n",
       "      <td>1</td>\n",
       "      <td>0</td>\n",
       "      <td>1</td>\n",
       "      <td>24</td>\n",
       "      <td>1</td>\n",
       "      <td>0</td>\n",
       "      <td>0</td>\n",
       "      <td>15</td>\n",
       "      <td>0</td>\n",
       "      <td>7</td>\n",
       "      <td>1</td>\n",
       "    </tr>\n",
       "  </tbody>\n",
       "</table>\n",
       "<p>95 rows × 18 columns</p>\n",
       "</div>"
      ],
      "text/plain": [
       "    A1_Score A2_Score A3_Score A4_Score A5_Score A6_Score A7_Score A8_Score  \\\n",
       "4          1        0        0        0        0        0        0        1   \n",
       "12         0        1        1        1        1        1        0        0   \n",
       "13         1        0        0        0        0        0        1        1   \n",
       "14         1        0        0        0        0        0        1        1   \n",
       "19         0        0        0        0        0        0        1        1   \n",
       "..       ...      ...      ...      ...      ...      ...      ...      ...   \n",
       "652        0        0        0        0        0        0        0        0   \n",
       "658        0        0        1        1        0        0        1        0   \n",
       "659        1        1        1        1        1        1        0        0   \n",
       "666        0        0        0        0        0        0        0        1   \n",
       "701        1        0        1        1        1        0        1        1   \n",
       "\n",
       "    A9_Score A10_Score age woman man jundice  country_of_res used_app_before  \\\n",
       "4          0         0  40     1   0       0              27               0   \n",
       "12         1         0  17     1   0       0              37               0   \n",
       "13         0         1  17     0   1       0              21               0   \n",
       "14         0         1  17     1   0       0              38               0   \n",
       "19         0         1  34     0   1       1               2               0   \n",
       "..       ...       ...  ..   ...  ..     ...             ...             ...   \n",
       "652        0         1  33     1   0       0               1               0   \n",
       "658        0         0  43     0   1       0              55               0   \n",
       "659        1         1  44     0   1       0              31               0   \n",
       "666        0         0  56     0   1       0              50               0   \n",
       "701        0         1  24     1   0       0              15               0   \n",
       "\n",
       "    result Class/ASD  \n",
       "4        2         0  \n",
       "12       6         0  \n",
       "13       4         0  \n",
       "14       4         0  \n",
       "19       3         0  \n",
       "..     ...       ...  \n",
       "652      1         0  \n",
       "658      3         0  \n",
       "659      8         1  \n",
       "666      1         0  \n",
       "701      7         1  \n",
       "\n",
       "[95 rows x 18 columns]"
      ]
     },
     "execution_count": 96,
     "metadata": {},
     "output_type": "execute_result"
    }
   ],
   "source": [
    "data_miss= dataframe[dataframe.ethnicity.isnull()]\n",
    "del data_miss['ethnicity']\n",
    "del data_miss['relation']\n",
    "data_miss"
   ]
  },
  {
   "cell_type": "code",
   "execution_count": 97,
   "metadata": {},
   "outputs": [],
   "source": [
    "tree = DecisionTreeClassifier(max_depth=3, random_state=0)\n",
    "tree.fit(X_eth_train, y_eth_train)  #entrenamos con el valor de max_depth optimo\n",
    "y_miss_ethnicity=tree.predict(data_miss)   #predicimos sobre los valores con huecos"
   ]
  },
  {
   "cell_type": "code",
   "execution_count": 98,
   "metadata": {},
   "outputs": [],
   "source": [
    "y_miss_relation=logreg_ovr.predict(data_miss)"
   ]
  },
  {
   "cell_type": "markdown",
   "metadata": {},
   "source": [
    "**Substituimos los valores obtenidos con imputacion predictiva** (elegimos de manejar directamente los '?' del conjunto original a traves de los array de numpy, en vez que los valores NaN como hecho antes, porquè este valor especial es de tipo float, mientras que las variables ethnicity y relation por el momento son de tipo string)"
   ]
  },
  {
   "cell_type": "code",
   "execution_count": 99,
   "metadata": {},
   "outputs": [],
   "source": [
    "data_supporto=pd.read_csv(\"autism_screening.csv\")   #importamos nuevamente los datos, manteniendo los '?'\n",
    "\n",
    "y_tot_ethnicity=np.array(data_supporto.ethnicity)  #columna ethnicity\n",
    "y_tot_ethnicity[y_tot_ethnicity=='others']='Others'   #mismo problema de antes\n",
    "\n",
    "y_tot_relation=np.array(data_supporto.relation)  #columna relation\n",
    "\n",
    "#rellenamos los huecos \n",
    "y_tot_ethnicity[y_tot_ethnicity=='?']=y_miss_ethnicity\n",
    "y_tot_relation[y_tot_relation=='?']=y_miss_relation"
   ]
  },
  {
   "cell_type": "code",
   "execution_count": 101,
   "metadata": {},
   "outputs": [
    {
     "data": {
      "text/plain": [
       "A1_Score           0\n",
       "A2_Score           0\n",
       "A3_Score           0\n",
       "A4_Score           0\n",
       "A5_Score           0\n",
       "A6_Score           0\n",
       "A7_Score           0\n",
       "A8_Score           0\n",
       "A9_Score           0\n",
       "A10_Score          0\n",
       "age                0\n",
       "woman              0\n",
       "man                0\n",
       "ethnicity          0\n",
       "jundice            0\n",
       "country_of_res     0\n",
       "used_app_before    0\n",
       "result             0\n",
       "relation           0\n",
       "Class/ASD          0\n",
       "dtype: int64"
      ]
     },
     "execution_count": 101,
     "metadata": {},
     "output_type": "execute_result"
    }
   ],
   "source": [
    "#substituimos las columnas enteras en el dataframe principal\n",
    "dataframe.ethnicity=y_tot_ethnicity\n",
    "dataframe.relation=y_tot_relation\n",
    "\n",
    "dataframe.isnull().sum()  #comprobacion que no tenemos mas valores ausentes"
   ]
  },
  {
   "cell_type": "markdown",
   "metadata": {},
   "source": [
    "En fin podemos proceder **tratando las dos variables categoricas ethnicity y relation con codificacion por frecuencia**."
   ]
  },
  {
   "cell_type": "code",
   "execution_count": 102,
   "metadata": {},
   "outputs": [
    {
     "name": "stdout",
     "output_type": "stream",
     "text": [
      "Index(['White-European', 'Asian', 'Middle Eastern ', 'Black', 'South Asian',\n",
      "       'Others', 'Latino', 'Hispanic', 'Pasifika', 'Turkish'],\n",
      "      dtype='object') \n",
      "\n",
      "Index(['Self', 'Parent', 'Relative', 'Others', 'Health care professional'], dtype='object') \n",
      "\n"
     ]
    }
   ],
   "source": [
    "sorted_indices = dataframe.ethnicity.value_counts().index   #ethnicity en orden de frecuencia\n",
    "print(sorted_indices, \"\\n\")\n",
    "dataframe.ethnicity = dataframe.ethnicity.map(dict(zip(sorted_indices, range(1, len(sorted_indices)+1))))\n",
    "\n",
    "sorted_indices = dataframe.relation.value_counts().index   #relation en orden de frecuencia\n",
    "print(sorted_indices, \"\\n\")\n",
    "dataframe.relation = dataframe.relation.map(dict(zip(sorted_indices, range(1, len(sorted_indices)+1))))"
   ]
  },
  {
   "cell_type": "code",
   "execution_count": 104,
   "metadata": {},
   "outputs": [
    {
     "data": {
      "text/html": [
       "<div>\n",
       "<style scoped>\n",
       "    .dataframe tbody tr th:only-of-type {\n",
       "        vertical-align: middle;\n",
       "    }\n",
       "\n",
       "    .dataframe tbody tr th {\n",
       "        vertical-align: top;\n",
       "    }\n",
       "\n",
       "    .dataframe thead th {\n",
       "        text-align: right;\n",
       "    }\n",
       "</style>\n",
       "<table border=\"1\" class=\"dataframe\">\n",
       "  <thead>\n",
       "    <tr style=\"text-align: right;\">\n",
       "      <th></th>\n",
       "      <th>A1_Score</th>\n",
       "      <th>A2_Score</th>\n",
       "      <th>A3_Score</th>\n",
       "      <th>A4_Score</th>\n",
       "      <th>A5_Score</th>\n",
       "      <th>A6_Score</th>\n",
       "      <th>A7_Score</th>\n",
       "      <th>A8_Score</th>\n",
       "      <th>A9_Score</th>\n",
       "      <th>A10_Score</th>\n",
       "      <th>age</th>\n",
       "      <th>woman</th>\n",
       "      <th>man</th>\n",
       "      <th>ethnicity</th>\n",
       "      <th>jundice</th>\n",
       "      <th>country_of_res</th>\n",
       "      <th>used_app_before</th>\n",
       "      <th>result</th>\n",
       "      <th>relation</th>\n",
       "      <th>Class/ASD</th>\n",
       "    </tr>\n",
       "  </thead>\n",
       "  <tbody>\n",
       "    <tr>\n",
       "      <th>0</th>\n",
       "      <td>1</td>\n",
       "      <td>1</td>\n",
       "      <td>1</td>\n",
       "      <td>1</td>\n",
       "      <td>0</td>\n",
       "      <td>0</td>\n",
       "      <td>1</td>\n",
       "      <td>1</td>\n",
       "      <td>0</td>\n",
       "      <td>0</td>\n",
       "      <td>26</td>\n",
       "      <td>1</td>\n",
       "      <td>0</td>\n",
       "      <td>1</td>\n",
       "      <td>0</td>\n",
       "      <td>1</td>\n",
       "      <td>0</td>\n",
       "      <td>6</td>\n",
       "      <td>1</td>\n",
       "      <td>0</td>\n",
       "    </tr>\n",
       "    <tr>\n",
       "      <th>1</th>\n",
       "      <td>1</td>\n",
       "      <td>1</td>\n",
       "      <td>0</td>\n",
       "      <td>1</td>\n",
       "      <td>0</td>\n",
       "      <td>0</td>\n",
       "      <td>0</td>\n",
       "      <td>1</td>\n",
       "      <td>0</td>\n",
       "      <td>1</td>\n",
       "      <td>24</td>\n",
       "      <td>0</td>\n",
       "      <td>1</td>\n",
       "      <td>7</td>\n",
       "      <td>0</td>\n",
       "      <td>13</td>\n",
       "      <td>0</td>\n",
       "      <td>5</td>\n",
       "      <td>1</td>\n",
       "      <td>0</td>\n",
       "    </tr>\n",
       "    <tr>\n",
       "      <th>2</th>\n",
       "      <td>1</td>\n",
       "      <td>1</td>\n",
       "      <td>0</td>\n",
       "      <td>1</td>\n",
       "      <td>1</td>\n",
       "      <td>0</td>\n",
       "      <td>1</td>\n",
       "      <td>1</td>\n",
       "      <td>1</td>\n",
       "      <td>1</td>\n",
       "      <td>27</td>\n",
       "      <td>0</td>\n",
       "      <td>1</td>\n",
       "      <td>7</td>\n",
       "      <td>1</td>\n",
       "      <td>25</td>\n",
       "      <td>0</td>\n",
       "      <td>8</td>\n",
       "      <td>2</td>\n",
       "      <td>1</td>\n",
       "    </tr>\n",
       "    <tr>\n",
       "      <th>3</th>\n",
       "      <td>1</td>\n",
       "      <td>1</td>\n",
       "      <td>0</td>\n",
       "      <td>1</td>\n",
       "      <td>0</td>\n",
       "      <td>0</td>\n",
       "      <td>1</td>\n",
       "      <td>1</td>\n",
       "      <td>0</td>\n",
       "      <td>1</td>\n",
       "      <td>35</td>\n",
       "      <td>1</td>\n",
       "      <td>0</td>\n",
       "      <td>1</td>\n",
       "      <td>0</td>\n",
       "      <td>1</td>\n",
       "      <td>0</td>\n",
       "      <td>6</td>\n",
       "      <td>1</td>\n",
       "      <td>0</td>\n",
       "    </tr>\n",
       "    <tr>\n",
       "      <th>4</th>\n",
       "      <td>1</td>\n",
       "      <td>0</td>\n",
       "      <td>0</td>\n",
       "      <td>0</td>\n",
       "      <td>0</td>\n",
       "      <td>0</td>\n",
       "      <td>0</td>\n",
       "      <td>1</td>\n",
       "      <td>0</td>\n",
       "      <td>0</td>\n",
       "      <td>40</td>\n",
       "      <td>1</td>\n",
       "      <td>0</td>\n",
       "      <td>1</td>\n",
       "      <td>0</td>\n",
       "      <td>27</td>\n",
       "      <td>0</td>\n",
       "      <td>2</td>\n",
       "      <td>1</td>\n",
       "      <td>0</td>\n",
       "    </tr>\n",
       "  </tbody>\n",
       "</table>\n",
       "</div>"
      ],
      "text/plain": [
       "  A1_Score A2_Score A3_Score A4_Score A5_Score A6_Score A7_Score A8_Score  \\\n",
       "0        1        1        1        1        0        0        1        1   \n",
       "1        1        1        0        1        0        0        0        1   \n",
       "2        1        1        0        1        1        0        1        1   \n",
       "3        1        1        0        1        0        0        1        1   \n",
       "4        1        0        0        0        0        0        0        1   \n",
       "\n",
       "  A9_Score A10_Score age woman man  ethnicity jundice  country_of_res  \\\n",
       "0        0         0  26     1   0          1       0               1   \n",
       "1        0         1  24     0   1          7       0              13   \n",
       "2        1         1  27     0   1          7       1              25   \n",
       "3        0         1  35     1   0          1       0               1   \n",
       "4        0         0  40     1   0          1       0              27   \n",
       "\n",
       "  used_app_before result  relation Class/ASD  \n",
       "0               0      6         1         0  \n",
       "1               0      5         1         0  \n",
       "2               0      8         2         1  \n",
       "3               0      6         1         0  \n",
       "4               0      2         1         0  "
      ]
     },
     "execution_count": 104,
     "metadata": {},
     "output_type": "execute_result"
    }
   ],
   "source": [
    "dataframe.head()  #hasta aqui hemos rellenados todos los valores ausentes y transformados las variables categoricas"
   ]
  },
  {
   "cell_type": "markdown",
   "metadata": {},
   "source": [
    "#### ESCALADO"
   ]
  },
  {
   "cell_type": "markdown",
   "metadata": {},
   "source": [
    "El conjunto de datos esta **casi listo para empezar el analisis**. Notamos que **no hay demasiada diferencia de magnitud entre las caracteristicas**, pero eligimos de tratar las dos variables que tienen valores mas altos (edad y country_of_res) utilizando **tecnicas de escaldado mediante mínimo y máximo** que se consiguen con la clase MinMaxScaler de la librería preprocessing."
   ]
  },
  {
   "cell_type": "code",
   "execution_count": 105,
   "metadata": {},
   "outputs": [
    {
     "data": {
      "text/html": [
       "<div>\n",
       "<style scoped>\n",
       "    .dataframe tbody tr th:only-of-type {\n",
       "        vertical-align: middle;\n",
       "    }\n",
       "\n",
       "    .dataframe tbody tr th {\n",
       "        vertical-align: top;\n",
       "    }\n",
       "\n",
       "    .dataframe thead th {\n",
       "        text-align: right;\n",
       "    }\n",
       "</style>\n",
       "<table border=\"1\" class=\"dataframe\">\n",
       "  <thead>\n",
       "    <tr style=\"text-align: right;\">\n",
       "      <th></th>\n",
       "      <th>A1_Score</th>\n",
       "      <th>A2_Score</th>\n",
       "      <th>A3_Score</th>\n",
       "      <th>A4_Score</th>\n",
       "      <th>A5_Score</th>\n",
       "      <th>A6_Score</th>\n",
       "      <th>A7_Score</th>\n",
       "      <th>A8_Score</th>\n",
       "      <th>A9_Score</th>\n",
       "      <th>A10_Score</th>\n",
       "      <th>age</th>\n",
       "      <th>woman</th>\n",
       "      <th>man</th>\n",
       "      <th>ethnicity</th>\n",
       "      <th>jundice</th>\n",
       "      <th>country_of_res</th>\n",
       "      <th>used_app_before</th>\n",
       "      <th>result</th>\n",
       "      <th>relation</th>\n",
       "      <th>Class/ASD</th>\n",
       "    </tr>\n",
       "  </thead>\n",
       "  <tbody>\n",
       "    <tr>\n",
       "      <th>0</th>\n",
       "      <td>1.0</td>\n",
       "      <td>1.0</td>\n",
       "      <td>1.0</td>\n",
       "      <td>1.0</td>\n",
       "      <td>0.0</td>\n",
       "      <td>0.0</td>\n",
       "      <td>1.0</td>\n",
       "      <td>1.0</td>\n",
       "      <td>0.0</td>\n",
       "      <td>0.0</td>\n",
       "      <td>0.191489</td>\n",
       "      <td>1.0</td>\n",
       "      <td>0.0</td>\n",
       "      <td>1.0</td>\n",
       "      <td>0.0</td>\n",
       "      <td>0.000000</td>\n",
       "      <td>0.0</td>\n",
       "      <td>6.0</td>\n",
       "      <td>1.0</td>\n",
       "      <td>0.0</td>\n",
       "    </tr>\n",
       "    <tr>\n",
       "      <th>1</th>\n",
       "      <td>1.0</td>\n",
       "      <td>1.0</td>\n",
       "      <td>0.0</td>\n",
       "      <td>1.0</td>\n",
       "      <td>0.0</td>\n",
       "      <td>0.0</td>\n",
       "      <td>0.0</td>\n",
       "      <td>1.0</td>\n",
       "      <td>0.0</td>\n",
       "      <td>1.0</td>\n",
       "      <td>0.148936</td>\n",
       "      <td>0.0</td>\n",
       "      <td>1.0</td>\n",
       "      <td>7.0</td>\n",
       "      <td>0.0</td>\n",
       "      <td>0.181818</td>\n",
       "      <td>0.0</td>\n",
       "      <td>5.0</td>\n",
       "      <td>1.0</td>\n",
       "      <td>0.0</td>\n",
       "    </tr>\n",
       "    <tr>\n",
       "      <th>2</th>\n",
       "      <td>1.0</td>\n",
       "      <td>1.0</td>\n",
       "      <td>0.0</td>\n",
       "      <td>1.0</td>\n",
       "      <td>1.0</td>\n",
       "      <td>0.0</td>\n",
       "      <td>1.0</td>\n",
       "      <td>1.0</td>\n",
       "      <td>1.0</td>\n",
       "      <td>1.0</td>\n",
       "      <td>0.212766</td>\n",
       "      <td>0.0</td>\n",
       "      <td>1.0</td>\n",
       "      <td>7.0</td>\n",
       "      <td>1.0</td>\n",
       "      <td>0.363636</td>\n",
       "      <td>0.0</td>\n",
       "      <td>8.0</td>\n",
       "      <td>2.0</td>\n",
       "      <td>1.0</td>\n",
       "    </tr>\n",
       "    <tr>\n",
       "      <th>3</th>\n",
       "      <td>1.0</td>\n",
       "      <td>1.0</td>\n",
       "      <td>0.0</td>\n",
       "      <td>1.0</td>\n",
       "      <td>0.0</td>\n",
       "      <td>0.0</td>\n",
       "      <td>1.0</td>\n",
       "      <td>1.0</td>\n",
       "      <td>0.0</td>\n",
       "      <td>1.0</td>\n",
       "      <td>0.382979</td>\n",
       "      <td>1.0</td>\n",
       "      <td>0.0</td>\n",
       "      <td>1.0</td>\n",
       "      <td>0.0</td>\n",
       "      <td>0.000000</td>\n",
       "      <td>0.0</td>\n",
       "      <td>6.0</td>\n",
       "      <td>1.0</td>\n",
       "      <td>0.0</td>\n",
       "    </tr>\n",
       "    <tr>\n",
       "      <th>4</th>\n",
       "      <td>1.0</td>\n",
       "      <td>0.0</td>\n",
       "      <td>0.0</td>\n",
       "      <td>0.0</td>\n",
       "      <td>0.0</td>\n",
       "      <td>0.0</td>\n",
       "      <td>0.0</td>\n",
       "      <td>1.0</td>\n",
       "      <td>0.0</td>\n",
       "      <td>0.0</td>\n",
       "      <td>0.489362</td>\n",
       "      <td>1.0</td>\n",
       "      <td>0.0</td>\n",
       "      <td>1.0</td>\n",
       "      <td>0.0</td>\n",
       "      <td>0.393939</td>\n",
       "      <td>0.0</td>\n",
       "      <td>2.0</td>\n",
       "      <td>1.0</td>\n",
       "      <td>0.0</td>\n",
       "    </tr>\n",
       "  </tbody>\n",
       "</table>\n",
       "</div>"
      ],
      "text/plain": [
       "   A1_Score  A2_Score  A3_Score  A4_Score  A5_Score  A6_Score  A7_Score  \\\n",
       "0       1.0       1.0       1.0       1.0       0.0       0.0       1.0   \n",
       "1       1.0       1.0       0.0       1.0       0.0       0.0       0.0   \n",
       "2       1.0       1.0       0.0       1.0       1.0       0.0       1.0   \n",
       "3       1.0       1.0       0.0       1.0       0.0       0.0       1.0   \n",
       "4       1.0       0.0       0.0       0.0       0.0       0.0       0.0   \n",
       "\n",
       "   A8_Score  A9_Score  A10_Score       age  woman  man  ethnicity  jundice  \\\n",
       "0       1.0       0.0        0.0  0.191489    1.0  0.0        1.0      0.0   \n",
       "1       1.0       0.0        1.0  0.148936    0.0  1.0        7.0      0.0   \n",
       "2       1.0       1.0        1.0  0.212766    0.0  1.0        7.0      1.0   \n",
       "3       1.0       0.0        1.0  0.382979    1.0  0.0        1.0      0.0   \n",
       "4       1.0       0.0        0.0  0.489362    1.0  0.0        1.0      0.0   \n",
       "\n",
       "   country_of_res  used_app_before  result  relation  Class/ASD  \n",
       "0        0.000000              0.0     6.0       1.0        0.0  \n",
       "1        0.181818              0.0     5.0       1.0        0.0  \n",
       "2        0.363636              0.0     8.0       2.0        1.0  \n",
       "3        0.000000              0.0     6.0       1.0        0.0  \n",
       "4        0.393939              0.0     2.0       1.0        0.0  "
      ]
     },
     "execution_count": 105,
     "metadata": {},
     "output_type": "execute_result"
    }
   ],
   "source": [
    "from sklearn.preprocessing import MinMaxScaler\n",
    "\n",
    "ct = ColumnTransformer([(\"original1\",'passthrough',['A1_Score','A2_Score','A3_Score','A4_Score','A5_Score','A6_Score','A7_Score','A8_Score','A9_Score','A10_Score']),\n",
    "                        (\"scaler1\",MinMaxScaler(),['age']),  #escalado de maximo y minimo por edad\n",
    "                        (\"original2\",'passthrough',['woman','man','ethnicity','jundice']),\n",
    "                        (\"scaler2\",MinMaxScaler(),['country_of_res']), #escalado de maximo y minimo por country_of res\n",
    "                        (\"original3\",'passthrough',['used_app_before','result','relation','Class/ASD'])])\n",
    "\n",
    "X = ct.fit_transform(dataframe)   #sabemos que X es nuestro dataframe final en version de array de numpy\n",
    "#print(X)\n",
    "dataframe_final= pd.DataFrame(X,columns=colnames,dtype='float64')  \n",
    "#dataframe_final\n",
    "dataframe_final.head()"
   ]
  },
  {
   "cell_type": "markdown",
   "metadata": {},
   "source": [
    "## Ingeniería y selección de características"
   ]
  },
  {
   "cell_type": "markdown",
   "metadata": {},
   "source": [
    "**Para cada metodo de seleccion de caracteristicas que analizamos guardamos en un array las variables que serian despreciadas y al final miramos y luego quitamos las variables que globalmente parecen meno importantes para el estudio.**\n",
    "Desafortunadamente algunos metodos tienen aleatoriedad y no siempre devuelven los mismos vectores de variables despreciadas. Pero el importante es que, aunque hay aleatoriedad de las variables despreciadas, las variables mas importantes da retener son casi siempre las mismas. "
   ]
  },
  {
   "cell_type": "markdown",
   "metadata": {},
   "source": [
    "### Matríz de correlaciones\n",
    "El análisis de las correlaciones entre variables es una de las herramientas más sencillas para seleccionar variables y que pertenece a los **métodos de filtrado**. "
   ]
  },
  {
   "cell_type": "code",
   "execution_count": 106,
   "metadata": {
    "scrolled": false
   },
   "outputs": [
    {
     "data": {
      "image/png": "[encoded data removed]",
      "text/plain": [
       "<Figure size 1152x432 with 2 Axes>"
      ]
     },
     "metadata": {
      "needs_background": "light"
     },
     "output_type": "display_data"
    }
   ],
   "source": [
    "import seaborn as sns\n",
    "import matplotlib.pyplot as plt\n",
    "\n",
    "plt.figure(figsize=(16, 6))\n",
    "heatmap = sns.heatmap(dataframe_final.corr(), \n",
    "                      vmin=-1, vmax=1, annot=True, cmap='BrBG') # method='spearman' / kendall \n",
    "heatmap.set_title('Correlation Heatmap', fontdict={'fontsize':18}, pad=12);"
   ]
  },
  {
   "cell_type": "markdown",
   "metadata": {},
   "source": [
    "La Analisis de la matriz de correlacion nos sugiere **eliminar una entre la variable mujer o hombre** porque estan linealmente correladas."
   ]
  },
  {
   "cell_type": "markdown",
   "metadata": {},
   "source": [
    "### Correlaciones con la variable respuesta"
   ]
  },
  {
   "cell_type": "code",
   "execution_count": 107,
   "metadata": {},
   "outputs": [
    {
     "data": {
      "image/png": "[encoded data removed]",
      "text/plain": [
       "<Figure size 576x864 with 2 Axes>"
      ]
     },
     "metadata": {
      "needs_background": "light"
     },
     "output_type": "display_data"
    }
   ],
   "source": [
    "#anadimos la columna de clasificacion para estudiar las correlaciones con la variable respuesta,\n",
    "#pero lo hacemos sobre una copia para no modificar nuestro dataframe finale\n",
    "\n",
    "data_con_autismo= dataframe_final.copy()\n",
    "\n",
    "data_con_autismo['autism'] = y_ASD\n",
    "ct = ColumnTransformer([(\"original1\",'passthrough',['A1_Score','A2_Score','A3_Score','A4_Score','A5_Score','A6_Score','A7_Score','A8_Score','A9_Score','A10_Score',\n",
    "                                                   'age','woman','man','ethnicity','jundice','country_of_res','used_app_before','result','relation','Class/ASD']),\n",
    "                        (\"oe1\",OrdinalEncoder(),['autism'])])   #aplicamos codificacion numerica al vector de clasificacion\n",
    "X_con_ASD=ct.fit_transform(data_con_autismo)\n",
    "\n",
    "plt.figure(figsize=(8, 12))\n",
    "heatmap = sns.heatmap(pd.DataFrame(X_con_ASD,columns=data_con_autismo.columns).corr()[['autism']].sort_values(by='autism', ascending=False), vmin=-1, vmax=1, annot=True, cmap='BrBG')\n",
    "heatmap.set_title('Correlaciones con las variable respuesta', fontdict={'fontsize':18}, pad=16);"
   ]
  },
  {
   "cell_type": "markdown",
   "metadata": {},
   "source": [
    "Este tipo de análisis puede usarse para eliminar las variables menos correladas con la variable respuesta. \n"
   ]
  },
  {
   "cell_type": "code",
   "execution_count": 108,
   "metadata": {},
   "outputs": [],
   "source": [
    "eliminar_corr= np.array(['A8_Score','country_of_res','used_app_before','A7_Score','ethnicity'])\n",
    "#utilizando una correlacion minima de 0.05 en valor absoluto"
   ]
  },
  {
   "cell_type": "markdown",
   "metadata": {},
   "source": [
    "### Modelo base\n",
    "\n",
    "Antes de empezar a eliminar características vamos a obtener un modelo de base, o de referencia, utilizando Validacion Cruzada, que nos permita valorar las mejoras que vamos obteniendo."
   ]
  },
  {
   "cell_type": "code",
   "execution_count": 109,
   "metadata": {},
   "outputs": [],
   "source": [
    "from sklearn.model_selection import cross_val_score\n",
    "from sklearn.tree import DecisionTreeClassifier\n",
    "\n",
    "#esta funcion realiza Cross Validacion utilizando las caracteristicas indicadas en el parametro features\n",
    "def cv_experiment(X, y, features, cv):\n",
    "    dt = DecisionTreeClassifier(random_state=1234) \n",
    "    return cross_val_score(dt, X[features], y, cv=cv, scoring='balanced_accuracy')"
   ]
  },
  {
   "cell_type": "code",
   "execution_count": 110,
   "metadata": {},
   "outputs": [],
   "source": [
    "from sklearn.model_selection import StratifiedKFold\n",
    "\n",
    "strat_cv = StratifiedKFold(5, shuffle=True, random_state=1234) #metodo de estratificacion para la validacion cruzada"
   ]
  },
  {
   "cell_type": "code",
   "execution_count": 111,
   "metadata": {},
   "outputs": [
    {
     "data": {
      "text/plain": [
       "0.5549296071045265"
      ]
     },
     "execution_count": 111,
     "metadata": {},
     "output_type": "execute_result"
    }
   ],
   "source": [
    "ASD_features = dataframe_final.columns\n",
    "cv_experiment(dataframe_final, y_ASD, ASD_features, cv=strat_cv).mean()"
   ]
  },
  {
   "cell_type": "markdown",
   "metadata": {},
   "source": [
    "Notamos que el **rendimiento es bastante malo**, entonces procedemos probando ad aplicar **tecnicas de seleccion de caracteristicas para reducir la complexidad del modello**. De hecho sabemos que reduciendo la dimensionalidad hay beneficios:\n",
    "- menor coste computacional y menor tiempo\n",
    "- reduccion de ruido y del riesgo de sobreajuste y mayor capacidad predictiva"
   ]
  },
  {
   "cell_type": "markdown",
   "metadata": {},
   "source": [
    "### Métodos de envoltura\n",
    "\n",
    "Los métodos de envoltura usan el **rendimiento de un modelo predictivo cómo indicador de la bondad de un conjunto de atributos**.\n",
    "En particular utilizamos como metodo secuenciale, el método de **selección secuencial hacia atrás**, es decir eliminamos la peor caracteristica en cada iteracion y evaluamos. Repetimos esto para todas las características, es decir, vamos a evaluar todos los subconjuntos de de características de tamaño $N - 1$.\n"
   ]
  },
  {
   "cell_type": "markdown",
   "metadata": {},
   "source": [
    "Conjuntos con $N - 1$ características"
   ]
  },
  {
   "cell_type": "code",
   "execution_count": 112,
   "metadata": {},
   "outputs": [
    {
     "name": "stdout",
     "output_type": "stream",
     "text": [
      "N_feat: 19, Features: ('A1_Score', 'A2_Score', 'A3_Score', 'A4_Score', 'A5_Score', 'A6_Score', 'A7_Score', 'A8_Score', 'A9_Score', 'A10_Score', 'age', 'woman', 'man', 'ethnicity', 'jundice', 'country_of_res', 'used_app_before', 'result', 'relation')\n",
      "N_feat: 19, Features: ('A1_Score', 'A2_Score', 'A3_Score', 'A4_Score', 'A5_Score', 'A6_Score', 'A7_Score', 'A8_Score', 'A9_Score', 'A10_Score', 'age', 'woman', 'man', 'ethnicity', 'jundice', 'country_of_res', 'used_app_before', 'result', 'Class/ASD')\n",
      "N_feat: 19, Features: ('A1_Score', 'A2_Score', 'A3_Score', 'A4_Score', 'A5_Score', 'A6_Score', 'A7_Score', 'A8_Score', 'A9_Score', 'A10_Score', 'age', 'woman', 'man', 'ethnicity', 'jundice', 'country_of_res', 'used_app_before', 'relation', 'Class/ASD')\n",
      "N_feat: 19, Features: ('A1_Score', 'A2_Score', 'A3_Score', 'A4_Score', 'A5_Score', 'A6_Score', 'A7_Score', 'A8_Score', 'A9_Score', 'A10_Score', 'age', 'woman', 'man', 'ethnicity', 'jundice', 'country_of_res', 'result', 'relation', 'Class/ASD')\n",
      "N_feat: 19, Features: ('A1_Score', 'A2_Score', 'A3_Score', 'A4_Score', 'A5_Score', 'A6_Score', 'A7_Score', 'A8_Score', 'A9_Score', 'A10_Score', 'age', 'woman', 'man', 'ethnicity', 'jundice', 'used_app_before', 'result', 'relation', 'Class/ASD')\n",
      "N_feat: 19, Features: ('A1_Score', 'A2_Score', 'A3_Score', 'A4_Score', 'A5_Score', 'A6_Score', 'A7_Score', 'A8_Score', 'A9_Score', 'A10_Score', 'age', 'woman', 'man', 'ethnicity', 'country_of_res', 'used_app_before', 'result', 'relation', 'Class/ASD')\n",
      "N_feat: 19, Features: ('A1_Score', 'A2_Score', 'A3_Score', 'A4_Score', 'A5_Score', 'A6_Score', 'A7_Score', 'A8_Score', 'A9_Score', 'A10_Score', 'age', 'woman', 'man', 'jundice', 'country_of_res', 'used_app_before', 'result', 'relation', 'Class/ASD')\n",
      "N_feat: 19, Features: ('A1_Score', 'A2_Score', 'A3_Score', 'A4_Score', 'A5_Score', 'A6_Score', 'A7_Score', 'A8_Score', 'A9_Score', 'A10_Score', 'age', 'woman', 'ethnicity', 'jundice', 'country_of_res', 'used_app_before', 'result', 'relation', 'Class/ASD')\n",
      "N_feat: 19, Features: ('A1_Score', 'A2_Score', 'A3_Score', 'A4_Score', 'A5_Score', 'A6_Score', 'A7_Score', 'A8_Score', 'A9_Score', 'A10_Score', 'age', 'man', 'ethnicity', 'jundice', 'country_of_res', 'used_app_before', 'result', 'relation', 'Class/ASD')\n",
      "N_feat: 19, Features: ('A1_Score', 'A2_Score', 'A3_Score', 'A4_Score', 'A5_Score', 'A6_Score', 'A7_Score', 'A8_Score', 'A9_Score', 'A10_Score', 'woman', 'man', 'ethnicity', 'jundice', 'country_of_res', 'used_app_before', 'result', 'relation', 'Class/ASD')\n",
      "N_feat: 19, Features: ('A1_Score', 'A2_Score', 'A3_Score', 'A4_Score', 'A5_Score', 'A6_Score', 'A7_Score', 'A8_Score', 'A9_Score', 'age', 'woman', 'man', 'ethnicity', 'jundice', 'country_of_res', 'used_app_before', 'result', 'relation', 'Class/ASD')\n",
      "N_feat: 19, Features: ('A1_Score', 'A2_Score', 'A3_Score', 'A4_Score', 'A5_Score', 'A6_Score', 'A7_Score', 'A8_Score', 'A10_Score', 'age', 'woman', 'man', 'ethnicity', 'jundice', 'country_of_res', 'used_app_before', 'result', 'relation', 'Class/ASD')\n",
      "N_feat: 19, Features: ('A1_Score', 'A2_Score', 'A3_Score', 'A4_Score', 'A5_Score', 'A6_Score', 'A7_Score', 'A9_Score', 'A10_Score', 'age', 'woman', 'man', 'ethnicity', 'jundice', 'country_of_res', 'used_app_before', 'result', 'relation', 'Class/ASD')\n",
      "N_feat: 19, Features: ('A1_Score', 'A2_Score', 'A3_Score', 'A4_Score', 'A5_Score', 'A6_Score', 'A8_Score', 'A9_Score', 'A10_Score', 'age', 'woman', 'man', 'ethnicity', 'jundice', 'country_of_res', 'used_app_before', 'result', 'relation', 'Class/ASD')\n",
      "N_feat: 19, Features: ('A1_Score', 'A2_Score', 'A3_Score', 'A4_Score', 'A5_Score', 'A7_Score', 'A8_Score', 'A9_Score', 'A10_Score', 'age', 'woman', 'man', 'ethnicity', 'jundice', 'country_of_res', 'used_app_before', 'result', 'relation', 'Class/ASD')\n",
      "N_feat: 19, Features: ('A1_Score', 'A2_Score', 'A3_Score', 'A4_Score', 'A6_Score', 'A7_Score', 'A8_Score', 'A9_Score', 'A10_Score', 'age', 'woman', 'man', 'ethnicity', 'jundice', 'country_of_res', 'used_app_before', 'result', 'relation', 'Class/ASD')\n",
      "N_feat: 19, Features: ('A1_Score', 'A2_Score', 'A3_Score', 'A5_Score', 'A6_Score', 'A7_Score', 'A8_Score', 'A9_Score', 'A10_Score', 'age', 'woman', 'man', 'ethnicity', 'jundice', 'country_of_res', 'used_app_before', 'result', 'relation', 'Class/ASD')\n",
      "N_feat: 19, Features: ('A1_Score', 'A2_Score', 'A4_Score', 'A5_Score', 'A6_Score', 'A7_Score', 'A8_Score', 'A9_Score', 'A10_Score', 'age', 'woman', 'man', 'ethnicity', 'jundice', 'country_of_res', 'used_app_before', 'result', 'relation', 'Class/ASD')\n",
      "N_feat: 19, Features: ('A1_Score', 'A3_Score', 'A4_Score', 'A5_Score', 'A6_Score', 'A7_Score', 'A8_Score', 'A9_Score', 'A10_Score', 'age', 'woman', 'man', 'ethnicity', 'jundice', 'country_of_res', 'used_app_before', 'result', 'relation', 'Class/ASD')\n",
      "N_feat: 19, Features: ('A2_Score', 'A3_Score', 'A4_Score', 'A5_Score', 'A6_Score', 'A7_Score', 'A8_Score', 'A9_Score', 'A10_Score', 'age', 'woman', 'man', 'ethnicity', 'jundice', 'country_of_res', 'used_app_before', 'result', 'relation', 'Class/ASD')\n"
     ]
    }
   ],
   "source": [
    "import itertools\n",
    "\n",
    "for feature_set in itertools.combinations(ASD_features, len(ASD_features) - 1):\n",
    "    print('N_feat: {}, Features: {}'.format(len(feature_set), feature_set))"
   ]
  },
  {
   "cell_type": "markdown",
   "metadata": {},
   "source": [
    "Rendimiento para cada uno de los subconjuntos"
   ]
  },
  {
   "cell_type": "code",
   "execution_count": 113,
   "metadata": {},
   "outputs": [
    {
     "name": "stdout",
     "output_type": "stream",
     "text": [
      "0 SCORE: 0.5856470277386121, Features: ('A1_Score', 'A2_Score', 'A3_Score', 'A4_Score', 'A5_Score', 'A6_Score', 'A7_Score', 'A8_Score', 'A9_Score', 'A10_Score', 'age', 'woman', 'man', 'ethnicity', 'jundice', 'country_of_res', 'used_app_before', 'result', 'relation')\n",
      "1 SCORE: 0.5725647752594869, Features: ('A1_Score', 'A2_Score', 'A3_Score', 'A4_Score', 'A5_Score', 'A6_Score', 'A7_Score', 'A8_Score', 'A9_Score', 'A10_Score', 'age', 'woman', 'man', 'ethnicity', 'jundice', 'country_of_res', 'used_app_before', 'result', 'Class/ASD')\n",
      "2 SCORE: 0.5365561377788066, Features: ('A1_Score', 'A2_Score', 'A3_Score', 'A4_Score', 'A5_Score', 'A6_Score', 'A7_Score', 'A8_Score', 'A9_Score', 'A10_Score', 'age', 'woman', 'man', 'ethnicity', 'jundice', 'country_of_res', 'used_app_before', 'relation', 'Class/ASD')\n",
      "3 SCORE: 0.5701124228671104, Features: ('A1_Score', 'A2_Score', 'A3_Score', 'A4_Score', 'A5_Score', 'A6_Score', 'A7_Score', 'A8_Score', 'A9_Score', 'A10_Score', 'age', 'woman', 'man', 'ethnicity', 'jundice', 'country_of_res', 'result', 'relation', 'Class/ASD')\n",
      "4 SCORE: 0.5831938569601398, Features: ('A1_Score', 'A2_Score', 'A3_Score', 'A4_Score', 'A5_Score', 'A6_Score', 'A7_Score', 'A8_Score', 'A9_Score', 'A10_Score', 'age', 'woman', 'man', 'ethnicity', 'jundice', 'used_app_before', 'result', 'relation', 'Class/ASD')\n",
      "5 SCORE: 0.5720175087859592, Features: ('A1_Score', 'A2_Score', 'A3_Score', 'A4_Score', 'A5_Score', 'A6_Score', 'A7_Score', 'A8_Score', 'A9_Score', 'A10_Score', 'age', 'woman', 'man', 'ethnicity', 'country_of_res', 'used_app_before', 'result', 'relation', 'Class/ASD')\n",
      "6 SCORE: 0.5528742888809388, Features: ('A1_Score', 'A2_Score', 'A3_Score', 'A4_Score', 'A5_Score', 'A6_Score', 'A7_Score', 'A8_Score', 'A9_Score', 'A10_Score', 'age', 'woman', 'man', 'jundice', 'country_of_res', 'used_app_before', 'result', 'relation', 'Class/ASD')\n",
      "7 SCORE: 0.5764410025463499, Features: ('A1_Score', 'A2_Score', 'A3_Score', 'A4_Score', 'A5_Score', 'A6_Score', 'A7_Score', 'A8_Score', 'A9_Score', 'A10_Score', 'age', 'woman', 'ethnicity', 'jundice', 'country_of_res', 'used_app_before', 'result', 'relation', 'Class/ASD')\n",
      "8 SCORE: 0.5620845229159798, Features: ('A1_Score', 'A2_Score', 'A3_Score', 'A4_Score', 'A5_Score', 'A6_Score', 'A7_Score', 'A8_Score', 'A9_Score', 'A10_Score', 'age', 'man', 'ethnicity', 'jundice', 'country_of_res', 'used_app_before', 'result', 'relation', 'Class/ASD')\n",
      "9 SCORE: 0.5409269040921643, Features: ('A1_Score', 'A2_Score', 'A3_Score', 'A4_Score', 'A5_Score', 'A6_Score', 'A7_Score', 'A8_Score', 'A9_Score', 'A10_Score', 'woman', 'man', 'ethnicity', 'jundice', 'country_of_res', 'used_app_before', 'result', 'relation', 'Class/ASD')\n",
      "10 SCORE: 0.5689076416217138, Features: ('A1_Score', 'A2_Score', 'A3_Score', 'A4_Score', 'A5_Score', 'A6_Score', 'A7_Score', 'A8_Score', 'A9_Score', 'age', 'woman', 'man', 'ethnicity', 'jundice', 'country_of_res', 'used_app_before', 'result', 'relation', 'Class/ASD')\n",
      "11 SCORE: 0.569800033203093, Features: ('A1_Score', 'A2_Score', 'A3_Score', 'A4_Score', 'A5_Score', 'A6_Score', 'A7_Score', 'A8_Score', 'A10_Score', 'age', 'woman', 'man', 'ethnicity', 'jundice', 'country_of_res', 'used_app_before', 'result', 'relation', 'Class/ASD')\n",
      "12 SCORE: 0.5701057588660443, Features: ('A1_Score', 'A2_Score', 'A3_Score', 'A4_Score', 'A5_Score', 'A6_Score', 'A7_Score', 'A9_Score', 'A10_Score', 'age', 'woman', 'man', 'ethnicity', 'jundice', 'country_of_res', 'used_app_before', 'result', 'relation', 'Class/ASD')\n",
      "13 SCORE: 0.5468950431523297, Features: ('A1_Score', 'A2_Score', 'A3_Score', 'A4_Score', 'A5_Score', 'A6_Score', 'A8_Score', 'A9_Score', 'A10_Score', 'age', 'woman', 'man', 'ethnicity', 'jundice', 'country_of_res', 'used_app_before', 'result', 'relation', 'Class/ASD')\n",
      "14 SCORE: 0.542998823862268, Features: ('A1_Score', 'A2_Score', 'A3_Score', 'A4_Score', 'A5_Score', 'A7_Score', 'A8_Score', 'A9_Score', 'A10_Score', 'age', 'woman', 'man', 'ethnicity', 'jundice', 'country_of_res', 'used_app_before', 'result', 'relation', 'Class/ASD')\n",
      "15 SCORE: 0.5875854336627921, Features: ('A1_Score', 'A2_Score', 'A3_Score', 'A4_Score', 'A6_Score', 'A7_Score', 'A8_Score', 'A9_Score', 'A10_Score', 'age', 'woman', 'man', 'ethnicity', 'jundice', 'country_of_res', 'used_app_before', 'result', 'relation', 'Class/ASD')\n",
      "16 SCORE: 0.5356698256369967, Features: ('A1_Score', 'A2_Score', 'A3_Score', 'A5_Score', 'A6_Score', 'A7_Score', 'A8_Score', 'A9_Score', 'A10_Score', 'age', 'woman', 'man', 'ethnicity', 'jundice', 'country_of_res', 'used_app_before', 'result', 'relation', 'Class/ASD')\n",
      "17 SCORE: 0.5722523855954693, Features: ('A1_Score', 'A2_Score', 'A4_Score', 'A5_Score', 'A6_Score', 'A7_Score', 'A8_Score', 'A9_Score', 'A10_Score', 'age', 'woman', 'man', 'ethnicity', 'jundice', 'country_of_res', 'used_app_before', 'result', 'relation', 'Class/ASD')\n",
      "18 SCORE: 0.5692594307306318, Features: ('A1_Score', 'A3_Score', 'A4_Score', 'A5_Score', 'A6_Score', 'A7_Score', 'A8_Score', 'A9_Score', 'A10_Score', 'age', 'woman', 'man', 'ethnicity', 'jundice', 'country_of_res', 'used_app_before', 'result', 'relation', 'Class/ASD')\n",
      "19 SCORE: 0.5738650738534995, Features: ('A2_Score', 'A3_Score', 'A4_Score', 'A5_Score', 'A6_Score', 'A7_Score', 'A8_Score', 'A9_Score', 'A10_Score', 'age', 'woman', 'man', 'ethnicity', 'jundice', 'country_of_res', 'used_app_before', 'result', 'relation', 'Class/ASD')\n"
     ]
    }
   ],
   "source": [
    "for i, feature_set in enumerate(itertools.combinations(ASD_features, len(ASD_features) - 1)):\n",
    "    score = cv_experiment(dataframe_final, y_ASD, list(feature_set), cv=strat_cv).mean()\n",
    "    print('{} SCORE: {}, Features: {}'.format(i, score, feature_set))"
   ]
  },
  {
   "cell_type": "markdown",
   "metadata": {},
   "source": [
    "Seleccionamos el peor de los subcojuntos:"
   ]
  },
  {
   "cell_type": "code",
   "execution_count": 114,
   "metadata": {},
   "outputs": [
    {
     "name": "stdout",
     "output_type": "stream",
     "text": [
      "15 SCORE: 0.5875854336627921, Features: ('A1_Score', 'A2_Score', 'A3_Score', 'A4_Score', 'A6_Score', 'A7_Score', 'A8_Score', 'A9_Score', 'A10_Score', 'age', 'woman', 'man', 'ethnicity', 'jundice', 'country_of_res', 'used_app_before', 'result', 'relation', 'Class/ASD')\n",
      "Worst feature: {'A5_Score'}\n"
     ]
    }
   ],
   "source": [
    "best_score = 0\n",
    "best_subset = None\n",
    "for i, feature_set in enumerate(itertools.combinations(ASD_features, len(ASD_features) - 1)):\n",
    "    score = cv_experiment(dataframe_final, y_ASD, list(feature_set), cv=strat_cv).mean()\n",
    "    if score > best_score:\n",
    "        best_score = score\n",
    "        best_subset = (i, feature_set)\n",
    "    \n",
    "print('{} SCORE: {}, Features: {}'.format(best_subset[0], best_score, best_subset[1]))\n",
    "print('Worst feature: {}'.format(set(ASD_features)-set(best_subset[1])))"
   ]
  },
  {
   "cell_type": "markdown",
   "metadata": {},
   "source": [
    "Por tanto, tras la primera iteración, sugere eliminar la característica **A5_Score**"
   ]
  },
  {
   "cell_type": "code",
   "execution_count": 115,
   "metadata": {},
   "outputs": [
    {
     "name": "stdout",
     "output_type": "stream",
     "text": [
      "('A1_Score', 'A2_Score', 'A3_Score', 'A4_Score', 'A6_Score', 'A7_Score', 'A8_Score', 'A9_Score', 'A10_Score', 'age', 'woman', 'man', 'ethnicity', 'jundice', 'country_of_res', 'used_app_before', 'result', 'relation', 'Class/ASD')\n"
     ]
    }
   ],
   "source": [
    "new_features = best_subset[1]\n",
    "print(new_features)"
   ]
  },
  {
   "cell_type": "markdown",
   "metadata": {},
   "source": [
    "La librería `mlxtend` de Python, proporciona diferentes **algoritomos y herramientas de aprendizaje automático** que quedan fuera del alcance de Scikit-learn, como por ejemplo, los **métodos de selección de características de tipo envoltura**."
   ]
  },
  {
   "cell_type": "code",
   "execution_count": 204,
   "metadata": {},
   "outputs": [
    {
     "name": "stdout",
     "output_type": "stream",
     "text": [
      "Collecting mlxtend\n",
      "  Downloading mlxtend-0.18.0-py2.py3-none-any.whl (1.3 MB)\n",
      "Requirement already satisfied: joblib>=0.13.2 in c:\\users\\matte\\anaconda3\\lib\\site-packages (from mlxtend) (0.17.0)\n",
      "Requirement already satisfied: scikit-learn>=0.20.3 in c:\\users\\matte\\anaconda3\\lib\\site-packages (from mlxtend) (0.23.2)\n",
      "Requirement already satisfied: numpy>=1.16.2 in c:\\users\\matte\\anaconda3\\lib\\site-packages (from mlxtend) (1.19.2)\n",
      "Requirement already satisfied: scipy>=1.2.1 in c:\\users\\matte\\anaconda3\\lib\\site-packages (from mlxtend) (1.5.2)\n",
      "Requirement already satisfied: setuptools in c:\\users\\matte\\anaconda3\\lib\\site-packages (from mlxtend) (50.3.1.post20201107)\n",
      "Requirement already satisfied: pandas>=0.24.2 in c:\\users\\matte\\anaconda3\\lib\\site-packages (from mlxtend) (1.1.3)\n",
      "Requirement already satisfied: matplotlib>=3.0.0 in c:\\users\\matte\\anaconda3\\lib\\site-packages (from mlxtend) (3.3.2)\n",
      "Requirement already satisfied: threadpoolctl>=2.0.0 in c:\\users\\matte\\anaconda3\\lib\\site-packages (from scikit-learn>=0.20.3->mlxtend) (2.1.0)\n",
      "Requirement already satisfied: python-dateutil>=2.7.3 in c:\\users\\matte\\anaconda3\\lib\\site-packages (from pandas>=0.24.2->mlxtend) (2.8.1)\n",
      "Requirement already satisfied: pytz>=2017.2 in c:\\users\\matte\\anaconda3\\lib\\site-packages (from pandas>=0.24.2->mlxtend) (2020.1)\n",
      "Requirement already satisfied: pyparsing!=2.0.4,!=2.1.2,!=2.1.6,>=2.0.3 in c:\\users\\matte\\anaconda3\\lib\\site-packages (from matplotlib>=3.0.0->mlxtend) (2.4.7)\n",
      "Requirement already satisfied: pillow>=6.2.0 in c:\\users\\matte\\anaconda3\\lib\\site-packages (from matplotlib>=3.0.0->mlxtend) (8.0.1)\n",
      "Requirement already satisfied: certifi>=2020.06.20 in c:\\users\\matte\\anaconda3\\lib\\site-packages (from matplotlib>=3.0.0->mlxtend) (2020.6.20)\n",
      "Requirement already satisfied: cycler>=0.10 in c:\\users\\matte\\anaconda3\\lib\\site-packages (from matplotlib>=3.0.0->mlxtend) (0.10.0)\n",
      "Requirement already satisfied: kiwisolver>=1.0.1 in c:\\users\\matte\\anaconda3\\lib\\site-packages (from matplotlib>=3.0.0->mlxtend) (1.3.0)\n",
      "Requirement already satisfied: six>=1.5 in c:\\users\\matte\\anaconda3\\lib\\site-packages (from python-dateutil>=2.7.3->pandas>=0.24.2->mlxtend) (1.15.0)\n",
      "Installing collected packages: mlxtend\n",
      "Successfully installed mlxtend-0.18.0\n"
     ]
    }
   ],
   "source": [
    "#!pip install mlxtend"
   ]
  },
  {
   "cell_type": "code",
   "execution_count": 116,
   "metadata": {},
   "outputs": [],
   "source": [
    "from mlxtend.feature_selection import SequentialFeatureSelector as SFS\n",
    "\n",
    "dt = DecisionTreeClassifier(random_state=1234)\n",
    "\n",
    "#Con el parámetro k_features indicamos el número de características a retener antes de parar. \n",
    "#Con el parámetro forward=False indicamos que la búsqueda es hacia atrás.\n",
    "\n",
    "sbs = SFS(dt, k_features=1, forward=False, floating=False, \n",
    "          scoring='balanced_accuracy',cv=strat_cv) #verbose=2\n",
    "\n",
    "sbs = sbs.fit(dataframe_final, y_ASD)"
   ]
  },
  {
   "cell_type": "markdown",
   "metadata": {},
   "source": [
    "Una vez que ha terminado la ejecución, **podemos consultar los mejores subconjuntos para cada número posible de características**."
   ]
  },
  {
   "cell_type": "code",
   "execution_count": 117,
   "metadata": {},
   "outputs": [
    {
     "data": {
      "text/plain": [
       "{20: {'feature_idx': (0,\n",
       "   1,\n",
       "   2,\n",
       "   3,\n",
       "   4,\n",
       "   5,\n",
       "   6,\n",
       "   7,\n",
       "   8,\n",
       "   9,\n",
       "   10,\n",
       "   11,\n",
       "   12,\n",
       "   13,\n",
       "   14,\n",
       "   15,\n",
       "   16,\n",
       "   17,\n",
       "   18,\n",
       "   19),\n",
       "  'cv_scores': array([0.52574526, 0.54539295, 0.60162602, 0.60461605, 0.49726776]),\n",
       "  'avg_score': 0.5549296071045265,\n",
       "  'feature_names': ('A1_Score',\n",
       "   'A2_Score',\n",
       "   'A3_Score',\n",
       "   'A4_Score',\n",
       "   'A5_Score',\n",
       "   'A6_Score',\n",
       "   'A7_Score',\n",
       "   'A8_Score',\n",
       "   'A9_Score',\n",
       "   'A10_Score',\n",
       "   'age',\n",
       "   'woman',\n",
       "   'man',\n",
       "   'ethnicity',\n",
       "   'jundice',\n",
       "   'country_of_res',\n",
       "   'used_app_before',\n",
       "   'result',\n",
       "   'relation',\n",
       "   'Class/ASD')},\n",
       " 19: {'feature_idx': (0,\n",
       "   1,\n",
       "   2,\n",
       "   3,\n",
       "   5,\n",
       "   6,\n",
       "   7,\n",
       "   8,\n",
       "   9,\n",
       "   10,\n",
       "   11,\n",
       "   12,\n",
       "   13,\n",
       "   14,\n",
       "   15,\n",
       "   16,\n",
       "   17,\n",
       "   18,\n",
       "   19),\n",
       "  'cv_scores': array([0.56165312, 0.58943089, 0.65718157, 0.61691113, 0.51275046]),\n",
       "  'avg_score': 0.5875854336627921,\n",
       "  'feature_names': ('A1_Score',\n",
       "   'A2_Score',\n",
       "   'A3_Score',\n",
       "   'A4_Score',\n",
       "   'A6_Score',\n",
       "   'A7_Score',\n",
       "   'A8_Score',\n",
       "   'A9_Score',\n",
       "   'A10_Score',\n",
       "   'age',\n",
       "   'woman',\n",
       "   'man',\n",
       "   'ethnicity',\n",
       "   'jundice',\n",
       "   'country_of_res',\n",
       "   'used_app_before',\n",
       "   'result',\n",
       "   'relation',\n",
       "   'Class/ASD')},\n",
       " 18: {'feature_idx': (0,\n",
       "   1,\n",
       "   2,\n",
       "   3,\n",
       "   5,\n",
       "   6,\n",
       "   7,\n",
       "   8,\n",
       "   9,\n",
       "   10,\n",
       "   11,\n",
       "   13,\n",
       "   14,\n",
       "   15,\n",
       "   16,\n",
       "   17,\n",
       "   18,\n",
       "   19),\n",
       "  'cv_scores': array([0.5298103 , 0.68089431, 0.66124661, 0.61691113, 0.56102004]),\n",
       "  'avg_score': 0.6099764772453592,\n",
       "  'feature_names': ('A1_Score',\n",
       "   'A2_Score',\n",
       "   'A3_Score',\n",
       "   'A4_Score',\n",
       "   'A6_Score',\n",
       "   'A7_Score',\n",
       "   'A8_Score',\n",
       "   'A9_Score',\n",
       "   'A10_Score',\n",
       "   'age',\n",
       "   'woman',\n",
       "   'ethnicity',\n",
       "   'jundice',\n",
       "   'country_of_res',\n",
       "   'used_app_before',\n",
       "   'result',\n",
       "   'relation',\n",
       "   'Class/ASD')},\n",
       " 17: {'feature_idx': (0,\n",
       "   1,\n",
       "   2,\n",
       "   3,\n",
       "   5,\n",
       "   6,\n",
       "   7,\n",
       "   8,\n",
       "   9,\n",
       "   10,\n",
       "   11,\n",
       "   13,\n",
       "   14,\n",
       "   16,\n",
       "   17,\n",
       "   18,\n",
       "   19),\n",
       "  'cv_scores': array([0.63346883, 0.57384824, 0.59349593, 0.6350302 , 0.59699454]),\n",
       "  'avg_score': 0.6065675484192288,\n",
       "  'feature_names': ('A1_Score',\n",
       "   'A2_Score',\n",
       "   'A3_Score',\n",
       "   'A4_Score',\n",
       "   'A6_Score',\n",
       "   'A7_Score',\n",
       "   'A8_Score',\n",
       "   'A9_Score',\n",
       "   'A10_Score',\n",
       "   'age',\n",
       "   'woman',\n",
       "   'ethnicity',\n",
       "   'jundice',\n",
       "   'used_app_before',\n",
       "   'result',\n",
       "   'relation',\n",
       "   'Class/ASD')},\n",
       " 16: {'feature_idx': (0, 1, 2, 3, 5, 6, 7, 8, 9, 10, 11, 13, 14, 17, 18, 19),\n",
       "  'cv_scores': array([0.63346883, 0.60162602, 0.63279133, 0.61691113, 0.62477231]),\n",
       "  'avg_score': 0.621913924488684,\n",
       "  'feature_names': ('A1_Score',\n",
       "   'A2_Score',\n",
       "   'A3_Score',\n",
       "   'A4_Score',\n",
       "   'A6_Score',\n",
       "   'A7_Score',\n",
       "   'A8_Score',\n",
       "   'A9_Score',\n",
       "   'A10_Score',\n",
       "   'age',\n",
       "   'woman',\n",
       "   'ethnicity',\n",
       "   'jundice',\n",
       "   'result',\n",
       "   'relation',\n",
       "   'Class/ASD')},\n",
       " 15: {'feature_idx': (0, 1, 2, 3, 5, 6, 8, 9, 10, 11, 13, 14, 17, 18, 19),\n",
       "  'cv_scores': array([0.61382114, 0.67682927, 0.54200542, 0.61281277, 0.62887067]),\n",
       "  'avg_score': 0.6148678540279795,\n",
       "  'feature_names': ('A1_Score',\n",
       "   'A2_Score',\n",
       "   'A3_Score',\n",
       "   'A4_Score',\n",
       "   'A6_Score',\n",
       "   'A7_Score',\n",
       "   'A9_Score',\n",
       "   'A10_Score',\n",
       "   'age',\n",
       "   'woman',\n",
       "   'ethnicity',\n",
       "   'jundice',\n",
       "   'result',\n",
       "   'relation',\n",
       "   'Class/ASD')},\n",
       " 14: {'feature_idx': (0, 1, 2, 3, 5, 8, 9, 10, 11, 13, 14, 17, 18, 19),\n",
       "  'cv_scores': array([0.59349593, 0.64498645, 0.6097561 , 0.62100949, 0.66894353]),\n",
       "  'avg_score': 0.6276383014045843,\n",
       "  'feature_names': ('A1_Score',\n",
       "   'A2_Score',\n",
       "   'A3_Score',\n",
       "   'A4_Score',\n",
       "   'A6_Score',\n",
       "   'A9_Score',\n",
       "   'A10_Score',\n",
       "   'age',\n",
       "   'woman',\n",
       "   'ethnicity',\n",
       "   'jundice',\n",
       "   'result',\n",
       "   'relation',\n",
       "   'Class/ASD')},\n",
       " 13: {'feature_idx': (0, 1, 2, 3, 5, 8, 10, 11, 13, 14, 17, 18, 19),\n",
       "  'cv_scores': array([0.57384824, 0.69715447, 0.59349593, 0.60871441, 0.65346084]),\n",
       "  'avg_score': 0.625334778369354,\n",
       "  'feature_names': ('A1_Score',\n",
       "   'A2_Score',\n",
       "   'A3_Score',\n",
       "   'A4_Score',\n",
       "   'A6_Score',\n",
       "   'A9_Score',\n",
       "   'age',\n",
       "   'woman',\n",
       "   'ethnicity',\n",
       "   'jundice',\n",
       "   'result',\n",
       "   'relation',\n",
       "   'Class/ASD')},\n",
       " 12: {'feature_idx': (1, 2, 3, 5, 8, 10, 11, 13, 14, 17, 18, 19),\n",
       "  'cv_scores': array([0.62127371, 0.649729  , 0.58604336, 0.63912856, 0.66165756]),\n",
       "  'avg_score': 0.6315664377523845,\n",
       "  'feature_names': ('A2_Score',\n",
       "   'A3_Score',\n",
       "   'A4_Score',\n",
       "   'A6_Score',\n",
       "   'A9_Score',\n",
       "   'age',\n",
       "   'woman',\n",
       "   'ethnicity',\n",
       "   'jundice',\n",
       "   'result',\n",
       "   'relation',\n",
       "   'Class/ASD')},\n",
       " 11: {'feature_idx': (1, 2, 3, 5, 8, 10, 11, 13, 14, 17, 18),\n",
       "  'cv_scores': array([0.60907859, 0.64566396, 0.60569106, 0.64322692, 0.6215847 ]),\n",
       "  'avg_score': 0.6250490447096015,\n",
       "  'feature_names': ('A2_Score',\n",
       "   'A3_Score',\n",
       "   'A4_Score',\n",
       "   'A6_Score',\n",
       "   'A9_Score',\n",
       "   'age',\n",
       "   'woman',\n",
       "   'ethnicity',\n",
       "   'jundice',\n",
       "   'result',\n",
       "   'relation')},\n",
       " 10: {'feature_idx': (1, 2, 3, 5, 8, 10, 13, 14, 17, 18),\n",
       "  'cv_scores': array([0.68495935, 0.64566396, 0.63753388, 0.5742019 , 0.56193078]),\n",
       "  'avg_score': 0.6208579726004336,\n",
       "  'feature_names': ('A2_Score',\n",
       "   'A3_Score',\n",
       "   'A4_Score',\n",
       "   'A6_Score',\n",
       "   'A9_Score',\n",
       "   'age',\n",
       "   'ethnicity',\n",
       "   'jundice',\n",
       "   'result',\n",
       "   'relation')},\n",
       " 9: {'feature_idx': (1, 3, 5, 8, 10, 13, 14, 17, 18),\n",
       "  'cv_scores': array([0.68495935, 0.63346883, 0.65311653, 0.52739431, 0.57422587]),\n",
       "  'avg_score': 0.6146329772184693,\n",
       "  'feature_names': ('A2_Score',\n",
       "   'A4_Score',\n",
       "   'A6_Score',\n",
       "   'A9_Score',\n",
       "   'age',\n",
       "   'ethnicity',\n",
       "   'jundice',\n",
       "   'result',\n",
       "   'relation')},\n",
       " 8: {'feature_idx': (1, 3, 5, 10, 13, 14, 17, 18),\n",
       "  'cv_scores': array([0.62940379, 0.64159892, 0.6097561 , 0.58822261, 0.59380692]),\n",
       "  'avg_score': 0.6125576669916828,\n",
       "  'feature_names': ('A2_Score',\n",
       "   'A4_Score',\n",
       "   'A6_Score',\n",
       "   'age',\n",
       "   'ethnicity',\n",
       "   'jundice',\n",
       "   'result',\n",
       "   'relation')},\n",
       " 7: {'feature_idx': (1, 3, 5, 10, 13, 14, 18),\n",
       "  'cv_scores': array([0.61382114, 0.66124661, 0.61382114, 0.52566868, 0.60200364]),\n",
       "  'avg_score': 0.6033122423545202,\n",
       "  'feature_names': ('A2_Score',\n",
       "   'A4_Score',\n",
       "   'A6_Score',\n",
       "   'age',\n",
       "   'ethnicity',\n",
       "   'jundice',\n",
       "   'relation')},\n",
       " 6: {'feature_idx': (1, 3, 5, 10, 13, 14),\n",
       "  'cv_scores': array([0.63414634, 0.64905149, 0.649729  , 0.54206212, 0.62249545]),\n",
       "  'avg_score': 0.6194968796107287,\n",
       "  'feature_names': ('A2_Score',\n",
       "   'A4_Score',\n",
       "   'A6_Score',\n",
       "   'age',\n",
       "   'ethnicity',\n",
       "   'jundice')},\n",
       " 5: {'feature_idx': (1, 3, 5, 10, 14),\n",
       "  'cv_scores': array([0.65379404, 0.649729  , 0.60636856, 0.56837791, 0.55054645]),\n",
       "  'avg_score': 0.6057631917993037,\n",
       "  'feature_names': ('A2_Score', 'A4_Score', 'A6_Score', 'age', 'jundice')},\n",
       " 4: {'feature_idx': (1, 5, 10, 14),\n",
       "  'cv_scores': array([0.59417344, 0.55081301, 0.59891599, 0.58067299, 0.59881603]),\n",
       "  'avg_score': 0.5846782924257198,\n",
       "  'feature_names': ('A2_Score', 'A6_Score', 'age', 'jundice')},\n",
       " 3: {'feature_idx': (1, 5, 10),\n",
       "  'cv_scores': array([0.50338753, 0.5196477 , 0.53929539, 0.58067299, 0.56693989]),\n",
       "  'avg_score': 0.5419887015953853,\n",
       "  'feature_names': ('A2_Score', 'A6_Score', 'age')},\n",
       " 2: {'feature_idx': (1, 10),\n",
       "  'cv_scores': array([0.4796748 , 0.54336043, 0.51558266, 0.54443486, 0.5154827 ]),\n",
       "  'avg_score': 0.5197070879250639,\n",
       "  'feature_names': ('A2_Score', 'age')},\n",
       " 1: {'feature_idx': (10,),\n",
       "  'cv_scores': array([0.48780488, 0.5       , 0.52371274, 0.49180328, 0.5       ]),\n",
       "  'avg_score': 0.5006641787729353,\n",
       "  'feature_names': ('age',)}}"
      ]
     },
     "execution_count": 117,
     "metadata": {},
     "output_type": "execute_result"
    }
   ],
   "source": [
    "sbs.subsets_"
   ]
  },
  {
   "cell_type": "markdown",
   "metadata": {},
   "source": [
    "El mejor subconjunto tiene rendimiento medio de **0.6315664377523845** y es asociado a retener 12 variables de las 20 originales."
   ]
  },
  {
   "cell_type": "code",
   "execution_count": 118,
   "metadata": {},
   "outputs": [],
   "source": [
    "eliminar_envoltura=np.array(['A1_Score','A5_Score','A7_Score','A8_Score','A10_Score','man','country_of_res','used_app_before'])"
   ]
  },
  {
   "cell_type": "markdown",
   "metadata": {},
   "source": [
    "Dado que el rendimiento no es tan alto, procedimos con **otras tecnicas de seleccion de caracteristicas** para ententar de mejorar."
   ]
  },
  {
   "cell_type": "markdown",
   "metadata": {},
   "source": [
    "### Métodos integrados - selección de características basada en modelos"
   ]
  },
  {
   "cell_type": "markdown",
   "metadata": {},
   "source": [
    "Estes metodos seleccionan las mejores caracteristicas usando un **umbral** y luego miran las importancia de cada caracteristica."
   ]
  },
  {
   "cell_type": "markdown",
   "metadata": {},
   "source": [
    "*Scikit-learn* también implementa la selección de características basada en modelos. Se trata de la clase `SelectFromModel` de la librería `feature_selection`. Podemos seleccionar las mejores características a partir de Scikit-learn que proporcione la información `feature_importances_` o `coef_`."
   ]
  },
  {
   "cell_type": "code",
   "execution_count": 119,
   "metadata": {},
   "outputs": [
    {
     "data": {
      "text/plain": [
       "SelectFromModel(estimator=DecisionTreeClassifier(random_state=1234))"
      ]
     },
     "execution_count": 119,
     "metadata": {},
     "output_type": "execute_result"
    }
   ],
   "source": [
    "from sklearn.feature_selection import SelectFromModel\n",
    "\n",
    "selection1 = SelectFromModel(DecisionTreeClassifier(random_state=1234))\n",
    "\n",
    "selection1.fit(dataframe_final, y_ASD)"
   ]
  },
  {
   "cell_type": "markdown",
   "metadata": {},
   "source": [
    "Con el método `get_support()` podemos obtener un índice de las mejores características encontradas."
   ]
  },
  {
   "cell_type": "code",
   "execution_count": 120,
   "metadata": {},
   "outputs": [
    {
     "data": {
      "text/plain": [
       "array([False,  True, False, False, False, False, False, False, False,\n",
       "       False,  True, False, False,  True, False,  True, False,  True,\n",
       "       False, False])"
      ]
     },
     "execution_count": 120,
     "metadata": {},
     "output_type": "execute_result"
    }
   ],
   "source": [
    "selection1.get_support()"
   ]
  },
  {
   "cell_type": "markdown",
   "metadata": {},
   "source": [
    "Dado que el punto de corte ha sido elegido por el algoritmo, veamos su valor."
   ]
  },
  {
   "cell_type": "code",
   "execution_count": 121,
   "metadata": {},
   "outputs": [
    {
     "data": {
      "text/plain": [
       "0.05000000000000001"
      ]
     },
     "execution_count": 121,
     "metadata": {},
     "output_type": "execute_result"
    }
   ],
   "source": [
    "selection1.threshold_"
   ]
  },
  {
   "cell_type": "code",
   "execution_count": 122,
   "metadata": {},
   "outputs": [
    {
     "data": {
      "text/html": [
       "<div>\n",
       "<style scoped>\n",
       "    .dataframe tbody tr th:only-of-type {\n",
       "        vertical-align: middle;\n",
       "    }\n",
       "\n",
       "    .dataframe tbody tr th {\n",
       "        vertical-align: top;\n",
       "    }\n",
       "\n",
       "    .dataframe thead th {\n",
       "        text-align: right;\n",
       "    }\n",
       "</style>\n",
       "<table border=\"1\" class=\"dataframe\">\n",
       "  <thead>\n",
       "    <tr style=\"text-align: right;\">\n",
       "      <th></th>\n",
       "      <th>feature</th>\n",
       "      <th>selected</th>\n",
       "      <th>feature_importance</th>\n",
       "    </tr>\n",
       "  </thead>\n",
       "  <tbody>\n",
       "    <tr>\n",
       "      <th>10</th>\n",
       "      <td>age</td>\n",
       "      <td>True</td>\n",
       "      <td>0.246121</td>\n",
       "    </tr>\n",
       "    <tr>\n",
       "      <th>13</th>\n",
       "      <td>ethnicity</td>\n",
       "      <td>True</td>\n",
       "      <td>0.129111</td>\n",
       "    </tr>\n",
       "    <tr>\n",
       "      <th>15</th>\n",
       "      <td>country_of_res</td>\n",
       "      <td>True</td>\n",
       "      <td>0.126253</td>\n",
       "    </tr>\n",
       "    <tr>\n",
       "      <th>17</th>\n",
       "      <td>result</td>\n",
       "      <td>True</td>\n",
       "      <td>0.103230</td>\n",
       "    </tr>\n",
       "    <tr>\n",
       "      <th>1</th>\n",
       "      <td>A2_Score</td>\n",
       "      <td>True</td>\n",
       "      <td>0.051187</td>\n",
       "    </tr>\n",
       "    <tr>\n",
       "      <th>18</th>\n",
       "      <td>relation</td>\n",
       "      <td>False</td>\n",
       "      <td>0.048796</td>\n",
       "    </tr>\n",
       "    <tr>\n",
       "      <th>9</th>\n",
       "      <td>A10_Score</td>\n",
       "      <td>False</td>\n",
       "      <td>0.037481</td>\n",
       "    </tr>\n",
       "    <tr>\n",
       "      <th>3</th>\n",
       "      <td>A4_Score</td>\n",
       "      <td>False</td>\n",
       "      <td>0.036770</td>\n",
       "    </tr>\n",
       "    <tr>\n",
       "      <th>5</th>\n",
       "      <td>A6_Score</td>\n",
       "      <td>False</td>\n",
       "      <td>0.033980</td>\n",
       "    </tr>\n",
       "    <tr>\n",
       "      <th>14</th>\n",
       "      <td>jundice</td>\n",
       "      <td>False</td>\n",
       "      <td>0.030283</td>\n",
       "    </tr>\n",
       "    <tr>\n",
       "      <th>7</th>\n",
       "      <td>A8_Score</td>\n",
       "      <td>False</td>\n",
       "      <td>0.025318</td>\n",
       "    </tr>\n",
       "    <tr>\n",
       "      <th>8</th>\n",
       "      <td>A9_Score</td>\n",
       "      <td>False</td>\n",
       "      <td>0.024894</td>\n",
       "    </tr>\n",
       "    <tr>\n",
       "      <th>2</th>\n",
       "      <td>A3_Score</td>\n",
       "      <td>False</td>\n",
       "      <td>0.022051</td>\n",
       "    </tr>\n",
       "    <tr>\n",
       "      <th>6</th>\n",
       "      <td>A7_Score</td>\n",
       "      <td>False</td>\n",
       "      <td>0.017879</td>\n",
       "    </tr>\n",
       "    <tr>\n",
       "      <th>11</th>\n",
       "      <td>woman</td>\n",
       "      <td>False</td>\n",
       "      <td>0.017023</td>\n",
       "    </tr>\n",
       "    <tr>\n",
       "      <th>19</th>\n",
       "      <td>Class/ASD</td>\n",
       "      <td>False</td>\n",
       "      <td>0.013221</td>\n",
       "    </tr>\n",
       "    <tr>\n",
       "      <th>4</th>\n",
       "      <td>A5_Score</td>\n",
       "      <td>False</td>\n",
       "      <td>0.012868</td>\n",
       "    </tr>\n",
       "    <tr>\n",
       "      <th>12</th>\n",
       "      <td>man</td>\n",
       "      <td>False</td>\n",
       "      <td>0.010318</td>\n",
       "    </tr>\n",
       "    <tr>\n",
       "      <th>16</th>\n",
       "      <td>used_app_before</td>\n",
       "      <td>False</td>\n",
       "      <td>0.008654</td>\n",
       "    </tr>\n",
       "    <tr>\n",
       "      <th>0</th>\n",
       "      <td>A1_Score</td>\n",
       "      <td>False</td>\n",
       "      <td>0.004563</td>\n",
       "    </tr>\n",
       "  </tbody>\n",
       "</table>\n",
       "</div>"
      ],
      "text/plain": [
       "            feature  selected  feature_importance\n",
       "10              age      True            0.246121\n",
       "13        ethnicity      True            0.129111\n",
       "15   country_of_res      True            0.126253\n",
       "17           result      True            0.103230\n",
       "1          A2_Score      True            0.051187\n",
       "18         relation     False            0.048796\n",
       "9         A10_Score     False            0.037481\n",
       "3          A4_Score     False            0.036770\n",
       "5          A6_Score     False            0.033980\n",
       "14          jundice     False            0.030283\n",
       "7          A8_Score     False            0.025318\n",
       "8          A9_Score     False            0.024894\n",
       "2          A3_Score     False            0.022051\n",
       "6          A7_Score     False            0.017879\n",
       "11            woman     False            0.017023\n",
       "19        Class/ASD     False            0.013221\n",
       "4          A5_Score     False            0.012868\n",
       "12              man     False            0.010318\n",
       "16  used_app_before     False            0.008654\n",
       "0          A1_Score     False            0.004563"
      ]
     },
     "execution_count": 122,
     "metadata": {},
     "output_type": "execute_result"
    }
   ],
   "source": [
    "dt_fi = pd.DataFrame({'feature': ASD_features, \n",
    "                      'selected': selection1.get_support(),  \n",
    "                      'feature_importance': selection1.estimator_.feature_importances_})\n",
    "dt_fi.sort_values(by='feature_importance', ascending=False)"
   ]
  },
  {
   "cell_type": "markdown",
   "metadata": {},
   "source": [
    "Segun este metodo las **caracteristicas mas importantes a utilizar** son: age, ethnicity, country_of_res, result y A2_Score."
   ]
  },
  {
   "cell_type": "code",
   "execution_count": 123,
   "metadata": {},
   "outputs": [],
   "source": [
    "eliminar_integrados_tree=np.array(['A5_Score','A1_Score','Class/ASD','used_app_before','man','A6_Score','woman','A3_Score','A7_Score','A9_Score','A8_Score','relation','A4_Score','A10_Score','jundice'])"
   ]
  },
  {
   "cell_type": "markdown",
   "metadata": {},
   "source": [
    "A continuación probamos con **RandomForest**, usando una cantidad adecuada de estimadores. Veamos si hay diferencias."
   ]
  },
  {
   "cell_type": "code",
   "execution_count": 124,
   "metadata": {},
   "outputs": [
    {
     "data": {
      "text/plain": [
       "SelectFromModel(estimator=RandomForestClassifier(random_state=1234))"
      ]
     },
     "execution_count": 124,
     "metadata": {},
     "output_type": "execute_result"
    }
   ],
   "source": [
    "from sklearn.ensemble import RandomForestClassifier\n",
    "\n",
    "selection2 = SelectFromModel(RandomForestClassifier(n_estimators=100, random_state=1234))\n",
    "\n",
    "selection2.fit(dataframe_final, y_ASD)"
   ]
  },
  {
   "cell_type": "code",
   "execution_count": 125,
   "metadata": {},
   "outputs": [
    {
     "data": {
      "text/plain": [
       "array([False, False, False, False, False, False, False, False, False,\n",
       "       False,  True, False, False,  True, False,  True, False,  True,\n",
       "       False, False])"
      ]
     },
     "execution_count": 125,
     "metadata": {},
     "output_type": "execute_result"
    }
   ],
   "source": [
    "selection2.get_support()"
   ]
  },
  {
   "cell_type": "code",
   "execution_count": 126,
   "metadata": {},
   "outputs": [
    {
     "data": {
      "text/plain": [
       "0.05"
      ]
     },
     "execution_count": 126,
     "metadata": {},
     "output_type": "execute_result"
    }
   ],
   "source": [
    "selection2.threshold_"
   ]
  },
  {
   "cell_type": "code",
   "execution_count": 127,
   "metadata": {},
   "outputs": [
    {
     "data": {
      "text/html": [
       "<div>\n",
       "<style scoped>\n",
       "    .dataframe tbody tr th:only-of-type {\n",
       "        vertical-align: middle;\n",
       "    }\n",
       "\n",
       "    .dataframe tbody tr th {\n",
       "        vertical-align: top;\n",
       "    }\n",
       "\n",
       "    .dataframe thead th {\n",
       "        text-align: right;\n",
       "    }\n",
       "</style>\n",
       "<table border=\"1\" class=\"dataframe\">\n",
       "  <thead>\n",
       "    <tr style=\"text-align: right;\">\n",
       "      <th></th>\n",
       "      <th>feature</th>\n",
       "      <th>selected</th>\n",
       "      <th>feature_importance</th>\n",
       "    </tr>\n",
       "  </thead>\n",
       "  <tbody>\n",
       "    <tr>\n",
       "      <th>10</th>\n",
       "      <td>age</td>\n",
       "      <td>True</td>\n",
       "      <td>0.211509</td>\n",
       "    </tr>\n",
       "    <tr>\n",
       "      <th>15</th>\n",
       "      <td>country_of_res</td>\n",
       "      <td>True</td>\n",
       "      <td>0.143746</td>\n",
       "    </tr>\n",
       "    <tr>\n",
       "      <th>17</th>\n",
       "      <td>result</td>\n",
       "      <td>True</td>\n",
       "      <td>0.098563</td>\n",
       "    </tr>\n",
       "    <tr>\n",
       "      <th>13</th>\n",
       "      <td>ethnicity</td>\n",
       "      <td>True</td>\n",
       "      <td>0.084800</td>\n",
       "    </tr>\n",
       "    <tr>\n",
       "      <th>18</th>\n",
       "      <td>relation</td>\n",
       "      <td>False</td>\n",
       "      <td>0.044713</td>\n",
       "    </tr>\n",
       "    <tr>\n",
       "      <th>1</th>\n",
       "      <td>A2_Score</td>\n",
       "      <td>False</td>\n",
       "      <td>0.038356</td>\n",
       "    </tr>\n",
       "    <tr>\n",
       "      <th>14</th>\n",
       "      <td>jundice</td>\n",
       "      <td>False</td>\n",
       "      <td>0.038056</td>\n",
       "    </tr>\n",
       "    <tr>\n",
       "      <th>6</th>\n",
       "      <td>A7_Score</td>\n",
       "      <td>False</td>\n",
       "      <td>0.036109</td>\n",
       "    </tr>\n",
       "    <tr>\n",
       "      <th>9</th>\n",
       "      <td>A10_Score</td>\n",
       "      <td>False</td>\n",
       "      <td>0.031899</td>\n",
       "    </tr>\n",
       "    <tr>\n",
       "      <th>3</th>\n",
       "      <td>A4_Score</td>\n",
       "      <td>False</td>\n",
       "      <td>0.031727</td>\n",
       "    </tr>\n",
       "    <tr>\n",
       "      <th>2</th>\n",
       "      <td>A3_Score</td>\n",
       "      <td>False</td>\n",
       "      <td>0.031544</td>\n",
       "    </tr>\n",
       "    <tr>\n",
       "      <th>7</th>\n",
       "      <td>A8_Score</td>\n",
       "      <td>False</td>\n",
       "      <td>0.030521</td>\n",
       "    </tr>\n",
       "    <tr>\n",
       "      <th>5</th>\n",
       "      <td>A6_Score</td>\n",
       "      <td>False</td>\n",
       "      <td>0.028077</td>\n",
       "    </tr>\n",
       "    <tr>\n",
       "      <th>4</th>\n",
       "      <td>A5_Score</td>\n",
       "      <td>False</td>\n",
       "      <td>0.027996</td>\n",
       "    </tr>\n",
       "    <tr>\n",
       "      <th>11</th>\n",
       "      <td>woman</td>\n",
       "      <td>False</td>\n",
       "      <td>0.026176</td>\n",
       "    </tr>\n",
       "    <tr>\n",
       "      <th>12</th>\n",
       "      <td>man</td>\n",
       "      <td>False</td>\n",
       "      <td>0.025253</td>\n",
       "    </tr>\n",
       "    <tr>\n",
       "      <th>0</th>\n",
       "      <td>A1_Score</td>\n",
       "      <td>False</td>\n",
       "      <td>0.024680</td>\n",
       "    </tr>\n",
       "    <tr>\n",
       "      <th>8</th>\n",
       "      <td>A9_Score</td>\n",
       "      <td>False</td>\n",
       "      <td>0.022674</td>\n",
       "    </tr>\n",
       "    <tr>\n",
       "      <th>19</th>\n",
       "      <td>Class/ASD</td>\n",
       "      <td>False</td>\n",
       "      <td>0.016912</td>\n",
       "    </tr>\n",
       "    <tr>\n",
       "      <th>16</th>\n",
       "      <td>used_app_before</td>\n",
       "      <td>False</td>\n",
       "      <td>0.006689</td>\n",
       "    </tr>\n",
       "  </tbody>\n",
       "</table>\n",
       "</div>"
      ],
      "text/plain": [
       "            feature  selected  feature_importance\n",
       "10              age      True            0.211509\n",
       "15   country_of_res      True            0.143746\n",
       "17           result      True            0.098563\n",
       "13        ethnicity      True            0.084800\n",
       "18         relation     False            0.044713\n",
       "1          A2_Score     False            0.038356\n",
       "14          jundice     False            0.038056\n",
       "6          A7_Score     False            0.036109\n",
       "9         A10_Score     False            0.031899\n",
       "3          A4_Score     False            0.031727\n",
       "2          A3_Score     False            0.031544\n",
       "7          A8_Score     False            0.030521\n",
       "5          A6_Score     False            0.028077\n",
       "4          A5_Score     False            0.027996\n",
       "11            woman     False            0.026176\n",
       "12              man     False            0.025253\n",
       "0          A1_Score     False            0.024680\n",
       "8          A9_Score     False            0.022674\n",
       "19        Class/ASD     False            0.016912\n",
       "16  used_app_before     False            0.006689"
      ]
     },
     "execution_count": 127,
     "metadata": {},
     "output_type": "execute_result"
    }
   ],
   "source": [
    "dt_fi = pd.DataFrame({'feature': ASD_features, \n",
    "                      'selected': selection2.get_support(),  \n",
    "                      'feature_importance': selection2.estimator_.feature_importances_})\n",
    "dt_fi.sort_values(by='feature_importance', ascending=False)"
   ]
  },
  {
   "cell_type": "markdown",
   "metadata": {},
   "source": [
    "Segun RandomForest las **caracteristicas mas importantes a utilizar son**: age, country_of_res, result y ethnicity."
   ]
  },
  {
   "cell_type": "code",
   "execution_count": 128,
   "metadata": {},
   "outputs": [],
   "source": [
    "eliminar_integrados_rforest=np.array(['A5_Score','A1_Score','Class/ASD','used_app_before','man','A6_Score','woman','A3_Score','A7_Score','A9_Score','A8_Score','relation','A4_Score','A10_Score','jundice','A2_Score'])"
   ]
  },
  {
   "cell_type": "markdown",
   "metadata": {},
   "source": [
    "### Métodos híbridos - Eliminación recursiva de características (Scikit)"
   ]
  },
  {
   "cell_type": "markdown",
   "metadata": {},
   "source": [
    "Este método usa por un lado la **importancia de características** para elegir la peor característica a eliminar y por otro lado, vuelve a entrenar el modelo en cada iteración para recalcular las importancias."
   ]
  },
  {
   "cell_type": "code",
   "execution_count": 129,
   "metadata": {},
   "outputs": [
    {
     "data": {
      "text/plain": [
       "RFE(estimator=DecisionTreeClassifier(random_state=1234))"
      ]
     },
     "execution_count": 129,
     "metadata": {},
     "output_type": "execute_result"
    }
   ],
   "source": [
    "from sklearn.feature_selection import RFE\n",
    "\n",
    "dt = DecisionTreeClassifier(random_state=1234)\n",
    "\n",
    "selector = RFE(dt)\n",
    "\n",
    "selector.fit(dataframe_final, y_ASD)"
   ]
  },
  {
   "cell_type": "markdown",
   "metadata": {},
   "source": [
    "En el campo `support_` se almacena un índice de las características que se obtienen como mejores."
   ]
  },
  {
   "cell_type": "code",
   "execution_count": 130,
   "metadata": {},
   "outputs": [
    {
     "data": {
      "text/plain": [
       "array([False,  True, False,  True, False, False, False, False, False,\n",
       "        True,  True,  True, False,  True,  True,  True, False,  True,\n",
       "        True, False])"
      ]
     },
     "execution_count": 130,
     "metadata": {},
     "output_type": "execute_result"
    }
   ],
   "source": [
    "selector.support_"
   ]
  },
  {
   "cell_type": "code",
   "execution_count": 131,
   "metadata": {},
   "outputs": [
    {
     "data": {
      "text/plain": [
       "array([11,  1,  6,  1,  8,  4,  2,  3,  5,  1,  1,  1, 10,  1,  1,  1,  7,\n",
       "        1,  1,  9])"
      ]
     },
     "execution_count": 131,
     "metadata": {},
     "output_type": "execute_result"
    }
   ],
   "source": [
    "selector.ranking_"
   ]
  },
  {
   "cell_type": "code",
   "execution_count": 132,
   "metadata": {},
   "outputs": [
    {
     "data": {
      "text/plain": [
       "Index(['A2_Score', 'A4_Score', 'A10_Score', 'age', 'woman', 'ethnicity',\n",
       "       'jundice', 'country_of_res', 'result', 'relation'],\n",
       "      dtype='object')"
      ]
     },
     "execution_count": 132,
     "metadata": {},
     "output_type": "execute_result"
    }
   ],
   "source": [
    "dataframe_final.columns[selector.support_]"
   ]
  },
  {
   "cell_type": "markdown",
   "metadata": {},
   "source": [
    "Utilizando el **metodo hibrido por eliminacion recursiva las mejores caracteristicas seleccionadas son**:\n",
    "'A2_Score', 'A4_Score', 'A10_Score', 'age', 'woman', 'ethnicity','jundice', 'country_of_res', 'result', 'relation'."
   ]
  },
  {
   "cell_type": "code",
   "execution_count": 133,
   "metadata": {},
   "outputs": [],
   "source": [
    "eliminar_hybrida_recursiva=np.array(['A5_Score','A1_Score','Class/ASD','used_app_before','man','A6_Score','A3_Score','A7_Score', 'A8_Score', 'A9_Score'])"
   ]
  },
  {
   "cell_type": "markdown",
   "metadata": {},
   "source": [
    "### Métodos híbridos - Selección de características por permutación"
   ]
  },
  {
   "cell_type": "markdown",
   "metadata": {},
   "source": [
    "**Metodo robusto y con un equilibrio razonable entre coste computacional y resultado**:\n",
    "- entrenamos un modelo base y calculamos el error base del modelo con todas las caracteristicas\n",
    "- para cada caracteristica de conjunto de test: permutamos su valores (anadimos ruido y rompemos cualcuier tipo de relacion que pudiese existir entre esa variable y la variable respuesta) y calculamos las predicciones \n",
    "- definimos la importancia de la caracteristica como la diferencia en el error cometido (o en el rendimiento)\n",
    "- a mayor deterioro en la capacidad predictiva del modelo con una variable permutada, mayor serà la importancia de esa variable"
   ]
  },
  {
   "cell_type": "code",
   "execution_count": 134,
   "metadata": {
    "scrolled": true
   },
   "outputs": [
    {
     "data": {
      "text/plain": [
       "0.5998863313441318"
      ]
     },
     "execution_count": 134,
     "metadata": {},
     "output_type": "execute_result"
    }
   ],
   "source": [
    "from sklearn.metrics import balanced_accuracy_score\n",
    "from sklearn.model_selection import train_test_split\n",
    "\n",
    "X_train, X_test, y_train, y_test = train_test_split(dataframe_final, y_ASD, stratify=y_ASD, random_state=12)\n",
    "\n",
    "\n",
    "base_model = DecisionTreeClassifier(random_state=1234)\n",
    "base_model.fit(X_train, y_train)\n",
    "base_score = balanced_accuracy_score(base_model.predict(X_test), y_test)   #evaluacion del rendimiento utilizando la media\n",
    "base_score                                                                 #de las sensibilidades en las dos clases"
   ]
  },
  {
   "cell_type": "markdown",
   "metadata": {},
   "source": [
    "Utilizamos `permutation_importance` de scikit-learn que hace directamente N permutaciones para cada variable."
   ]
  },
  {
   "cell_type": "code",
   "execution_count": 137,
   "metadata": {},
   "outputs": [],
   "source": [
    "from sklearn.inspection import permutation_importance\n",
    "r = permutation_importance(base_model, X_test, y_test, n_repeats=50, random_state=1234, scoring='balanced_accuracy')"
   ]
  },
  {
   "cell_type": "code",
   "execution_count": 138,
   "metadata": {},
   "outputs": [
    {
     "data": {
      "text/html": [
       "<div>\n",
       "<style scoped>\n",
       "    .dataframe tbody tr th:only-of-type {\n",
       "        vertical-align: middle;\n",
       "    }\n",
       "\n",
       "    .dataframe tbody tr th {\n",
       "        vertical-align: top;\n",
       "    }\n",
       "\n",
       "    .dataframe thead th {\n",
       "        text-align: right;\n",
       "    }\n",
       "</style>\n",
       "<table border=\"1\" class=\"dataframe\">\n",
       "  <thead>\n",
       "    <tr style=\"text-align: right;\">\n",
       "      <th></th>\n",
       "      <th>feature</th>\n",
       "      <th>feature_importance</th>\n",
       "    </tr>\n",
       "  </thead>\n",
       "  <tbody>\n",
       "    <tr>\n",
       "      <th>10</th>\n",
       "      <td>age</td>\n",
       "      <td>0.058113</td>\n",
       "    </tr>\n",
       "    <tr>\n",
       "      <th>13</th>\n",
       "      <td>ethnicity</td>\n",
       "      <td>0.037090</td>\n",
       "    </tr>\n",
       "    <tr>\n",
       "      <th>18</th>\n",
       "      <td>relation</td>\n",
       "      <td>0.029488</td>\n",
       "    </tr>\n",
       "    <tr>\n",
       "      <th>15</th>\n",
       "      <td>country_of_res</td>\n",
       "      <td>0.022393</td>\n",
       "    </tr>\n",
       "    <tr>\n",
       "      <th>11</th>\n",
       "      <td>woman</td>\n",
       "      <td>0.019443</td>\n",
       "    </tr>\n",
       "    <tr>\n",
       "      <th>3</th>\n",
       "      <td>A4_Score</td>\n",
       "      <td>0.018514</td>\n",
       "    </tr>\n",
       "    <tr>\n",
       "      <th>9</th>\n",
       "      <td>A10_Score</td>\n",
       "      <td>0.017101</td>\n",
       "    </tr>\n",
       "    <tr>\n",
       "      <th>0</th>\n",
       "      <td>A1_Score</td>\n",
       "      <td>0.015391</td>\n",
       "    </tr>\n",
       "    <tr>\n",
       "      <th>7</th>\n",
       "      <td>A8_Score</td>\n",
       "      <td>0.011208</td>\n",
       "    </tr>\n",
       "    <tr>\n",
       "      <th>4</th>\n",
       "      <td>A5_Score</td>\n",
       "      <td>0.007999</td>\n",
       "    </tr>\n",
       "    <tr>\n",
       "      <th>17</th>\n",
       "      <td>result</td>\n",
       "      <td>0.002344</td>\n",
       "    </tr>\n",
       "    <tr>\n",
       "      <th>5</th>\n",
       "      <td>A6_Score</td>\n",
       "      <td>0.001949</td>\n",
       "    </tr>\n",
       "    <tr>\n",
       "      <th>1</th>\n",
       "      <td>A2_Score</td>\n",
       "      <td>0.000784</td>\n",
       "    </tr>\n",
       "    <tr>\n",
       "      <th>16</th>\n",
       "      <td>used_app_before</td>\n",
       "      <td>0.000261</td>\n",
       "    </tr>\n",
       "    <tr>\n",
       "      <th>8</th>\n",
       "      <td>A9_Score</td>\n",
       "      <td>0.000000</td>\n",
       "    </tr>\n",
       "    <tr>\n",
       "      <th>6</th>\n",
       "      <td>A7_Score</td>\n",
       "      <td>0.000000</td>\n",
       "    </tr>\n",
       "    <tr>\n",
       "      <th>19</th>\n",
       "      <td>Class/ASD</td>\n",
       "      <td>0.000000</td>\n",
       "    </tr>\n",
       "    <tr>\n",
       "      <th>14</th>\n",
       "      <td>jundice</td>\n",
       "      <td>-0.001236</td>\n",
       "    </tr>\n",
       "    <tr>\n",
       "      <th>12</th>\n",
       "      <td>man</td>\n",
       "      <td>-0.001830</td>\n",
       "    </tr>\n",
       "    <tr>\n",
       "      <th>2</th>\n",
       "      <td>A3_Score</td>\n",
       "      <td>-0.017107</td>\n",
       "    </tr>\n",
       "  </tbody>\n",
       "</table>\n",
       "</div>"
      ],
      "text/plain": [
       "            feature  feature_importance\n",
       "10              age            0.058113\n",
       "13        ethnicity            0.037090\n",
       "18         relation            0.029488\n",
       "15   country_of_res            0.022393\n",
       "11            woman            0.019443\n",
       "3          A4_Score            0.018514\n",
       "9         A10_Score            0.017101\n",
       "0          A1_Score            0.015391\n",
       "7          A8_Score            0.011208\n",
       "4          A5_Score            0.007999\n",
       "17           result            0.002344\n",
       "5          A6_Score            0.001949\n",
       "1          A2_Score            0.000784\n",
       "16  used_app_before            0.000261\n",
       "8          A9_Score            0.000000\n",
       "6          A7_Score            0.000000\n",
       "19        Class/ASD            0.000000\n",
       "14          jundice           -0.001236\n",
       "12              man           -0.001830\n",
       "2          A3_Score           -0.017107"
      ]
     },
     "execution_count": 138,
     "metadata": {},
     "output_type": "execute_result"
    }
   ],
   "source": [
    "dt_fi = pd.DataFrame({'feature':ASD_features, 'feature_importance': r.importances_mean})\n",
    "dt_fi.sort_values(by='feature_importance', ascending=False)"
   ]
  },
  {
   "cell_type": "markdown",
   "metadata": {},
   "source": [
    "Observamos que **permutando algunas de las variables el rendimento aumenta (feature importance negativa)**. En particular para seleccionar las caracteristicas debemos mirar las variables que salen mas importantes. Es decir, tiene sentido quitar las ultimas variables menos importantes correspondientes a las que tienen importancia nula o negativa."
   ]
  },
  {
   "cell_type": "code",
   "execution_count": 140,
   "metadata": {},
   "outputs": [],
   "source": [
    "eliminar_hybridos_perm=np.array(['A3_Score','A7_Score','man','jundice','Class/ASD','used_app_before', 'A9_Score'])"
   ]
  },
  {
   "cell_type": "markdown",
   "metadata": {},
   "source": [
    "### **Conclusiones selecion caracteristicas**"
   ]
  },
  {
   "cell_type": "markdown",
   "metadata": {},
   "source": [
    "Hacemos una **interseccion de todos los array de variables candidadas a eliminacion** para veer si hay algunas despreciadas de todos los metodos."
   ]
  },
  {
   "cell_type": "code",
   "execution_count": 141,
   "metadata": {},
   "outputs": [
    {
     "data": {
      "text/plain": [
       "array(['A7_Score', 'used_app_before'], dtype='<U15')"
      ]
     },
     "execution_count": 141,
     "metadata": {},
     "output_type": "execute_result"
    }
   ],
   "source": [
    "from functools import reduce  #reduce es necesario para hacer la interseccin entre mas de dos arrays\n",
    "\n",
    "reduce(np.intersect1d,(eliminar_hybridos_perm,eliminar_corr,eliminar_envoltura,eliminar_integrados_tree,eliminar_integrados_rforest,eliminar_hybrida_recursiva))"
   ]
  },
  {
   "cell_type": "markdown",
   "metadata": {},
   "source": [
    "Seguramente eliminamos las variables **used_app_before** y **A7_Score**. Sin embargo, miramos todos los arrays para tener una idea mas clara:"
   ]
  },
  {
   "cell_type": "code",
   "execution_count": 142,
   "metadata": {
    "scrolled": true
   },
   "outputs": [
    {
     "name": "stdout",
     "output_type": "stream",
     "text": [
      "['A3_Score' 'A7_Score' 'man' 'jundice' 'Class/ASD' 'used_app_before'\n",
      " 'A9_Score'] \n",
      "\n",
      " ['A8_Score' 'country_of_res' 'used_app_before' 'A7_Score' 'ethnicity'] \n",
      "\n",
      " ['A1_Score' 'A5_Score' 'A7_Score' 'A8_Score' 'A10_Score' 'man'\n",
      " 'country_of_res' 'used_app_before'] \n",
      "\n",
      " ['A5_Score' 'A1_Score' 'Class/ASD' 'used_app_before' 'man' 'A6_Score'\n",
      " 'woman' 'A3_Score' 'A7_Score' 'A9_Score' 'A8_Score' 'relation' 'A4_Score'\n",
      " 'A10_Score' 'jundice'] \n",
      "\n",
      " ['A5_Score' 'A1_Score' 'Class/ASD' 'used_app_before' 'man' 'A6_Score'\n",
      " 'woman' 'A3_Score' 'A7_Score' 'A9_Score' 'A8_Score' 'relation' 'A4_Score'\n",
      " 'A10_Score' 'jundice' 'A2_Score'] \n",
      "\n",
      " ['A5_Score' 'A1_Score' 'Class/ASD' 'used_app_before' 'man' 'A6_Score'\n",
      " 'A3_Score' 'A7_Score' 'A8_Score' 'A9_Score']\n"
     ]
    }
   ],
   "source": [
    "print(eliminar_hybridos_perm,\"\\n\\n\",eliminar_corr,\"\\n\\n\",eliminar_envoltura,\"\\n\\n\",eliminar_integrados_tree,\"\\n\\n\",eliminar_integrados_rforest,\"\\n\\n\",eliminar_hybrida_recursiva)"
   ]
  },
  {
   "cell_type": "code",
   "execution_count": 143,
   "metadata": {},
   "outputs": [
    {
     "data": {
      "text/plain": [
       "(array(['A10_Score', 'A1_Score', 'A2_Score', 'A3_Score', 'A4_Score',\n",
       "        'A5_Score', 'A6_Score', 'A7_Score', 'A8_Score', 'A9_Score',\n",
       "        'Class/ASD', 'country_of_res', 'ethnicity', 'jundice', 'man',\n",
       "        'relation', 'used_app_before', 'woman'], dtype='<U15'),\n",
       " array([3, 4, 1, 4, 2, 4, 3, 6, 5, 4, 4, 2, 1, 3, 5, 2, 6, 2], dtype=int64))"
      ]
     },
     "execution_count": 143,
     "metadata": {},
     "output_type": "execute_result"
    }
   ],
   "source": [
    "eliminar=np.concatenate((eliminar_hybridos_perm,eliminar_corr,eliminar_envoltura,eliminar_integrados_tree,eliminar_integrados_rforest,eliminar_hybrida_recursiva))\n",
    "#concatenamos para contar con unique el numero de veces que aparece cada termino\n",
    "np.unique(eliminar,return_counts=True)"
   ]
  },
  {
   "cell_type": "markdown",
   "metadata": {},
   "source": [
    "Sabiendo que tenemos 6 arrays de variables candidadas, notamos como antes que **used_app_before y A7_Score** son despreciadas de todos los metodos. Ademas notamos que hay variables despreciadas de 5 metodo de 6: **man y A8_Score**.\n",
    "Entonces nuestra conclusion seria de quitar estas 4 variables."
   ]
  },
  {
   "cell_type": "code",
   "execution_count": 144,
   "metadata": {},
   "outputs": [],
   "source": [
    "dataframe_reducido= dataframe_final.drop(['used_app_before','A7_Score','A8_Score','man'], axis=1)\n",
    "X_reducido=np.array(dataframe_reducido)"
   ]
  },
  {
   "cell_type": "code",
   "execution_count": 145,
   "metadata": {},
   "outputs": [
    {
     "data": {
      "text/html": [
       "<div>\n",
       "<style scoped>\n",
       "    .dataframe tbody tr th:only-of-type {\n",
       "        vertical-align: middle;\n",
       "    }\n",
       "\n",
       "    .dataframe tbody tr th {\n",
       "        vertical-align: top;\n",
       "    }\n",
       "\n",
       "    .dataframe thead th {\n",
       "        text-align: right;\n",
       "    }\n",
       "</style>\n",
       "<table border=\"1\" class=\"dataframe\">\n",
       "  <thead>\n",
       "    <tr style=\"text-align: right;\">\n",
       "      <th></th>\n",
       "      <th>A1_Score</th>\n",
       "      <th>A2_Score</th>\n",
       "      <th>A3_Score</th>\n",
       "      <th>A4_Score</th>\n",
       "      <th>A5_Score</th>\n",
       "      <th>A6_Score</th>\n",
       "      <th>A9_Score</th>\n",
       "      <th>A10_Score</th>\n",
       "      <th>age</th>\n",
       "      <th>woman</th>\n",
       "      <th>ethnicity</th>\n",
       "      <th>jundice</th>\n",
       "      <th>country_of_res</th>\n",
       "      <th>result</th>\n",
       "      <th>relation</th>\n",
       "      <th>Class/ASD</th>\n",
       "    </tr>\n",
       "  </thead>\n",
       "  <tbody>\n",
       "    <tr>\n",
       "      <th>0</th>\n",
       "      <td>1.0</td>\n",
       "      <td>1.0</td>\n",
       "      <td>1.0</td>\n",
       "      <td>1.0</td>\n",
       "      <td>0.0</td>\n",
       "      <td>0.0</td>\n",
       "      <td>0.0</td>\n",
       "      <td>0.0</td>\n",
       "      <td>0.191489</td>\n",
       "      <td>1.0</td>\n",
       "      <td>1.0</td>\n",
       "      <td>0.0</td>\n",
       "      <td>0.000000</td>\n",
       "      <td>6.0</td>\n",
       "      <td>1.0</td>\n",
       "      <td>0.0</td>\n",
       "    </tr>\n",
       "    <tr>\n",
       "      <th>1</th>\n",
       "      <td>1.0</td>\n",
       "      <td>1.0</td>\n",
       "      <td>0.0</td>\n",
       "      <td>1.0</td>\n",
       "      <td>0.0</td>\n",
       "      <td>0.0</td>\n",
       "      <td>0.0</td>\n",
       "      <td>1.0</td>\n",
       "      <td>0.148936</td>\n",
       "      <td>0.0</td>\n",
       "      <td>7.0</td>\n",
       "      <td>0.0</td>\n",
       "      <td>0.181818</td>\n",
       "      <td>5.0</td>\n",
       "      <td>1.0</td>\n",
       "      <td>0.0</td>\n",
       "    </tr>\n",
       "    <tr>\n",
       "      <th>2</th>\n",
       "      <td>1.0</td>\n",
       "      <td>1.0</td>\n",
       "      <td>0.0</td>\n",
       "      <td>1.0</td>\n",
       "      <td>1.0</td>\n",
       "      <td>0.0</td>\n",
       "      <td>1.0</td>\n",
       "      <td>1.0</td>\n",
       "      <td>0.212766</td>\n",
       "      <td>0.0</td>\n",
       "      <td>7.0</td>\n",
       "      <td>1.0</td>\n",
       "      <td>0.363636</td>\n",
       "      <td>8.0</td>\n",
       "      <td>2.0</td>\n",
       "      <td>1.0</td>\n",
       "    </tr>\n",
       "    <tr>\n",
       "      <th>3</th>\n",
       "      <td>1.0</td>\n",
       "      <td>1.0</td>\n",
       "      <td>0.0</td>\n",
       "      <td>1.0</td>\n",
       "      <td>0.0</td>\n",
       "      <td>0.0</td>\n",
       "      <td>0.0</td>\n",
       "      <td>1.0</td>\n",
       "      <td>0.382979</td>\n",
       "      <td>1.0</td>\n",
       "      <td>1.0</td>\n",
       "      <td>0.0</td>\n",
       "      <td>0.000000</td>\n",
       "      <td>6.0</td>\n",
       "      <td>1.0</td>\n",
       "      <td>0.0</td>\n",
       "    </tr>\n",
       "    <tr>\n",
       "      <th>4</th>\n",
       "      <td>1.0</td>\n",
       "      <td>0.0</td>\n",
       "      <td>0.0</td>\n",
       "      <td>0.0</td>\n",
       "      <td>0.0</td>\n",
       "      <td>0.0</td>\n",
       "      <td>0.0</td>\n",
       "      <td>0.0</td>\n",
       "      <td>0.489362</td>\n",
       "      <td>1.0</td>\n",
       "      <td>1.0</td>\n",
       "      <td>0.0</td>\n",
       "      <td>0.393939</td>\n",
       "      <td>2.0</td>\n",
       "      <td>1.0</td>\n",
       "      <td>0.0</td>\n",
       "    </tr>\n",
       "  </tbody>\n",
       "</table>\n",
       "</div>"
      ],
      "text/plain": [
       "   A1_Score  A2_Score  A3_Score  A4_Score  A5_Score  A6_Score  A9_Score  \\\n",
       "0       1.0       1.0       1.0       1.0       0.0       0.0       0.0   \n",
       "1       1.0       1.0       0.0       1.0       0.0       0.0       0.0   \n",
       "2       1.0       1.0       0.0       1.0       1.0       0.0       1.0   \n",
       "3       1.0       1.0       0.0       1.0       0.0       0.0       0.0   \n",
       "4       1.0       0.0       0.0       0.0       0.0       0.0       0.0   \n",
       "\n",
       "   A10_Score       age  woman  ethnicity  jundice  country_of_res  result  \\\n",
       "0        0.0  0.191489    1.0        1.0      0.0        0.000000     6.0   \n",
       "1        1.0  0.148936    0.0        7.0      0.0        0.181818     5.0   \n",
       "2        1.0  0.212766    0.0        7.0      1.0        0.363636     8.0   \n",
       "3        1.0  0.382979    1.0        1.0      0.0        0.000000     6.0   \n",
       "4        0.0  0.489362    1.0        1.0      0.0        0.393939     2.0   \n",
       "\n",
       "   relation  Class/ASD  \n",
       "0       1.0        0.0  \n",
       "1       1.0        0.0  \n",
       "2       2.0        1.0  \n",
       "3       1.0        0.0  \n",
       "4       1.0        0.0  "
      ]
     },
     "execution_count": 145,
     "metadata": {},
     "output_type": "execute_result"
    }
   ],
   "source": [
    "dataframe_reducido.head()"
   ]
  },
  {
   "cell_type": "markdown",
   "metadata": {},
   "source": [
    "## Reducción de la dimensionalidad con Análisis de componentes principales"
   ]
  },
  {
   "cell_type": "markdown",
   "metadata": {},
   "source": [
    "Aunque la mayoria de la variable son categoricas o binarias, realizamos un análisis de componentes principales en Scikit-learn utilizando la clase **PCA** de la librería decomposition."
   ]
  },
  {
   "cell_type": "code",
   "execution_count": 146,
   "metadata": {},
   "outputs": [],
   "source": [
    "from sklearn.decomposition import PCA"
   ]
  },
  {
   "cell_type": "markdown",
   "metadata": {},
   "source": [
    "El número de componentes que queremos dejar en el resultado se puede indicar como valor del parámetro `n_components`. En este caso hemos dejado el valor 20 para ver la **importancia relativa que tiene cada una de las componentes obtenidas**."
   ]
  },
  {
   "cell_type": "code",
   "execution_count": 148,
   "metadata": {},
   "outputs": [
    {
     "data": {
      "text/plain": [
       "PCA(n_components=20)"
      ]
     },
     "execution_count": 148,
     "metadata": {},
     "output_type": "execute_result"
    }
   ],
   "source": [
    "pca = PCA(n_components=20)\n",
    "\n",
    "pca.fit(X)  #hacemos pca sobre todo el conjunto original con las 20 variables"
   ]
  },
  {
   "cell_type": "markdown",
   "metadata": {},
   "source": [
    "Los autovalores asociados a las componentes principales, es decir, el grado de importancia de estas componentes, se almacenan en el campo `explained_variance_`"
   ]
  },
  {
   "cell_type": "code",
   "execution_count": 149,
   "metadata": {},
   "outputs": [
    {
     "data": {
      "text/plain": [
       "array([7.11544049e+00, 4.34414673e+00, 5.15997771e-01, 3.65366707e-01,\n",
       "       2.81600849e-01, 2.38493993e-01, 2.05162498e-01, 1.90408491e-01,\n",
       "       1.84140993e-01, 1.55670573e-01, 1.45112836e-01, 1.42423930e-01,\n",
       "       1.07007924e-01, 8.66114992e-02, 5.47381088e-02, 3.99083886e-02,\n",
       "       3.17316696e-02, 1.61806943e-02, 5.17195355e-31, 7.70009561e-33])"
      ]
     },
     "execution_count": 149,
     "metadata": {},
     "output_type": "execute_result"
    }
   ],
   "source": [
    "pca.explained_variance_"
   ]
  },
  {
   "cell_type": "markdown",
   "metadata": {},
   "source": [
    "Las **componentes principales**, es decir, los autovectores de la matriz de covarianzas, se almacenan en el campo `components_`"
   ]
  },
  {
   "cell_type": "code",
   "execution_count": 150,
   "metadata": {},
   "outputs": [
    {
     "data": {
      "text/plain": [
       "array([[ 6.45014944e-02,  7.19752331e-02,  1.03789002e-01,\n",
       "         1.10311909e-01,  1.19010968e-01,  1.07353804e-01,\n",
       "         8.32875066e-02,  5.36056955e-02,  1.17146037e-01,\n",
       "         9.97025101e-02,  8.69710747e-03,  1.01744839e-02,\n",
       "        -1.01744839e-02, -1.52047221e-01,  1.12992246e-02,\n",
       "         1.58196414e-03,  3.56215868e-04,  9.30684159e-01,\n",
       "         4.49289765e-03,  1.37226476e-01],\n",
       "       [ 1.88057630e-02,  1.40709054e-02,  6.30651628e-03,\n",
       "         1.07979959e-02,  2.79321562e-02,  8.94551919e-03,\n",
       "         9.64904721e-03,  3.46465022e-02,  8.15552359e-03,\n",
       "         6.09830405e-03, -9.38111425e-03, -1.49429846e-02,\n",
       "         1.49429846e-02,  9.87205476e-01, -4.45066780e-03,\n",
       "         2.23105487e-03,  2.95063526e-03,  1.45408233e-01,\n",
       "         2.01877831e-02,  1.84589875e-02],\n",
       "       [-4.95396475e-02, -2.30790102e-02,  2.43660664e-02,\n",
       "        -3.01572938e-02, -2.18777268e-02, -2.59242559e-02,\n",
       "         7.57221106e-02,  6.16318571e-02,  3.69790027e-02,\n",
       "        -3.40867721e-02, -5.11484851e-03, -6.77844893e-01,\n",
       "         6.77844893e-01, -2.78269209e-02,  2.52705809e-03,\n",
       "         5.65448422e-03, -5.15710897e-03,  1.40343306e-02,\n",
       "         2.47774820e-01, -2.99242008e-02],\n",
       "       [-1.29736649e-01,  2.69856684e-01,  1.57826068e-01,\n",
       "         1.03777448e-01, -4.37180678e-02,  1.40397366e-01,\n",
       "        -2.66278725e-01, -2.14667900e-01,  9.06682643e-02,\n",
       "        -1.32038053e-01,  3.81170302e-02,  1.28946360e-01,\n",
       "        -1.28946360e-01, -2.33921046e-03,  6.69441944e-02,\n",
       "         1.60287596e-02,  1.24109739e-02, -2.39135641e-02,\n",
       "         8.18548991e-01,  1.42587635e-02],\n",
       "       [ 2.89080649e-01, -3.94327463e-01, -4.21691664e-01,\n",
       "        -2.75964071e-01, -7.01178693e-03,  5.06451281e-02,\n",
       "         4.11981932e-01,  2.05455770e-01, -3.90650306e-02,\n",
       "         1.97408872e-01, -2.78301675e-02,  1.08204394e-01,\n",
       "        -1.08204394e-01, -1.53113177e-02, -5.83607004e-03,\n",
       "        -8.77028245e-03, -1.21168681e-02,  1.65123345e-02,\n",
       "         4.75956361e-01, -2.04043028e-02],\n",
       "       [-1.11162079e-01, -5.03741384e-01,  1.85741807e-01,\n",
       "         3.51737460e-01,  1.45515165e-01,  4.88814541e-02,\n",
       "         2.80792352e-01, -6.63203114e-01,  5.81607954e-02,\n",
       "         1.59355914e-01,  1.97000867e-02, -1.20120634e-02,\n",
       "         1.20120634e-02,  2.51931521e-02, -2.50894266e-02,\n",
       "         1.02265418e-02,  1.41552690e-02, -4.79216285e-02,\n",
       "         7.16395726e-03,  7.14028348e-03],\n",
       "       [-4.94463122e-01,  1.77621351e-01, -3.32336650e-01,\n",
       "        -3.66393530e-01,  2.36896052e-01,  3.00642696e-01,\n",
       "        -9.62242172e-02, -1.68962383e-01,  2.40187724e-01,\n",
       "         4.69917576e-01,  6.51303146e-03, -2.85956321e-02,\n",
       "         2.85956321e-02,  1.03503365e-02,  3.15903134e-02,\n",
       "         2.94167945e-02,  4.99307330e-03, -3.31145037e-02,\n",
       "        -8.82797727e-02,  6.22583004e-02],\n",
       "       [ 1.71947857e-01,  6.04913655e-01, -1.11258463e-01,\n",
       "        -1.22401783e-01, -1.69355900e-01, -2.37563703e-01,\n",
       "         4.83810171e-01, -4.40890539e-01, -2.19086748e-01,\n",
       "         7.12596041e-02,  1.04939097e-02, -1.17916453e-02,\n",
       "         1.17916453e-02,  6.53292040e-03,  4.82881948e-02,\n",
       "        -2.73841859e-03, -1.74233348e-02,  3.13741506e-02,\n",
       "        -2.41138823e-02, -7.65612165e-02],\n",
       "       [ 1.93533617e-01,  4.60940907e-02, -2.34976702e-01,\n",
       "        -1.64677180e-01,  5.03448147e-01,  1.75467496e-01,\n",
       "         9.23803270e-02, -1.96178460e-01,  2.35983067e-01,\n",
       "        -6.80797253e-01, -7.46710584e-03, -1.68813260e-02,\n",
       "         1.68813260e-02, -6.13621989e-03, -3.72701078e-02,\n",
       "         7.16504018e-03,  1.34437964e-02, -2.97228517e-02,\n",
       "        -7.38168642e-02,  1.37944439e-01],\n",
       "       [-6.73850128e-01,  1.95977953e-02,  1.21481749e-01,\n",
       "         6.13856286e-02, -2.34602392e-02,  2.14701361e-02,\n",
       "         5.53388971e-01,  3.09222390e-01, -8.62884219e-02,\n",
       "        -3.08457052e-01, -1.29331789e-02,  8.21259700e-02,\n",
       "        -8.21259700e-02,  3.02599900e-05,  7.18568619e-02,\n",
       "         1.42367555e-02,  1.21843394e-02, -5.50917141e-03,\n",
       "         3.92417960e-02,  2.85280061e-02],\n",
       "       [-8.82432266e-02,  6.07147888e-02, -9.21621861e-02,\n",
       "         1.73873024e-01,  6.98885555e-01, -3.25606188e-01,\n",
       "        -1.23830346e-01,  9.37257482e-02, -5.09175777e-01,\n",
       "         1.30827416e-01, -6.54711410e-02, -4.74222929e-04,\n",
       "         4.74222929e-04, -1.85204936e-02, -9.19408155e-03,\n",
       "        -8.25326838e-03, -3.08202565e-02,  1.90088071e-02,\n",
       "         1.24951494e-01, -1.82043430e-01],\n",
       "       [ 5.52405371e-02, -1.06853464e-01,  6.76514019e-01,\n",
       "        -6.88195516e-01,  1.78937194e-01, -6.74392229e-02,\n",
       "         4.18228489e-02, -4.91810862e-02, -7.70610431e-02,\n",
       "         4.05808341e-02, -2.62482803e-02,  2.94404936e-02,\n",
       "        -2.94404936e-02,  6.24243031e-04, -3.76929594e-02,\n",
       "        -2.68267106e-04,  6.13758676e-03,  4.36510173e-03,\n",
       "         3.33050714e-02, -3.02852831e-02],\n",
       "       [ 8.21437993e-02,  1.48961097e-03,  2.51126264e-02,\n",
       "        -1.14598813e-03, -7.97390275e-02,  7.50264510e-01,\n",
       "        -2.49475794e-02, -5.18663960e-02, -6.35487510e-01,\n",
       "        -5.53258860e-02, -1.91610243e-02, -4.79114274e-02,\n",
       "         4.79114274e-02,  1.88546318e-04,  4.24846699e-02,\n",
       "         8.69329358e-03,  2.16666071e-02,  1.04981588e-02,\n",
       "        -7.26747765e-02, -2.11009919e-02],\n",
       "       [ 7.22064428e-02, -7.16724916e-02,  1.35348865e-02,\n",
       "        -1.87059527e-02,  5.17477939e-02, -5.77929433e-02,\n",
       "        -2.78758011e-02,  4.85082943e-03, -3.12813085e-04,\n",
       "         8.61172933e-03,  1.34504800e-01, -1.16480229e-02,\n",
       "         1.16480229e-02,  6.62897743e-03,  9.73073399e-01,\n",
       "         4.14107055e-02,  1.22266515e-02, -2.54083197e-02,\n",
       "        -4.46983856e-02,  1.11520960e-01],\n",
       "       [-1.47384624e-02, -2.47504013e-02, -1.70579072e-02,\n",
       "        -1.89907943e-02, -1.84370409e-02,  1.24907843e-01,\n",
       "         7.40302489e-04, -2.27996777e-02,  2.05436067e-01,\n",
       "        -9.60637716e-02, -1.38260782e-01,  2.01743212e-02,\n",
       "        -2.01743212e-02,  1.02780617e-03,  1.37646676e-01,\n",
       "        -2.93059308e-02, -2.93740649e-03,  1.18246157e-01,\n",
       "        -4.56849136e-02, -9.35312587e-01],\n",
       "       [-1.37156424e-02, -1.05809916e-02, -9.31023161e-03,\n",
       "        -2.39017596e-02,  4.13843494e-02,  1.95055945e-02,\n",
       "         1.48498859e-02,  2.98746043e-02, -2.16737586e-02,\n",
       "        -1.20500731e-02,  9.29588503e-01, -9.52994833e-04,\n",
       "         9.52994833e-04,  8.37219999e-03, -9.90077239e-02,\n",
       "        -3.10144591e-01, -6.94474259e-02,  1.43819772e-02,\n",
       "        -6.73269989e-03, -1.41233293e-01],\n",
       "       [ 2.15600945e-02, -7.36990187e-03, -4.68482155e-03,\n",
       "        -3.07622704e-03,  5.76400956e-03, -1.25584438e-02,\n",
       "         5.45301110e-03,  2.36437050e-02, -1.13887191e-02,\n",
       "        -7.12669404e-03,  2.95088430e-01,  3.87441524e-03,\n",
       "        -3.87441524e-03, -3.63835470e-04, -7.45201010e-02,\n",
       "         9.47540327e-01,  1.80053051e-02,  1.02160127e-02,\n",
       "        -8.20052006e-03, -8.66036170e-02],\n",
       "       [ 1.03618374e-02,  1.03490239e-02, -1.66085612e-02,\n",
       "        -5.00787929e-04,  1.18440603e-02, -3.36367716e-02,\n",
       "         3.33656648e-03,  1.26570740e-02, -1.16249314e-02,\n",
       "         1.73065450e-02,  5.52898649e-02, -3.51635663e-03,\n",
       "         3.51635663e-03, -3.45360885e-03, -1.82877360e-02,\n",
       "        -4.06874893e-02,  9.96013753e-01,  3.48405495e-03,\n",
       "         2.58215763e-03, -2.20451707e-02],\n",
       "       [-2.99925939e-01, -2.99925939e-01, -2.99925939e-01,\n",
       "        -2.99925939e-01, -2.99925939e-01, -2.99925939e-01,\n",
       "        -2.99925939e-01, -2.99925939e-01, -2.99925939e-01,\n",
       "        -2.99925939e-01,  9.85539775e-17, -7.24180403e-02,\n",
       "        -7.24180403e-02,  2.30718222e-16, -2.75712612e-16,\n",
       "        -2.37440276e-16,  1.25659032e-16,  2.99925939e-01,\n",
       "         3.49113100e-17, -1.21430643e-16],\n",
       "       [ 3.08791562e-02,  3.08791562e-02,  3.08791562e-02,\n",
       "         3.08791562e-02,  3.08791562e-02,  3.08791562e-02,\n",
       "         3.08791562e-02,  3.08791562e-02,  3.08791562e-02,\n",
       "         3.08791562e-02,  2.59869708e-18, -7.03388675e-01,\n",
       "        -7.03388675e-01, -2.54787511e-17,  1.55271304e-16,\n",
       "        -6.94973593e-17,  1.48806748e-16, -3.08791562e-02,\n",
       "         7.73036149e-17, -7.28583860e-17]])"
      ]
     },
     "execution_count": 150,
     "metadata": {},
     "output_type": "execute_result"
    }
   ],
   "source": [
    "pca.components_"
   ]
  },
  {
   "cell_type": "markdown",
   "metadata": {},
   "source": [
    "**Porcentaje de variabilidad explicada de cada componente principal**:"
   ]
  },
  {
   "cell_type": "code",
   "execution_count": 151,
   "metadata": {},
   "outputs": [
    {
     "data": {
      "text/plain": [
       "array([5.00377522e-01, 3.05492454e-01, 3.62863952e-02, 2.56936008e-02,\n",
       "       1.98029532e-02, 1.67715595e-02, 1.44275962e-02, 1.33900535e-02,\n",
       "       1.29493056e-02, 1.09471867e-02, 1.02047373e-02, 1.00156460e-02,\n",
       "       7.52509418e-03, 6.09076099e-03, 3.84933572e-03, 2.80646864e-03,\n",
       "       2.23145907e-03, 1.13787133e-03, 3.63706127e-32, 5.41492093e-34])"
      ]
     },
     "execution_count": 151,
     "metadata": {},
     "output_type": "execute_result"
    }
   ],
   "source": [
    "pca.explained_variance_/sum(pca.explained_variance_)"
   ]
  },
  {
   "cell_type": "markdown",
   "metadata": {},
   "source": [
    "**Variabilidad explicada cumulada**:"
   ]
  },
  {
   "cell_type": "code",
   "execution_count": 152,
   "metadata": {},
   "outputs": [
    {
     "data": {
      "text/plain": [
       "array([0.50037752, 0.80586998, 0.84215637, 0.86784997, 0.88765293,\n",
       "       0.90442448, 0.91885208, 0.93224213, 0.94519144, 0.95613863,\n",
       "       0.96634336, 0.97635901, 0.9838841 , 0.98997487, 0.9938242 ,\n",
       "       0.99663067, 0.99886213, 1.        , 1.        , 1.        ])"
      ]
     },
     "execution_count": 152,
     "metadata": {},
     "output_type": "execute_result"
    }
   ],
   "source": [
    "np.cumsum(pca.explained_variance_/sum(pca.explained_variance_))"
   ]
  },
  {
   "cell_type": "markdown",
   "metadata": {},
   "source": [
    "Para **seleccionar el numero de componentes principales** a utilizar, podemos elegir un **umbral minimo de variabilidad explicada** o tambien seleccionar las componentes principales que tienen asociada una **variabilidad mayor de la media**."
   ]
  },
  {
   "cell_type": "code",
   "execution_count": 153,
   "metadata": {},
   "outputs": [
    {
     "data": {
      "text/plain": [
       "array([ 6.40443328,  3.63313952, -0.19500944, -0.3456405 , -0.42940636,\n",
       "       -0.47251321, -0.50584471, -0.52059872, -0.52686621, -0.55533663,\n",
       "       -0.56589437, -0.56858328, -0.60399928, -0.62439571, -0.6562691 ,\n",
       "       -0.67109882, -0.67927554, -0.69482651, -0.71100721, -0.71100721])"
      ]
     },
     "execution_count": 153,
     "metadata": {},
     "output_type": "execute_result"
    }
   ],
   "source": [
    "pca.explained_variance_ - pca.explained_variance_.mean()"
   ]
  },
  {
   "cell_type": "markdown",
   "metadata": {},
   "source": [
    "Dado que con 3 componentes principales explicamos el **84% de la variabilidad de los datos** y la variabilidad de la tercera componente esta poco bajo la media, elegimos de **trabajar con 3 componentes principales**."
   ]
  },
  {
   "cell_type": "code",
   "execution_count": 154,
   "metadata": {},
   "outputs": [],
   "source": [
    "pca = PCA(n_components=3)\n",
    "\n",
    "pca.fit(X)\n",
    "\n",
    "X_pca = pca.transform(X)"
   ]
  },
  {
   "cell_type": "markdown",
   "metadata": {},
   "source": [
    "## Aprendizaje de modelos predictivos (clasificación)"
   ]
  },
  {
   "cell_type": "markdown",
   "metadata": {},
   "source": [
    "Empezamos a entrenar diferentes modelos predictivos sobre los dos conjuntos de datos que tenemos:\n",
    "- **X_reducido**, obtenido a traves de **seleccion de caracteristicas** (16 variables)\n",
    "- **X_pca**, obtenido a traves de **reducion de la dimensionalidad con analisis de componentes principales** (3 variables)"
   ]
  },
  {
   "cell_type": "markdown",
   "metadata": {},
   "source": [
    "### Aprendizaje con Arboles de Clasificacion\n",
    "\n"
   ]
  },
  {
   "cell_type": "markdown",
   "metadata": {},
   "source": [
    "Establecemos un **modelo de base basado en arboles**, para  ambos los conjuntos, investigando la profundidad mas adapta, para fijar un **punto de partida** que sucesivamente ententaremos mejorar en ambos los conjuntos.\n"
   ]
  },
  {
   "cell_type": "code",
   "execution_count": 155,
   "metadata": {},
   "outputs": [
    {
     "name": "stdout",
     "output_type": "stream",
     "text": [
      "Accuracy on training set: 1.000\n",
      "Accuracy on test set: 0.801\n"
     ]
    }
   ],
   "source": [
    "from sklearn.tree import DecisionTreeClassifier\n",
    "from sklearn.model_selection import train_test_split\n",
    "\n",
    "X_train, X_test, y_train, y_test = train_test_split(X_reducido, y_ASD, stratify=y_ASD, random_state=42)\n",
    "tree = DecisionTreeClassifier(random_state=42)\n",
    "tree.fit(X_train, y_train)\n",
    "print(\"Accuracy on training set: {:.3f}\".format(tree.score(X_train, y_train)))\n",
    "print(\"Accuracy on test set: {:.3f}\".format(tree.score(X_test, y_test)))"
   ]
  },
  {
   "cell_type": "markdown",
   "metadata": {},
   "source": [
    "El rendimento sobre el conjunto de test del conjunto **X_reducido** es bueno, pero sobre el conjunto de entrenamiento es 1 entonces hay **sobreajuste**."
   ]
  },
  {
   "cell_type": "code",
   "execution_count": 156,
   "metadata": {},
   "outputs": [
    {
     "name": "stdout",
     "output_type": "stream",
     "text": [
      "Accuracy on training set: 1.000\n",
      "Accuracy on test set: 0.812\n"
     ]
    }
   ],
   "source": [
    "X_pca_train, X_pca_test, y_pca_train, y_pca_test = train_test_split(X_pca, y_ASD, stratify=y_ASD, random_state=42)\n",
    "tree = DecisionTreeClassifier(random_state=42)\n",
    "tree.fit(X_pca_train, y_pca_train)\n",
    "print(\"Accuracy on training set: {:.3f}\".format(tree.score(X_pca_train, y_pca_train)))\n",
    "print(\"Accuracy on test set: {:.3f}\".format(tree.score(X_pca_test, y_pca_test)))"
   ]
  },
  {
   "cell_type": "markdown",
   "metadata": {},
   "source": [
    "El rendimento sobre el conjunto de test del conjunto **X_pca** es bueno, pero sobre el conjunto de entrenamiento es 1 entonces hay **sobreajuste**."
   ]
  },
  {
   "cell_type": "markdown",
   "metadata": {},
   "source": [
    "Para combatir el sobreajuste podemos hacer **Pre-poda** para controlar la **complejidad del modelo** añadiendo criterios de parada para limitar así el crecimiento del árbol. Veamos **como evoluciona el error sobre el conjunto de evaluación para diferentes profundidades**:"
   ]
  },
  {
   "cell_type": "code",
   "execution_count": 157,
   "metadata": {},
   "outputs": [
    {
     "name": "stdout",
     "output_type": "stream",
     "text": [
      "Depth: 1. Accuracy on training set: 0.871\n",
      "Depth: 1. Accuracy on test set: 0.869\n",
      "Depth: 2. Accuracy on training set: 0.871\n",
      "Depth: 2. Accuracy on test set: 0.869\n",
      "Depth: 3. Accuracy on training set: 0.877\n",
      "Depth: 3. Accuracy on test set: 0.864\n",
      "Depth: 4. Accuracy on training set: 0.883\n",
      "Depth: 4. Accuracy on test set: 0.847\n",
      "Depth: 5. Accuracy on training set: 0.892\n",
      "Depth: 5. Accuracy on test set: 0.864\n",
      "Depth: 6. Accuracy on training set: 0.913\n",
      "Depth: 6. Accuracy on test set: 0.807\n",
      "Depth: 7. Accuracy on training set: 0.930\n",
      "Depth: 7. Accuracy on test set: 0.807\n",
      "Depth: 8. Accuracy on training set: 0.945\n",
      "Depth: 8. Accuracy on test set: 0.801\n",
      "Depth: 9. Accuracy on training set: 0.951\n",
      "Depth: 9. Accuracy on test set: 0.818\n",
      "Depth: 10. Accuracy on training set: 0.972\n",
      "Depth: 10. Accuracy on test set: 0.807\n",
      "Depth: 11. Accuracy on training set: 0.975\n",
      "Depth: 11. Accuracy on test set: 0.795\n",
      "Depth: 12. Accuracy on training set: 0.991\n",
      "Depth: 12. Accuracy on test set: 0.790\n",
      "Depth: 13. Accuracy on training set: 0.987\n",
      "Depth: 13. Accuracy on test set: 0.795\n",
      "Depth: 14. Accuracy on training set: 0.994\n",
      "Depth: 14. Accuracy on test set: 0.795\n",
      "Depth: 15. Accuracy on training set: 0.998\n",
      "Depth: 15. Accuracy on test set: 0.795\n",
      "Depth: 16. Accuracy on training set: 0.998\n",
      "Depth: 16. Accuracy on test set: 0.795\n",
      "Depth: 17. Accuracy on training set: 1.000\n",
      "Depth: 17. Accuracy on test set: 0.795\n",
      "Depth: 18. Accuracy on training set: 1.000\n",
      "Depth: 18. Accuracy on test set: 0.795\n",
      "Depth: 19. Accuracy on training set: 1.000\n",
      "Depth: 19. Accuracy on test set: 0.795\n"
     ]
    }
   ],
   "source": [
    "for i in range(1, 20):\n",
    "    tree = DecisionTreeClassifier(max_depth=i, random_state=0)\n",
    "    tree.fit(X_train, y_train)\n",
    "\n",
    "    print(\"Depth: {}. Accuracy on training set: {:.3f}\".format(i, tree.score(X_train, y_train)))\n",
    "    print(\"Depth: {}. Accuracy on test set: {:.3f}\".format(i, tree.score(X_test, y_test)))"
   ]
  },
  {
   "cell_type": "markdown",
   "metadata": {},
   "source": [
    "Podando el arbol mejoramos el rendimiento sobre el conjunto de test de **X_reducido**. En particular **mirando solamente los rendimientos** nos quedamos a **profundidad 2** obteniendo como rendimiento de train **0.871** y sobre el test **0.869**."
   ]
  },
  {
   "cell_type": "markdown",
   "metadata": {},
   "source": [
    "Exploramos el árbol de decisión de **X_reducido** utilizando las **representaciónes gráficas dadas de Graphviz**:"
   ]
  },
  {
   "cell_type": "code",
   "execution_count": 158,
   "metadata": {},
   "outputs": [
    {
     "data": {
      "image/svg+xml": [
       "<?xml version=\"1.0\" encoding=\"UTF-8\" standalone=\"no\"?>\r\n",
       "<!DOCTYPE svg PUBLIC \"-//W3C//DTD SVG 1.1//EN\"\r\n",
       " \"http://www.w3.org/Graphics/SVG/1.1/DTD/svg11.dtd\">\r\n",
       "<!-- Generated by graphviz version 2.47.3 (20210619.1520)\r\n",
       " -->\r\n",
       "<!-- Title: Tree Pages: 1 -->\r\n",
       "<svg width=\"550pt\" height=\"314pt\"\r\n",
       " viewBox=\"0.00 0.00 550.00 314.00\" xmlns=\"http://www.w3.org/2000/svg\" xmlns:xlink=\"http://www.w3.org/1999/xlink\">\r\n",
       "<g id=\"graph0\" class=\"graph\" transform=\"scale(1 1) rotate(0) translate(4 310)\">\r\n",
       "<title>Tree</title>\r\n",
       "<polygon fill=\"white\" stroke=\"transparent\" points=\"-4,4 -4,-310 546,-310 546,4 -4,4\"/>\r\n",
       "<!-- 0 -->\r\n",
       "<g id=\"node1\" class=\"node\">\r\n",
       "<title>0</title>\r\n",
       "<polygon fill=\"#e99456\" stroke=\"black\" points=\"332,-306 210,-306 210,-223 332,-223 332,-306\"/>\r\n",
       "<text text-anchor=\"middle\" x=\"271\" y=\"-290.8\" font-family=\"Times New Roman,serif\" font-size=\"14.00\">age &lt;= 0.268</text>\r\n",
       "<text text-anchor=\"middle\" x=\"271\" y=\"-275.8\" font-family=\"Times New Roman,serif\" font-size=\"14.00\">gini = 0.224</text>\r\n",
       "<text text-anchor=\"middle\" x=\"271\" y=\"-260.8\" font-family=\"Times New Roman,serif\" font-size=\"14.00\">samples = 528</text>\r\n",
       "<text text-anchor=\"middle\" x=\"271\" y=\"-245.8\" font-family=\"Times New Roman,serif\" font-size=\"14.00\">value = [460, 68]</text>\r\n",
       "<text text-anchor=\"middle\" x=\"271\" y=\"-230.8\" font-family=\"Times New Roman,serif\" font-size=\"14.00\">class = no autismo</text>\r\n",
       "</g>\r\n",
       "<!-- 1 -->\r\n",
       "<g id=\"node2\" class=\"node\">\r\n",
       "<title>1</title>\r\n",
       "<polygon fill=\"#e78a47\" stroke=\"black\" points=\"262,-187 140,-187 140,-104 262,-104 262,-187\"/>\r\n",
       "<text text-anchor=\"middle\" x=\"201\" y=\"-171.8\" font-family=\"Times New Roman,serif\" font-size=\"14.00\">A10_Score &lt;= 0.5</text>\r\n",
       "<text text-anchor=\"middle\" x=\"201\" y=\"-156.8\" font-family=\"Times New Roman,serif\" font-size=\"14.00\">gini = 0.124</text>\r\n",
       "<text text-anchor=\"middle\" x=\"201\" y=\"-141.8\" font-family=\"Times New Roman,serif\" font-size=\"14.00\">samples = 330</text>\r\n",
       "<text text-anchor=\"middle\" x=\"201\" y=\"-126.8\" font-family=\"Times New Roman,serif\" font-size=\"14.00\">value = [308, 22]</text>\r\n",
       "<text text-anchor=\"middle\" x=\"201\" y=\"-111.8\" font-family=\"Times New Roman,serif\" font-size=\"14.00\">class = no autismo</text>\r\n",
       "</g>\r\n",
       "<!-- 0&#45;&gt;1 -->\r\n",
       "<g id=\"edge1\" class=\"edge\">\r\n",
       "<title>0&#45;&gt;1</title>\r\n",
       "<path fill=\"none\" stroke=\"black\" d=\"M246.71,-222.91C241.45,-214.1 235.82,-204.7 230.38,-195.61\"/>\r\n",
       "<polygon fill=\"black\" stroke=\"black\" points=\"233.38,-193.81 225.24,-187.02 227.37,-197.4 233.38,-193.81\"/>\r\n",
       "<text text-anchor=\"middle\" x=\"219.15\" y=\"-207.57\" font-family=\"Times New Roman,serif\" font-size=\"14.00\">True</text>\r\n",
       "</g>\r\n",
       "<!-- 4 -->\r\n",
       "<g id=\"node5\" class=\"node\">\r\n",
       "<title>4</title>\r\n",
       "<polygon fill=\"#eda775\" stroke=\"black\" points=\"402,-187 280,-187 280,-104 402,-104 402,-187\"/>\r\n",
       "<text text-anchor=\"middle\" x=\"341\" y=\"-171.8\" font-family=\"Times New Roman,serif\" font-size=\"14.00\">A4_Score &lt;= 0.5</text>\r\n",
       "<text text-anchor=\"middle\" x=\"341\" y=\"-156.8\" font-family=\"Times New Roman,serif\" font-size=\"14.00\">gini = 0.357</text>\r\n",
       "<text text-anchor=\"middle\" x=\"341\" y=\"-141.8\" font-family=\"Times New Roman,serif\" font-size=\"14.00\">samples = 198</text>\r\n",
       "<text text-anchor=\"middle\" x=\"341\" y=\"-126.8\" font-family=\"Times New Roman,serif\" font-size=\"14.00\">value = [152, 46]</text>\r\n",
       "<text text-anchor=\"middle\" x=\"341\" y=\"-111.8\" font-family=\"Times New Roman,serif\" font-size=\"14.00\">class = no autismo</text>\r\n",
       "</g>\r\n",
       "<!-- 0&#45;&gt;4 -->\r\n",
       "<g id=\"edge4\" class=\"edge\">\r\n",
       "<title>0&#45;&gt;4</title>\r\n",
       "<path fill=\"none\" stroke=\"black\" d=\"M295.29,-222.91C300.55,-214.1 306.18,-204.7 311.62,-195.61\"/>\r\n",
       "<polygon fill=\"black\" stroke=\"black\" points=\"314.63,-197.4 316.76,-187.02 308.62,-193.81 314.63,-197.4\"/>\r\n",
       "<text text-anchor=\"middle\" x=\"322.85\" y=\"-207.57\" font-family=\"Times New Roman,serif\" font-size=\"14.00\">False</text>\r\n",
       "</g>\r\n",
       "<!-- 2 -->\r\n",
       "<g id=\"node3\" class=\"node\">\r\n",
       "<title>2</title>\r\n",
       "<polygon fill=\"#e6843e\" stroke=\"black\" points=\"122,-68 0,-68 0,0 122,0 122,-68\"/>\r\n",
       "<text text-anchor=\"middle\" x=\"61\" y=\"-52.8\" font-family=\"Times New Roman,serif\" font-size=\"14.00\">gini = 0.05</text>\r\n",
       "<text text-anchor=\"middle\" x=\"61\" y=\"-37.8\" font-family=\"Times New Roman,serif\" font-size=\"14.00\">samples = 155</text>\r\n",
       "<text text-anchor=\"middle\" x=\"61\" y=\"-22.8\" font-family=\"Times New Roman,serif\" font-size=\"14.00\">value = [151, 4]</text>\r\n",
       "<text text-anchor=\"middle\" x=\"61\" y=\"-7.8\" font-family=\"Times New Roman,serif\" font-size=\"14.00\">class = no autismo</text>\r\n",
       "</g>\r\n",
       "<!-- 1&#45;&gt;2 -->\r\n",
       "<g id=\"edge2\" class=\"edge\">\r\n",
       "<title>1&#45;&gt;2</title>\r\n",
       "<path fill=\"none\" stroke=\"black\" d=\"M148.87,-103.73C136.74,-94.24 123.85,-84.16 111.78,-74.72\"/>\r\n",
       "<polygon fill=\"black\" stroke=\"black\" points=\"113.61,-71.7 103.57,-68.3 109.3,-77.22 113.61,-71.7\"/>\r\n",
       "</g>\r\n",
       "<!-- 3 -->\r\n",
       "<g id=\"node4\" class=\"node\">\r\n",
       "<title>3</title>\r\n",
       "<polygon fill=\"#e88f50\" stroke=\"black\" points=\"262,-68 140,-68 140,0 262,0 262,-68\"/>\r\n",
       "<text text-anchor=\"middle\" x=\"201\" y=\"-52.8\" font-family=\"Times New Roman,serif\" font-size=\"14.00\">gini = 0.185</text>\r\n",
       "<text text-anchor=\"middle\" x=\"201\" y=\"-37.8\" font-family=\"Times New Roman,serif\" font-size=\"14.00\">samples = 175</text>\r\n",
       "<text text-anchor=\"middle\" x=\"201\" y=\"-22.8\" font-family=\"Times New Roman,serif\" font-size=\"14.00\">value = [157, 18]</text>\r\n",
       "<text text-anchor=\"middle\" x=\"201\" y=\"-7.8\" font-family=\"Times New Roman,serif\" font-size=\"14.00\">class = no autismo</text>\r\n",
       "</g>\r\n",
       "<!-- 1&#45;&gt;3 -->\r\n",
       "<g id=\"edge3\" class=\"edge\">\r\n",
       "<title>1&#45;&gt;3</title>\r\n",
       "<path fill=\"none\" stroke=\"black\" d=\"M201,-103.73C201,-95.52 201,-86.86 201,-78.56\"/>\r\n",
       "<polygon fill=\"black\" stroke=\"black\" points=\"204.5,-78.3 201,-68.3 197.5,-78.3 204.5,-78.3\"/>\r\n",
       "</g>\r\n",
       "<!-- 5 -->\r\n",
       "<g id=\"node6\" class=\"node\">\r\n",
       "<title>5</title>\r\n",
       "<polygon fill=\"#e99254\" stroke=\"black\" points=\"402,-68 280,-68 280,0 402,0 402,-68\"/>\r\n",
       "<text text-anchor=\"middle\" x=\"341\" y=\"-52.8\" font-family=\"Times New Roman,serif\" font-size=\"14.00\">gini = 0.211</text>\r\n",
       "<text text-anchor=\"middle\" x=\"341\" y=\"-37.8\" font-family=\"Times New Roman,serif\" font-size=\"14.00\">samples = 92</text>\r\n",
       "<text text-anchor=\"middle\" x=\"341\" y=\"-22.8\" font-family=\"Times New Roman,serif\" font-size=\"14.00\">value = [81, 11]</text>\r\n",
       "<text text-anchor=\"middle\" x=\"341\" y=\"-7.8\" font-family=\"Times New Roman,serif\" font-size=\"14.00\">class = no autismo</text>\r\n",
       "</g>\r\n",
       "<!-- 4&#45;&gt;5 -->\r\n",
       "<g id=\"edge5\" class=\"edge\">\r\n",
       "<title>4&#45;&gt;5</title>\r\n",
       "<path fill=\"none\" stroke=\"black\" d=\"M341,-103.73C341,-95.52 341,-86.86 341,-78.56\"/>\r\n",
       "<polygon fill=\"black\" stroke=\"black\" points=\"344.5,-78.3 341,-68.3 337.5,-78.3 344.5,-78.3\"/>\r\n",
       "</g>\r\n",
       "<!-- 6 -->\r\n",
       "<g id=\"node7\" class=\"node\">\r\n",
       "<title>6</title>\r\n",
       "<polygon fill=\"#f2bf9b\" stroke=\"black\" points=\"542,-68 420,-68 420,0 542,0 542,-68\"/>\r\n",
       "<text text-anchor=\"middle\" x=\"481\" y=\"-52.8\" font-family=\"Times New Roman,serif\" font-size=\"14.00\">gini = 0.442</text>\r\n",
       "<text text-anchor=\"middle\" x=\"481\" y=\"-37.8\" font-family=\"Times New Roman,serif\" font-size=\"14.00\">samples = 106</text>\r\n",
       "<text text-anchor=\"middle\" x=\"481\" y=\"-22.8\" font-family=\"Times New Roman,serif\" font-size=\"14.00\">value = [71, 35]</text>\r\n",
       "<text text-anchor=\"middle\" x=\"481\" y=\"-7.8\" font-family=\"Times New Roman,serif\" font-size=\"14.00\">class = no autismo</text>\r\n",
       "</g>\r\n",
       "<!-- 4&#45;&gt;6 -->\r\n",
       "<g id=\"edge6\" class=\"edge\">\r\n",
       "<title>4&#45;&gt;6</title>\r\n",
       "<path fill=\"none\" stroke=\"black\" d=\"M393.13,-103.73C405.26,-94.24 418.15,-84.16 430.22,-74.72\"/>\r\n",
       "<polygon fill=\"black\" stroke=\"black\" points=\"432.7,-77.22 438.43,-68.3 428.39,-71.7 432.7,-77.22\"/>\r\n",
       "</g>\r\n",
       "</g>\r\n",
       "</svg>\r\n"
      ],
      "text/plain": [
       "<graphviz.files.Source at 0x241f8371700>"
      ]
     },
     "metadata": {},
     "output_type": "display_data"
    }
   ],
   "source": [
    "tree=DecisionTreeClassifier(max_depth=2, random_state=0)  #ponemos max_depth=2 porque nos daba mayor rendimiento\n",
    "tree.fit(X_train, y_train)\n",
    "\n",
    "from sklearn.tree import export_graphviz\n",
    "export_graphviz(tree, out_file=\"tree.dot\", class_names=[\"no autismo\", \"si autismo\"],\n",
    "                feature_names=dataframe_reducido.columns, impurity=True, filled=True)\n",
    "import graphviz\n",
    "\n",
    "with open(\"tree.dot\") as f:\n",
    "    dot_graph = f.read()\n",
    "display(graphviz.Source(dot_graph))"
   ]
  },
  {
   "cell_type": "markdown",
   "metadata": {},
   "source": [
    "Observamos que este arbol **clasifica todos como \"no autismo\"** entonces **no es util para nuestro estudio**. El rendimiento con profundidad 2 era mas bueno porque la mayoria de los datos son de clase \"no autismo\" (clases no balanceadas).\n",
    "\n",
    "Elijimos de utilizar una **profundidad de 5** obtenendos como rendimientos: **0.892 sobre el train y 0.852 sobre el test** que son muy bieno lo mismo pero tambien clasifica algunos datos como \"si autismo\"."
   ]
  },
  {
   "cell_type": "code",
   "execution_count": 159,
   "metadata": {},
   "outputs": [
    {
     "data": {
      "image/svg+xml": [
       "<?xml version=\"1.0\" encoding=\"UTF-8\" standalone=\"no\"?>\r\n",
       "<!DOCTYPE svg PUBLIC \"-//W3C//DTD SVG 1.1//EN\"\r\n",
       " \"http://www.w3.org/Graphics/SVG/1.1/DTD/svg11.dtd\">\r\n",
       "<!-- Generated by graphviz version 2.47.3 (20210619.1520)\r\n",
       " -->\r\n",
       "<!-- Title: Tree Pages: 1 -->\r\n",
       "<svg width=\"2498pt\" height=\"671pt\"\r\n",
       " viewBox=\"0.00 0.00 2498.00 671.00\" xmlns=\"http://www.w3.org/2000/svg\" xmlns:xlink=\"http://www.w3.org/1999/xlink\">\r\n",
       "<g id=\"graph0\" class=\"graph\" transform=\"scale(1 1) rotate(0) translate(4 667)\">\r\n",
       "<title>Tree</title>\r\n",
       "<polygon fill=\"white\" stroke=\"transparent\" points=\"-4,4 -4,-667 2494,-667 2494,4 -4,4\"/>\r\n",
       "<!-- 0 -->\r\n",
       "<g id=\"node1\" class=\"node\">\r\n",
       "<title>0</title>\r\n",
       "<polygon fill=\"#e99456\" stroke=\"black\" points=\"1519,-663 1397,-663 1397,-580 1519,-580 1519,-663\"/>\r\n",
       "<text text-anchor=\"middle\" x=\"1458\" y=\"-647.8\" font-family=\"Times New Roman,serif\" font-size=\"14.00\">age &lt;= 0.268</text>\r\n",
       "<text text-anchor=\"middle\" x=\"1458\" y=\"-632.8\" font-family=\"Times New Roman,serif\" font-size=\"14.00\">gini = 0.224</text>\r\n",
       "<text text-anchor=\"middle\" x=\"1458\" y=\"-617.8\" font-family=\"Times New Roman,serif\" font-size=\"14.00\">samples = 528</text>\r\n",
       "<text text-anchor=\"middle\" x=\"1458\" y=\"-602.8\" font-family=\"Times New Roman,serif\" font-size=\"14.00\">value = [460, 68]</text>\r\n",
       "<text text-anchor=\"middle\" x=\"1458\" y=\"-587.8\" font-family=\"Times New Roman,serif\" font-size=\"14.00\">class = no autismo</text>\r\n",
       "</g>\r\n",
       "<!-- 1 -->\r\n",
       "<g id=\"node2\" class=\"node\">\r\n",
       "<title>1</title>\r\n",
       "<polygon fill=\"#e78a47\" stroke=\"black\" points=\"1172,-544 1050,-544 1050,-461 1172,-461 1172,-544\"/>\r\n",
       "<text text-anchor=\"middle\" x=\"1111\" y=\"-528.8\" font-family=\"Times New Roman,serif\" font-size=\"14.00\">A10_Score &lt;= 0.5</text>\r\n",
       "<text text-anchor=\"middle\" x=\"1111\" y=\"-513.8\" font-family=\"Times New Roman,serif\" font-size=\"14.00\">gini = 0.124</text>\r\n",
       "<text text-anchor=\"middle\" x=\"1111\" y=\"-498.8\" font-family=\"Times New Roman,serif\" font-size=\"14.00\">samples = 330</text>\r\n",
       "<text text-anchor=\"middle\" x=\"1111\" y=\"-483.8\" font-family=\"Times New Roman,serif\" font-size=\"14.00\">value = [308, 22]</text>\r\n",
       "<text text-anchor=\"middle\" x=\"1111\" y=\"-468.8\" font-family=\"Times New Roman,serif\" font-size=\"14.00\">class = no autismo</text>\r\n",
       "</g>\r\n",
       "<!-- 0&#45;&gt;1 -->\r\n",
       "<g id=\"edge1\" class=\"edge\">\r\n",
       "<title>0&#45;&gt;1</title>\r\n",
       "<path fill=\"none\" stroke=\"black\" d=\"M1396.76,-599.85C1336.62,-579.57 1244.93,-548.66 1181.71,-527.34\"/>\r\n",
       "<polygon fill=\"black\" stroke=\"black\" points=\"1182.8,-524.02 1172.21,-524.14 1180.57,-530.65 1182.8,-524.02\"/>\r\n",
       "<text text-anchor=\"middle\" x=\"1183.31\" y=\"-542.84\" font-family=\"Times New Roman,serif\" font-size=\"14.00\">True</text>\r\n",
       "</g>\r\n",
       "<!-- 26 -->\r\n",
       "<g id=\"node27\" class=\"node\">\r\n",
       "<title>26</title>\r\n",
       "<polygon fill=\"#eda775\" stroke=\"black\" points=\"1797,-544 1675,-544 1675,-461 1797,-461 1797,-544\"/>\r\n",
       "<text text-anchor=\"middle\" x=\"1736\" y=\"-528.8\" font-family=\"Times New Roman,serif\" font-size=\"14.00\">A4_Score &lt;= 0.5</text>\r\n",
       "<text text-anchor=\"middle\" x=\"1736\" y=\"-513.8\" font-family=\"Times New Roman,serif\" font-size=\"14.00\">gini = 0.357</text>\r\n",
       "<text text-anchor=\"middle\" x=\"1736\" y=\"-498.8\" font-family=\"Times New Roman,serif\" font-size=\"14.00\">samples = 198</text>\r\n",
       "<text text-anchor=\"middle\" x=\"1736\" y=\"-483.8\" font-family=\"Times New Roman,serif\" font-size=\"14.00\">value = [152, 46]</text>\r\n",
       "<text text-anchor=\"middle\" x=\"1736\" y=\"-468.8\" font-family=\"Times New Roman,serif\" font-size=\"14.00\">class = no autismo</text>\r\n",
       "</g>\r\n",
       "<!-- 0&#45;&gt;26 -->\r\n",
       "<g id=\"edge26\" class=\"edge\">\r\n",
       "<title>0&#45;&gt;26</title>\r\n",
       "<path fill=\"none\" stroke=\"black\" d=\"M1519.01,-594.82C1562.13,-576.67 1620.06,-552.29 1665.22,-533.29\"/>\r\n",
       "<polygon fill=\"black\" stroke=\"black\" points=\"1666.8,-536.42 1674.65,-529.32 1664.08,-529.97 1666.8,-536.42\"/>\r\n",
       "<text text-anchor=\"middle\" x=\"1665.22\" y=\"-548.77\" font-family=\"Times New Roman,serif\" font-size=\"14.00\">False</text>\r\n",
       "</g>\r\n",
       "<!-- 2 -->\r\n",
       "<g id=\"node3\" class=\"node\">\r\n",
       "<title>2</title>\r\n",
       "<polygon fill=\"#e6843e\" stroke=\"black\" points=\"471,-425 349,-425 349,-342 471,-342 471,-425\"/>\r\n",
       "<text text-anchor=\"middle\" x=\"410\" y=\"-409.8\" font-family=\"Times New Roman,serif\" font-size=\"14.00\">ethnicity &lt;= 4.5</text>\r\n",
       "<text text-anchor=\"middle\" x=\"410\" y=\"-394.8\" font-family=\"Times New Roman,serif\" font-size=\"14.00\">gini = 0.05</text>\r\n",
       "<text text-anchor=\"middle\" x=\"410\" y=\"-379.8\" font-family=\"Times New Roman,serif\" font-size=\"14.00\">samples = 155</text>\r\n",
       "<text text-anchor=\"middle\" x=\"410\" y=\"-364.8\" font-family=\"Times New Roman,serif\" font-size=\"14.00\">value = [151, 4]</text>\r\n",
       "<text text-anchor=\"middle\" x=\"410\" y=\"-349.8\" font-family=\"Times New Roman,serif\" font-size=\"14.00\">class = no autismo</text>\r\n",
       "</g>\r\n",
       "<!-- 1&#45;&gt;2 -->\r\n",
       "<g id=\"edge2\" class=\"edge\">\r\n",
       "<title>1&#45;&gt;2</title>\r\n",
       "<path fill=\"none\" stroke=\"black\" d=\"M1049.71,-491.27C920.18,-469.65 619.2,-419.42 481.31,-396.4\"/>\r\n",
       "<polygon fill=\"black\" stroke=\"black\" points=\"481.71,-392.92 471.27,-394.73 480.56,-399.83 481.71,-392.92\"/>\r\n",
       "</g>\r\n",
       "<!-- 13 -->\r\n",
       "<g id=\"node14\" class=\"node\">\r\n",
       "<title>13</title>\r\n",
       "<polygon fill=\"#e88f50\" stroke=\"black\" points=\"1172,-425 1050,-425 1050,-342 1172,-342 1172,-425\"/>\r\n",
       "<text text-anchor=\"middle\" x=\"1111\" y=\"-409.8\" font-family=\"Times New Roman,serif\" font-size=\"14.00\">relation &lt;= 1.5</text>\r\n",
       "<text text-anchor=\"middle\" x=\"1111\" y=\"-394.8\" font-family=\"Times New Roman,serif\" font-size=\"14.00\">gini = 0.185</text>\r\n",
       "<text text-anchor=\"middle\" x=\"1111\" y=\"-379.8\" font-family=\"Times New Roman,serif\" font-size=\"14.00\">samples = 175</text>\r\n",
       "<text text-anchor=\"middle\" x=\"1111\" y=\"-364.8\" font-family=\"Times New Roman,serif\" font-size=\"14.00\">value = [157, 18]</text>\r\n",
       "<text text-anchor=\"middle\" x=\"1111\" y=\"-349.8\" font-family=\"Times New Roman,serif\" font-size=\"14.00\">class = no autismo</text>\r\n",
       "</g>\r\n",
       "<!-- 1&#45;&gt;13 -->\r\n",
       "<g id=\"edge13\" class=\"edge\">\r\n",
       "<title>1&#45;&gt;13</title>\r\n",
       "<path fill=\"none\" stroke=\"black\" d=\"M1111,-460.91C1111,-452.65 1111,-443.86 1111,-435.3\"/>\r\n",
       "<polygon fill=\"black\" stroke=\"black\" points=\"1114.5,-435.02 1111,-425.02 1107.5,-435.02 1114.5,-435.02\"/>\r\n",
       "</g>\r\n",
       "<!-- 3 -->\r\n",
       "<g id=\"node4\" class=\"node\">\r\n",
       "<title>3</title>\r\n",
       "<polygon fill=\"#e5823b\" stroke=\"black\" points=\"262,-306 140,-306 140,-223 262,-223 262,-306\"/>\r\n",
       "<text text-anchor=\"middle\" x=\"201\" y=\"-290.8\" font-family=\"Times New Roman,serif\" font-size=\"14.00\">age &lt;= 0.181</text>\r\n",
       "<text text-anchor=\"middle\" x=\"201\" y=\"-275.8\" font-family=\"Times New Roman,serif\" font-size=\"14.00\">gini = 0.017</text>\r\n",
       "<text text-anchor=\"middle\" x=\"201\" y=\"-260.8\" font-family=\"Times New Roman,serif\" font-size=\"14.00\">samples = 118</text>\r\n",
       "<text text-anchor=\"middle\" x=\"201\" y=\"-245.8\" font-family=\"Times New Roman,serif\" font-size=\"14.00\">value = [117, 1]</text>\r\n",
       "<text text-anchor=\"middle\" x=\"201\" y=\"-230.8\" font-family=\"Times New Roman,serif\" font-size=\"14.00\">class = no autismo</text>\r\n",
       "</g>\r\n",
       "<!-- 2&#45;&gt;3 -->\r\n",
       "<g id=\"edge3\" class=\"edge\">\r\n",
       "<title>2&#45;&gt;3</title>\r\n",
       "<path fill=\"none\" stroke=\"black\" d=\"M348.99,-348.34C324.52,-334.65 296.18,-318.79 270.9,-304.63\"/>\r\n",
       "<polygon fill=\"black\" stroke=\"black\" points=\"272.52,-301.53 262.09,-299.7 269.11,-307.64 272.52,-301.53\"/>\r\n",
       "</g>\r\n",
       "<!-- 8 -->\r\n",
       "<g id=\"node9\" class=\"node\">\r\n",
       "<title>8</title>\r\n",
       "<polygon fill=\"#e78c4a\" stroke=\"black\" points=\"471,-306 349,-306 349,-223 471,-223 471,-306\"/>\r\n",
       "<text text-anchor=\"middle\" x=\"410\" y=\"-290.8\" font-family=\"Times New Roman,serif\" font-size=\"14.00\">age &lt;= 0.032</text>\r\n",
       "<text text-anchor=\"middle\" x=\"410\" y=\"-275.8\" font-family=\"Times New Roman,serif\" font-size=\"14.00\">gini = 0.149</text>\r\n",
       "<text text-anchor=\"middle\" x=\"410\" y=\"-260.8\" font-family=\"Times New Roman,serif\" font-size=\"14.00\">samples = 37</text>\r\n",
       "<text text-anchor=\"middle\" x=\"410\" y=\"-245.8\" font-family=\"Times New Roman,serif\" font-size=\"14.00\">value = [34, 3]</text>\r\n",
       "<text text-anchor=\"middle\" x=\"410\" y=\"-230.8\" font-family=\"Times New Roman,serif\" font-size=\"14.00\">class = no autismo</text>\r\n",
       "</g>\r\n",
       "<!-- 2&#45;&gt;8 -->\r\n",
       "<g id=\"edge8\" class=\"edge\">\r\n",
       "<title>2&#45;&gt;8</title>\r\n",
       "<path fill=\"none\" stroke=\"black\" d=\"M410,-341.91C410,-333.65 410,-324.86 410,-316.3\"/>\r\n",
       "<polygon fill=\"black\" stroke=\"black\" points=\"413.5,-316.02 410,-306.02 406.5,-316.02 413.5,-316.02\"/>\r\n",
       "</g>\r\n",
       "<!-- 4 -->\r\n",
       "<g id=\"node5\" class=\"node\">\r\n",
       "<title>4</title>\r\n",
       "<polygon fill=\"#e58139\" stroke=\"black\" points=\"122,-179.5 0,-179.5 0,-111.5 122,-111.5 122,-179.5\"/>\r\n",
       "<text text-anchor=\"middle\" x=\"61\" y=\"-164.3\" font-family=\"Times New Roman,serif\" font-size=\"14.00\">gini = 0.0</text>\r\n",
       "<text text-anchor=\"middle\" x=\"61\" y=\"-149.3\" font-family=\"Times New Roman,serif\" font-size=\"14.00\">samples = 89</text>\r\n",
       "<text text-anchor=\"middle\" x=\"61\" y=\"-134.3\" font-family=\"Times New Roman,serif\" font-size=\"14.00\">value = [89, 0]</text>\r\n",
       "<text text-anchor=\"middle\" x=\"61\" y=\"-119.3\" font-family=\"Times New Roman,serif\" font-size=\"14.00\">class = no autismo</text>\r\n",
       "</g>\r\n",
       "<!-- 3&#45;&gt;4 -->\r\n",
       "<g id=\"edge4\" class=\"edge\">\r\n",
       "<title>3&#45;&gt;4</title>\r\n",
       "<path fill=\"none\" stroke=\"black\" d=\"M152.43,-222.91C138.17,-210.99 122.59,-197.98 108.41,-186.12\"/>\r\n",
       "<polygon fill=\"black\" stroke=\"black\" points=\"110.6,-183.39 100.69,-179.67 106.12,-188.77 110.6,-183.39\"/>\r\n",
       "</g>\r\n",
       "<!-- 5 -->\r\n",
       "<g id=\"node6\" class=\"node\">\r\n",
       "<title>5</title>\r\n",
       "<polygon fill=\"#e68640\" stroke=\"black\" points=\"262,-187 140,-187 140,-104 262,-104 262,-187\"/>\r\n",
       "<text text-anchor=\"middle\" x=\"201\" y=\"-171.8\" font-family=\"Times New Roman,serif\" font-size=\"14.00\">A3_Score &lt;= 0.5</text>\r\n",
       "<text text-anchor=\"middle\" x=\"201\" y=\"-156.8\" font-family=\"Times New Roman,serif\" font-size=\"14.00\">gini = 0.067</text>\r\n",
       "<text text-anchor=\"middle\" x=\"201\" y=\"-141.8\" font-family=\"Times New Roman,serif\" font-size=\"14.00\">samples = 29</text>\r\n",
       "<text text-anchor=\"middle\" x=\"201\" y=\"-126.8\" font-family=\"Times New Roman,serif\" font-size=\"14.00\">value = [28, 1]</text>\r\n",
       "<text text-anchor=\"middle\" x=\"201\" y=\"-111.8\" font-family=\"Times New Roman,serif\" font-size=\"14.00\">class = no autismo</text>\r\n",
       "</g>\r\n",
       "<!-- 3&#45;&gt;5 -->\r\n",
       "<g id=\"edge5\" class=\"edge\">\r\n",
       "<title>3&#45;&gt;5</title>\r\n",
       "<path fill=\"none\" stroke=\"black\" d=\"M201,-222.91C201,-214.65 201,-205.86 201,-197.3\"/>\r\n",
       "<polygon fill=\"black\" stroke=\"black\" points=\"204.5,-197.02 201,-187.02 197.5,-197.02 204.5,-197.02\"/>\r\n",
       "</g>\r\n",
       "<!-- 6 -->\r\n",
       "<g id=\"node7\" class=\"node\">\r\n",
       "<title>6</title>\r\n",
       "<polygon fill=\"#e58139\" stroke=\"black\" points=\"122,-68 0,-68 0,0 122,0 122,-68\"/>\r\n",
       "<text text-anchor=\"middle\" x=\"61\" y=\"-52.8\" font-family=\"Times New Roman,serif\" font-size=\"14.00\">gini = 0.0</text>\r\n",
       "<text text-anchor=\"middle\" x=\"61\" y=\"-37.8\" font-family=\"Times New Roman,serif\" font-size=\"14.00\">samples = 21</text>\r\n",
       "<text text-anchor=\"middle\" x=\"61\" y=\"-22.8\" font-family=\"Times New Roman,serif\" font-size=\"14.00\">value = [21, 0]</text>\r\n",
       "<text text-anchor=\"middle\" x=\"61\" y=\"-7.8\" font-family=\"Times New Roman,serif\" font-size=\"14.00\">class = no autismo</text>\r\n",
       "</g>\r\n",
       "<!-- 5&#45;&gt;6 -->\r\n",
       "<g id=\"edge6\" class=\"edge\">\r\n",
       "<title>5&#45;&gt;6</title>\r\n",
       "<path fill=\"none\" stroke=\"black\" d=\"M148.87,-103.73C136.74,-94.24 123.85,-84.16 111.78,-74.72\"/>\r\n",
       "<polygon fill=\"black\" stroke=\"black\" points=\"113.61,-71.7 103.57,-68.3 109.3,-77.22 113.61,-71.7\"/>\r\n",
       "</g>\r\n",
       "<!-- 7 -->\r\n",
       "<g id=\"node8\" class=\"node\">\r\n",
       "<title>7</title>\r\n",
       "<polygon fill=\"#e99355\" stroke=\"black\" points=\"262,-68 140,-68 140,0 262,0 262,-68\"/>\r\n",
       "<text text-anchor=\"middle\" x=\"201\" y=\"-52.8\" font-family=\"Times New Roman,serif\" font-size=\"14.00\">gini = 0.219</text>\r\n",
       "<text text-anchor=\"middle\" x=\"201\" y=\"-37.8\" font-family=\"Times New Roman,serif\" font-size=\"14.00\">samples = 8</text>\r\n",
       "<text text-anchor=\"middle\" x=\"201\" y=\"-22.8\" font-family=\"Times New Roman,serif\" font-size=\"14.00\">value = [7, 1]</text>\r\n",
       "<text text-anchor=\"middle\" x=\"201\" y=\"-7.8\" font-family=\"Times New Roman,serif\" font-size=\"14.00\">class = no autismo</text>\r\n",
       "</g>\r\n",
       "<!-- 5&#45;&gt;7 -->\r\n",
       "<g id=\"edge7\" class=\"edge\">\r\n",
       "<title>5&#45;&gt;7</title>\r\n",
       "<path fill=\"none\" stroke=\"black\" d=\"M201,-103.73C201,-95.52 201,-86.86 201,-78.56\"/>\r\n",
       "<polygon fill=\"black\" stroke=\"black\" points=\"204.5,-78.3 201,-68.3 197.5,-78.3 204.5,-78.3\"/>\r\n",
       "</g>\r\n",
       "<!-- 9 -->\r\n",
       "<g id=\"node10\" class=\"node\">\r\n",
       "<title>9</title>\r\n",
       "<polygon fill=\"#399de5\" stroke=\"black\" points=\"399,-179.5 283,-179.5 283,-111.5 399,-111.5 399,-179.5\"/>\r\n",
       "<text text-anchor=\"middle\" x=\"341\" y=\"-164.3\" font-family=\"Times New Roman,serif\" font-size=\"14.00\">gini = 0.0</text>\r\n",
       "<text text-anchor=\"middle\" x=\"341\" y=\"-149.3\" font-family=\"Times New Roman,serif\" font-size=\"14.00\">samples = 1</text>\r\n",
       "<text text-anchor=\"middle\" x=\"341\" y=\"-134.3\" font-family=\"Times New Roman,serif\" font-size=\"14.00\">value = [0, 1]</text>\r\n",
       "<text text-anchor=\"middle\" x=\"341\" y=\"-119.3\" font-family=\"Times New Roman,serif\" font-size=\"14.00\">class = si autismo</text>\r\n",
       "</g>\r\n",
       "<!-- 8&#45;&gt;9 -->\r\n",
       "<g id=\"edge9\" class=\"edge\">\r\n",
       "<title>8&#45;&gt;9</title>\r\n",
       "<path fill=\"none\" stroke=\"black\" d=\"M386.06,-222.91C379.49,-211.76 372.35,-199.66 365.73,-188.44\"/>\r\n",
       "<polygon fill=\"black\" stroke=\"black\" points=\"368.65,-186.5 360.56,-179.67 362.63,-190.06 368.65,-186.5\"/>\r\n",
       "</g>\r\n",
       "<!-- 10 -->\r\n",
       "<g id=\"node11\" class=\"node\">\r\n",
       "<title>10</title>\r\n",
       "<polygon fill=\"#e78845\" stroke=\"black\" points=\"539,-187 417,-187 417,-104 539,-104 539,-187\"/>\r\n",
       "<text text-anchor=\"middle\" x=\"478\" y=\"-171.8\" font-family=\"Times New Roman,serif\" font-size=\"14.00\">woman &lt;= 0.5</text>\r\n",
       "<text text-anchor=\"middle\" x=\"478\" y=\"-156.8\" font-family=\"Times New Roman,serif\" font-size=\"14.00\">gini = 0.105</text>\r\n",
       "<text text-anchor=\"middle\" x=\"478\" y=\"-141.8\" font-family=\"Times New Roman,serif\" font-size=\"14.00\">samples = 36</text>\r\n",
       "<text text-anchor=\"middle\" x=\"478\" y=\"-126.8\" font-family=\"Times New Roman,serif\" font-size=\"14.00\">value = [34, 2]</text>\r\n",
       "<text text-anchor=\"middle\" x=\"478\" y=\"-111.8\" font-family=\"Times New Roman,serif\" font-size=\"14.00\">class = no autismo</text>\r\n",
       "</g>\r\n",
       "<!-- 8&#45;&gt;10 -->\r\n",
       "<g id=\"edge10\" class=\"edge\">\r\n",
       "<title>8&#45;&gt;10</title>\r\n",
       "<path fill=\"none\" stroke=\"black\" d=\"M433.59,-222.91C438.66,-214.2 444.06,-204.9 449.29,-195.89\"/>\r\n",
       "<polygon fill=\"black\" stroke=\"black\" points=\"452.45,-197.43 454.45,-187.02 446.4,-193.91 452.45,-197.43\"/>\r\n",
       "</g>\r\n",
       "<!-- 11 -->\r\n",
       "<g id=\"node12\" class=\"node\">\r\n",
       "<title>11</title>\r\n",
       "<polygon fill=\"#e58139\" stroke=\"black\" points=\"402,-68 280,-68 280,0 402,0 402,-68\"/>\r\n",
       "<text text-anchor=\"middle\" x=\"341\" y=\"-52.8\" font-family=\"Times New Roman,serif\" font-size=\"14.00\">gini = 0.0</text>\r\n",
       "<text text-anchor=\"middle\" x=\"341\" y=\"-37.8\" font-family=\"Times New Roman,serif\" font-size=\"14.00\">samples = 26</text>\r\n",
       "<text text-anchor=\"middle\" x=\"341\" y=\"-22.8\" font-family=\"Times New Roman,serif\" font-size=\"14.00\">value = [26, 0]</text>\r\n",
       "<text text-anchor=\"middle\" x=\"341\" y=\"-7.8\" font-family=\"Times New Roman,serif\" font-size=\"14.00\">class = no autismo</text>\r\n",
       "</g>\r\n",
       "<!-- 10&#45;&gt;11 -->\r\n",
       "<g id=\"edge11\" class=\"edge\">\r\n",
       "<title>10&#45;&gt;11</title>\r\n",
       "<path fill=\"none\" stroke=\"black\" d=\"M426.99,-103.73C415.12,-94.24 402.5,-84.16 390.69,-74.72\"/>\r\n",
       "<polygon fill=\"black\" stroke=\"black\" points=\"392.66,-71.81 382.66,-68.3 388.29,-77.28 392.66,-71.81\"/>\r\n",
       "</g>\r\n",
       "<!-- 12 -->\r\n",
       "<g id=\"node13\" class=\"node\">\r\n",
       "<title>12</title>\r\n",
       "<polygon fill=\"#eca06a\" stroke=\"black\" points=\"542,-68 420,-68 420,0 542,0 542,-68\"/>\r\n",
       "<text text-anchor=\"middle\" x=\"481\" y=\"-52.8\" font-family=\"Times New Roman,serif\" font-size=\"14.00\">gini = 0.32</text>\r\n",
       "<text text-anchor=\"middle\" x=\"481\" y=\"-37.8\" font-family=\"Times New Roman,serif\" font-size=\"14.00\">samples = 10</text>\r\n",
       "<text text-anchor=\"middle\" x=\"481\" y=\"-22.8\" font-family=\"Times New Roman,serif\" font-size=\"14.00\">value = [8, 2]</text>\r\n",
       "<text text-anchor=\"middle\" x=\"481\" y=\"-7.8\" font-family=\"Times New Roman,serif\" font-size=\"14.00\">class = no autismo</text>\r\n",
       "</g>\r\n",
       "<!-- 10&#45;&gt;12 -->\r\n",
       "<g id=\"edge12\" class=\"edge\">\r\n",
       "<title>10&#45;&gt;12</title>\r\n",
       "<path fill=\"none\" stroke=\"black\" d=\"M479.12,-103.73C479.34,-95.52 479.58,-86.86 479.81,-78.56\"/>\r\n",
       "<polygon fill=\"black\" stroke=\"black\" points=\"483.31,-78.39 480.09,-68.3 476.32,-78.2 483.31,-78.39\"/>\r\n",
       "</g>\r\n",
       "<!-- 14 -->\r\n",
       "<g id=\"node15\" class=\"node\">\r\n",
       "<title>14</title>\r\n",
       "<polygon fill=\"#e78c4b\" stroke=\"black\" points=\"1032,-306 910,-306 910,-223 1032,-223 1032,-306\"/>\r\n",
       "<text text-anchor=\"middle\" x=\"971\" y=\"-290.8\" font-family=\"Times New Roman,serif\" font-size=\"14.00\">ethnicity &lt;= 1.5</text>\r\n",
       "<text text-anchor=\"middle\" x=\"971\" y=\"-275.8\" font-family=\"Times New Roman,serif\" font-size=\"14.00\">gini = 0.152</text>\r\n",
       "<text text-anchor=\"middle\" x=\"971\" y=\"-260.8\" font-family=\"Times New Roman,serif\" font-size=\"14.00\">samples = 157</text>\r\n",
       "<text text-anchor=\"middle\" x=\"971\" y=\"-245.8\" font-family=\"Times New Roman,serif\" font-size=\"14.00\">value = [144, 13]</text>\r\n",
       "<text text-anchor=\"middle\" x=\"971\" y=\"-230.8\" font-family=\"Times New Roman,serif\" font-size=\"14.00\">class = no autismo</text>\r\n",
       "</g>\r\n",
       "<!-- 13&#45;&gt;14 -->\r\n",
       "<g id=\"edge14\" class=\"edge\">\r\n",
       "<title>13&#45;&gt;14</title>\r\n",
       "<path fill=\"none\" stroke=\"black\" d=\"M1062.43,-341.91C1051.13,-332.47 1039.02,-322.34 1027.42,-312.65\"/>\r\n",
       "<polygon fill=\"black\" stroke=\"black\" points=\"1029.4,-309.75 1019.49,-306.02 1024.92,-315.12 1029.4,-309.75\"/>\r\n",
       "</g>\r\n",
       "<!-- 21 -->\r\n",
       "<g id=\"node22\" class=\"node\">\r\n",
       "<title>21</title>\r\n",
       "<polygon fill=\"#efb185\" stroke=\"black\" points=\"1242,-306 1120,-306 1120,-223 1242,-223 1242,-306\"/>\r\n",
       "<text text-anchor=\"middle\" x=\"1181\" y=\"-290.8\" font-family=\"Times New Roman,serif\" font-size=\"14.00\">result &lt;= 9.5</text>\r\n",
       "<text text-anchor=\"middle\" x=\"1181\" y=\"-275.8\" font-family=\"Times New Roman,serif\" font-size=\"14.00\">gini = 0.401</text>\r\n",
       "<text text-anchor=\"middle\" x=\"1181\" y=\"-260.8\" font-family=\"Times New Roman,serif\" font-size=\"14.00\">samples = 18</text>\r\n",
       "<text text-anchor=\"middle\" x=\"1181\" y=\"-245.8\" font-family=\"Times New Roman,serif\" font-size=\"14.00\">value = [13, 5]</text>\r\n",
       "<text text-anchor=\"middle\" x=\"1181\" y=\"-230.8\" font-family=\"Times New Roman,serif\" font-size=\"14.00\">class = no autismo</text>\r\n",
       "</g>\r\n",
       "<!-- 13&#45;&gt;21 -->\r\n",
       "<g id=\"edge21\" class=\"edge\">\r\n",
       "<title>13&#45;&gt;21</title>\r\n",
       "<path fill=\"none\" stroke=\"black\" d=\"M1135.29,-341.91C1140.55,-333.1 1146.18,-323.7 1151.62,-314.61\"/>\r\n",
       "<polygon fill=\"black\" stroke=\"black\" points=\"1154.63,-316.4 1156.76,-306.02 1148.62,-312.81 1154.63,-316.4\"/>\r\n",
       "</g>\r\n",
       "<!-- 15 -->\r\n",
       "<g id=\"node16\" class=\"node\">\r\n",
       "<title>15</title>\r\n",
       "<polygon fill=\"#e99659\" stroke=\"black\" points=\"822,-187 700,-187 700,-104 822,-104 822,-187\"/>\r\n",
       "<text text-anchor=\"middle\" x=\"761\" y=\"-171.8\" font-family=\"Times New Roman,serif\" font-size=\"14.00\">A2_Score &lt;= 0.5</text>\r\n",
       "<text text-anchor=\"middle\" x=\"761\" y=\"-156.8\" font-family=\"Times New Roman,serif\" font-size=\"14.00\">gini = 0.242</text>\r\n",
       "<text text-anchor=\"middle\" x=\"761\" y=\"-141.8\" font-family=\"Times New Roman,serif\" font-size=\"14.00\">samples = 71</text>\r\n",
       "<text text-anchor=\"middle\" x=\"761\" y=\"-126.8\" font-family=\"Times New Roman,serif\" font-size=\"14.00\">value = [61, 10]</text>\r\n",
       "<text text-anchor=\"middle\" x=\"761\" y=\"-111.8\" font-family=\"Times New Roman,serif\" font-size=\"14.00\">class = no autismo</text>\r\n",
       "</g>\r\n",
       "<!-- 14&#45;&gt;15 -->\r\n",
       "<g id=\"edge15\" class=\"edge\">\r\n",
       "<title>14&#45;&gt;15</title>\r\n",
       "<path fill=\"none\" stroke=\"black\" d=\"M909.98,-229.5C885.28,-215.74 856.62,-199.77 831.07,-185.54\"/>\r\n",
       "<polygon fill=\"black\" stroke=\"black\" points=\"832.61,-182.39 822.17,-180.58 829.21,-188.51 832.61,-182.39\"/>\r\n",
       "</g>\r\n",
       "<!-- 18 -->\r\n",
       "<g id=\"node19\" class=\"node\">\r\n",
       "<title>18</title>\r\n",
       "<polygon fill=\"#e68640\" stroke=\"black\" points=\"1032,-187 910,-187 910,-104 1032,-104 1032,-187\"/>\r\n",
       "<text text-anchor=\"middle\" x=\"971\" y=\"-171.8\" font-family=\"Times New Roman,serif\" font-size=\"14.00\">result &lt;= 7.5</text>\r\n",
       "<text text-anchor=\"middle\" x=\"971\" y=\"-156.8\" font-family=\"Times New Roman,serif\" font-size=\"14.00\">gini = 0.067</text>\r\n",
       "<text text-anchor=\"middle\" x=\"971\" y=\"-141.8\" font-family=\"Times New Roman,serif\" font-size=\"14.00\">samples = 86</text>\r\n",
       "<text text-anchor=\"middle\" x=\"971\" y=\"-126.8\" font-family=\"Times New Roman,serif\" font-size=\"14.00\">value = [83, 3]</text>\r\n",
       "<text text-anchor=\"middle\" x=\"971\" y=\"-111.8\" font-family=\"Times New Roman,serif\" font-size=\"14.00\">class = no autismo</text>\r\n",
       "</g>\r\n",
       "<!-- 14&#45;&gt;18 -->\r\n",
       "<g id=\"edge18\" class=\"edge\">\r\n",
       "<title>14&#45;&gt;18</title>\r\n",
       "<path fill=\"none\" stroke=\"black\" d=\"M971,-222.91C971,-214.65 971,-205.86 971,-197.3\"/>\r\n",
       "<polygon fill=\"black\" stroke=\"black\" points=\"974.5,-197.02 971,-187.02 967.5,-197.02 974.5,-197.02\"/>\r\n",
       "</g>\r\n",
       "<!-- 16 -->\r\n",
       "<g id=\"node17\" class=\"node\">\r\n",
       "<title>16</title>\r\n",
       "<polygon fill=\"#f0b68c\" stroke=\"black\" points=\"682,-68 560,-68 560,0 682,0 682,-68\"/>\r\n",
       "<text text-anchor=\"middle\" x=\"621\" y=\"-52.8\" font-family=\"Times New Roman,serif\" font-size=\"14.00\">gini = 0.417</text>\r\n",
       "<text text-anchor=\"middle\" x=\"621\" y=\"-37.8\" font-family=\"Times New Roman,serif\" font-size=\"14.00\">samples = 27</text>\r\n",
       "<text text-anchor=\"middle\" x=\"621\" y=\"-22.8\" font-family=\"Times New Roman,serif\" font-size=\"14.00\">value = [19, 8]</text>\r\n",
       "<text text-anchor=\"middle\" x=\"621\" y=\"-7.8\" font-family=\"Times New Roman,serif\" font-size=\"14.00\">class = no autismo</text>\r\n",
       "</g>\r\n",
       "<!-- 15&#45;&gt;16 -->\r\n",
       "<g id=\"edge16\" class=\"edge\">\r\n",
       "<title>15&#45;&gt;16</title>\r\n",
       "<path fill=\"none\" stroke=\"black\" d=\"M708.87,-103.73C696.74,-94.24 683.85,-84.16 671.78,-74.72\"/>\r\n",
       "<polygon fill=\"black\" stroke=\"black\" points=\"673.61,-71.7 663.57,-68.3 669.3,-77.22 673.61,-71.7\"/>\r\n",
       "</g>\r\n",
       "<!-- 17 -->\r\n",
       "<g id=\"node18\" class=\"node\">\r\n",
       "<title>17</title>\r\n",
       "<polygon fill=\"#e68742\" stroke=\"black\" points=\"822,-68 700,-68 700,0 822,0 822,-68\"/>\r\n",
       "<text text-anchor=\"middle\" x=\"761\" y=\"-52.8\" font-family=\"Times New Roman,serif\" font-size=\"14.00\">gini = 0.087</text>\r\n",
       "<text text-anchor=\"middle\" x=\"761\" y=\"-37.8\" font-family=\"Times New Roman,serif\" font-size=\"14.00\">samples = 44</text>\r\n",
       "<text text-anchor=\"middle\" x=\"761\" y=\"-22.8\" font-family=\"Times New Roman,serif\" font-size=\"14.00\">value = [42, 2]</text>\r\n",
       "<text text-anchor=\"middle\" x=\"761\" y=\"-7.8\" font-family=\"Times New Roman,serif\" font-size=\"14.00\">class = no autismo</text>\r\n",
       "</g>\r\n",
       "<!-- 15&#45;&gt;17 -->\r\n",
       "<g id=\"edge17\" class=\"edge\">\r\n",
       "<title>15&#45;&gt;17</title>\r\n",
       "<path fill=\"none\" stroke=\"black\" d=\"M761,-103.73C761,-95.52 761,-86.86 761,-78.56\"/>\r\n",
       "<polygon fill=\"black\" stroke=\"black\" points=\"764.5,-78.3 761,-68.3 757.5,-78.3 764.5,-78.3\"/>\r\n",
       "</g>\r\n",
       "<!-- 19 -->\r\n",
       "<g id=\"node20\" class=\"node\">\r\n",
       "<title>19</title>\r\n",
       "<polygon fill=\"#e5833c\" stroke=\"black\" points=\"962,-68 840,-68 840,0 962,0 962,-68\"/>\r\n",
       "<text text-anchor=\"middle\" x=\"901\" y=\"-52.8\" font-family=\"Times New Roman,serif\" font-size=\"14.00\">gini = 0.026</text>\r\n",
       "<text text-anchor=\"middle\" x=\"901\" y=\"-37.8\" font-family=\"Times New Roman,serif\" font-size=\"14.00\">samples = 75</text>\r\n",
       "<text text-anchor=\"middle\" x=\"901\" y=\"-22.8\" font-family=\"Times New Roman,serif\" font-size=\"14.00\">value = [74, 1]</text>\r\n",
       "<text text-anchor=\"middle\" x=\"901\" y=\"-7.8\" font-family=\"Times New Roman,serif\" font-size=\"14.00\">class = no autismo</text>\r\n",
       "</g>\r\n",
       "<!-- 18&#45;&gt;19 -->\r\n",
       "<g id=\"edge19\" class=\"edge\">\r\n",
       "<title>18&#45;&gt;19</title>\r\n",
       "<path fill=\"none\" stroke=\"black\" d=\"M944.93,-103.73C939.34,-94.97 933.41,-85.7 927.79,-76.91\"/>\r\n",
       "<polygon fill=\"black\" stroke=\"black\" points=\"930.62,-74.84 922.29,-68.3 924.72,-78.61 930.62,-74.84\"/>\r\n",
       "</g>\r\n",
       "<!-- 20 -->\r\n",
       "<g id=\"node21\" class=\"node\">\r\n",
       "<title>20</title>\r\n",
       "<polygon fill=\"#eb9d65\" stroke=\"black\" points=\"1102,-68 980,-68 980,0 1102,0 1102,-68\"/>\r\n",
       "<text text-anchor=\"middle\" x=\"1041\" y=\"-52.8\" font-family=\"Times New Roman,serif\" font-size=\"14.00\">gini = 0.298</text>\r\n",
       "<text text-anchor=\"middle\" x=\"1041\" y=\"-37.8\" font-family=\"Times New Roman,serif\" font-size=\"14.00\">samples = 11</text>\r\n",
       "<text text-anchor=\"middle\" x=\"1041\" y=\"-22.8\" font-family=\"Times New Roman,serif\" font-size=\"14.00\">value = [9, 2]</text>\r\n",
       "<text text-anchor=\"middle\" x=\"1041\" y=\"-7.8\" font-family=\"Times New Roman,serif\" font-size=\"14.00\">class = no autismo</text>\r\n",
       "</g>\r\n",
       "<!-- 18&#45;&gt;20 -->\r\n",
       "<g id=\"edge20\" class=\"edge\">\r\n",
       "<title>18&#45;&gt;20</title>\r\n",
       "<path fill=\"none\" stroke=\"black\" d=\"M997.07,-103.73C1002.66,-94.97 1008.59,-85.7 1014.21,-76.91\"/>\r\n",
       "<polygon fill=\"black\" stroke=\"black\" points=\"1017.28,-78.61 1019.71,-68.3 1011.38,-74.84 1017.28,-78.61\"/>\r\n",
       "</g>\r\n",
       "<!-- 22 -->\r\n",
       "<g id=\"node23\" class=\"node\">\r\n",
       "<title>22</title>\r\n",
       "<polygon fill=\"#eda876\" stroke=\"black\" points=\"1242,-187 1120,-187 1120,-104 1242,-104 1242,-187\"/>\r\n",
       "<text text-anchor=\"middle\" x=\"1181\" y=\"-171.8\" font-family=\"Times New Roman,serif\" font-size=\"14.00\">result &lt;= 5.5</text>\r\n",
       "<text text-anchor=\"middle\" x=\"1181\" y=\"-156.8\" font-family=\"Times New Roman,serif\" font-size=\"14.00\">gini = 0.36</text>\r\n",
       "<text text-anchor=\"middle\" x=\"1181\" y=\"-141.8\" font-family=\"Times New Roman,serif\" font-size=\"14.00\">samples = 17</text>\r\n",
       "<text text-anchor=\"middle\" x=\"1181\" y=\"-126.8\" font-family=\"Times New Roman,serif\" font-size=\"14.00\">value = [13, 4]</text>\r\n",
       "<text text-anchor=\"middle\" x=\"1181\" y=\"-111.8\" font-family=\"Times New Roman,serif\" font-size=\"14.00\">class = no autismo</text>\r\n",
       "</g>\r\n",
       "<!-- 21&#45;&gt;22 -->\r\n",
       "<g id=\"edge22\" class=\"edge\">\r\n",
       "<title>21&#45;&gt;22</title>\r\n",
       "<path fill=\"none\" stroke=\"black\" d=\"M1181,-222.91C1181,-214.65 1181,-205.86 1181,-197.3\"/>\r\n",
       "<polygon fill=\"black\" stroke=\"black\" points=\"1184.5,-197.02 1181,-187.02 1177.5,-197.02 1184.5,-197.02\"/>\r\n",
       "</g>\r\n",
       "<!-- 25 -->\r\n",
       "<g id=\"node26\" class=\"node\">\r\n",
       "<title>25</title>\r\n",
       "<polygon fill=\"#399de5\" stroke=\"black\" points=\"1376,-179.5 1260,-179.5 1260,-111.5 1376,-111.5 1376,-179.5\"/>\r\n",
       "<text text-anchor=\"middle\" x=\"1318\" y=\"-164.3\" font-family=\"Times New Roman,serif\" font-size=\"14.00\">gini = 0.0</text>\r\n",
       "<text text-anchor=\"middle\" x=\"1318\" y=\"-149.3\" font-family=\"Times New Roman,serif\" font-size=\"14.00\">samples = 1</text>\r\n",
       "<text text-anchor=\"middle\" x=\"1318\" y=\"-134.3\" font-family=\"Times New Roman,serif\" font-size=\"14.00\">value = [0, 1]</text>\r\n",
       "<text text-anchor=\"middle\" x=\"1318\" y=\"-119.3\" font-family=\"Times New Roman,serif\" font-size=\"14.00\">class = si autismo</text>\r\n",
       "</g>\r\n",
       "<!-- 21&#45;&gt;25 -->\r\n",
       "<g id=\"edge25\" class=\"edge\">\r\n",
       "<title>21&#45;&gt;25</title>\r\n",
       "<path fill=\"none\" stroke=\"black\" d=\"M1228.53,-222.91C1242.36,-211.1 1257.44,-198.22 1271.22,-186.45\"/>\r\n",
       "<polygon fill=\"black\" stroke=\"black\" points=\"1273.83,-188.82 1279.16,-179.67 1269.29,-183.5 1273.83,-188.82\"/>\r\n",
       "</g>\r\n",
       "<!-- 23 -->\r\n",
       "<g id=\"node24\" class=\"node\">\r\n",
       "<title>23</title>\r\n",
       "<polygon fill=\"#e58139\" stroke=\"black\" points=\"1242,-68 1120,-68 1120,0 1242,0 1242,-68\"/>\r\n",
       "<text text-anchor=\"middle\" x=\"1181\" y=\"-52.8\" font-family=\"Times New Roman,serif\" font-size=\"14.00\">gini = 0.0</text>\r\n",
       "<text text-anchor=\"middle\" x=\"1181\" y=\"-37.8\" font-family=\"Times New Roman,serif\" font-size=\"14.00\">samples = 5</text>\r\n",
       "<text text-anchor=\"middle\" x=\"1181\" y=\"-22.8\" font-family=\"Times New Roman,serif\" font-size=\"14.00\">value = [5, 0]</text>\r\n",
       "<text text-anchor=\"middle\" x=\"1181\" y=\"-7.8\" font-family=\"Times New Roman,serif\" font-size=\"14.00\">class = no autismo</text>\r\n",
       "</g>\r\n",
       "<!-- 22&#45;&gt;23 -->\r\n",
       "<g id=\"edge23\" class=\"edge\">\r\n",
       "<title>22&#45;&gt;23</title>\r\n",
       "<path fill=\"none\" stroke=\"black\" d=\"M1181,-103.73C1181,-95.52 1181,-86.86 1181,-78.56\"/>\r\n",
       "<polygon fill=\"black\" stroke=\"black\" points=\"1184.5,-78.3 1181,-68.3 1177.5,-78.3 1184.5,-78.3\"/>\r\n",
       "</g>\r\n",
       "<!-- 24 -->\r\n",
       "<g id=\"node25\" class=\"node\">\r\n",
       "<title>24</title>\r\n",
       "<polygon fill=\"#f2c09c\" stroke=\"black\" points=\"1382,-68 1260,-68 1260,0 1382,0 1382,-68\"/>\r\n",
       "<text text-anchor=\"middle\" x=\"1321\" y=\"-52.8\" font-family=\"Times New Roman,serif\" font-size=\"14.00\">gini = 0.444</text>\r\n",
       "<text text-anchor=\"middle\" x=\"1321\" y=\"-37.8\" font-family=\"Times New Roman,serif\" font-size=\"14.00\">samples = 12</text>\r\n",
       "<text text-anchor=\"middle\" x=\"1321\" y=\"-22.8\" font-family=\"Times New Roman,serif\" font-size=\"14.00\">value = [8, 4]</text>\r\n",
       "<text text-anchor=\"middle\" x=\"1321\" y=\"-7.8\" font-family=\"Times New Roman,serif\" font-size=\"14.00\">class = no autismo</text>\r\n",
       "</g>\r\n",
       "<!-- 22&#45;&gt;24 -->\r\n",
       "<g id=\"edge24\" class=\"edge\">\r\n",
       "<title>22&#45;&gt;24</title>\r\n",
       "<path fill=\"none\" stroke=\"black\" d=\"M1233.13,-103.73C1245.26,-94.24 1258.15,-84.16 1270.22,-74.72\"/>\r\n",
       "<polygon fill=\"black\" stroke=\"black\" points=\"1272.7,-77.22 1278.43,-68.3 1268.39,-71.7 1272.7,-77.22\"/>\r\n",
       "</g>\r\n",
       "<!-- 27 -->\r\n",
       "<g id=\"node28\" class=\"node\">\r\n",
       "<title>27</title>\r\n",
       "<polygon fill=\"#e99254\" stroke=\"black\" points=\"1797,-425 1675,-425 1675,-342 1797,-342 1797,-425\"/>\r\n",
       "<text text-anchor=\"middle\" x=\"1736\" y=\"-409.8\" font-family=\"Times New Roman,serif\" font-size=\"14.00\">ethnicity &lt;= 8.5</text>\r\n",
       "<text text-anchor=\"middle\" x=\"1736\" y=\"-394.8\" font-family=\"Times New Roman,serif\" font-size=\"14.00\">gini = 0.211</text>\r\n",
       "<text text-anchor=\"middle\" x=\"1736\" y=\"-379.8\" font-family=\"Times New Roman,serif\" font-size=\"14.00\">samples = 92</text>\r\n",
       "<text text-anchor=\"middle\" x=\"1736\" y=\"-364.8\" font-family=\"Times New Roman,serif\" font-size=\"14.00\">value = [81, 11]</text>\r\n",
       "<text text-anchor=\"middle\" x=\"1736\" y=\"-349.8\" font-family=\"Times New Roman,serif\" font-size=\"14.00\">class = no autismo</text>\r\n",
       "</g>\r\n",
       "<!-- 26&#45;&gt;27 -->\r\n",
       "<g id=\"edge27\" class=\"edge\">\r\n",
       "<title>26&#45;&gt;27</title>\r\n",
       "<path fill=\"none\" stroke=\"black\" d=\"M1736,-460.91C1736,-452.65 1736,-443.86 1736,-435.3\"/>\r\n",
       "<polygon fill=\"black\" stroke=\"black\" points=\"1739.5,-435.02 1736,-425.02 1732.5,-435.02 1739.5,-435.02\"/>\r\n",
       "</g>\r\n",
       "<!-- 36 -->\r\n",
       "<g id=\"node37\" class=\"node\">\r\n",
       "<title>36</title>\r\n",
       "<polygon fill=\"#f2bf9b\" stroke=\"black\" points=\"2138,-425 2016,-425 2016,-342 2138,-342 2138,-425\"/>\r\n",
       "<text text-anchor=\"middle\" x=\"2077\" y=\"-409.8\" font-family=\"Times New Roman,serif\" font-size=\"14.00\">ethnicity &lt;= 8.5</text>\r\n",
       "<text text-anchor=\"middle\" x=\"2077\" y=\"-394.8\" font-family=\"Times New Roman,serif\" font-size=\"14.00\">gini = 0.442</text>\r\n",
       "<text text-anchor=\"middle\" x=\"2077\" y=\"-379.8\" font-family=\"Times New Roman,serif\" font-size=\"14.00\">samples = 106</text>\r\n",
       "<text text-anchor=\"middle\" x=\"2077\" y=\"-364.8\" font-family=\"Times New Roman,serif\" font-size=\"14.00\">value = [71, 35]</text>\r\n",
       "<text text-anchor=\"middle\" x=\"2077\" y=\"-349.8\" font-family=\"Times New Roman,serif\" font-size=\"14.00\">class = no autismo</text>\r\n",
       "</g>\r\n",
       "<!-- 26&#45;&gt;36 -->\r\n",
       "<g id=\"edge36\" class=\"edge\">\r\n",
       "<title>26&#45;&gt;36</title>\r\n",
       "<path fill=\"none\" stroke=\"black\" d=\"M1797.36,-480.45C1856.06,-460.31 1944.53,-429.95 2006.19,-408.8\"/>\r\n",
       "<polygon fill=\"black\" stroke=\"black\" points=\"2007.53,-412.04 2015.85,-405.48 2005.25,-405.42 2007.53,-412.04\"/>\r\n",
       "</g>\r\n",
       "<!-- 28 -->\r\n",
       "<g id=\"node29\" class=\"node\">\r\n",
       "<title>28</title>\r\n",
       "<polygon fill=\"#e89151\" stroke=\"black\" points=\"1738,-306 1580,-306 1580,-223 1738,-223 1738,-306\"/>\r\n",
       "<text text-anchor=\"middle\" x=\"1659\" y=\"-290.8\" font-family=\"Times New Roman,serif\" font-size=\"14.00\">country_of_res &lt;= 0.023</text>\r\n",
       "<text text-anchor=\"middle\" x=\"1659\" y=\"-275.8\" font-family=\"Times New Roman,serif\" font-size=\"14.00\">gini = 0.196</text>\r\n",
       "<text text-anchor=\"middle\" x=\"1659\" y=\"-260.8\" font-family=\"Times New Roman,serif\" font-size=\"14.00\">samples = 91</text>\r\n",
       "<text text-anchor=\"middle\" x=\"1659\" y=\"-245.8\" font-family=\"Times New Roman,serif\" font-size=\"14.00\">value = [81, 10]</text>\r\n",
       "<text text-anchor=\"middle\" x=\"1659\" y=\"-230.8\" font-family=\"Times New Roman,serif\" font-size=\"14.00\">class = no autismo</text>\r\n",
       "</g>\r\n",
       "<!-- 27&#45;&gt;28 -->\r\n",
       "<g id=\"edge28\" class=\"edge\">\r\n",
       "<title>27&#45;&gt;28</title>\r\n",
       "<path fill=\"none\" stroke=\"black\" d=\"M1709.29,-341.91C1703.49,-333.1 1697.3,-323.7 1691.32,-314.61\"/>\r\n",
       "<polygon fill=\"black\" stroke=\"black\" points=\"1694.09,-312.45 1685.67,-306.02 1688.24,-316.3 1694.09,-312.45\"/>\r\n",
       "</g>\r\n",
       "<!-- 35 -->\r\n",
       "<g id=\"node36\" class=\"node\">\r\n",
       "<title>35</title>\r\n",
       "<polygon fill=\"#399de5\" stroke=\"black\" points=\"1872,-298.5 1756,-298.5 1756,-230.5 1872,-230.5 1872,-298.5\"/>\r\n",
       "<text text-anchor=\"middle\" x=\"1814\" y=\"-283.3\" font-family=\"Times New Roman,serif\" font-size=\"14.00\">gini = 0.0</text>\r\n",
       "<text text-anchor=\"middle\" x=\"1814\" y=\"-268.3\" font-family=\"Times New Roman,serif\" font-size=\"14.00\">samples = 1</text>\r\n",
       "<text text-anchor=\"middle\" x=\"1814\" y=\"-253.3\" font-family=\"Times New Roman,serif\" font-size=\"14.00\">value = [0, 1]</text>\r\n",
       "<text text-anchor=\"middle\" x=\"1814\" y=\"-238.3\" font-family=\"Times New Roman,serif\" font-size=\"14.00\">class = si autismo</text>\r\n",
       "</g>\r\n",
       "<!-- 27&#45;&gt;35 -->\r\n",
       "<g id=\"edge35\" class=\"edge\">\r\n",
       "<title>27&#45;&gt;35</title>\r\n",
       "<path fill=\"none\" stroke=\"black\" d=\"M1763.06,-341.91C1770.57,-330.65 1778.72,-318.42 1786.26,-307.11\"/>\r\n",
       "<polygon fill=\"black\" stroke=\"black\" points=\"1789.25,-308.93 1791.89,-298.67 1783.43,-305.05 1789.25,-308.93\"/>\r\n",
       "</g>\r\n",
       "<!-- 29 -->\r\n",
       "<g id=\"node30\" class=\"node\">\r\n",
       "<title>29</title>\r\n",
       "<polygon fill=\"#eeab7b\" stroke=\"black\" points=\"1656,-187 1534,-187 1534,-104 1656,-104 1656,-187\"/>\r\n",
       "<text text-anchor=\"middle\" x=\"1595\" y=\"-171.8\" font-family=\"Times New Roman,serif\" font-size=\"14.00\">age &lt;= 0.287</text>\r\n",
       "<text text-anchor=\"middle\" x=\"1595\" y=\"-156.8\" font-family=\"Times New Roman,serif\" font-size=\"14.00\">gini = 0.375</text>\r\n",
       "<text text-anchor=\"middle\" x=\"1595\" y=\"-141.8\" font-family=\"Times New Roman,serif\" font-size=\"14.00\">samples = 16</text>\r\n",
       "<text text-anchor=\"middle\" x=\"1595\" y=\"-126.8\" font-family=\"Times New Roman,serif\" font-size=\"14.00\">value = [12, 4]</text>\r\n",
       "<text text-anchor=\"middle\" x=\"1595\" y=\"-111.8\" font-family=\"Times New Roman,serif\" font-size=\"14.00\">class = no autismo</text>\r\n",
       "</g>\r\n",
       "<!-- 28&#45;&gt;29 -->\r\n",
       "<g id=\"edge29\" class=\"edge\">\r\n",
       "<title>28&#45;&gt;29</title>\r\n",
       "<path fill=\"none\" stroke=\"black\" d=\"M1636.8,-222.91C1632.03,-214.2 1626.94,-204.9 1622.02,-195.89\"/>\r\n",
       "<polygon fill=\"black\" stroke=\"black\" points=\"1625.03,-194.11 1617.17,-187.02 1618.89,-197.47 1625.03,-194.11\"/>\r\n",
       "</g>\r\n",
       "<!-- 32 -->\r\n",
       "<g id=\"node33\" class=\"node\">\r\n",
       "<title>32</title>\r\n",
       "<polygon fill=\"#e78c4a\" stroke=\"black\" points=\"1796,-187 1674,-187 1674,-104 1796,-104 1796,-187\"/>\r\n",
       "<text text-anchor=\"middle\" x=\"1735\" y=\"-171.8\" font-family=\"Times New Roman,serif\" font-size=\"14.00\">relation &lt;= 2.5</text>\r\n",
       "<text text-anchor=\"middle\" x=\"1735\" y=\"-156.8\" font-family=\"Times New Roman,serif\" font-size=\"14.00\">gini = 0.147</text>\r\n",
       "<text text-anchor=\"middle\" x=\"1735\" y=\"-141.8\" font-family=\"Times New Roman,serif\" font-size=\"14.00\">samples = 75</text>\r\n",
       "<text text-anchor=\"middle\" x=\"1735\" y=\"-126.8\" font-family=\"Times New Roman,serif\" font-size=\"14.00\">value = [69, 6]</text>\r\n",
       "<text text-anchor=\"middle\" x=\"1735\" y=\"-111.8\" font-family=\"Times New Roman,serif\" font-size=\"14.00\">class = no autismo</text>\r\n",
       "</g>\r\n",
       "<!-- 28&#45;&gt;32 -->\r\n",
       "<g id=\"edge32\" class=\"edge\">\r\n",
       "<title>28&#45;&gt;32</title>\r\n",
       "<path fill=\"none\" stroke=\"black\" d=\"M1685.37,-222.91C1691.09,-214.1 1697.19,-204.7 1703.1,-195.61\"/>\r\n",
       "<polygon fill=\"black\" stroke=\"black\" points=\"1706.17,-197.31 1708.68,-187.02 1700.3,-193.5 1706.17,-197.31\"/>\r\n",
       "</g>\r\n",
       "<!-- 30 -->\r\n",
       "<g id=\"node31\" class=\"node\">\r\n",
       "<title>30</title>\r\n",
       "<polygon fill=\"#399de5\" stroke=\"black\" points=\"1516,-68 1400,-68 1400,0 1516,0 1516,-68\"/>\r\n",
       "<text text-anchor=\"middle\" x=\"1458\" y=\"-52.8\" font-family=\"Times New Roman,serif\" font-size=\"14.00\">gini = 0.0</text>\r\n",
       "<text text-anchor=\"middle\" x=\"1458\" y=\"-37.8\" font-family=\"Times New Roman,serif\" font-size=\"14.00\">samples = 2</text>\r\n",
       "<text text-anchor=\"middle\" x=\"1458\" y=\"-22.8\" font-family=\"Times New Roman,serif\" font-size=\"14.00\">value = [0, 2]</text>\r\n",
       "<text text-anchor=\"middle\" x=\"1458\" y=\"-7.8\" font-family=\"Times New Roman,serif\" font-size=\"14.00\">class = si autismo</text>\r\n",
       "</g>\r\n",
       "<!-- 29&#45;&gt;30 -->\r\n",
       "<g id=\"edge30\" class=\"edge\">\r\n",
       "<title>29&#45;&gt;30</title>\r\n",
       "<path fill=\"none\" stroke=\"black\" d=\"M1543.99,-103.73C1532.12,-94.24 1519.5,-84.16 1507.69,-74.72\"/>\r\n",
       "<polygon fill=\"black\" stroke=\"black\" points=\"1509.66,-71.81 1499.66,-68.3 1505.29,-77.28 1509.66,-71.81\"/>\r\n",
       "</g>\r\n",
       "<!-- 31 -->\r\n",
       "<g id=\"node32\" class=\"node\">\r\n",
       "<title>31</title>\r\n",
       "<polygon fill=\"#e9965a\" stroke=\"black\" points=\"1656,-68 1534,-68 1534,0 1656,0 1656,-68\"/>\r\n",
       "<text text-anchor=\"middle\" x=\"1595\" y=\"-52.8\" font-family=\"Times New Roman,serif\" font-size=\"14.00\">gini = 0.245</text>\r\n",
       "<text text-anchor=\"middle\" x=\"1595\" y=\"-37.8\" font-family=\"Times New Roman,serif\" font-size=\"14.00\">samples = 14</text>\r\n",
       "<text text-anchor=\"middle\" x=\"1595\" y=\"-22.8\" font-family=\"Times New Roman,serif\" font-size=\"14.00\">value = [12, 2]</text>\r\n",
       "<text text-anchor=\"middle\" x=\"1595\" y=\"-7.8\" font-family=\"Times New Roman,serif\" font-size=\"14.00\">class = no autismo</text>\r\n",
       "</g>\r\n",
       "<!-- 29&#45;&gt;31 -->\r\n",
       "<g id=\"edge31\" class=\"edge\">\r\n",
       "<title>29&#45;&gt;31</title>\r\n",
       "<path fill=\"none\" stroke=\"black\" d=\"M1595,-103.73C1595,-95.52 1595,-86.86 1595,-78.56\"/>\r\n",
       "<polygon fill=\"black\" stroke=\"black\" points=\"1598.5,-78.3 1595,-68.3 1591.5,-78.3 1598.5,-78.3\"/>\r\n",
       "</g>\r\n",
       "<!-- 33 -->\r\n",
       "<g id=\"node34\" class=\"node\">\r\n",
       "<title>33</title>\r\n",
       "<polygon fill=\"#e78a48\" stroke=\"black\" points=\"1796,-68 1674,-68 1674,0 1796,0 1796,-68\"/>\r\n",
       "<text text-anchor=\"middle\" x=\"1735\" y=\"-52.8\" font-family=\"Times New Roman,serif\" font-size=\"14.00\">gini = 0.129</text>\r\n",
       "<text text-anchor=\"middle\" x=\"1735\" y=\"-37.8\" font-family=\"Times New Roman,serif\" font-size=\"14.00\">samples = 72</text>\r\n",
       "<text text-anchor=\"middle\" x=\"1735\" y=\"-22.8\" font-family=\"Times New Roman,serif\" font-size=\"14.00\">value = [67, 5]</text>\r\n",
       "<text text-anchor=\"middle\" x=\"1735\" y=\"-7.8\" font-family=\"Times New Roman,serif\" font-size=\"14.00\">class = no autismo</text>\r\n",
       "</g>\r\n",
       "<!-- 32&#45;&gt;33 -->\r\n",
       "<g id=\"edge33\" class=\"edge\">\r\n",
       "<title>32&#45;&gt;33</title>\r\n",
       "<path fill=\"none\" stroke=\"black\" d=\"M1735,-103.73C1735,-95.52 1735,-86.86 1735,-78.56\"/>\r\n",
       "<polygon fill=\"black\" stroke=\"black\" points=\"1738.5,-78.3 1735,-68.3 1731.5,-78.3 1738.5,-78.3\"/>\r\n",
       "</g>\r\n",
       "<!-- 34 -->\r\n",
       "<g id=\"node35\" class=\"node\">\r\n",
       "<title>34</title>\r\n",
       "<polygon fill=\"#f2c09c\" stroke=\"black\" points=\"1936,-68 1814,-68 1814,0 1936,0 1936,-68\"/>\r\n",
       "<text text-anchor=\"middle\" x=\"1875\" y=\"-52.8\" font-family=\"Times New Roman,serif\" font-size=\"14.00\">gini = 0.444</text>\r\n",
       "<text text-anchor=\"middle\" x=\"1875\" y=\"-37.8\" font-family=\"Times New Roman,serif\" font-size=\"14.00\">samples = 3</text>\r\n",
       "<text text-anchor=\"middle\" x=\"1875\" y=\"-22.8\" font-family=\"Times New Roman,serif\" font-size=\"14.00\">value = [2, 1]</text>\r\n",
       "<text text-anchor=\"middle\" x=\"1875\" y=\"-7.8\" font-family=\"Times New Roman,serif\" font-size=\"14.00\">class = no autismo</text>\r\n",
       "</g>\r\n",
       "<!-- 32&#45;&gt;34 -->\r\n",
       "<g id=\"edge34\" class=\"edge\">\r\n",
       "<title>32&#45;&gt;34</title>\r\n",
       "<path fill=\"none\" stroke=\"black\" d=\"M1787.13,-103.73C1799.26,-94.24 1812.15,-84.16 1824.22,-74.72\"/>\r\n",
       "<polygon fill=\"black\" stroke=\"black\" points=\"1826.7,-77.22 1832.43,-68.3 1822.39,-71.7 1826.7,-77.22\"/>\r\n",
       "</g>\r\n",
       "<!-- 37 -->\r\n",
       "<g id=\"node38\" class=\"node\">\r\n",
       "<title>37</title>\r\n",
       "<polygon fill=\"#f1bc95\" stroke=\"black\" points=\"2138,-306 2016,-306 2016,-223 2138,-223 2138,-306\"/>\r\n",
       "<text text-anchor=\"middle\" x=\"2077\" y=\"-290.8\" font-family=\"Times New Roman,serif\" font-size=\"14.00\">result &lt;= 9.5</text>\r\n",
       "<text text-anchor=\"middle\" x=\"2077\" y=\"-275.8\" font-family=\"Times New Roman,serif\" font-size=\"14.00\">gini = 0.433</text>\r\n",
       "<text text-anchor=\"middle\" x=\"2077\" y=\"-260.8\" font-family=\"Times New Roman,serif\" font-size=\"14.00\">samples = 104</text>\r\n",
       "<text text-anchor=\"middle\" x=\"2077\" y=\"-245.8\" font-family=\"Times New Roman,serif\" font-size=\"14.00\">value = [71, 33]</text>\r\n",
       "<text text-anchor=\"middle\" x=\"2077\" y=\"-230.8\" font-family=\"Times New Roman,serif\" font-size=\"14.00\">class = no autismo</text>\r\n",
       "</g>\r\n",
       "<!-- 36&#45;&gt;37 -->\r\n",
       "<g id=\"edge37\" class=\"edge\">\r\n",
       "<title>36&#45;&gt;37</title>\r\n",
       "<path fill=\"none\" stroke=\"black\" d=\"M2077,-341.91C2077,-333.65 2077,-324.86 2077,-316.3\"/>\r\n",
       "<polygon fill=\"black\" stroke=\"black\" points=\"2080.5,-316.02 2077,-306.02 2073.5,-316.02 2080.5,-316.02\"/>\r\n",
       "</g>\r\n",
       "<!-- 44 -->\r\n",
       "<g id=\"node45\" class=\"node\">\r\n",
       "<title>44</title>\r\n",
       "<polygon fill=\"#399de5\" stroke=\"black\" points=\"2272,-298.5 2156,-298.5 2156,-230.5 2272,-230.5 2272,-298.5\"/>\r\n",
       "<text text-anchor=\"middle\" x=\"2214\" y=\"-283.3\" font-family=\"Times New Roman,serif\" font-size=\"14.00\">gini = 0.0</text>\r\n",
       "<text text-anchor=\"middle\" x=\"2214\" y=\"-268.3\" font-family=\"Times New Roman,serif\" font-size=\"14.00\">samples = 2</text>\r\n",
       "<text text-anchor=\"middle\" x=\"2214\" y=\"-253.3\" font-family=\"Times New Roman,serif\" font-size=\"14.00\">value = [0, 2]</text>\r\n",
       "<text text-anchor=\"middle\" x=\"2214\" y=\"-238.3\" font-family=\"Times New Roman,serif\" font-size=\"14.00\">class = si autismo</text>\r\n",
       "</g>\r\n",
       "<!-- 36&#45;&gt;44 -->\r\n",
       "<g id=\"edge44\" class=\"edge\">\r\n",
       "<title>36&#45;&gt;44</title>\r\n",
       "<path fill=\"none\" stroke=\"black\" d=\"M2124.53,-341.91C2138.36,-330.1 2153.44,-317.22 2167.22,-305.45\"/>\r\n",
       "<polygon fill=\"black\" stroke=\"black\" points=\"2169.83,-307.82 2175.16,-298.67 2165.29,-302.5 2169.83,-307.82\"/>\r\n",
       "</g>\r\n",
       "<!-- 38 -->\r\n",
       "<g id=\"node39\" class=\"node\">\r\n",
       "<title>38</title>\r\n",
       "<polygon fill=\"#efb388\" stroke=\"black\" points=\"2138,-187 2016,-187 2016,-104 2138,-104 2138,-187\"/>\r\n",
       "<text text-anchor=\"middle\" x=\"2077\" y=\"-171.8\" font-family=\"Times New Roman,serif\" font-size=\"14.00\">result &lt;= 8.5</text>\r\n",
       "<text text-anchor=\"middle\" x=\"2077\" y=\"-156.8\" font-family=\"Times New Roman,serif\" font-size=\"14.00\">gini = 0.408</text>\r\n",
       "<text text-anchor=\"middle\" x=\"2077\" y=\"-141.8\" font-family=\"Times New Roman,serif\" font-size=\"14.00\">samples = 91</text>\r\n",
       "<text text-anchor=\"middle\" x=\"2077\" y=\"-126.8\" font-family=\"Times New Roman,serif\" font-size=\"14.00\">value = [65, 26]</text>\r\n",
       "<text text-anchor=\"middle\" x=\"2077\" y=\"-111.8\" font-family=\"Times New Roman,serif\" font-size=\"14.00\">class = no autismo</text>\r\n",
       "</g>\r\n",
       "<!-- 37&#45;&gt;38 -->\r\n",
       "<g id=\"edge38\" class=\"edge\">\r\n",
       "<title>37&#45;&gt;38</title>\r\n",
       "<path fill=\"none\" stroke=\"black\" d=\"M2077,-222.91C2077,-214.65 2077,-205.86 2077,-197.3\"/>\r\n",
       "<polygon fill=\"black\" stroke=\"black\" points=\"2080.5,-197.02 2077,-187.02 2073.5,-197.02 2080.5,-197.02\"/>\r\n",
       "</g>\r\n",
       "<!-- 41 -->\r\n",
       "<g id=\"node42\" class=\"node\">\r\n",
       "<title>41</title>\r\n",
       "<polygon fill=\"#e3f1fb\" stroke=\"black\" points=\"2370.5,-187 2219.5,-187 2219.5,-104 2370.5,-104 2370.5,-187\"/>\r\n",
       "<text text-anchor=\"middle\" x=\"2295\" y=\"-171.8\" font-family=\"Times New Roman,serif\" font-size=\"14.00\">country_of_res &lt;= 0.03</text>\r\n",
       "<text text-anchor=\"middle\" x=\"2295\" y=\"-156.8\" font-family=\"Times New Roman,serif\" font-size=\"14.00\">gini = 0.497</text>\r\n",
       "<text text-anchor=\"middle\" x=\"2295\" y=\"-141.8\" font-family=\"Times New Roman,serif\" font-size=\"14.00\">samples = 13</text>\r\n",
       "<text text-anchor=\"middle\" x=\"2295\" y=\"-126.8\" font-family=\"Times New Roman,serif\" font-size=\"14.00\">value = [6, 7]</text>\r\n",
       "<text text-anchor=\"middle\" x=\"2295\" y=\"-111.8\" font-family=\"Times New Roman,serif\" font-size=\"14.00\">class = si autismo</text>\r\n",
       "</g>\r\n",
       "<!-- 37&#45;&gt;41 -->\r\n",
       "<g id=\"edge41\" class=\"edge\">\r\n",
       "<title>37&#45;&gt;41</title>\r\n",
       "<path fill=\"none\" stroke=\"black\" d=\"M2138.37,-227.78C2141.28,-226.15 2144.17,-224.55 2147,-223 2167.33,-211.87 2189.44,-200.21 2210.22,-189.45\"/>\r\n",
       "<polygon fill=\"black\" stroke=\"black\" points=\"2212.07,-192.43 2219.34,-184.73 2208.85,-186.21 2212.07,-192.43\"/>\r\n",
       "</g>\r\n",
       "<!-- 39 -->\r\n",
       "<g id=\"node40\" class=\"node\">\r\n",
       "<title>39</title>\r\n",
       "<polygon fill=\"#f3c7a7\" stroke=\"black\" points=\"2076,-68 1954,-68 1954,0 2076,0 2076,-68\"/>\r\n",
       "<text text-anchor=\"middle\" x=\"2015\" y=\"-52.8\" font-family=\"Times New Roman,serif\" font-size=\"14.00\">gini = 0.459</text>\r\n",
       "<text text-anchor=\"middle\" x=\"2015\" y=\"-37.8\" font-family=\"Times New Roman,serif\" font-size=\"14.00\">samples = 73</text>\r\n",
       "<text text-anchor=\"middle\" x=\"2015\" y=\"-22.8\" font-family=\"Times New Roman,serif\" font-size=\"14.00\">value = [47, 26]</text>\r\n",
       "<text text-anchor=\"middle\" x=\"2015\" y=\"-7.8\" font-family=\"Times New Roman,serif\" font-size=\"14.00\">class = no autismo</text>\r\n",
       "</g>\r\n",
       "<!-- 38&#45;&gt;39 -->\r\n",
       "<g id=\"edge39\" class=\"edge\">\r\n",
       "<title>38&#45;&gt;39</title>\r\n",
       "<path fill=\"none\" stroke=\"black\" d=\"M2053.91,-103.73C2049.01,-95.06 2043.82,-85.9 2038.88,-77.18\"/>\r\n",
       "<polygon fill=\"black\" stroke=\"black\" points=\"2041.83,-75.28 2033.85,-68.3 2035.74,-78.73 2041.83,-75.28\"/>\r\n",
       "</g>\r\n",
       "<!-- 40 -->\r\n",
       "<g id=\"node41\" class=\"node\">\r\n",
       "<title>40</title>\r\n",
       "<polygon fill=\"#e58139\" stroke=\"black\" points=\"2216,-68 2094,-68 2094,0 2216,0 2216,-68\"/>\r\n",
       "<text text-anchor=\"middle\" x=\"2155\" y=\"-52.8\" font-family=\"Times New Roman,serif\" font-size=\"14.00\">gini = 0.0</text>\r\n",
       "<text text-anchor=\"middle\" x=\"2155\" y=\"-37.8\" font-family=\"Times New Roman,serif\" font-size=\"14.00\">samples = 18</text>\r\n",
       "<text text-anchor=\"middle\" x=\"2155\" y=\"-22.8\" font-family=\"Times New Roman,serif\" font-size=\"14.00\">value = [18, 0]</text>\r\n",
       "<text text-anchor=\"middle\" x=\"2155\" y=\"-7.8\" font-family=\"Times New Roman,serif\" font-size=\"14.00\">class = no autismo</text>\r\n",
       "</g>\r\n",
       "<!-- 38&#45;&gt;40 -->\r\n",
       "<g id=\"edge40\" class=\"edge\">\r\n",
       "<title>38&#45;&gt;40</title>\r\n",
       "<path fill=\"none\" stroke=\"black\" d=\"M2106.04,-103.73C2112.35,-94.88 2119.02,-85.51 2125.35,-76.63\"/>\r\n",
       "<polygon fill=\"black\" stroke=\"black\" points=\"2128.33,-78.48 2131.28,-68.3 2122.63,-74.41 2128.33,-78.48\"/>\r\n",
       "</g>\r\n",
       "<!-- 42 -->\r\n",
       "<g id=\"node43\" class=\"node\">\r\n",
       "<title>42</title>\r\n",
       "<polygon fill=\"#e58139\" stroke=\"black\" points=\"2356,-68 2234,-68 2234,0 2356,0 2356,-68\"/>\r\n",
       "<text text-anchor=\"middle\" x=\"2295\" y=\"-52.8\" font-family=\"Times New Roman,serif\" font-size=\"14.00\">gini = 0.0</text>\r\n",
       "<text text-anchor=\"middle\" x=\"2295\" y=\"-37.8\" font-family=\"Times New Roman,serif\" font-size=\"14.00\">samples = 3</text>\r\n",
       "<text text-anchor=\"middle\" x=\"2295\" y=\"-22.8\" font-family=\"Times New Roman,serif\" font-size=\"14.00\">value = [3, 0]</text>\r\n",
       "<text text-anchor=\"middle\" x=\"2295\" y=\"-7.8\" font-family=\"Times New Roman,serif\" font-size=\"14.00\">class = no autismo</text>\r\n",
       "</g>\r\n",
       "<!-- 41&#45;&gt;42 -->\r\n",
       "<g id=\"edge42\" class=\"edge\">\r\n",
       "<title>41&#45;&gt;42</title>\r\n",
       "<path fill=\"none\" stroke=\"black\" d=\"M2295,-103.73C2295,-95.52 2295,-86.86 2295,-78.56\"/>\r\n",
       "<polygon fill=\"black\" stroke=\"black\" points=\"2298.5,-78.3 2295,-68.3 2291.5,-78.3 2298.5,-78.3\"/>\r\n",
       "</g>\r\n",
       "<!-- 43 -->\r\n",
       "<g id=\"node44\" class=\"node\">\r\n",
       "<title>43</title>\r\n",
       "<polygon fill=\"#8ec7f0\" stroke=\"black\" points=\"2490,-68 2374,-68 2374,0 2490,0 2490,-68\"/>\r\n",
       "<text text-anchor=\"middle\" x=\"2432\" y=\"-52.8\" font-family=\"Times New Roman,serif\" font-size=\"14.00\">gini = 0.42</text>\r\n",
       "<text text-anchor=\"middle\" x=\"2432\" y=\"-37.8\" font-family=\"Times New Roman,serif\" font-size=\"14.00\">samples = 10</text>\r\n",
       "<text text-anchor=\"middle\" x=\"2432\" y=\"-22.8\" font-family=\"Times New Roman,serif\" font-size=\"14.00\">value = [3, 7]</text>\r\n",
       "<text text-anchor=\"middle\" x=\"2432\" y=\"-7.8\" font-family=\"Times New Roman,serif\" font-size=\"14.00\">class = si autismo</text>\r\n",
       "</g>\r\n",
       "<!-- 41&#45;&gt;43 -->\r\n",
       "<g id=\"edge43\" class=\"edge\">\r\n",
       "<title>41&#45;&gt;43</title>\r\n",
       "<path fill=\"none\" stroke=\"black\" d=\"M2346.01,-103.73C2357.88,-94.24 2370.5,-84.16 2382.31,-74.72\"/>\r\n",
       "<polygon fill=\"black\" stroke=\"black\" points=\"2384.71,-77.28 2390.34,-68.3 2380.34,-71.81 2384.71,-77.28\"/>\r\n",
       "</g>\r\n",
       "</g>\r\n",
       "</svg>\r\n"
      ],
      "text/plain": [
       "<graphviz.files.Source at 0x241f801d4f0>"
      ]
     },
     "metadata": {},
     "output_type": "display_data"
    }
   ],
   "source": [
    "tree=DecisionTreeClassifier(max_depth=5, random_state=0)\n",
    "tree.fit(X_train, y_train)\n",
    "\n",
    "from sklearn.tree import export_graphviz\n",
    "export_graphviz(tree, out_file=\"tree.dot\", class_names=[\"no autismo\", \"si autismo\"],\n",
    "                feature_names=dataframe_reducido.columns, impurity=True, filled=True)\n",
    "import graphviz\n",
    "\n",
    "with open(\"tree.dot\") as f:\n",
    "    dot_graph = f.read()\n",
    "display(graphviz.Source(dot_graph))"
   ]
  },
  {
   "cell_type": "markdown",
   "metadata": {},
   "source": [
    "Explorando el árbol de decisión de **X_pca** utilizando las **representaciónes gráficas dadas de Graphviz**:"
   ]
  },
  {
   "cell_type": "code",
   "execution_count": 160,
   "metadata": {},
   "outputs": [
    {
     "name": "stdout",
     "output_type": "stream",
     "text": [
      "Depth: 1. Accuracy on training set: 0.871\n",
      "Depth: 1. Accuracy on test set: 0.869\n",
      "Depth: 2. Accuracy on training set: 0.881\n",
      "Depth: 2. Accuracy on test set: 0.858\n",
      "Depth: 3. Accuracy on training set: 0.886\n",
      "Depth: 3. Accuracy on test set: 0.858\n",
      "Depth: 4. Accuracy on training set: 0.890\n",
      "Depth: 4. Accuracy on test set: 0.858\n",
      "Depth: 5. Accuracy on training set: 0.898\n",
      "Depth: 5. Accuracy on test set: 0.858\n",
      "Depth: 6. Accuracy on training set: 0.902\n",
      "Depth: 6. Accuracy on test set: 0.852\n",
      "Depth: 7. Accuracy on training set: 0.913\n",
      "Depth: 7. Accuracy on test set: 0.847\n",
      "Depth: 8. Accuracy on training set: 0.926\n",
      "Depth: 8. Accuracy on test set: 0.835\n",
      "Depth: 9. Accuracy on training set: 0.939\n",
      "Depth: 9. Accuracy on test set: 0.841\n",
      "Depth: 10. Accuracy on training set: 0.941\n",
      "Depth: 10. Accuracy on test set: 0.841\n",
      "Depth: 11. Accuracy on training set: 0.945\n",
      "Depth: 11. Accuracy on test set: 0.841\n",
      "Depth: 12. Accuracy on training set: 0.955\n",
      "Depth: 12. Accuracy on test set: 0.835\n",
      "Depth: 13. Accuracy on training set: 0.958\n",
      "Depth: 13. Accuracy on test set: 0.841\n",
      "Depth: 14. Accuracy on training set: 0.964\n",
      "Depth: 14. Accuracy on test set: 0.824\n",
      "Depth: 15. Accuracy on training set: 0.970\n",
      "Depth: 15. Accuracy on test set: 0.835\n",
      "Depth: 16. Accuracy on training set: 0.977\n",
      "Depth: 16. Accuracy on test set: 0.835\n",
      "Depth: 17. Accuracy on training set: 0.983\n",
      "Depth: 17. Accuracy on test set: 0.835\n",
      "Depth: 18. Accuracy on training set: 0.991\n",
      "Depth: 18. Accuracy on test set: 0.818\n",
      "Depth: 19. Accuracy on training set: 0.994\n",
      "Depth: 19. Accuracy on test set: 0.830\n"
     ]
    }
   ],
   "source": [
    "for i in range(1, 20):\n",
    "    tree_pca = DecisionTreeClassifier(max_depth=i, random_state=0)\n",
    "    tree_pca.fit(X_pca_train, y_pca_train)\n",
    "\n",
    "    print(\"Depth: {}. Accuracy on training set: {:.3f}\".format(i, tree_pca.score(X_pca_train, y_pca_train)))\n",
    "    print(\"Depth: {}. Accuracy on test set: {:.3f}\".format(i, tree_pca.score(X_pca_test, y_pca_test)))"
   ]
  },
  {
   "cell_type": "markdown",
   "metadata": {},
   "source": [
    "Podando el arbol mejoramos el rendimiento sobre el conjunto de test de **X_pca**. Como antes tendremo que quedarnos a **profundidad 1** pero esto implicaria el mismo problema de antes: todos clasificados como \"no autismo\". Entonces nos quedamos a **profundidad 5** obteniendo como rendimiento de train **0.898** y sobre el test **0.858**."
   ]
  },
  {
   "cell_type": "code",
   "execution_count": 161,
   "metadata": {},
   "outputs": [
    {
     "data": {
      "image/svg+xml": [
       "<?xml version=\"1.0\" encoding=\"UTF-8\" standalone=\"no\"?>\r\n",
       "<!DOCTYPE svg PUBLIC \"-//W3C//DTD SVG 1.1//EN\"\r\n",
       " \"http://www.w3.org/Graphics/SVG/1.1/DTD/svg11.dtd\">\r\n",
       "<!-- Generated by graphviz version 2.47.3 (20210619.1520)\r\n",
       " -->\r\n",
       "<!-- Title: Tree Pages: 1 -->\r\n",
       "<svg width=\"1394pt\" height=\"671pt\"\r\n",
       " viewBox=\"0.00 0.00 1394.00 671.00\" xmlns=\"http://www.w3.org/2000/svg\" xmlns:xlink=\"http://www.w3.org/1999/xlink\">\r\n",
       "<g id=\"graph0\" class=\"graph\" transform=\"scale(1 1) rotate(0) translate(4 667)\">\r\n",
       "<title>Tree</title>\r\n",
       "<polygon fill=\"white\" stroke=\"transparent\" points=\"-4,4 -4,-667 1390,-667 1390,4 -4,4\"/>\r\n",
       "<!-- 0 -->\r\n",
       "<g id=\"node1\" class=\"node\">\r\n",
       "<title>0</title>\r\n",
       "<polygon fill=\"#e99456\" stroke=\"black\" points=\"790,-663 636,-663 636,-580 790,-580 790,-663\"/>\r\n",
       "<text text-anchor=\"middle\" x=\"713\" y=\"-647.8\" font-family=\"Times New Roman,serif\" font-size=\"14.00\">Componente 1 &lt;= 5.598</text>\r\n",
       "<text text-anchor=\"middle\" x=\"713\" y=\"-632.8\" font-family=\"Times New Roman,serif\" font-size=\"14.00\">gini = 0.224</text>\r\n",
       "<text text-anchor=\"middle\" x=\"713\" y=\"-617.8\" font-family=\"Times New Roman,serif\" font-size=\"14.00\">samples = 528</text>\r\n",
       "<text text-anchor=\"middle\" x=\"713\" y=\"-602.8\" font-family=\"Times New Roman,serif\" font-size=\"14.00\">value = [460, 68]</text>\r\n",
       "<text text-anchor=\"middle\" x=\"713\" y=\"-587.8\" font-family=\"Times New Roman,serif\" font-size=\"14.00\">class = no autismo</text>\r\n",
       "</g>\r\n",
       "<!-- 1 -->\r\n",
       "<g id=\"node2\" class=\"node\">\r\n",
       "<title>1</title>\r\n",
       "<polygon fill=\"#e99254\" stroke=\"black\" points=\"704,-544 546,-544 546,-461 704,-461 704,-544\"/>\r\n",
       "<text text-anchor=\"middle\" x=\"625\" y=\"-528.8\" font-family=\"Times New Roman,serif\" font-size=\"14.00\">Componente 3 &lt;= &#45;0.976</text>\r\n",
       "<text text-anchor=\"middle\" x=\"625\" y=\"-513.8\" font-family=\"Times New Roman,serif\" font-size=\"14.00\">gini = 0.209</text>\r\n",
       "<text text-anchor=\"middle\" x=\"625\" y=\"-498.8\" font-family=\"Times New Roman,serif\" font-size=\"14.00\">samples = 514</text>\r\n",
       "<text text-anchor=\"middle\" x=\"625\" y=\"-483.8\" font-family=\"Times New Roman,serif\" font-size=\"14.00\">value = [453, 61]</text>\r\n",
       "<text text-anchor=\"middle\" x=\"625\" y=\"-468.8\" font-family=\"Times New Roman,serif\" font-size=\"14.00\">class = no autismo</text>\r\n",
       "</g>\r\n",
       "<!-- 0&#45;&gt;1 -->\r\n",
       "<g id=\"edge1\" class=\"edge\">\r\n",
       "<title>0&#45;&gt;1</title>\r\n",
       "<path fill=\"none\" stroke=\"black\" d=\"M682.47,-579.91C675.71,-570.92 668.48,-561.32 661.52,-552.05\"/>\r\n",
       "<polygon fill=\"black\" stroke=\"black\" points=\"664.29,-549.91 655.48,-544.02 658.69,-554.12 664.29,-549.91\"/>\r\n",
       "<text text-anchor=\"middle\" x=\"651.98\" y=\"-565.07\" font-family=\"Times New Roman,serif\" font-size=\"14.00\">True</text>\r\n",
       "</g>\r\n",
       "<!-- 18 -->\r\n",
       "<g id=\"node19\" class=\"node\">\r\n",
       "<title>18</title>\r\n",
       "<polygon fill=\"#ffffff\" stroke=\"black\" points=\"880,-544 722,-544 722,-461 880,-461 880,-544\"/>\r\n",
       "<text text-anchor=\"middle\" x=\"801\" y=\"-528.8\" font-family=\"Times New Roman,serif\" font-size=\"14.00\">Componente 3 &lt;= &#45;0.641</text>\r\n",
       "<text text-anchor=\"middle\" x=\"801\" y=\"-513.8\" font-family=\"Times New Roman,serif\" font-size=\"14.00\">gini = 0.5</text>\r\n",
       "<text text-anchor=\"middle\" x=\"801\" y=\"-498.8\" font-family=\"Times New Roman,serif\" font-size=\"14.00\">samples = 14</text>\r\n",
       "<text text-anchor=\"middle\" x=\"801\" y=\"-483.8\" font-family=\"Times New Roman,serif\" font-size=\"14.00\">value = [7, 7]</text>\r\n",
       "<text text-anchor=\"middle\" x=\"801\" y=\"-468.8\" font-family=\"Times New Roman,serif\" font-size=\"14.00\">class = no autismo</text>\r\n",
       "</g>\r\n",
       "<!-- 0&#45;&gt;18 -->\r\n",
       "<g id=\"edge18\" class=\"edge\">\r\n",
       "<title>0&#45;&gt;18</title>\r\n",
       "<path fill=\"none\" stroke=\"black\" d=\"M743.53,-579.91C750.29,-570.92 757.52,-561.32 764.48,-552.05\"/>\r\n",
       "<polygon fill=\"black\" stroke=\"black\" points=\"767.31,-554.12 770.52,-544.02 761.71,-549.91 767.31,-554.12\"/>\r\n",
       "<text text-anchor=\"middle\" x=\"774.02\" y=\"-565.07\" font-family=\"Times New Roman,serif\" font-size=\"14.00\">False</text>\r\n",
       "</g>\r\n",
       "<!-- 2 -->\r\n",
       "<g id=\"node3\" class=\"node\">\r\n",
       "<title>2</title>\r\n",
       "<polygon fill=\"#399de5\" stroke=\"black\" points=\"538,-417.5 422,-417.5 422,-349.5 538,-349.5 538,-417.5\"/>\r\n",
       "<text text-anchor=\"middle\" x=\"480\" y=\"-402.3\" font-family=\"Times New Roman,serif\" font-size=\"14.00\">gini = 0.0</text>\r\n",
       "<text text-anchor=\"middle\" x=\"480\" y=\"-387.3\" font-family=\"Times New Roman,serif\" font-size=\"14.00\">samples = 2</text>\r\n",
       "<text text-anchor=\"middle\" x=\"480\" y=\"-372.3\" font-family=\"Times New Roman,serif\" font-size=\"14.00\">value = [0, 2]</text>\r\n",
       "<text text-anchor=\"middle\" x=\"480\" y=\"-357.3\" font-family=\"Times New Roman,serif\" font-size=\"14.00\">class = si autismo</text>\r\n",
       "</g>\r\n",
       "<!-- 1&#45;&gt;2 -->\r\n",
       "<g id=\"edge2\" class=\"edge\">\r\n",
       "<title>1&#45;&gt;2</title>\r\n",
       "<path fill=\"none\" stroke=\"black\" d=\"M574.69,-460.91C559.92,-448.99 543.79,-435.98 529.1,-424.12\"/>\r\n",
       "<polygon fill=\"black\" stroke=\"black\" points=\"531.08,-421.22 521.1,-417.67 526.69,-426.67 531.08,-421.22\"/>\r\n",
       "</g>\r\n",
       "<!-- 3 -->\r\n",
       "<g id=\"node4\" class=\"node\">\r\n",
       "<title>3</title>\r\n",
       "<polygon fill=\"#e89153\" stroke=\"black\" points=\"714,-425 556,-425 556,-342 714,-342 714,-425\"/>\r\n",
       "<text text-anchor=\"middle\" x=\"635\" y=\"-409.8\" font-family=\"Times New Roman,serif\" font-size=\"14.00\">Componente 1 &lt;= &#45;0.717</text>\r\n",
       "<text text-anchor=\"middle\" x=\"635\" y=\"-394.8\" font-family=\"Times New Roman,serif\" font-size=\"14.00\">gini = 0.204</text>\r\n",
       "<text text-anchor=\"middle\" x=\"635\" y=\"-379.8\" font-family=\"Times New Roman,serif\" font-size=\"14.00\">samples = 512</text>\r\n",
       "<text text-anchor=\"middle\" x=\"635\" y=\"-364.8\" font-family=\"Times New Roman,serif\" font-size=\"14.00\">value = [453, 59]</text>\r\n",
       "<text text-anchor=\"middle\" x=\"635\" y=\"-349.8\" font-family=\"Times New Roman,serif\" font-size=\"14.00\">class = no autismo</text>\r\n",
       "</g>\r\n",
       "<!-- 1&#45;&gt;3 -->\r\n",
       "<g id=\"edge3\" class=\"edge\">\r\n",
       "<title>1&#45;&gt;3</title>\r\n",
       "<path fill=\"none\" stroke=\"black\" d=\"M628.47,-460.91C629.18,-452.56 629.94,-443.67 630.68,-435.02\"/>\r\n",
       "<polygon fill=\"black\" stroke=\"black\" points=\"634.17,-435.28 631.54,-425.02 627.2,-434.69 634.17,-435.28\"/>\r\n",
       "</g>\r\n",
       "<!-- 4 -->\r\n",
       "<g id=\"node5\" class=\"node\">\r\n",
       "<title>4</title>\r\n",
       "<polygon fill=\"#e78a47\" stroke=\"black\" points=\"519,-306 361,-306 361,-223 519,-223 519,-306\"/>\r\n",
       "<text text-anchor=\"middle\" x=\"440\" y=\"-290.8\" font-family=\"Times New Roman,serif\" font-size=\"14.00\">Componente 3 &lt;= &#45;0.805</text>\r\n",
       "<text text-anchor=\"middle\" x=\"440\" y=\"-275.8\" font-family=\"Times New Roman,serif\" font-size=\"14.00\">gini = 0.127</text>\r\n",
       "<text text-anchor=\"middle\" x=\"440\" y=\"-260.8\" font-family=\"Times New Roman,serif\" font-size=\"14.00\">samples = 250</text>\r\n",
       "<text text-anchor=\"middle\" x=\"440\" y=\"-245.8\" font-family=\"Times New Roman,serif\" font-size=\"14.00\">value = [233, 17]</text>\r\n",
       "<text text-anchor=\"middle\" x=\"440\" y=\"-230.8\" font-family=\"Times New Roman,serif\" font-size=\"14.00\">class = no autismo</text>\r\n",
       "</g>\r\n",
       "<!-- 3&#45;&gt;4 -->\r\n",
       "<g id=\"edge4\" class=\"edge\">\r\n",
       "<title>3&#45;&gt;4</title>\r\n",
       "<path fill=\"none\" stroke=\"black\" d=\"M567.35,-341.91C550.86,-332.02 533.11,-321.37 516.26,-311.25\"/>\r\n",
       "<polygon fill=\"black\" stroke=\"black\" points=\"517.91,-308.16 507.53,-306.02 514.31,-314.17 517.91,-308.16\"/>\r\n",
       "</g>\r\n",
       "<!-- 11 -->\r\n",
       "<g id=\"node12\" class=\"node\">\r\n",
       "<title>11</title>\r\n",
       "<polygon fill=\"#ea995f\" stroke=\"black\" points=\"720.5,-306 573.5,-306 573.5,-223 720.5,-223 720.5,-306\"/>\r\n",
       "<text text-anchor=\"middle\" x=\"647\" y=\"-290.8\" font-family=\"Times New Roman,serif\" font-size=\"14.00\">Componente 3 &lt;= 1.14</text>\r\n",
       "<text text-anchor=\"middle\" x=\"647\" y=\"-275.8\" font-family=\"Times New Roman,serif\" font-size=\"14.00\">gini = 0.269</text>\r\n",
       "<text text-anchor=\"middle\" x=\"647\" y=\"-260.8\" font-family=\"Times New Roman,serif\" font-size=\"14.00\">samples = 262</text>\r\n",
       "<text text-anchor=\"middle\" x=\"647\" y=\"-245.8\" font-family=\"Times New Roman,serif\" font-size=\"14.00\">value = [220, 42]</text>\r\n",
       "<text text-anchor=\"middle\" x=\"647\" y=\"-230.8\" font-family=\"Times New Roman,serif\" font-size=\"14.00\">class = no autismo</text>\r\n",
       "</g>\r\n",
       "<!-- 3&#45;&gt;11 -->\r\n",
       "<g id=\"edge11\" class=\"edge\">\r\n",
       "<title>3&#45;&gt;11</title>\r\n",
       "<path fill=\"none\" stroke=\"black\" d=\"M639.16,-341.91C640.02,-333.56 640.93,-324.67 641.82,-316.02\"/>\r\n",
       "<polygon fill=\"black\" stroke=\"black\" points=\"645.31,-316.33 642.84,-306.02 638.34,-315.61 645.31,-316.33\"/>\r\n",
       "</g>\r\n",
       "<!-- 5 -->\r\n",
       "<g id=\"node6\" class=\"node\">\r\n",
       "<title>5</title>\r\n",
       "<polygon fill=\"#eb9e67\" stroke=\"black\" points=\"277,-187 119,-187 119,-104 277,-104 277,-187\"/>\r\n",
       "<text text-anchor=\"middle\" x=\"198\" y=\"-171.8\" font-family=\"Times New Roman,serif\" font-size=\"14.00\">Componente 3 &lt;= &#45;0.807</text>\r\n",
       "<text text-anchor=\"middle\" x=\"198\" y=\"-156.8\" font-family=\"Times New Roman,serif\" font-size=\"14.00\">gini = 0.307</text>\r\n",
       "<text text-anchor=\"middle\" x=\"198\" y=\"-141.8\" font-family=\"Times New Roman,serif\" font-size=\"14.00\">samples = 37</text>\r\n",
       "<text text-anchor=\"middle\" x=\"198\" y=\"-126.8\" font-family=\"Times New Roman,serif\" font-size=\"14.00\">value = [30, 7]</text>\r\n",
       "<text text-anchor=\"middle\" x=\"198\" y=\"-111.8\" font-family=\"Times New Roman,serif\" font-size=\"14.00\">class = no autismo</text>\r\n",
       "</g>\r\n",
       "<!-- 4&#45;&gt;5 -->\r\n",
       "<g id=\"edge5\" class=\"edge\">\r\n",
       "<title>4&#45;&gt;5</title>\r\n",
       "<path fill=\"none\" stroke=\"black\" d=\"M360.76,-225.19C336.93,-213.67 310.63,-200.95 286.25,-189.16\"/>\r\n",
       "<polygon fill=\"black\" stroke=\"black\" points=\"287.53,-185.9 277,-184.7 284.48,-192.2 287.53,-185.9\"/>\r\n",
       "</g>\r\n",
       "<!-- 8 -->\r\n",
       "<g id=\"node9\" class=\"node\">\r\n",
       "<title>8</title>\r\n",
       "<polygon fill=\"#e68743\" stroke=\"black\" points=\"519,-187 361,-187 361,-104 519,-104 519,-187\"/>\r\n",
       "<text text-anchor=\"middle\" x=\"440\" y=\"-171.8\" font-family=\"Times New Roman,serif\" font-size=\"14.00\">Componente 2 &lt;= &#45;1.866</text>\r\n",
       "<text text-anchor=\"middle\" x=\"440\" y=\"-156.8\" font-family=\"Times New Roman,serif\" font-size=\"14.00\">gini = 0.089</text>\r\n",
       "<text text-anchor=\"middle\" x=\"440\" y=\"-141.8\" font-family=\"Times New Roman,serif\" font-size=\"14.00\">samples = 213</text>\r\n",
       "<text text-anchor=\"middle\" x=\"440\" y=\"-126.8\" font-family=\"Times New Roman,serif\" font-size=\"14.00\">value = [203, 10]</text>\r\n",
       "<text text-anchor=\"middle\" x=\"440\" y=\"-111.8\" font-family=\"Times New Roman,serif\" font-size=\"14.00\">class = no autismo</text>\r\n",
       "</g>\r\n",
       "<!-- 4&#45;&gt;8 -->\r\n",
       "<g id=\"edge8\" class=\"edge\">\r\n",
       "<title>4&#45;&gt;8</title>\r\n",
       "<path fill=\"none\" stroke=\"black\" d=\"M440,-222.91C440,-214.65 440,-205.86 440,-197.3\"/>\r\n",
       "<polygon fill=\"black\" stroke=\"black\" points=\"443.5,-197.02 440,-187.02 436.5,-197.02 443.5,-197.02\"/>\r\n",
       "</g>\r\n",
       "<!-- 6 -->\r\n",
       "<g id=\"node7\" class=\"node\">\r\n",
       "<title>6</title>\r\n",
       "<polygon fill=\"#ea9a61\" stroke=\"black\" points=\"122,-68 0,-68 0,0 122,0 122,-68\"/>\r\n",
       "<text text-anchor=\"middle\" x=\"61\" y=\"-52.8\" font-family=\"Times New Roman,serif\" font-size=\"14.00\">gini = 0.278</text>\r\n",
       "<text text-anchor=\"middle\" x=\"61\" y=\"-37.8\" font-family=\"Times New Roman,serif\" font-size=\"14.00\">samples = 36</text>\r\n",
       "<text text-anchor=\"middle\" x=\"61\" y=\"-22.8\" font-family=\"Times New Roman,serif\" font-size=\"14.00\">value = [30, 6]</text>\r\n",
       "<text text-anchor=\"middle\" x=\"61\" y=\"-7.8\" font-family=\"Times New Roman,serif\" font-size=\"14.00\">class = no autismo</text>\r\n",
       "</g>\r\n",
       "<!-- 5&#45;&gt;6 -->\r\n",
       "<g id=\"edge6\" class=\"edge\">\r\n",
       "<title>5&#45;&gt;6</title>\r\n",
       "<path fill=\"none\" stroke=\"black\" d=\"M146.99,-103.73C135.12,-94.24 122.5,-84.16 110.69,-74.72\"/>\r\n",
       "<polygon fill=\"black\" stroke=\"black\" points=\"112.66,-71.81 102.66,-68.3 108.29,-77.28 112.66,-71.81\"/>\r\n",
       "</g>\r\n",
       "<!-- 7 -->\r\n",
       "<g id=\"node8\" class=\"node\">\r\n",
       "<title>7</title>\r\n",
       "<polygon fill=\"#399de5\" stroke=\"black\" points=\"256,-68 140,-68 140,0 256,0 256,-68\"/>\r\n",
       "<text text-anchor=\"middle\" x=\"198\" y=\"-52.8\" font-family=\"Times New Roman,serif\" font-size=\"14.00\">gini = 0.0</text>\r\n",
       "<text text-anchor=\"middle\" x=\"198\" y=\"-37.8\" font-family=\"Times New Roman,serif\" font-size=\"14.00\">samples = 1</text>\r\n",
       "<text text-anchor=\"middle\" x=\"198\" y=\"-22.8\" font-family=\"Times New Roman,serif\" font-size=\"14.00\">value = [0, 1]</text>\r\n",
       "<text text-anchor=\"middle\" x=\"198\" y=\"-7.8\" font-family=\"Times New Roman,serif\" font-size=\"14.00\">class = si autismo</text>\r\n",
       "</g>\r\n",
       "<!-- 5&#45;&gt;7 -->\r\n",
       "<g id=\"edge7\" class=\"edge\">\r\n",
       "<title>5&#45;&gt;7</title>\r\n",
       "<path fill=\"none\" stroke=\"black\" d=\"M198,-103.73C198,-95.52 198,-86.86 198,-78.56\"/>\r\n",
       "<polygon fill=\"black\" stroke=\"black\" points=\"201.5,-78.3 198,-68.3 194.5,-78.3 201.5,-78.3\"/>\r\n",
       "</g>\r\n",
       "<!-- 9 -->\r\n",
       "<g id=\"node10\" class=\"node\">\r\n",
       "<title>9</title>\r\n",
       "<polygon fill=\"#e89051\" stroke=\"black\" points=\"396,-68 274,-68 274,0 396,0 396,-68\"/>\r\n",
       "<text text-anchor=\"middle\" x=\"335\" y=\"-52.8\" font-family=\"Times New Roman,serif\" font-size=\"14.00\">gini = 0.194</text>\r\n",
       "<text text-anchor=\"middle\" x=\"335\" y=\"-37.8\" font-family=\"Times New Roman,serif\" font-size=\"14.00\">samples = 55</text>\r\n",
       "<text text-anchor=\"middle\" x=\"335\" y=\"-22.8\" font-family=\"Times New Roman,serif\" font-size=\"14.00\">value = [49, 6]</text>\r\n",
       "<text text-anchor=\"middle\" x=\"335\" y=\"-7.8\" font-family=\"Times New Roman,serif\" font-size=\"14.00\">class = no autismo</text>\r\n",
       "</g>\r\n",
       "<!-- 8&#45;&gt;9 -->\r\n",
       "<g id=\"edge9\" class=\"edge\">\r\n",
       "<title>8&#45;&gt;9</title>\r\n",
       "<path fill=\"none\" stroke=\"black\" d=\"M400.9,-103.73C392.07,-94.51 382.69,-84.74 373.87,-75.53\"/>\r\n",
       "<polygon fill=\"black\" stroke=\"black\" points=\"376.38,-73.1 366.93,-68.3 371.33,-77.94 376.38,-73.1\"/>\r\n",
       "</g>\r\n",
       "<!-- 10 -->\r\n",
       "<g id=\"node11\" class=\"node\">\r\n",
       "<title>10</title>\r\n",
       "<polygon fill=\"#e6843e\" stroke=\"black\" points=\"536,-68 414,-68 414,0 536,0 536,-68\"/>\r\n",
       "<text text-anchor=\"middle\" x=\"475\" y=\"-52.8\" font-family=\"Times New Roman,serif\" font-size=\"14.00\">gini = 0.049</text>\r\n",
       "<text text-anchor=\"middle\" x=\"475\" y=\"-37.8\" font-family=\"Times New Roman,serif\" font-size=\"14.00\">samples = 158</text>\r\n",
       "<text text-anchor=\"middle\" x=\"475\" y=\"-22.8\" font-family=\"Times New Roman,serif\" font-size=\"14.00\">value = [154, 4]</text>\r\n",
       "<text text-anchor=\"middle\" x=\"475\" y=\"-7.8\" font-family=\"Times New Roman,serif\" font-size=\"14.00\">class = no autismo</text>\r\n",
       "</g>\r\n",
       "<!-- 8&#45;&gt;10 -->\r\n",
       "<g id=\"edge10\" class=\"edge\">\r\n",
       "<title>8&#45;&gt;10</title>\r\n",
       "<path fill=\"none\" stroke=\"black\" d=\"M453.03,-103.73C455.71,-95.34 458.55,-86.47 461.25,-78.01\"/>\r\n",
       "<polygon fill=\"black\" stroke=\"black\" points=\"464.65,-78.89 464.36,-68.3 457.98,-76.76 464.65,-78.89\"/>\r\n",
       "</g>\r\n",
       "<!-- 12 -->\r\n",
       "<g id=\"node13\" class=\"node\">\r\n",
       "<title>12</title>\r\n",
       "<polygon fill=\"#ea975c\" stroke=\"black\" points=\"726,-187 568,-187 568,-104 726,-104 726,-187\"/>\r\n",
       "<text text-anchor=\"middle\" x=\"647\" y=\"-171.8\" font-family=\"Times New Roman,serif\" font-size=\"14.00\">Componente 2 &lt;= &#45;1.765</text>\r\n",
       "<text text-anchor=\"middle\" x=\"647\" y=\"-156.8\" font-family=\"Times New Roman,serif\" font-size=\"14.00\">gini = 0.257</text>\r\n",
       "<text text-anchor=\"middle\" x=\"647\" y=\"-141.8\" font-family=\"Times New Roman,serif\" font-size=\"14.00\">samples = 258</text>\r\n",
       "<text text-anchor=\"middle\" x=\"647\" y=\"-126.8\" font-family=\"Times New Roman,serif\" font-size=\"14.00\">value = [219, 39]</text>\r\n",
       "<text text-anchor=\"middle\" x=\"647\" y=\"-111.8\" font-family=\"Times New Roman,serif\" font-size=\"14.00\">class = no autismo</text>\r\n",
       "</g>\r\n",
       "<!-- 11&#45;&gt;12 -->\r\n",
       "<g id=\"edge12\" class=\"edge\">\r\n",
       "<title>11&#45;&gt;12</title>\r\n",
       "<path fill=\"none\" stroke=\"black\" d=\"M647,-222.91C647,-214.65 647,-205.86 647,-197.3\"/>\r\n",
       "<polygon fill=\"black\" stroke=\"black\" points=\"650.5,-197.02 647,-187.02 643.5,-197.02 650.5,-197.02\"/>\r\n",
       "</g>\r\n",
       "<!-- 15 -->\r\n",
       "<g id=\"node16\" class=\"node\">\r\n",
       "<title>15</title>\r\n",
       "<polygon fill=\"#7bbeee\" stroke=\"black\" points=\"966,-187 812,-187 812,-104 966,-104 966,-187\"/>\r\n",
       "<text text-anchor=\"middle\" x=\"889\" y=\"-171.8\" font-family=\"Times New Roman,serif\" font-size=\"14.00\">Componente 1 &lt;= 1.393</text>\r\n",
       "<text text-anchor=\"middle\" x=\"889\" y=\"-156.8\" font-family=\"Times New Roman,serif\" font-size=\"14.00\">gini = 0.375</text>\r\n",
       "<text text-anchor=\"middle\" x=\"889\" y=\"-141.8\" font-family=\"Times New Roman,serif\" font-size=\"14.00\">samples = 4</text>\r\n",
       "<text text-anchor=\"middle\" x=\"889\" y=\"-126.8\" font-family=\"Times New Roman,serif\" font-size=\"14.00\">value = [1, 3]</text>\r\n",
       "<text text-anchor=\"middle\" x=\"889\" y=\"-111.8\" font-family=\"Times New Roman,serif\" font-size=\"14.00\">class = si autismo</text>\r\n",
       "</g>\r\n",
       "<!-- 11&#45;&gt;15 -->\r\n",
       "<g id=\"edge15\" class=\"edge\">\r\n",
       "<title>11&#45;&gt;15</title>\r\n",
       "<path fill=\"none\" stroke=\"black\" d=\"M720.59,-227.92C746.58,-215.36 776.03,-201.12 802.96,-188.1\"/>\r\n",
       "<polygon fill=\"black\" stroke=\"black\" points=\"804.5,-191.24 811.98,-183.74 801.46,-184.94 804.5,-191.24\"/>\r\n",
       "</g>\r\n",
       "<!-- 13 -->\r\n",
       "<g id=\"node14\" class=\"node\">\r\n",
       "<title>13</title>\r\n",
       "<polygon fill=\"#bddef6\" stroke=\"black\" points=\"670,-68 554,-68 554,0 670,0 670,-68\"/>\r\n",
       "<text text-anchor=\"middle\" x=\"612\" y=\"-52.8\" font-family=\"Times New Roman,serif\" font-size=\"14.00\">gini = 0.48</text>\r\n",
       "<text text-anchor=\"middle\" x=\"612\" y=\"-37.8\" font-family=\"Times New Roman,serif\" font-size=\"14.00\">samples = 5</text>\r\n",
       "<text text-anchor=\"middle\" x=\"612\" y=\"-22.8\" font-family=\"Times New Roman,serif\" font-size=\"14.00\">value = [2, 3]</text>\r\n",
       "<text text-anchor=\"middle\" x=\"612\" y=\"-7.8\" font-family=\"Times New Roman,serif\" font-size=\"14.00\">class = si autismo</text>\r\n",
       "</g>\r\n",
       "<!-- 12&#45;&gt;13 -->\r\n",
       "<g id=\"edge13\" class=\"edge\">\r\n",
       "<title>12&#45;&gt;13</title>\r\n",
       "<path fill=\"none\" stroke=\"black\" d=\"M633.97,-103.73C631.29,-95.34 628.45,-86.47 625.75,-78.01\"/>\r\n",
       "<polygon fill=\"black\" stroke=\"black\" points=\"629.02,-76.76 622.64,-68.3 622.35,-78.89 629.02,-76.76\"/>\r\n",
       "</g>\r\n",
       "<!-- 14 -->\r\n",
       "<g id=\"node15\" class=\"node\">\r\n",
       "<title>14</title>\r\n",
       "<polygon fill=\"#e9965a\" stroke=\"black\" points=\"810,-68 688,-68 688,0 810,0 810,-68\"/>\r\n",
       "<text text-anchor=\"middle\" x=\"749\" y=\"-52.8\" font-family=\"Times New Roman,serif\" font-size=\"14.00\">gini = 0.244</text>\r\n",
       "<text text-anchor=\"middle\" x=\"749\" y=\"-37.8\" font-family=\"Times New Roman,serif\" font-size=\"14.00\">samples = 253</text>\r\n",
       "<text text-anchor=\"middle\" x=\"749\" y=\"-22.8\" font-family=\"Times New Roman,serif\" font-size=\"14.00\">value = [217, 36]</text>\r\n",
       "<text text-anchor=\"middle\" x=\"749\" y=\"-7.8\" font-family=\"Times New Roman,serif\" font-size=\"14.00\">class = no autismo</text>\r\n",
       "</g>\r\n",
       "<!-- 12&#45;&gt;14 -->\r\n",
       "<g id=\"edge14\" class=\"edge\">\r\n",
       "<title>12&#45;&gt;14</title>\r\n",
       "<path fill=\"none\" stroke=\"black\" d=\"M684.98,-103.73C693.48,-94.61 702.49,-84.93 710.99,-75.81\"/>\r\n",
       "<polygon fill=\"black\" stroke=\"black\" points=\"713.73,-78 717.98,-68.3 708.6,-73.23 713.73,-78\"/>\r\n",
       "</g>\r\n",
       "<!-- 16 -->\r\n",
       "<g id=\"node17\" class=\"node\">\r\n",
       "<title>16</title>\r\n",
       "<polygon fill=\"#e58139\" stroke=\"black\" points=\"950,-68 828,-68 828,0 950,0 950,-68\"/>\r\n",
       "<text text-anchor=\"middle\" x=\"889\" y=\"-52.8\" font-family=\"Times New Roman,serif\" font-size=\"14.00\">gini = 0.0</text>\r\n",
       "<text text-anchor=\"middle\" x=\"889\" y=\"-37.8\" font-family=\"Times New Roman,serif\" font-size=\"14.00\">samples = 1</text>\r\n",
       "<text text-anchor=\"middle\" x=\"889\" y=\"-22.8\" font-family=\"Times New Roman,serif\" font-size=\"14.00\">value = [1, 0]</text>\r\n",
       "<text text-anchor=\"middle\" x=\"889\" y=\"-7.8\" font-family=\"Times New Roman,serif\" font-size=\"14.00\">class = no autismo</text>\r\n",
       "</g>\r\n",
       "<!-- 15&#45;&gt;16 -->\r\n",
       "<g id=\"edge16\" class=\"edge\">\r\n",
       "<title>15&#45;&gt;16</title>\r\n",
       "<path fill=\"none\" stroke=\"black\" d=\"M889,-103.73C889,-95.52 889,-86.86 889,-78.56\"/>\r\n",
       "<polygon fill=\"black\" stroke=\"black\" points=\"892.5,-78.3 889,-68.3 885.5,-78.3 892.5,-78.3\"/>\r\n",
       "</g>\r\n",
       "<!-- 17 -->\r\n",
       "<g id=\"node18\" class=\"node\">\r\n",
       "<title>17</title>\r\n",
       "<polygon fill=\"#399de5\" stroke=\"black\" points=\"1084,-68 968,-68 968,0 1084,0 1084,-68\"/>\r\n",
       "<text text-anchor=\"middle\" x=\"1026\" y=\"-52.8\" font-family=\"Times New Roman,serif\" font-size=\"14.00\">gini = 0.0</text>\r\n",
       "<text text-anchor=\"middle\" x=\"1026\" y=\"-37.8\" font-family=\"Times New Roman,serif\" font-size=\"14.00\">samples = 3</text>\r\n",
       "<text text-anchor=\"middle\" x=\"1026\" y=\"-22.8\" font-family=\"Times New Roman,serif\" font-size=\"14.00\">value = [0, 3]</text>\r\n",
       "<text text-anchor=\"middle\" x=\"1026\" y=\"-7.8\" font-family=\"Times New Roman,serif\" font-size=\"14.00\">class = si autismo</text>\r\n",
       "</g>\r\n",
       "<!-- 15&#45;&gt;17 -->\r\n",
       "<g id=\"edge17\" class=\"edge\">\r\n",
       "<title>15&#45;&gt;17</title>\r\n",
       "<path fill=\"none\" stroke=\"black\" d=\"M940.01,-103.73C951.88,-94.24 964.5,-84.16 976.31,-74.72\"/>\r\n",
       "<polygon fill=\"black\" stroke=\"black\" points=\"978.71,-77.28 984.34,-68.3 974.34,-71.81 978.71,-77.28\"/>\r\n",
       "</g>\r\n",
       "<!-- 19 -->\r\n",
       "<g id=\"node20\" class=\"node\">\r\n",
       "<title>19</title>\r\n",
       "<polygon fill=\"#399de5\" stroke=\"black\" points=\"854,-417.5 738,-417.5 738,-349.5 854,-349.5 854,-417.5\"/>\r\n",
       "<text text-anchor=\"middle\" x=\"796\" y=\"-402.3\" font-family=\"Times New Roman,serif\" font-size=\"14.00\">gini = 0.0</text>\r\n",
       "<text text-anchor=\"middle\" x=\"796\" y=\"-387.3\" font-family=\"Times New Roman,serif\" font-size=\"14.00\">samples = 3</text>\r\n",
       "<text text-anchor=\"middle\" x=\"796\" y=\"-372.3\" font-family=\"Times New Roman,serif\" font-size=\"14.00\">value = [0, 3]</text>\r\n",
       "<text text-anchor=\"middle\" x=\"796\" y=\"-357.3\" font-family=\"Times New Roman,serif\" font-size=\"14.00\">class = si autismo</text>\r\n",
       "</g>\r\n",
       "<!-- 18&#45;&gt;19 -->\r\n",
       "<g id=\"edge19\" class=\"edge\">\r\n",
       "<title>18&#45;&gt;19</title>\r\n",
       "<path fill=\"none\" stroke=\"black\" d=\"M799.27,-460.91C798.81,-450.2 798.31,-438.62 797.85,-427.78\"/>\r\n",
       "<polygon fill=\"black\" stroke=\"black\" points=\"801.34,-427.51 797.42,-417.67 794.35,-427.81 801.34,-427.51\"/>\r\n",
       "</g>\r\n",
       "<!-- 20 -->\r\n",
       "<g id=\"node21\" class=\"node\">\r\n",
       "<title>20</title>\r\n",
       "<polygon fill=\"#f4c9aa\" stroke=\"black\" points=\"1012,-425 872,-425 872,-342 1012,-342 1012,-425\"/>\r\n",
       "<text text-anchor=\"middle\" x=\"942\" y=\"-409.8\" font-family=\"Times New Roman,serif\" font-size=\"14.00\">Componente 1 &lt;= 5.6</text>\r\n",
       "<text text-anchor=\"middle\" x=\"942\" y=\"-394.8\" font-family=\"Times New Roman,serif\" font-size=\"14.00\">gini = 0.463</text>\r\n",
       "<text text-anchor=\"middle\" x=\"942\" y=\"-379.8\" font-family=\"Times New Roman,serif\" font-size=\"14.00\">samples = 11</text>\r\n",
       "<text text-anchor=\"middle\" x=\"942\" y=\"-364.8\" font-family=\"Times New Roman,serif\" font-size=\"14.00\">value = [7, 4]</text>\r\n",
       "<text text-anchor=\"middle\" x=\"942\" y=\"-349.8\" font-family=\"Times New Roman,serif\" font-size=\"14.00\">class = no autismo</text>\r\n",
       "</g>\r\n",
       "<!-- 18&#45;&gt;20 -->\r\n",
       "<g id=\"edge20\" class=\"edge\">\r\n",
       "<title>18&#45;&gt;20</title>\r\n",
       "<path fill=\"none\" stroke=\"black\" d=\"M849.92,-460.91C861.29,-451.47 873.5,-441.34 885.18,-431.65\"/>\r\n",
       "<polygon fill=\"black\" stroke=\"black\" points=\"887.71,-434.1 893.17,-425.02 883.24,-428.71 887.71,-434.1\"/>\r\n",
       "</g>\r\n",
       "<!-- 21 -->\r\n",
       "<g id=\"node22\" class=\"node\">\r\n",
       "<title>21</title>\r\n",
       "<polygon fill=\"#399de5\" stroke=\"black\" points=\"977,-298.5 861,-298.5 861,-230.5 977,-230.5 977,-298.5\"/>\r\n",
       "<text text-anchor=\"middle\" x=\"919\" y=\"-283.3\" font-family=\"Times New Roman,serif\" font-size=\"14.00\">gini = 0.0</text>\r\n",
       "<text text-anchor=\"middle\" x=\"919\" y=\"-268.3\" font-family=\"Times New Roman,serif\" font-size=\"14.00\">samples = 3</text>\r\n",
       "<text text-anchor=\"middle\" x=\"919\" y=\"-253.3\" font-family=\"Times New Roman,serif\" font-size=\"14.00\">value = [0, 3]</text>\r\n",
       "<text text-anchor=\"middle\" x=\"919\" y=\"-238.3\" font-family=\"Times New Roman,serif\" font-size=\"14.00\">class = si autismo</text>\r\n",
       "</g>\r\n",
       "<!-- 20&#45;&gt;21 -->\r\n",
       "<g id=\"edge21\" class=\"edge\">\r\n",
       "<title>20&#45;&gt;21</title>\r\n",
       "<path fill=\"none\" stroke=\"black\" d=\"M934.02,-341.91C931.92,-331.2 929.64,-319.62 927.51,-308.78\"/>\r\n",
       "<polygon fill=\"black\" stroke=\"black\" points=\"930.88,-307.8 925.52,-298.67 924.01,-309.15 930.88,-307.8\"/>\r\n",
       "</g>\r\n",
       "<!-- 22 -->\r\n",
       "<g id=\"node23\" class=\"node\">\r\n",
       "<title>22</title>\r\n",
       "<polygon fill=\"#e99355\" stroke=\"black\" points=\"1149,-306 995,-306 995,-223 1149,-223 1149,-306\"/>\r\n",
       "<text text-anchor=\"middle\" x=\"1072\" y=\"-290.8\" font-family=\"Times New Roman,serif\" font-size=\"14.00\">Componente 3 &lt;= 0.714</text>\r\n",
       "<text text-anchor=\"middle\" x=\"1072\" y=\"-275.8\" font-family=\"Times New Roman,serif\" font-size=\"14.00\">gini = 0.219</text>\r\n",
       "<text text-anchor=\"middle\" x=\"1072\" y=\"-260.8\" font-family=\"Times New Roman,serif\" font-size=\"14.00\">samples = 8</text>\r\n",
       "<text text-anchor=\"middle\" x=\"1072\" y=\"-245.8\" font-family=\"Times New Roman,serif\" font-size=\"14.00\">value = [7, 1]</text>\r\n",
       "<text text-anchor=\"middle\" x=\"1072\" y=\"-230.8\" font-family=\"Times New Roman,serif\" font-size=\"14.00\">class = no autismo</text>\r\n",
       "</g>\r\n",
       "<!-- 20&#45;&gt;22 -->\r\n",
       "<g id=\"edge22\" class=\"edge\">\r\n",
       "<title>20&#45;&gt;22</title>\r\n",
       "<path fill=\"none\" stroke=\"black\" d=\"M987.1,-341.91C997.49,-332.56 1008.62,-322.54 1019.3,-312.93\"/>\r\n",
       "<polygon fill=\"black\" stroke=\"black\" points=\"1021.89,-315.31 1026.98,-306.02 1017.2,-310.11 1021.89,-315.31\"/>\r\n",
       "</g>\r\n",
       "<!-- 23 -->\r\n",
       "<g id=\"node24\" class=\"node\">\r\n",
       "<title>23</title>\r\n",
       "<polygon fill=\"#e58139\" stroke=\"black\" points=\"1122,-179.5 1000,-179.5 1000,-111.5 1122,-111.5 1122,-179.5\"/>\r\n",
       "<text text-anchor=\"middle\" x=\"1061\" y=\"-164.3\" font-family=\"Times New Roman,serif\" font-size=\"14.00\">gini = 0.0</text>\r\n",
       "<text text-anchor=\"middle\" x=\"1061\" y=\"-149.3\" font-family=\"Times New Roman,serif\" font-size=\"14.00\">samples = 6</text>\r\n",
       "<text text-anchor=\"middle\" x=\"1061\" y=\"-134.3\" font-family=\"Times New Roman,serif\" font-size=\"14.00\">value = [6, 0]</text>\r\n",
       "<text text-anchor=\"middle\" x=\"1061\" y=\"-119.3\" font-family=\"Times New Roman,serif\" font-size=\"14.00\">class = no autismo</text>\r\n",
       "</g>\r\n",
       "<!-- 22&#45;&gt;23 -->\r\n",
       "<g id=\"edge23\" class=\"edge\">\r\n",
       "<title>22&#45;&gt;23</title>\r\n",
       "<path fill=\"none\" stroke=\"black\" d=\"M1068.18,-222.91C1067.18,-212.2 1066.09,-200.62 1065.07,-189.78\"/>\r\n",
       "<polygon fill=\"black\" stroke=\"black\" points=\"1068.54,-189.3 1064.12,-179.67 1061.57,-189.95 1068.54,-189.3\"/>\r\n",
       "</g>\r\n",
       "<!-- 24 -->\r\n",
       "<g id=\"node25\" class=\"node\">\r\n",
       "<title>24</title>\r\n",
       "<polygon fill=\"#ffffff\" stroke=\"black\" points=\"1292,-187 1140,-187 1140,-104 1292,-104 1292,-187\"/>\r\n",
       "<text text-anchor=\"middle\" x=\"1216\" y=\"-171.8\" font-family=\"Times New Roman,serif\" font-size=\"14.00\">Componente 2 &lt;= &#45;0.73</text>\r\n",
       "<text text-anchor=\"middle\" x=\"1216\" y=\"-156.8\" font-family=\"Times New Roman,serif\" font-size=\"14.00\">gini = 0.5</text>\r\n",
       "<text text-anchor=\"middle\" x=\"1216\" y=\"-141.8\" font-family=\"Times New Roman,serif\" font-size=\"14.00\">samples = 2</text>\r\n",
       "<text text-anchor=\"middle\" x=\"1216\" y=\"-126.8\" font-family=\"Times New Roman,serif\" font-size=\"14.00\">value = [1, 1]</text>\r\n",
       "<text text-anchor=\"middle\" x=\"1216\" y=\"-111.8\" font-family=\"Times New Roman,serif\" font-size=\"14.00\">class = no autismo</text>\r\n",
       "</g>\r\n",
       "<!-- 22&#45;&gt;24 -->\r\n",
       "<g id=\"edge24\" class=\"edge\">\r\n",
       "<title>22&#45;&gt;24</title>\r\n",
       "<path fill=\"none\" stroke=\"black\" d=\"M1121.96,-222.91C1133.69,-213.38 1146.28,-203.15 1158.31,-193.37\"/>\r\n",
       "<polygon fill=\"black\" stroke=\"black\" points=\"1160.57,-196.04 1166.13,-187.02 1156.16,-190.61 1160.57,-196.04\"/>\r\n",
       "</g>\r\n",
       "<!-- 25 -->\r\n",
       "<g id=\"node26\" class=\"node\">\r\n",
       "<title>25</title>\r\n",
       "<polygon fill=\"#399de5\" stroke=\"black\" points=\"1246,-68 1130,-68 1130,0 1246,0 1246,-68\"/>\r\n",
       "<text text-anchor=\"middle\" x=\"1188\" y=\"-52.8\" font-family=\"Times New Roman,serif\" font-size=\"14.00\">gini = 0.0</text>\r\n",
       "<text text-anchor=\"middle\" x=\"1188\" y=\"-37.8\" font-family=\"Times New Roman,serif\" font-size=\"14.00\">samples = 1</text>\r\n",
       "<text text-anchor=\"middle\" x=\"1188\" y=\"-22.8\" font-family=\"Times New Roman,serif\" font-size=\"14.00\">value = [0, 1]</text>\r\n",
       "<text text-anchor=\"middle\" x=\"1188\" y=\"-7.8\" font-family=\"Times New Roman,serif\" font-size=\"14.00\">class = si autismo</text>\r\n",
       "</g>\r\n",
       "<!-- 24&#45;&gt;25 -->\r\n",
       "<g id=\"edge25\" class=\"edge\">\r\n",
       "<title>24&#45;&gt;25</title>\r\n",
       "<path fill=\"none\" stroke=\"black\" d=\"M1205.57,-103.73C1203.43,-95.34 1201.16,-86.47 1199,-78.01\"/>\r\n",
       "<polygon fill=\"black\" stroke=\"black\" points=\"1202.38,-77.12 1196.51,-68.3 1195.6,-78.85 1202.38,-77.12\"/>\r\n",
       "</g>\r\n",
       "<!-- 26 -->\r\n",
       "<g id=\"node27\" class=\"node\">\r\n",
       "<title>26</title>\r\n",
       "<polygon fill=\"#e58139\" stroke=\"black\" points=\"1386,-68 1264,-68 1264,0 1386,0 1386,-68\"/>\r\n",
       "<text text-anchor=\"middle\" x=\"1325\" y=\"-52.8\" font-family=\"Times New Roman,serif\" font-size=\"14.00\">gini = 0.0</text>\r\n",
       "<text text-anchor=\"middle\" x=\"1325\" y=\"-37.8\" font-family=\"Times New Roman,serif\" font-size=\"14.00\">samples = 1</text>\r\n",
       "<text text-anchor=\"middle\" x=\"1325\" y=\"-22.8\" font-family=\"Times New Roman,serif\" font-size=\"14.00\">value = [1, 0]</text>\r\n",
       "<text text-anchor=\"middle\" x=\"1325\" y=\"-7.8\" font-family=\"Times New Roman,serif\" font-size=\"14.00\">class = no autismo</text>\r\n",
       "</g>\r\n",
       "<!-- 24&#45;&gt;26 -->\r\n",
       "<g id=\"edge26\" class=\"edge\">\r\n",
       "<title>24&#45;&gt;26</title>\r\n",
       "<path fill=\"none\" stroke=\"black\" d=\"M1256.59,-103.73C1265.76,-94.51 1275.49,-84.74 1284.65,-75.53\"/>\r\n",
       "<polygon fill=\"black\" stroke=\"black\" points=\"1287.28,-77.86 1291.85,-68.3 1282.32,-72.92 1287.28,-77.86\"/>\r\n",
       "</g>\r\n",
       "</g>\r\n",
       "</svg>\r\n"
      ],
      "text/plain": [
       "<graphviz.files.Source at 0x241f8008370>"
      ]
     },
     "metadata": {},
     "output_type": "display_data"
    }
   ],
   "source": [
    "tree_pca=DecisionTreeClassifier(max_depth=5, random_state=0)\n",
    "tree_pca.fit(X_pca_train, y_pca_train)\n",
    "\n",
    "from sklearn.tree import export_graphviz\n",
    "export_graphviz(tree_pca, out_file=\"tree_pca.dot\", class_names=[\"no autismo\", \"si autismo\"],\n",
    "                feature_names=[\"Componente 1\", \"Componente 2\", \"Componente 3\"], impurity=True, filled=True)\n",
    "import graphviz\n",
    "\n",
    "with open(\"tree_pca.dot\") as f:\n",
    "    dot_graph = f.read()\n",
    "display(graphviz.Source(dot_graph))"
   ]
  },
  {
   "cell_type": "markdown",
   "metadata": {},
   "source": [
    "### Importancia de variables en árboles de decisión basada en las variables utilizadas de los modelos de aprendizaje\n",
    "\n",
    "Los modelos basados en árboles nos proporcinan la importancia de las variables.\n"
   ]
  },
  {
   "cell_type": "code",
   "execution_count": 163,
   "metadata": {},
   "outputs": [
    {
     "name": "stdout",
     "output_type": "stream",
     "text": [
      "Feature importances:\n",
      "[0.         0.05827825 0.00501049 0.1209458  0.         0.\n",
      " 0.         0.02701206 0.30862884 0.01599115 0.12639496 0.\n",
      " 0.08368791 0.20896755 0.04508299 0.        ]\n"
     ]
    }
   ],
   "source": [
    "print(\"Feature importances:\")\n",
    "print(tree.feature_importances_)"
   ]
  },
  {
   "cell_type": "code",
   "execution_count": 164,
   "metadata": {},
   "outputs": [
    {
     "data": {
      "image/png": "[encoded data removed]",
      "text/plain": [
       "<Figure size 432x288 with 1 Axes>"
      ]
     },
     "metadata": {
      "needs_background": "light"
     },
     "output_type": "display_data"
    }
   ],
   "source": [
    "def plot_feature_importances(model):\n",
    "    n_features = X_reducido.shape[1]\n",
    "    plt.barh(np.arange(n_features), model.feature_importances_, align='center')\n",
    "    plt.yticks(np.arange(n_features), dataframe_reducido.columns)\n",
    "    plt.xlabel(\"Feature importance\")\n",
    "    plt.ylabel(\"Feature\")\n",
    "    plt.ylim(-1, n_features)\n",
    "\n",
    "plot_feature_importances(tree)"
   ]
  },
  {
   "cell_type": "code",
   "execution_count": 165,
   "metadata": {},
   "outputs": [
    {
     "name": "stdout",
     "output_type": "stream",
     "text": [
      "Feature importances PCA:\n",
      "[0.42506575 0.14035612 0.43457813]\n"
     ]
    }
   ],
   "source": [
    "print(\"Feature importances PCA:\")\n",
    "print(tree_pca.feature_importances_)"
   ]
  },
  {
   "cell_type": "code",
   "execution_count": 166,
   "metadata": {},
   "outputs": [
    {
     "data": {
      "image/png": "[encoded data removed]",
      "text/plain": [
       "<Figure size 432x288 with 1 Axes>"
      ]
     },
     "metadata": {
      "needs_background": "light"
     },
     "output_type": "display_data"
    }
   ],
   "source": [
    "def plot_feature_importances(model):\n",
    "    n_features = X_pca.shape[1]\n",
    "    plt.barh(np.arange(n_features), model.feature_importances_, align='center')\n",
    "    plt.yticks(np.arange(n_features), [\"Componente 1\", \"Componente 2\", \"Componente 3\"])\n",
    "    plt.xlabel(\"Feature importance PCA\")\n",
    "    plt.ylabel(\"Feature\")\n",
    "    plt.ylim(-1, n_features)\n",
    "\n",
    "plot_feature_importances(tree_pca)"
   ]
  },
  {
   "cell_type": "markdown",
   "metadata": {},
   "source": [
    "**Sabemos que si una característica no haya sido puntuada no implica que no sea importante. Simplemente el árbol no la ha usado.**\n",
    "Al contrario que en otro tipo de modelos, no nos indican la importancia de una variable con respecto a un valor de la respuesta."
   ]
  },
  {
   "cell_type": "markdown",
   "metadata": {},
   "source": [
    "## Validacion de modelos"
   ]
  },
  {
   "cell_type": "markdown",
   "metadata": {},
   "source": [
    "Dado que nuestro conjunto tiene **clases no balanceadas**, proceder nuestro estudio con un simple metodo Holdout o metodo Holdout con validacion y prueba nos daria problemas. Entonces **analizamos todos los metodos candidatos (Ensamble, Regresion, SVC) utilizando validacion cruzada** que permite que ningun ejemplo se \"escapa\" del entrenamiento ni de la evaluacion.\n",
    "Para cada metodo:\n",
    "- dividimos el conjunto de entrenamiento en k partes de igual tamano\n",
    "- se hacen k aprendizajes: en cada uno se usa como test una de las partes y como entreanamiento las k-1 restantes\n",
    "- se devuelve la media de las evaluaciones realizadas\n",
    "\n",
    "Sabemos que **la validacion cruzada no es un metodo para aprender un modelo, sino un metodo para evaluar la bondad de un algoritmo de aprendizaje sobre un conjunto de entrenamiento dato.**\n",
    "Una vez seleccionados los mejores modelos, **aprenderemos los respectivos modelos sobre todo el conjunto de entrenamiento y lo evaluaremos sobre el conjunto de prueba**.\n",
    "\n",
    "Utilizamos el comando **cross_val_score** que sabemos que por defecto, en un problema de clasificacion, utiliza **StratifiedKFold**, un iterador que garantiza una division estratificada del conjunto train en k partes **(procurar que en cada una de las particiones la proporción de cada clase sea similar a la proporción en todo el conjunto).** "
   ]
  },
  {
   "cell_type": "markdown",
   "metadata": {},
   "source": [
    "### Random Forest (X_reducido)"
   ]
  },
  {
   "cell_type": "code",
   "execution_count": 167,
   "metadata": {},
   "outputs": [
    {
     "name": "stdout",
     "output_type": "stream",
     "text": [
      "Resultados de la evaluación cruzada: [0.85849057 0.85849057 0.86792453 0.88571429 0.83809524]\n",
      "Evaluación media: 0.862\n"
     ]
    }
   ],
   "source": [
    "from sklearn.model_selection import cross_val_score\n",
    "from sklearn.ensemble import RandomForestClassifier\n",
    "\n",
    "forest = RandomForestClassifier(n_estimators=10, random_state=1234)\n",
    "\n",
    "scores = cross_val_score(forest, X_train, y_train,cv=5) #defecto cv=5\n",
    "print(\"Resultados de la evaluación cruzada: {}\".format(scores))\n",
    "print(\"Evaluación media: {:.3f}\".format(scores.mean()))"
   ]
  },
  {
   "cell_type": "markdown",
   "metadata": {},
   "source": [
    "### Gradient Boosting (X_reducido)"
   ]
  },
  {
   "cell_type": "code",
   "execution_count": 168,
   "metadata": {},
   "outputs": [
    {
     "name": "stdout",
     "output_type": "stream",
     "text": [
      "Resultados de la evaluación cruzada: [0.83018868 0.83018868 0.85849057 0.85714286 0.80952381]\n",
      "Evaluación media: 0.837\n"
     ]
    }
   ],
   "source": [
    "from sklearn.ensemble import GradientBoostingClassifier\n",
    "\n",
    "clf = GradientBoostingClassifier(n_estimators=100, max_depth=5, random_state=1234)\n",
    "\n",
    "scores = cross_val_score(clf, X_train, y_train,cv=5) #defecto cv=5\n",
    "print(\"Resultados de la evaluación cruzada: {}\".format(scores))\n",
    "print(\"Evaluación media: {:.3f}\".format(scores.mean()))"
   ]
  },
  {
   "cell_type": "markdown",
   "metadata": {},
   "source": [
    "### Extra Trees (X_reducido)"
   ]
  },
  {
   "cell_type": "code",
   "execution_count": 169,
   "metadata": {},
   "outputs": [
    {
     "name": "stdout",
     "output_type": "stream",
     "text": [
      "Resultados de la evaluación cruzada: [0.87735849 0.86792453 0.86792453 0.86666667 0.84761905]\n",
      "Evaluación media: 0.865\n"
     ]
    }
   ],
   "source": [
    "from sklearn.ensemble import ExtraTreesClassifier\n",
    "\n",
    "exclf = ExtraTreesClassifier(n_estimators=100, random_state=1234)\n",
    "\n",
    "scores = cross_val_score(exclf, X_train, y_train,cv=5) #defecto cv=5\n",
    "print(\"Resultados de la evaluación cruzada: {}\".format(scores))\n",
    "print(\"Evaluación media: {:.3f}\".format(scores.mean()))"
   ]
  },
  {
   "cell_type": "markdown",
   "metadata": {},
   "source": [
    "### Regresion Logistica (X_reducido)"
   ]
  },
  {
   "cell_type": "code",
   "execution_count": 170,
   "metadata": {},
   "outputs": [
    {
     "name": "stdout",
     "output_type": "stream",
     "text": [
      "Resultados de la evaluación cruzada: [0.87735849 0.86792453 0.86792453 0.85714286 0.85714286]\n",
      "Evaluación media: 0.865\n"
     ]
    }
   ],
   "source": [
    "from sklearn.linear_model import LogisticRegression\n",
    "\n",
    "logreg = LogisticRegression(max_iter=1000)\n",
    "\n",
    "scores = cross_val_score(logreg, X_train, y_train,cv=5) #defecto cv=5\n",
    "print(\"Resultados de la evaluación cruzada: {}\".format(scores))\n",
    "print(\"Evaluación media: {:.3f}\".format(scores.mean()))"
   ]
  },
  {
   "cell_type": "markdown",
   "metadata": {},
   "source": [
    "### Clasificador basado en vectores soporte (X_reducido)"
   ]
  },
  {
   "cell_type": "code",
   "execution_count": 171,
   "metadata": {},
   "outputs": [
    {
     "name": "stdout",
     "output_type": "stream",
     "text": [
      "Resultados de la evaluación cruzada: [0.86792453 0.86792453 0.86792453 0.87619048 0.87619048]\n",
      "Evaluación media: 0.871\n"
     ]
    }
   ],
   "source": [
    "from sklearn.svm import SVC\n",
    "\n",
    "svc = SVC()\n",
    "scores = cross_val_score(svc, X_train, y_train,cv=5) #defecto cv=5\n",
    "print(\"Resultados de la evaluación cruzada: {}\".format(scores))\n",
    "print(\"Evaluación media: {:.3f}\".format(scores.mean()))"
   ]
  },
  {
   "cell_type": "markdown",
   "metadata": {},
   "source": [
    "Los mejores dos modelos que salen de la comparacion utilizando validacion cruzada sobre **X_reducido** son **Regresion Logistica** (computacionalmente mejor de Extra Trees) y **SVC**.Como evaluacion media tienen respectivamente **0.865** y **0.871**."
   ]
  },
  {
   "cell_type": "markdown",
   "metadata": {},
   "source": [
    "### Random Forest (X_pca)"
   ]
  },
  {
   "cell_type": "code",
   "execution_count": 172,
   "metadata": {},
   "outputs": [
    {
     "name": "stdout",
     "output_type": "stream",
     "text": [
      "Resultados de la evaluación cruzada: [0.82075472 0.86792453 0.83962264 0.84761905 0.81904762]\n",
      "Evaluación media: 0.839\n"
     ]
    }
   ],
   "source": [
    "scores = cross_val_score(forest, X_pca_train, y_pca_train,cv=5) #defecto cv=5\n",
    "print(\"Resultados de la evaluación cruzada: {}\".format(scores))\n",
    "print(\"Evaluación media: {:.3f}\".format(scores.mean()))"
   ]
  },
  {
   "cell_type": "markdown",
   "metadata": {},
   "source": [
    "### Gradient Boosting (X_pca)"
   ]
  },
  {
   "cell_type": "code",
   "execution_count": 173,
   "metadata": {},
   "outputs": [
    {
     "name": "stdout",
     "output_type": "stream",
     "text": [
      "Resultados de la evaluación cruzada: [0.83018868 0.83018868 0.83018868 0.81904762 0.81904762]\n",
      "Evaluación media: 0.826\n"
     ]
    }
   ],
   "source": [
    "scores = cross_val_score(clf, X_pca_train, y_pca_train,cv=5) #defecto cv=5\n",
    "print(\"Resultados de la evaluación cruzada: {}\".format(scores))\n",
    "print(\"Evaluación media: {:.3f}\".format(scores.mean()))"
   ]
  },
  {
   "cell_type": "markdown",
   "metadata": {},
   "source": [
    "### Extra Trees (X_pca)"
   ]
  },
  {
   "cell_type": "code",
   "execution_count": 174,
   "metadata": {},
   "outputs": [
    {
     "name": "stdout",
     "output_type": "stream",
     "text": [
      "Resultados de la evaluación cruzada: [0.78301887 0.83962264 0.83962264 0.81904762 0.82857143]\n",
      "Evaluación media: 0.822\n"
     ]
    }
   ],
   "source": [
    "scores = cross_val_score(exclf, X_pca_train, y_pca_train,cv=5) #defecto cv=5\n",
    "print(\"Resultados de la evaluación cruzada: {}\".format(scores))\n",
    "print(\"Evaluación media: {:.3f}\".format(scores.mean()))"
   ]
  },
  {
   "cell_type": "markdown",
   "metadata": {},
   "source": [
    "### Regresion Logistica (X_pca)"
   ]
  },
  {
   "cell_type": "code",
   "execution_count": 175,
   "metadata": {},
   "outputs": [
    {
     "name": "stdout",
     "output_type": "stream",
     "text": [
      "Resultados de la evaluación cruzada: [0.86792453 0.86792453 0.86792453 0.87619048 0.87619048]\n",
      "Evaluación media: 0.871\n"
     ]
    }
   ],
   "source": [
    "logreg_pca = LogisticRegression(max_iter=1000)\n",
    "scores = cross_val_score(logreg_pca, X_pca_train, y_pca_train,cv=5) #defecto cv=5\n",
    "print(\"Resultados de la evaluación cruzada: {}\".format(scores))\n",
    "print(\"Evaluación media: {:.3f}\".format(scores.mean()))"
   ]
  },
  {
   "cell_type": "markdown",
   "metadata": {},
   "source": [
    "### Clasificador basado en vectores soporte (X_pca)"
   ]
  },
  {
   "cell_type": "code",
   "execution_count": 176,
   "metadata": {},
   "outputs": [
    {
     "name": "stdout",
     "output_type": "stream",
     "text": [
      "Resultados de la evaluación cruzada: [0.86792453 0.86792453 0.86792453 0.87619048 0.87619048]\n",
      "Evaluación media: 0.871\n"
     ]
    }
   ],
   "source": [
    "svc_pca= SVC()\n",
    "scores = cross_val_score(svc_pca, X_pca_train, y_pca_train,cv=5) #defecto cv=5\n",
    "print(\"Resultados de la evaluación cruzada: {}\".format(scores))\n",
    "print(\"Evaluación media: {:.3f}\".format(scores.mean()))"
   ]
  },
  {
   "cell_type": "markdown",
   "metadata": {},
   "source": [
    "Los mejores dos modelos que salen de la comparacion utilizando validacion cruzada sobre **X_pca** son **Regresion Logistica** y **SVC**.Como evaluacion media tienen ambos **0.871**."
   ]
  },
  {
   "cell_type": "markdown",
   "metadata": {},
   "source": [
    "Ahora entrenamos los **4 modelos seleccionados** y los evaluamos sobre el conjunto de test. Comprobamos de haber obtenido buenos resultados sobre el conjunto de test."
   ]
  },
  {
   "cell_type": "code",
   "execution_count": 177,
   "metadata": {},
   "outputs": [
    {
     "name": "stdout",
     "output_type": "stream",
     "text": [
      "Rendimiento Regresion Logistica sobre test con X_reducido:  0.875 \n",
      "\n",
      "Rendimiento SVC sobre test con X_reducido:  0.8693181818181818 \n",
      "\n",
      "Rendimiento Regresion Logistica sobre test con X_pca:  0.8693181818181818 \n",
      "\n",
      "Rendimiento SVC sobre test con X_pca:  0.8693181818181818 \n",
      "\n"
     ]
    }
   ],
   "source": [
    "modelo1=logreg.fit(X_train, y_train)\n",
    "print(\"Rendimiento Regresion Logistica sobre test con X_reducido: \",modelo1.score(X_test, y_test), \"\\n\")\n",
    "\n",
    "modelo2= svc.fit(X_train, y_train)\n",
    "print(\"Rendimiento SVC sobre test con X_reducido: \",modelo2.score(X_test, y_test), \"\\n\")\n",
    "\n",
    "modelo3=logreg_pca.fit(X_pca_train, y_pca_train)\n",
    "print(\"Rendimiento Regresion Logistica sobre test con X_pca: \",modelo3.score(X_pca_test, y_pca_test), \"\\n\")\n",
    "\n",
    "modelo4= svc_pca.fit(X_pca_train, y_pca_train)\n",
    "print(\"Rendimiento SVC sobre test con X_pca: \",modelo4.score(X_pca_test, y_pca_test), \"\\n\")"
   ]
  },
  {
   "cell_type": "markdown",
   "metadata": {},
   "source": [
    "## Ajuste de modelos: Optimización de hiperparámetros"
   ]
  },
  {
   "cell_type": "markdown",
   "metadata": {},
   "source": [
    "Procedemos ajustando los modelos, optimizando para cada uno los hiperparametros: **valores propios del modelo que pueden afectar grandemente al rendimiento del mismo**. Es decir, probamos distintas combinaciones de valores para cada hiperparámetro, aprendiendo el modelo y evaluándolo en cada una de esas combinaciones, para finalmente tomar la **mejor combinación**.\n",
    "\n",
    "Utilizamos el comando de scikitlearn `GridSearchCV`, que implementa la técnica de ajuste de parámetros **grid search + validación cruzada**. Es decir evalua cada combinación de parámetros usando validación cruzada sobre el conjunto de entrenamiento. \n",
    "\n",
    "Una vez encontradas las mejores combinaciónes de parámetros, los modelos finales son obtenidos entrenando con estas combinaciónes de los parámetros, sobre el total del conjunto de entrenamiento y luego se evaluan sobre el conjunto de test. \n",
    "`GridSearchCV` hace todo esto y **devuelve el mejor clasificador** (el que resulta del entrenamiento final con la mejor combinación de parámetros encontrada).\n",
    "\n",
    "Para **Regresion Logistica** analizeremo diferente valores de **C, inverso del coeficiente de regularizacion**, mientras que para **svc** analizeremo diferente valores de **C** y de **gamma, coeficiente del kernel**."
   ]
  },
  {
   "cell_type": "code",
   "execution_count": 178,
   "metadata": {},
   "outputs": [],
   "source": [
    "param_grid = {'C': [0.000001,0.00001,0.0001,0.001, 0.01, 0.1, 1, 10, 100],\n",
    "              'gamma': [0.000001,0.00001,0.0001,0.001, 0.01, 0.1, 1, 10, 100]}\n",
    "\n",
    "param_grid_rl={'C': [0.000001,0.00001,0.0001,0.001, 0.01, 0.1, 1, 10, 100]}"
   ]
  },
  {
   "cell_type": "code",
   "execution_count": 179,
   "metadata": {},
   "outputs": [
    {
     "data": {
      "text/plain": [
       "GridSearchCV(cv=5, estimator=LogisticRegression(max_iter=1000),\n",
       "             param_grid={'C': [1e-06, 1e-05, 0.0001, 0.001, 0.01, 0.1, 1, 10,\n",
       "                               100]})"
      ]
     },
     "execution_count": 179,
     "metadata": {},
     "output_type": "execute_result"
    }
   ],
   "source": [
    "from sklearn.model_selection import GridSearchCV\n",
    "grid_search_1 = GridSearchCV(modelo1, param_grid_rl, cv=5)\n",
    "grid_search_1.fit(X_train, y_train)"
   ]
  },
  {
   "cell_type": "code",
   "execution_count": 180,
   "metadata": {},
   "outputs": [
    {
     "name": "stdout",
     "output_type": "stream",
     "text": [
      "Mejor resultado (media) en validación cruzada: 0.8712\n",
      "Mejor clasificador encontrado: LogisticRegression(C=1e-06, max_iter=1000)\n",
      "Evaluación sobre el conjunto de test: 0.8693181818\n"
     ]
    }
   ],
   "source": [
    "print(\"Mejor resultado (media) en validación cruzada: {:.4f}\".format(grid_search_1.best_score_))\n",
    "print(\"Mejor clasificador encontrado: {}\".format(grid_search_1.best_estimator_))\n",
    "print(\"Evaluación sobre el conjunto de test: {:.10f}\".format(grid_search_1.score(X_test, y_test)))"
   ]
  },
  {
   "cell_type": "code",
   "execution_count": 181,
   "metadata": {
    "scrolled": true
   },
   "outputs": [
    {
     "data": {
      "text/plain": [
       "array([0.87123091, 0.87123091, 0.87123091, 0.87123091, 0.87123091,\n",
       "       0.87123091, 0.86549865, 0.8617071 , 0.8617071 ])"
      ]
     },
     "execution_count": 181,
     "metadata": {},
     "output_type": "execute_result"
    }
   ],
   "source": [
    "results = pd.DataFrame(grid_search_1.cv_results_)\n",
    "scores = np.array(results.mean_test_score)\n",
    "scores"
   ]
  },
  {
   "cell_type": "markdown",
   "metadata": {},
   "source": [
    "Para el **modelo 1** el mejor parametro de regolarizacion es **C=1e-06**, aunque el rendimiento en validacion cruzada no parece depender mucho de C. Sin embargo el rendimiento sobre el conjunto de test hecho con parametros por defecto ( C=1 ) es **mejor**, entonces nos quedamos con los **parametros por defecto**."
   ]
  },
  {
   "cell_type": "code",
   "execution_count": 182,
   "metadata": {
    "scrolled": true
   },
   "outputs": [
    {
     "data": {
      "text/plain": [
       "GridSearchCV(cv=5, estimator=SVC(),\n",
       "             param_grid={'C': [1e-06, 1e-05, 0.0001, 0.001, 0.01, 0.1, 1, 10,\n",
       "                               100],\n",
       "                         'gamma': [1e-06, 1e-05, 0.0001, 0.001, 0.01, 0.1, 1,\n",
       "                                   10, 100]})"
      ]
     },
     "execution_count": 182,
     "metadata": {},
     "output_type": "execute_result"
    }
   ],
   "source": [
    "grid_search_2 = GridSearchCV(modelo2, param_grid, cv=5)\n",
    "grid_search_2.fit(X_train, y_train)"
   ]
  },
  {
   "cell_type": "code",
   "execution_count": 183,
   "metadata": {},
   "outputs": [
    {
     "name": "stdout",
     "output_type": "stream",
     "text": [
      "Mejor resultado (media) en validación cruzada: 0.8731\n",
      "Mejor clasificador encontrado: SVC(C=10, gamma=100)\n",
      "Evaluación sobre el conjunto de test: 0.8693181818\n"
     ]
    }
   ],
   "source": [
    "print(\"Mejor resultado (media) en validación cruzada: {:.4f}\".format(grid_search_2.best_score_))\n",
    "print(\"Mejor clasificador encontrado: {}\".format(grid_search_2.best_estimator_))\n",
    "print(\"Evaluación sobre el conjunto de test: {:.10f}\".format(grid_search_2.score(X_test, y_test)))"
   ]
  },
  {
   "cell_type": "code",
   "execution_count": 184,
   "metadata": {},
   "outputs": [],
   "source": [
    "results = pd.DataFrame(grid_search_2.cv_results_)"
   ]
  },
  {
   "cell_type": "code",
   "execution_count": 185,
   "metadata": {},
   "outputs": [
    {
     "data": {
      "text/plain": [
       "<matplotlib.collections.PolyCollection at 0x241f3dcb760>"
      ]
     },
     "execution_count": 185,
     "metadata": {},
     "output_type": "execute_result"
    },
    {
     "data": {
      "image/png": "[encoded data removed]",
      "text/plain": [
       "<Figure size 432x288 with 1 Axes>"
      ]
     },
     "metadata": {
      "needs_background": "light"
     },
     "output_type": "display_data"
    }
   ],
   "source": [
    "scores = np.array(results.mean_test_score).reshape(9,9)\n",
    "\n",
    "mglearn.tools.heatmap(scores, xlabel='gamma', xticklabels=param_grid['gamma'],\n",
    "                      ylabel='C', yticklabels=param_grid['C'], cmap=\"viridis\")"
   ]
  },
  {
   "cell_type": "markdown",
   "metadata": {},
   "source": [
    "Para el **modelo 2** la mejor combinacion de parametros es **C=10, gamma=100**, aunque el rendimiento en validacion cruzada no parece depender mucho de los parametros. Sin embargo el rendimiento sobre el conjunto de test hecho con parametros por defecto ( C=1 y gamma='scale', scale=1 / (n_features * X_train.var()) ) es **lo mismo**, entonces nos quedamos con los **parametros por defecto**."
   ]
  },
  {
   "cell_type": "code",
   "execution_count": 186,
   "metadata": {},
   "outputs": [
    {
     "data": {
      "text/plain": [
       "GridSearchCV(cv=5, estimator=LogisticRegression(max_iter=1000),\n",
       "             param_grid={'C': [1e-06, 1e-05, 0.0001, 0.001, 0.01, 0.1, 1, 10,\n",
       "                               100]})"
      ]
     },
     "execution_count": 186,
     "metadata": {},
     "output_type": "execute_result"
    }
   ],
   "source": [
    "grid_search_3 = GridSearchCV(modelo3, param_grid_rl, cv=5)\n",
    "grid_search_3.fit(X_pca_train, y_pca_train)"
   ]
  },
  {
   "cell_type": "code",
   "execution_count": 187,
   "metadata": {},
   "outputs": [
    {
     "name": "stdout",
     "output_type": "stream",
     "text": [
      "Mejor resultado (media) en validación cruzada: 0.8712\n",
      "Mejor clasificador encontrado: LogisticRegression(C=1e-06, max_iter=1000)\n",
      "Evaluación sobre el conjunto de test: 0.8693181818\n"
     ]
    }
   ],
   "source": [
    "print(\"Mejor resultado (media) en validación cruzada: {:.4f}\".format(grid_search_3.best_score_))\n",
    "print(\"Mejor clasificador encontrado: {}\".format(grid_search_3.best_estimator_))\n",
    "print(\"Evaluación sobre el conjunto de test: {:.10f}\".format(grid_search_3.score(X_pca_test, y_pca_test)))"
   ]
  },
  {
   "cell_type": "code",
   "execution_count": 188,
   "metadata": {},
   "outputs": [
    {
     "data": {
      "text/plain": [
       "array([0.87123091, 0.87123091, 0.87123091, 0.87123091, 0.87123091,\n",
       "       0.87123091, 0.87123091, 0.87123091, 0.87123091])"
      ]
     },
     "execution_count": 188,
     "metadata": {},
     "output_type": "execute_result"
    }
   ],
   "source": [
    "results = pd.DataFrame(grid_search_3.cv_results_)\n",
    "scores = np.array(results.mean_test_score)\n",
    "scores"
   ]
  },
  {
   "cell_type": "markdown",
   "metadata": {},
   "source": [
    "Para el **modelo 3** el mejor parametro de regolarizacion es **C=1e-06**, aunque el rendimiento en validacion cruzada no parece depender mucho de C. Sin embargo el rendimiento sobre el conjunto de test hecho con parametros por defecto ( C=1 ) es **lo mismo**, entonces nos quedamos con los **parametros por defecto**."
   ]
  },
  {
   "cell_type": "code",
   "execution_count": 189,
   "metadata": {},
   "outputs": [
    {
     "data": {
      "text/plain": [
       "GridSearchCV(cv=5, estimator=SVC(),\n",
       "             param_grid={'C': [1e-06, 1e-05, 0.0001, 0.001, 0.01, 0.1, 1, 10,\n",
       "                               100],\n",
       "                         'gamma': [1e-06, 1e-05, 0.0001, 0.001, 0.01, 0.1, 1,\n",
       "                                   10, 100]})"
      ]
     },
     "execution_count": 189,
     "metadata": {},
     "output_type": "execute_result"
    }
   ],
   "source": [
    "grid_search_4 = GridSearchCV(modelo4, param_grid, cv=5)\n",
    "grid_search_4.fit(X_pca_train, y_pca_train)"
   ]
  },
  {
   "cell_type": "code",
   "execution_count": 190,
   "metadata": {},
   "outputs": [
    {
     "name": "stdout",
     "output_type": "stream",
     "text": [
      "Mejor resultado (media) en validación cruzada: 0.8712\n",
      "Mejor clasificador encontrado: SVC(C=1e-06, gamma=1e-06)\n",
      "Evaluación sobre el conjunto de test: 0.8693181818\n"
     ]
    }
   ],
   "source": [
    "print(\"Mejor resultado (media) en validación cruzada: {:.4f}\".format(grid_search_4.best_score_))\n",
    "print(\"Mejor clasificador encontrado: {}\".format(grid_search_4.best_estimator_))\n",
    "print(\"Evaluación sobre el conjunto de test: {:.10f}\".format(grid_search_4.score(X_pca_test, y_pca_test)))"
   ]
  },
  {
   "cell_type": "code",
   "execution_count": 191,
   "metadata": {},
   "outputs": [],
   "source": [
    "results = pd.DataFrame(grid_search_4.cv_results_)"
   ]
  },
  {
   "cell_type": "code",
   "execution_count": 192,
   "metadata": {},
   "outputs": [
    {
     "data": {
      "text/plain": [
       "<matplotlib.collections.PolyCollection at 0x241f8196460>"
      ]
     },
     "execution_count": 192,
     "metadata": {},
     "output_type": "execute_result"
    },
    {
     "data": {
      "image/png": "[encoded data removed]",
      "text/plain": [
       "<Figure size 432x288 with 1 Axes>"
      ]
     },
     "metadata": {
      "needs_background": "light"
     },
     "output_type": "display_data"
    }
   ],
   "source": [
    "scores = np.array(results.mean_test_score).reshape(9,9)\n",
    "\n",
    "mglearn.tools.heatmap(scores, xlabel='gamma', xticklabels=param_grid['gamma'],\n",
    "                      ylabel='C', yticklabels=param_grid['C'], cmap=\"viridis\")"
   ]
  },
  {
   "cell_type": "markdown",
   "metadata": {},
   "source": [
    "Para el **modelo 4** la mejor combinacion de parametros es **C=1e-06, gamma=1e-06**, aunque el rendimiento en validacion cruzada no parece depender mucho de los parametros. Sin embargo el rendimiento sobre el conjunto de test hecho con parametros por defecto ( C=1 y gamma='scale', scale=1 / (n_features * X_train.var()) ) es **lo mismo** de lo obtenido con parametros optimos, entonces tambien aqui nos quedamos con los **parametros por defecto**."
   ]
  },
  {
   "cell_type": "markdown",
   "metadata": {},
   "source": [
    "Aunque **no hemos obtenido muchas informaciones a traves del algoritmo de grid_search**, al final podemos elegir dos modelos candidatos en base al rendimiento sobre el conjunto de test:\n",
    "- **Regresion Logistica sobre conjunto X_reducido (modelo 1)**\n",
    "- **SVC sobre X_pca (modelo 4, asì que tenemos otro tipo de clasificador)**"
   ]
  },
  {
   "cell_type": "markdown",
   "metadata": {},
   "source": [
    "## Evaluación final de los 2 modelos seleccionados con metricas para clasificacion binaria"
   ]
  },
  {
   "cell_type": "markdown",
   "metadata": {},
   "source": [
    "Hasta ahora, hemos usado una única manera de medir el **rendimiento de un clasificador sobre un conjunto de datos: mediante la tasa de aciertos (accuracy)** damos la proporción de ejemplos bien clasificados, respecto del total de ejemplos del conjunto. \n",
    "\n",
    "Pero en nuestra situacion de **clases no balanceadas** (una de las dos clases es mucho más frecuente que la otra) **la tasa de error no es una buena métrica que expresa bien el verdadero rendimiento de un clasificador**. Necesitamos afinar más, buscando **métricas que reflejen realmente el rendimiento del clasificador**."
   ]
  },
  {
   "cell_type": "markdown",
   "metadata": {},
   "source": [
    "Desde la teoria conocemos dos tipos de errores en una clasificación binaria:\n",
    "- **Falso positivo (FP)**: un ejemplo que es realmente negativo es clasificado como positivo por el modelo\n",
    "- **Falso negativo (FN)**: un ejemplo que es realmente positivo es clasificado como negativo por el modelo. \n",
    "\n",
    "Dualmente, existen dos tipos de aciertos en una clasificación binaria:\n",
    "- **Verdadero positivo (TP)**: un ejemplo positivo bien clasificado por el modelo\n",
    "- **Verdadero negativo (TN)**: un ejemplo negativo bien clasificado por el modelo\n",
    "\n",
    "**En nuestro estudio, tratandose de un diagnostico de enfermedad, un FP es más aceptable que un FN.**"
   ]
  },
  {
   "cell_type": "markdown",
   "metadata": {},
   "source": [
    "### **Matriz confusion**"
   ]
  },
  {
   "cell_type": "code",
   "execution_count": 193,
   "metadata": {},
   "outputs": [
    {
     "name": "stdout",
     "output_type": "stream",
     "text": [
      "Confusion matrix:\n",
      "[[153   0]\n",
      " [ 22   1]]\n"
     ]
    }
   ],
   "source": [
    "from sklearn.metrics import confusion_matrix\n",
    "\n",
    "confusion = confusion_matrix(y_test,modelo1.predict(X_test))\n",
    "print(\"Confusion matrix:\\n{}\".format(confusion))"
   ]
  },
  {
   "cell_type": "code",
   "execution_count": 194,
   "metadata": {},
   "outputs": [
    {
     "name": "stdout",
     "output_type": "stream",
     "text": [
      "Confusion matrix:\n",
      "[[153   0]\n",
      " [ 23   0]]\n"
     ]
    }
   ],
   "source": [
    "confusion = confusion_matrix(y_pca_test,modelo4.predict(X_pca_test))\n",
    "print(\"Confusion matrix:\\n{}\".format(confusion))"
   ]
  },
  {
   "cell_type": "markdown",
   "metadata": {},
   "source": [
    "Como se observa en las correspondientes matrices de confusión, ambos clasificadores **no son capables de detectar los positivos**, que es muy importante tratandose de un estudio diagnostico."
   ]
  },
  {
   "cell_type": "markdown",
   "metadata": {},
   "source": [
    "No todos los aciertos o errores tienen la misma importancia. Por eso utilizamos mas de una medida para captar el impacto de todos los tipos de errores.\n",
    "\n",
    "- **Precision**: proporcion de los clasificados como positivos que lo son realmente (1/(0+1) por modelo 1 y 0/(0+0) por modelo 4, que consideramos 0)\n",
    "- **Recall**: proporcion de verdaderos positivos clasificados como positivos (respetivamente 1/(22+1) y 0/(23+0))\n",
    "\n",
    "Si bien precision y recall en conjunto suponen una buena métrica para evaluar en problemas binarios en el que las clases no están equilibradas, a veces se usa una única medida, que en este caso sería la media armónica de ambas cantidades, denominado **medida F1**:\n",
    "\n",
    "\\begin{equation}\n",
    "\\text{F1} = 2 \\cdot \\frac{\\text{precision} \\cdot \\text{recall}}{\\text{precision} + \\text{recall}}\n",
    "\\end{equation}"
   ]
  },
  {
   "cell_type": "markdown",
   "metadata": {},
   "source": [
    "### Tasa de aciertos balanceada (balanced accuracy)\n",
    "\n",
    "Hay otra medida combinada, la precisión balanceada, que combina la sensibilidad o recall y la especificidad. Una forma más intuitiva de ver esta métrica es como la media de las tasas de aciertos calculadas sobre las clases positiva y negativa respectivamente.\n",
    "\n",
    "\n",
    "$$B_{acc} =\\frac{Sensibility + Especificity}{2} = \\frac{\\frac{TP}{TP+FN} + \\frac{TN}{FP+TN}}{2}$$"
   ]
  },
  {
   "cell_type": "code",
   "execution_count": 195,
   "metadata": {},
   "outputs": [
    {
     "name": "stdout",
     "output_type": "stream",
     "text": [
      "Tasa de aciertos balanceada regresión logística: 0.52\n",
      "Tasa de aciertos balanceada SVC: 0.50\n"
     ]
    }
   ],
   "source": [
    "from sklearn.metrics import balanced_accuracy_score\n",
    "\n",
    "print(\"Tasa de aciertos balanceada regresión logística: {:.2f}\".format(\n",
    "    balanced_accuracy_score(y_test,modelo1.predict(X_test))))\n",
    "\n",
    "print(\"Tasa de aciertos balanceada SVC: {:.2f}\".format(\n",
    "    balanced_accuracy_score(y_pca_test,modelo4.predict(X_pca_test))))\n",
    "\n",
    "#valores muy malos"
   ]
  },
  {
   "cell_type": "markdown",
   "metadata": {},
   "source": [
    "Aunque, tanto F1 como la precisión balanceada, pueden llegar a captar en una sola cifra la comparativa entre clasificadores, es difícil de interpretar intuitivamente. Si se prefieren ver todas las medidas, es útil usar la función classification_report:"
   ]
  },
  {
   "cell_type": "code",
   "execution_count": 196,
   "metadata": {},
   "outputs": [
    {
     "name": "stdout",
     "output_type": "stream",
     "text": [
      "              precision    recall  f1-score   support\n",
      "\n",
      "  no autismo       0.87      1.00      0.93       153\n",
      "  si autismo       1.00      0.04      0.08        23\n",
      "\n",
      "    accuracy                           0.88       176\n",
      "   macro avg       0.94      0.52      0.51       176\n",
      "weighted avg       0.89      0.88      0.82       176\n",
      "\n"
     ]
    }
   ],
   "source": [
    "from sklearn.metrics import classification_report\n",
    "print(classification_report(y_test, modelo1.predict(X_test),\n",
    "                            target_names=[\"no autismo\", \"si autismo\"]))"
   ]
  },
  {
   "cell_type": "code",
   "execution_count": 197,
   "metadata": {},
   "outputs": [
    {
     "name": "stdout",
     "output_type": "stream",
     "text": [
      "              precision    recall  f1-score   support\n",
      "\n",
      "  no autismo       0.87      1.00      0.93       153\n",
      "  si autismo       0.00      0.00      0.00        23\n",
      "\n",
      "    accuracy                           0.87       176\n",
      "   macro avg       0.43      0.50      0.47       176\n",
      "weighted avg       0.76      0.87      0.81       176\n",
      "\n"
     ]
    },
    {
     "name": "stderr",
     "output_type": "stream",
     "text": [
      "C:\\Users\\matte\\anaconda3\\lib\\site-packages\\sklearn\\metrics\\_classification.py:1221: UndefinedMetricWarning: Precision and F-score are ill-defined and being set to 0.0 in labels with no predicted samples. Use `zero_division` parameter to control this behavior.\n",
      "  _warn_prf(average, modifier, msg_start, len(result))\n"
     ]
    }
   ],
   "source": [
    "from sklearn.metrics import classification_report\n",
    "print(classification_report(y_pca_test, modelo4.predict(X_pca_test),\n",
    "                            target_names=[\"no autismo\", \"si autismo\"]))"
   ]
  },
  {
   "cell_type": "markdown",
   "metadata": {},
   "source": [
    "### Mejoramos nuestras predicciones usando la incertidumbre en las predicciones: umbrales y curvas\n",
    "\n",
    "Analizamos los grados de incertidumbre en las predicciones para ambos los modelos, utilizando los siguientes metodos de scikitlearn:\n",
    "\n",
    "- `decision_function`: en este caso, el grado de certidumbre se da en forma de valor en los números reales (positivo o negativo). Es el caso, por ejemplo, de un clasificador basado en máquinas de vectores soporte SVC. \n",
    "\n",
    "- `predict_proba`: en este caso, el grado de certidumbre se da en forma de probabilidad (un valor entre 0 y 1). Por ejemplo, el caso de regresión logística. \n",
    "\n",
    "En ambos casos **existen unos valores por defecto del _umbral_ en la incertidumbre**, a partir del cual decidimos clasificar un ejemplo como de la clase positiva. En el caso de funciones de decisión, ese umbral es 0 y en el caso probabilístico, el umbral por defecto es 0.5.\n",
    "\n",
    "**Modificamos los umbrales de aceptacion para hacer que el clasificador sea meno estricto a la hora de clasificar un ejemplo como positivo**."
   ]
  },
  {
   "cell_type": "code",
   "execution_count": 198,
   "metadata": {},
   "outputs": [
    {
     "name": "stdout",
     "output_type": "stream",
     "text": [
      "              precision    recall  f1-score   support\n",
      "\n",
      "          no       0.92      0.81      0.86       153\n",
      "         yes       0.29      0.52      0.38        23\n",
      "\n",
      "    accuracy                           0.77       176\n",
      "   macro avg       0.61      0.67      0.62       176\n",
      "weighted avg       0.84      0.77      0.80       176\n",
      "\n"
     ]
    }
   ],
   "source": [
    "y_pred_lower_threshold = modelo1.predict_proba(X_test)[:,1] > 0.2   #probamos, despues utilizeremos las curvas roc para individuar el valor optimo\n",
    "y_pred_lower_threshold=np.where(y_pred_lower_threshold,'yes','no')\n",
    "print(classification_report(y_test, y_pred_lower_threshold))"
   ]
  },
  {
   "cell_type": "code",
   "execution_count": 199,
   "metadata": {},
   "outputs": [
    {
     "name": "stdout",
     "output_type": "stream",
     "text": [
      "Confusion matrix:\n",
      "[[124  29]\n",
      " [ 11  12]]\n"
     ]
    }
   ],
   "source": [
    "confusion = confusion_matrix(y_test,y_pred_lower_threshold)\n",
    "print(\"Confusion matrix:\\n{}\".format(confusion))"
   ]
  },
  {
   "cell_type": "code",
   "execution_count": 200,
   "metadata": {},
   "outputs": [
    {
     "name": "stdout",
     "output_type": "stream",
     "text": [
      "              precision    recall  f1-score   support\n",
      "\n",
      "          no       0.91      0.69      0.79       153\n",
      "         yes       0.20      0.52      0.29        23\n",
      "\n",
      "    accuracy                           0.67       176\n",
      "   macro avg       0.55      0.61      0.54       176\n",
      "weighted avg       0.81      0.67      0.72       176\n",
      "\n"
     ]
    }
   ],
   "source": [
    "y_pred_lower_threshold = modelo4.decision_function(X_pca_test) > -1\n",
    "y_pred_lower_threshold=np.where(y_pred_lower_threshold,'yes','no')\n",
    "y_pred_lower_threshold\n",
    "y_pca_test\n",
    "print(classification_report(y_pca_test, y_pred_lower_threshold))"
   ]
  },
  {
   "cell_type": "code",
   "execution_count": 201,
   "metadata": {},
   "outputs": [
    {
     "name": "stdout",
     "output_type": "stream",
     "text": [
      "Confusion matrix:\n",
      "[[106  47]\n",
      " [ 11  12]]\n"
     ]
    }
   ],
   "source": [
    "confusion = confusion_matrix(y_pca_test,y_pred_lower_threshold)\n",
    "print(\"Confusion matrix:\\n{}\".format(confusion))"
   ]
  },
  {
   "cell_type": "markdown",
   "metadata": {},
   "source": [
    "**Notamos que al bajar del umbral obtenemos menos FN y más FP (sube el recall pero baja la precision).**"
   ]
  },
  {
   "cell_type": "markdown",
   "metadata": {},
   "source": [
    "### **Curva Precision Recall**"
   ]
  },
  {
   "cell_type": "markdown",
   "metadata": {},
   "source": [
    "Construimos curvas P-R para los dos modelos."
   ]
  },
  {
   "cell_type": "code",
   "execution_count": 202,
   "metadata": {},
   "outputs": [],
   "source": [
    "from sklearn.metrics import precision_recall_curve\n",
    "y_0_1=np.where(y_test=='yes',1,0)\n",
    "precision, recall, thresholds = precision_recall_curve(y_0_1, modelo1.predict_proba(X_test)[:,1])"
   ]
  },
  {
   "cell_type": "markdown",
   "metadata": {},
   "source": [
    "Esta función precision_recall_curve devuelve tres arrays: respectivamente con los valores de precisión, de recall y de umbrales. La lista de umbrales la dan los distintos valores de decision_function o de predict_proba.\n",
    "\n",
    "Podemos imprimir esta información, y ver cómo va variando la precision y el recall:"
   ]
  },
  {
   "cell_type": "code",
   "execution_count": 203,
   "metadata": {},
   "outputs": [
    {
     "name": "stdout",
     "output_type": "stream",
     "text": [
      "Umbral: 0.0806652187. (P,R)=(0.1917,1.0000)\n",
      "Umbral: 0.0813135701. (P,R)=(0.1849,0.9565)\n",
      "Umbral: 0.0819479569. (P,R)=(0.1864,0.9565)\n",
      "Umbral: 0.0829156202. (P,R)=(0.1880,0.9565)\n",
      "Umbral: 0.0835878500. (P,R)=(0.1897,0.9565)\n",
      "Umbral: 0.0839422386. (P,R)=(0.1913,0.9565)\n",
      "Umbral: 0.0843534276. (P,R)=(0.1930,0.9565)\n",
      "Umbral: 0.0848101136. (P,R)=(0.1947,0.9565)\n",
      "Umbral: 0.0853173086. (P,R)=(0.1964,0.9565)\n",
      "Umbral: 0.0857670166. (P,R)=(0.1982,0.9565)\n",
      "Umbral: 0.0861695312. (P,R)=(0.2000,0.9565)\n",
      "Umbral: 0.0866303813. (P,R)=(0.2018,0.9565)\n",
      "Umbral: 0.0873624799. (P,R)=(0.2037,0.9565)\n",
      "Umbral: 0.0882863733. (P,R)=(0.2056,0.9565)\n",
      "Umbral: 0.0892900356. (P,R)=(0.2075,0.9565)\n",
      "Umbral: 0.0897350289. (P,R)=(0.2095,0.9565)\n",
      "Umbral: 0.0948801084. (P,R)=(0.2115,0.9565)\n",
      "Umbral: 0.0977737644. (P,R)=(0.2136,0.9565)\n",
      "Umbral: 0.0980405807. (P,R)=(0.2157,0.9565)\n",
      "Umbral: 0.0995617270. (P,R)=(0.2178,0.9565)\n",
      "Umbral: 0.1006440857. (P,R)=(0.2200,0.9565)\n",
      "Umbral: 0.1025818355. (P,R)=(0.2121,0.9130)\n",
      "Umbral: 0.1029314190. (P,R)=(0.2143,0.9130)\n",
      "Umbral: 0.1047144811. (P,R)=(0.2165,0.9130)\n",
      "Umbral: 0.1050517253. (P,R)=(0.2083,0.8696)\n",
      "Umbral: 0.1058144248. (P,R)=(0.2105,0.8696)\n",
      "Umbral: 0.1058785218. (P,R)=(0.2128,0.8696)\n",
      "Umbral: 0.1066201316. (P,R)=(0.2043,0.8261)\n",
      "Umbral: 0.1074704808. (P,R)=(0.2065,0.8261)\n",
      "Umbral: 0.1092364441. (P,R)=(0.2088,0.8261)\n",
      "Umbral: 0.1109902826. (P,R)=(0.2111,0.8261)\n",
      "Umbral: 0.1115878528. (P,R)=(0.2135,0.8261)\n",
      "Umbral: 0.1130937424. (P,R)=(0.2159,0.8261)\n",
      "Umbral: 0.1136939499. (P,R)=(0.2184,0.8261)\n",
      "Umbral: 0.1148170610. (P,R)=(0.2093,0.7826)\n",
      "Umbral: 0.1149712580. (P,R)=(0.2118,0.7826)\n",
      "Umbral: 0.1150576078. (P,R)=(0.2143,0.7826)\n",
      "Umbral: 0.1198556837. (P,R)=(0.2169,0.7826)\n",
      "Umbral: 0.1209976561. (P,R)=(0.2195,0.7826)\n",
      "Umbral: 0.1230298310. (P,R)=(0.2222,0.7826)\n",
      "Umbral: 0.1244699535. (P,R)=(0.2125,0.7391)\n",
      "Umbral: 0.1247199718. (P,R)=(0.2152,0.7391)\n",
      "Umbral: 0.1251767786. (P,R)=(0.2051,0.6957)\n",
      "Umbral: 0.1266321392. (P,R)=(0.2078,0.6957)\n",
      "Umbral: 0.1299777916. (P,R)=(0.1974,0.6522)\n",
      "Umbral: 0.1315348302. (P,R)=(0.2000,0.6522)\n",
      "Umbral: 0.1331222826. (P,R)=(0.1892,0.6087)\n",
      "Umbral: 0.1383312311. (P,R)=(0.1918,0.6087)\n",
      "Umbral: 0.1391911893. (P,R)=(0.1944,0.6087)\n",
      "Umbral: 0.1402544400. (P,R)=(0.1972,0.6087)\n",
      "Umbral: 0.1404092612. (P,R)=(0.2000,0.6087)\n",
      "Umbral: 0.1478697336. (P,R)=(0.2029,0.6087)\n",
      "Umbral: 0.1517697883. (P,R)=(0.2059,0.6087)\n",
      "Umbral: 0.1522929102. (P,R)=(0.2090,0.6087)\n",
      "Umbral: 0.1539822275. (P,R)=(0.2121,0.6087)\n",
      "Umbral: 0.1540191595. (P,R)=(0.2154,0.6087)\n",
      "Umbral: 0.1561860646. (P,R)=(0.2188,0.6087)\n",
      "Umbral: 0.1564017169. (P,R)=(0.2222,0.6087)\n",
      "Umbral: 0.1591822543. (P,R)=(0.2258,0.6087)\n",
      "Umbral: 0.1599691002. (P,R)=(0.2295,0.6087)\n",
      "Umbral: 0.1624343107. (P,R)=(0.2333,0.6087)\n",
      "Umbral: 0.1625284312. (P,R)=(0.2373,0.6087)\n",
      "Umbral: 0.1665209368. (P,R)=(0.2414,0.6087)\n",
      "Umbral: 0.1696303867. (P,R)=(0.2456,0.6087)\n",
      "Umbral: 0.1698461285. (P,R)=(0.2500,0.6087)\n",
      "Umbral: 0.1701969497. (P,R)=(0.2545,0.6087)\n",
      "Umbral: 0.1711959974. (P,R)=(0.2593,0.6087)\n",
      "Umbral: 0.1718566570. (P,R)=(0.2642,0.6087)\n",
      "Umbral: 0.1777910828. (P,R)=(0.2500,0.5652)\n",
      "Umbral: 0.1799039941. (P,R)=(0.2549,0.5652)\n",
      "Umbral: 0.1821364853. (P,R)=(0.2600,0.5652)\n",
      "Umbral: 0.1828949380. (P,R)=(0.2653,0.5652)\n",
      "Umbral: 0.1833457626. (P,R)=(0.2708,0.5652)\n",
      "Umbral: 0.1910111514. (P,R)=(0.2766,0.5652)\n",
      "Umbral: 0.1914214317. (P,R)=(0.2826,0.5652)\n",
      "Umbral: 0.1926923312. (P,R)=(0.2889,0.5652)\n",
      "Umbral: 0.1961920284. (P,R)=(0.2955,0.5652)\n",
      "Umbral: 0.1987300792. (P,R)=(0.2791,0.5217)\n",
      "Umbral: 0.1995995225. (P,R)=(0.2857,0.5217)\n",
      "Umbral: 0.2074997494. (P,R)=(0.2927,0.5217)\n",
      "Umbral: 0.2093011108. (P,R)=(0.3000,0.5217)\n",
      "Umbral: 0.2111001158. (P,R)=(0.3077,0.5217)\n",
      "Umbral: 0.2130191683. (P,R)=(0.3158,0.5217)\n",
      "Umbral: 0.2133135525. (P,R)=(0.3243,0.5217)\n",
      "Umbral: 0.2152108160. (P,R)=(0.3333,0.5217)\n",
      "Umbral: 0.2217551978. (P,R)=(0.3429,0.5217)\n",
      "Umbral: 0.2221718354. (P,R)=(0.3235,0.4783)\n",
      "Umbral: 0.2272753527. (P,R)=(0.3333,0.4783)\n",
      "Umbral: 0.2363777112. (P,R)=(0.3438,0.4783)\n",
      "Umbral: 0.2377927448. (P,R)=(0.3548,0.4783)\n",
      "Umbral: 0.2382930724. (P,R)=(0.3667,0.4783)\n",
      "Umbral: 0.2697023103. (P,R)=(0.3793,0.4783)\n",
      "Umbral: 0.2735425895. (P,R)=(0.3929,0.4783)\n",
      "Umbral: 0.2742270449. (P,R)=(0.3704,0.4348)\n",
      "Umbral: 0.2749597082. (P,R)=(0.3462,0.3913)\n",
      "Umbral: 0.2756508246. (P,R)=(0.3600,0.3913)\n",
      "Umbral: 0.2778692138. (P,R)=(0.3750,0.3913)\n",
      "Umbral: 0.2778773738. (P,R)=(0.3913,0.3913)\n",
      "Umbral: 0.2887934915. (P,R)=(0.4091,0.3913)\n",
      "Umbral: 0.2889233471. (P,R)=(0.3810,0.3478)\n",
      "Umbral: 0.2903607302. (P,R)=(0.3500,0.3043)\n",
      "Umbral: 0.2906700637. (P,R)=(0.3684,0.3043)\n",
      "Umbral: 0.2914120368. (P,R)=(0.3889,0.3043)\n",
      "Umbral: 0.3027428058. (P,R)=(0.3529,0.2609)\n",
      "Umbral: 0.3074915259. (P,R)=(0.3750,0.2609)\n",
      "Umbral: 0.3118705259. (P,R)=(0.3333,0.2174)\n",
      "Umbral: 0.3136741344. (P,R)=(0.3571,0.2174)\n",
      "Umbral: 0.3514527691. (P,R)=(0.3846,0.2174)\n",
      "Umbral: 0.3812042424. (P,R)=(0.4167,0.2174)\n",
      "Umbral: 0.3872525863. (P,R)=(0.4545,0.2174)\n",
      "Umbral: 0.3924695163. (P,R)=(0.5000,0.2174)\n",
      "Umbral: 0.4020248173. (P,R)=(0.5556,0.2174)\n",
      "Umbral: 0.4026660963. (P,R)=(0.6250,0.2174)\n",
      "Umbral: 0.4077163641. (P,R)=(0.7143,0.2174)\n",
      "Umbral: 0.4350244600. (P,R)=(0.6667,0.1739)\n",
      "Umbral: 0.4435081518. (P,R)=(0.8000,0.1739)\n",
      "Umbral: 0.4756412095. (P,R)=(1.0000,0.1739)\n",
      "Umbral: 0.4838741019. (P,R)=(1.0000,0.1304)\n",
      "Umbral: 0.4972835980. (P,R)=(1.0000,0.0870)\n",
      "Umbral: 0.5704317245. (P,R)=(1.0000,0.0435)\n"
     ]
    }
   ],
   "source": [
    "for u,p,r in zip(thresholds,precision,recall):\n",
    "    print(\"Umbral: {:.10f}. (P,R)=({:.4f},{:.4f})\".format(u,p,r))"
   ]
  },
  {
   "cell_type": "code",
   "execution_count": 204,
   "metadata": {},
   "outputs": [],
   "source": [
    "y_pca_0_1=np.where(y_pca_test=='yes',1,0)\n",
    "precision_pca, recall_pca, thresholds_pca = precision_recall_curve(y_pca_0_1, modelo4.decision_function(X_pca_test))"
   ]
  },
  {
   "cell_type": "code",
   "execution_count": 205,
   "metadata": {},
   "outputs": [
    {
     "name": "stdout",
     "output_type": "stream",
     "text": [
      "Umbral: 0.0806652187. (P,R)=(0.1917,1.0000)\n",
      "Umbral: 0.0813135701. (P,R)=(0.1849,0.9565)\n",
      "Umbral: 0.0819479569. (P,R)=(0.1864,0.9565)\n",
      "Umbral: 0.0829156202. (P,R)=(0.1880,0.9565)\n",
      "Umbral: 0.0835878500. (P,R)=(0.1897,0.9565)\n",
      "Umbral: 0.0839422386. (P,R)=(0.1913,0.9565)\n",
      "Umbral: 0.0843534276. (P,R)=(0.1930,0.9565)\n",
      "Umbral: 0.0848101136. (P,R)=(0.1947,0.9565)\n",
      "Umbral: 0.0853173086. (P,R)=(0.1964,0.9565)\n",
      "Umbral: 0.0857670166. (P,R)=(0.1982,0.9565)\n",
      "Umbral: 0.0861695312. (P,R)=(0.2000,0.9565)\n",
      "Umbral: 0.0866303813. (P,R)=(0.2018,0.9565)\n",
      "Umbral: 0.0873624799. (P,R)=(0.2037,0.9565)\n",
      "Umbral: 0.0882863733. (P,R)=(0.2056,0.9565)\n",
      "Umbral: 0.0892900356. (P,R)=(0.2075,0.9565)\n",
      "Umbral: 0.0897350289. (P,R)=(0.2095,0.9565)\n",
      "Umbral: 0.0948801084. (P,R)=(0.2115,0.9565)\n",
      "Umbral: 0.0977737644. (P,R)=(0.2136,0.9565)\n",
      "Umbral: 0.0980405807. (P,R)=(0.2157,0.9565)\n",
      "Umbral: 0.0995617270. (P,R)=(0.2178,0.9565)\n",
      "Umbral: 0.1006440857. (P,R)=(0.2200,0.9565)\n",
      "Umbral: 0.1025818355. (P,R)=(0.2121,0.9130)\n",
      "Umbral: 0.1029314190. (P,R)=(0.2143,0.9130)\n",
      "Umbral: 0.1047144811. (P,R)=(0.2165,0.9130)\n",
      "Umbral: 0.1050517253. (P,R)=(0.2083,0.8696)\n",
      "Umbral: 0.1058144248. (P,R)=(0.2105,0.8696)\n",
      "Umbral: 0.1058785218. (P,R)=(0.2128,0.8696)\n",
      "Umbral: 0.1066201316. (P,R)=(0.2043,0.8261)\n",
      "Umbral: 0.1074704808. (P,R)=(0.2065,0.8261)\n",
      "Umbral: 0.1092364441. (P,R)=(0.2088,0.8261)\n",
      "Umbral: 0.1109902826. (P,R)=(0.2111,0.8261)\n",
      "Umbral: 0.1115878528. (P,R)=(0.2135,0.8261)\n",
      "Umbral: 0.1130937424. (P,R)=(0.2159,0.8261)\n",
      "Umbral: 0.1136939499. (P,R)=(0.2184,0.8261)\n",
      "Umbral: 0.1148170610. (P,R)=(0.2093,0.7826)\n",
      "Umbral: 0.1149712580. (P,R)=(0.2118,0.7826)\n",
      "Umbral: 0.1150576078. (P,R)=(0.2143,0.7826)\n",
      "Umbral: 0.1198556837. (P,R)=(0.2169,0.7826)\n",
      "Umbral: 0.1209976561. (P,R)=(0.2195,0.7826)\n",
      "Umbral: 0.1230298310. (P,R)=(0.2222,0.7826)\n",
      "Umbral: 0.1244699535. (P,R)=(0.2125,0.7391)\n",
      "Umbral: 0.1247199718. (P,R)=(0.2152,0.7391)\n",
      "Umbral: 0.1251767786. (P,R)=(0.2051,0.6957)\n",
      "Umbral: 0.1266321392. (P,R)=(0.2078,0.6957)\n",
      "Umbral: 0.1299777916. (P,R)=(0.1974,0.6522)\n",
      "Umbral: 0.1315348302. (P,R)=(0.2000,0.6522)\n",
      "Umbral: 0.1331222826. (P,R)=(0.1892,0.6087)\n",
      "Umbral: 0.1383312311. (P,R)=(0.1918,0.6087)\n",
      "Umbral: 0.1391911893. (P,R)=(0.1944,0.6087)\n",
      "Umbral: 0.1402544400. (P,R)=(0.1972,0.6087)\n",
      "Umbral: 0.1404092612. (P,R)=(0.2000,0.6087)\n",
      "Umbral: 0.1478697336. (P,R)=(0.2029,0.6087)\n",
      "Umbral: 0.1517697883. (P,R)=(0.2059,0.6087)\n",
      "Umbral: 0.1522929102. (P,R)=(0.2090,0.6087)\n",
      "Umbral: 0.1539822275. (P,R)=(0.2121,0.6087)\n",
      "Umbral: 0.1540191595. (P,R)=(0.2154,0.6087)\n",
      "Umbral: 0.1561860646. (P,R)=(0.2188,0.6087)\n",
      "Umbral: 0.1564017169. (P,R)=(0.2222,0.6087)\n",
      "Umbral: 0.1591822543. (P,R)=(0.2258,0.6087)\n",
      "Umbral: 0.1599691002. (P,R)=(0.2295,0.6087)\n",
      "Umbral: 0.1624343107. (P,R)=(0.2333,0.6087)\n",
      "Umbral: 0.1625284312. (P,R)=(0.2373,0.6087)\n",
      "Umbral: 0.1665209368. (P,R)=(0.2414,0.6087)\n",
      "Umbral: 0.1696303867. (P,R)=(0.2456,0.6087)\n",
      "Umbral: 0.1698461285. (P,R)=(0.2500,0.6087)\n",
      "Umbral: 0.1701969497. (P,R)=(0.2545,0.6087)\n",
      "Umbral: 0.1711959974. (P,R)=(0.2593,0.6087)\n",
      "Umbral: 0.1718566570. (P,R)=(0.2642,0.6087)\n",
      "Umbral: 0.1777910828. (P,R)=(0.2500,0.5652)\n",
      "Umbral: 0.1799039941. (P,R)=(0.2549,0.5652)\n",
      "Umbral: 0.1821364853. (P,R)=(0.2600,0.5652)\n",
      "Umbral: 0.1828949380. (P,R)=(0.2653,0.5652)\n",
      "Umbral: 0.1833457626. (P,R)=(0.2708,0.5652)\n",
      "Umbral: 0.1910111514. (P,R)=(0.2766,0.5652)\n",
      "Umbral: 0.1914214317. (P,R)=(0.2826,0.5652)\n",
      "Umbral: 0.1926923312. (P,R)=(0.2889,0.5652)\n",
      "Umbral: 0.1961920284. (P,R)=(0.2955,0.5652)\n",
      "Umbral: 0.1987300792. (P,R)=(0.2791,0.5217)\n",
      "Umbral: 0.1995995225. (P,R)=(0.2857,0.5217)\n",
      "Umbral: 0.2074997494. (P,R)=(0.2927,0.5217)\n",
      "Umbral: 0.2093011108. (P,R)=(0.3000,0.5217)\n",
      "Umbral: 0.2111001158. (P,R)=(0.3077,0.5217)\n",
      "Umbral: 0.2130191683. (P,R)=(0.3158,0.5217)\n",
      "Umbral: 0.2133135525. (P,R)=(0.3243,0.5217)\n",
      "Umbral: 0.2152108160. (P,R)=(0.3333,0.5217)\n",
      "Umbral: 0.2217551978. (P,R)=(0.3429,0.5217)\n",
      "Umbral: 0.2221718354. (P,R)=(0.3235,0.4783)\n",
      "Umbral: 0.2272753527. (P,R)=(0.3333,0.4783)\n",
      "Umbral: 0.2363777112. (P,R)=(0.3438,0.4783)\n",
      "Umbral: 0.2377927448. (P,R)=(0.3548,0.4783)\n",
      "Umbral: 0.2382930724. (P,R)=(0.3667,0.4783)\n",
      "Umbral: 0.2697023103. (P,R)=(0.3793,0.4783)\n",
      "Umbral: 0.2735425895. (P,R)=(0.3929,0.4783)\n",
      "Umbral: 0.2742270449. (P,R)=(0.3704,0.4348)\n",
      "Umbral: 0.2749597082. (P,R)=(0.3462,0.3913)\n",
      "Umbral: 0.2756508246. (P,R)=(0.3600,0.3913)\n",
      "Umbral: 0.2778692138. (P,R)=(0.3750,0.3913)\n",
      "Umbral: 0.2778773738. (P,R)=(0.3913,0.3913)\n",
      "Umbral: 0.2887934915. (P,R)=(0.4091,0.3913)\n",
      "Umbral: 0.2889233471. (P,R)=(0.3810,0.3478)\n",
      "Umbral: 0.2903607302. (P,R)=(0.3500,0.3043)\n",
      "Umbral: 0.2906700637. (P,R)=(0.3684,0.3043)\n",
      "Umbral: 0.2914120368. (P,R)=(0.3889,0.3043)\n",
      "Umbral: 0.3027428058. (P,R)=(0.3529,0.2609)\n",
      "Umbral: 0.3074915259. (P,R)=(0.3750,0.2609)\n",
      "Umbral: 0.3118705259. (P,R)=(0.3333,0.2174)\n",
      "Umbral: 0.3136741344. (P,R)=(0.3571,0.2174)\n",
      "Umbral: 0.3514527691. (P,R)=(0.3846,0.2174)\n",
      "Umbral: 0.3812042424. (P,R)=(0.4167,0.2174)\n",
      "Umbral: 0.3872525863. (P,R)=(0.4545,0.2174)\n",
      "Umbral: 0.3924695163. (P,R)=(0.5000,0.2174)\n",
      "Umbral: 0.4020248173. (P,R)=(0.5556,0.2174)\n",
      "Umbral: 0.4026660963. (P,R)=(0.6250,0.2174)\n",
      "Umbral: 0.4077163641. (P,R)=(0.7143,0.2174)\n",
      "Umbral: 0.4350244600. (P,R)=(0.6667,0.1739)\n",
      "Umbral: 0.4435081518. (P,R)=(0.8000,0.1739)\n",
      "Umbral: 0.4756412095. (P,R)=(1.0000,0.1739)\n",
      "Umbral: 0.4838741019. (P,R)=(1.0000,0.1304)\n",
      "Umbral: 0.4972835980. (P,R)=(1.0000,0.0870)\n",
      "Umbral: 0.5704317245. (P,R)=(1.0000,0.0435)\n"
     ]
    }
   ],
   "source": [
    "for u,p,r in zip(thresholds,precision,recall):\n",
    "    print(\"Umbral: {:.10f}. (P,R)=({:.4f},{:.4f})\".format(u,p,r))"
   ]
  },
  {
   "cell_type": "markdown",
   "metadata": {},
   "source": [
    "Dibujamos las dos curvas para confrontar los dos modelos:"
   ]
  },
  {
   "cell_type": "code",
   "execution_count": 206,
   "metadata": {},
   "outputs": [
    {
     "data": {
      "text/plain": [
       "Text(0.5, 1.0, 'Curva P-R modelo 4')"
      ]
     },
     "execution_count": 206,
     "metadata": {},
     "output_type": "execute_result"
    },
    {
     "data": {
      "image/png": "[encoded data removed]",
      "text/plain": [
       "<Figure size 432x288 with 1 Axes>"
      ]
     },
     "metadata": {
      "needs_background": "light"
     },
     "output_type": "display_data"
    }
   ],
   "source": [
    "close_zero = np.argmin(np.abs(thresholds-0.5)) #umbral mas cercano a 0.5\n",
    "plt.plot(precision[close_zero], recall[close_zero], 'o', markersize=10,\n",
    "         label=\"umbral 0.5\", fillstyle=\"none\", c='k', mew=2)\n",
    "\n",
    "plt.plot(precision, recall, label=\"curva precision recall modelo 1\")\n",
    "\n",
    "close_zero_pca = np.argmin(np.abs(thresholds_pca)) #umbral mas cercano a 0\n",
    "plt.plot(precision_pca[close_zero_pca], recall_pca[close_zero_pca], '^', markersize=10,\n",
    "         label=\"umbral cero\", fillstyle=\"none\", c='k', mew=2)\n",
    "\n",
    "plt.plot(precision_pca, recall_pca, label=\"curva precision recall modelo 4\")\n",
    "plt.xlabel(\"Precision\")\n",
    "plt.ylabel(\"Recall\")\n",
    "plt.legend(loc=\"best\")\n",
    "plt.title(\"Curva P-R modelo 4\")"
   ]
  },
  {
   "cell_type": "markdown",
   "metadata": {},
   "source": [
    "Aunque ambas las curvas no parecen muy buenas, podemos decir que el **modelo 1, fijado un nivel de Recall, tiene un valor mayor de Precision (y viceversa)**"
   ]
  },
  {
   "cell_type": "markdown",
   "metadata": {},
   "source": [
    "Comprobamos cuanto dicho con un indice de precisión media, que en scikit learn se calcula con **average_precision_score**. En el caso de los dos clasificadores anteriores:"
   ]
  },
  {
   "cell_type": "code",
   "execution_count": 209,
   "metadata": {},
   "outputs": [
    {
     "name": "stdout",
     "output_type": "stream",
     "text": [
      "Precisión media de modelo 1: 0.428\n",
      "Precisión media de modelo 4: 0.163\n"
     ]
    }
   ],
   "source": [
    "from sklearn.metrics import average_precision_score\n",
    "ap_1 = average_precision_score(y_0_1, modelo1.predict_proba(X_test)[:, 1])\n",
    "ap_4 = average_precision_score(y_pca_0_1, modelo4.decision_function(X_pca_test))\n",
    "print(\"Precisión media de modelo 1: {:.3f}\".format(ap_1))\n",
    "print(\"Precisión media de modelo 4: {:.3f}\".format(ap_4))"
   ]
  },
  {
   "cell_type": "markdown",
   "metadata": {},
   "source": [
    "### ROC curve"
   ]
  },
  {
   "cell_type": "markdown",
   "metadata": {},
   "source": [
    "En scikit learn, la función roc_curve calcula los puntos de la curva ROC para los diferentes umbrales."
   ]
  },
  {
   "cell_type": "code",
   "execution_count": 210,
   "metadata": {},
   "outputs": [
    {
     "data": {
      "text/plain": [
       "<matplotlib.legend.Legend at 0x241f7a43730>"
      ]
     },
     "execution_count": 210,
     "metadata": {},
     "output_type": "execute_result"
    },
    {
     "data": {
      "image/png": "[encoded data removed]",
      "text/plain": [
       "<Figure size 432x288 with 1 Axes>"
      ]
     },
     "metadata": {
      "needs_background": "light"
     },
     "output_type": "display_data"
    }
   ],
   "source": [
    "from sklearn.metrics import roc_curve\n",
    "fpr_4, tpr_4, thresholds_4 = roc_curve(y_pca_0_1, modelo4.decision_function(X_pca_test))\n",
    "fpr_1, tpr_1, thresholds_1 = roc_curve(y_0_1, modelo1.predict_proba(X_test)[:, 1])\n",
    "\n",
    "plt.plot(fpr_1, tpr_1, label=\"Curva ROC RL (modelo 1)\")\n",
    "plt.plot(fpr_4, tpr_4, label=\"Curva ROC SVC (modelo 4)\")\n",
    "\n",
    "close_default = np.argmin(np.abs(thresholds_1-0.5)) # find threshold closest to 0.5\n",
    "close_zero = np.argmin(np.abs(thresholds_4)) # find threshold closest to 0\n",
    "plt.xlabel(\"FPR\")\n",
    "plt.ylabel(\"TPR (recall)\")\n",
    "plt.plot(fpr_1[close_default], tpr_1[close_default], 'o', markersize=10,\n",
    "         label=\"umbral 0.5\", fillstyle=\"none\", c='k', mew=2)\n",
    "\n",
    "plt.plot(fpr_4[close_zero], tpr_4[close_zero], '^', markersize=10,\n",
    "         label=\"umbral 0\", fillstyle=\"none\", c='k', mew=2)\n",
    "\n",
    "plt.legend(loc=4)"
   ]
  },
  {
   "cell_type": "markdown",
   "metadata": {},
   "source": [
    "Notamos que nuevamente el **modelo 1 parece mejor del modelo 4**, dado que la curva ROC asociada al modelo 1 esta siempre por encima de la otra."
   ]
  },
  {
   "cell_type": "markdown",
   "metadata": {},
   "source": [
    "Medimos el **área bajo la curva** y por eso esta medida se denomina AUC (area under the curve). En scikit learn, la función **roc_auc_score** calcula el AUC de un clasificador sobre un conjunto de ejemplos. Comprobamos con el AUC que el modelo 1 es mejor."
   ]
  },
  {
   "cell_type": "code",
   "execution_count": 211,
   "metadata": {},
   "outputs": [
    {
     "name": "stdout",
     "output_type": "stream",
     "text": [
      "AUC de RL (MODELO 1): 0.768\n",
      "AUC de SVC (MODELO 4): 0.552\n"
     ]
    }
   ],
   "source": [
    "from sklearn.metrics import roc_auc_score\n",
    "rl_auc = roc_auc_score(y_0_1, modelo1.predict_proba(X_test)[:, 1])\n",
    "svc_auc = roc_auc_score(y_pca_0_1, modelo4.decision_function(X_pca_test))\n",
    "print(\"AUC de RL (MODELO 1): {:.3f}\".format(rl_auc))\n",
    "print(\"AUC de SVC (MODELO 4): {:.3f}\".format(svc_auc))"
   ]
  },
  {
   "cell_type": "markdown",
   "metadata": {},
   "source": [
    "Como se observa, la medida AUC nos indica que el **clasificador basado en regresion logistica es algo mejor que el basado en máquinas de vectores soporte**. Ademas, se demuestra que cuando las clases **no están equilibradas**, la medidad AUC es más adecuada."
   ]
  },
  {
   "cell_type": "markdown",
   "metadata": {},
   "source": [
    "Entonces, finalmente selecionamos como modelo definitivo el modelo 1: Una **Regresion Logistica sobre un conjunto reducido de variables (16 variables)**"
   ]
  },
  {
   "cell_type": "markdown",
   "metadata": {},
   "source": [
    "Buscamos la **mejor combinacion (FalsePositiveRate,TruePositiveRate) y utilizamos el umbral correspondiente como umbral del modelo.**"
   ]
  },
  {
   "cell_type": "code",
   "execution_count": 212,
   "metadata": {
    "scrolled": true
   },
   "outputs": [
    {
     "name": "stdout",
     "output_type": "stream",
     "text": [
      "Umbral: 1.570431724481. (FPR,TPR): (0.00000000,0.00000000)\n",
      "Umbral: 0.570431724481. (FPR,TPR): (0.00000000,0.04347826)\n",
      "Umbral: 0.475641209491. (FPR,TPR): (0.00000000,0.17391304)\n",
      "Umbral: 0.435024460043. (FPR,TPR): (0.01307190,0.17391304)\n",
      "Umbral: 0.407716364081. (FPR,TPR): (0.01307190,0.21739130)\n",
      "Umbral: 0.311870525862. (FPR,TPR): (0.06535948,0.21739130)\n",
      "Umbral: 0.307491525855. (FPR,TPR): (0.06535948,0.26086957)\n",
      "Umbral: 0.302742805767. (FPR,TPR): (0.07189542,0.26086957)\n",
      "Umbral: 0.291412036840. (FPR,TPR): (0.07189542,0.30434783)\n",
      "Umbral: 0.290360730152. (FPR,TPR): (0.08496732,0.30434783)\n",
      "Umbral: 0.288793491453. (FPR,TPR): (0.08496732,0.39130435)\n",
      "Umbral: 0.274959708190. (FPR,TPR): (0.11111111,0.39130435)\n",
      "Umbral: 0.273542589504. (FPR,TPR): (0.11111111,0.47826087)\n",
      "Umbral: 0.222171835387. (FPR,TPR): (0.15032680,0.47826087)\n",
      "Umbral: 0.221755197812. (FPR,TPR): (0.15032680,0.52173913)\n",
      "Umbral: 0.198730079224. (FPR,TPR): (0.20261438,0.52173913)\n",
      "Umbral: 0.196192028362. (FPR,TPR): (0.20261438,0.56521739)\n",
      "Umbral: 0.177791082839. (FPR,TPR): (0.25490196,0.56521739)\n",
      "Umbral: 0.171856656991. (FPR,TPR): (0.25490196,0.60869565)\n",
      "Umbral: 0.133122282601. (FPR,TPR): (0.39215686,0.60869565)\n",
      "Umbral: 0.131534830208. (FPR,TPR): (0.39215686,0.65217391)\n",
      "Umbral: 0.129977791571. (FPR,TPR): (0.39869281,0.65217391)\n",
      "Umbral: 0.126632139150. (FPR,TPR): (0.39869281,0.69565217)\n",
      "Umbral: 0.125176778590. (FPR,TPR): (0.40522876,0.69565217)\n",
      "Umbral: 0.124719971813. (FPR,TPR): (0.40522876,0.73913043)\n",
      "Umbral: 0.124469953503. (FPR,TPR): (0.41176471,0.73913043)\n",
      "Umbral: 0.123029830989. (FPR,TPR): (0.41176471,0.78260870)\n",
      "Umbral: 0.114817061032. (FPR,TPR): (0.44444444,0.78260870)\n",
      "Umbral: 0.113693949871. (FPR,TPR): (0.44444444,0.82608696)\n",
      "Umbral: 0.106620131574. (FPR,TPR): (0.48366013,0.82608696)\n",
      "Umbral: 0.105878521783. (FPR,TPR): (0.48366013,0.86956522)\n",
      "Umbral: 0.105051725339. (FPR,TPR): (0.49673203,0.86956522)\n",
      "Umbral: 0.104714481075. (FPR,TPR): (0.49673203,0.91304348)\n",
      "Umbral: 0.102581835479. (FPR,TPR): (0.50980392,0.91304348)\n",
      "Umbral: 0.100644085722. (FPR,TPR): (0.50980392,0.95652174)\n",
      "Umbral: 0.081313570117. (FPR,TPR): (0.63398693,0.95652174)\n",
      "Umbral: 0.080665218672. (FPR,TPR): (0.63398693,1.00000000)\n",
      "Umbral: 0.022733612478. (FPR,TPR): (1.00000000,1.00000000)\n"
     ]
    }
   ],
   "source": [
    "for f,t,thr in zip(fpr_1, tpr_1, thresholds_1):\n",
    "    print(\"Umbral: {:.12f}. (FPR,TPR): ({:.8f},{:.8f})\".format(thr,f,t))"
   ]
  },
  {
   "cell_type": "code",
   "execution_count": 213,
   "metadata": {},
   "outputs": [
    {
     "name": "stdout",
     "output_type": "stream",
     "text": [
      "Matriz de confusión cambiando el umbral:\n",
      " [[75 78]\n",
      " [ 2 21]]\n"
     ]
    }
   ],
   "source": [
    "nuevo_umbral=0.100644085722\n",
    "y_pred_mod = modelo1.predict_proba(X_test)[:,1] > nuevo_umbral\n",
    "print(\"Matriz de confusión cambiando el umbral:\\n\",confusion_matrix(y_0_1,y_pred_mod))"
   ]
  },
  {
   "cell_type": "markdown",
   "metadata": {},
   "source": [
    "## Presentación de resultados"
   ]
  },
  {
   "cell_type": "markdown",
   "metadata": {},
   "source": [
    "La muy **alta variabilidad** del autismo rende **muy dificil plantear un clasificador con resultados optimos**. \n",
    "\n",
    "De estudios literarios se ha demostrado que es casi **imposible encontrar características similares entre sujetos autistas**. De hecho para diagnosticar la presencia de autismo se necesita un **equipo multidisciplinar de profesionales con formación específica en TEA**, en el que están presentes distintos profesionales, como psicólogos, médicos, logopedas, profesores especializados, psicomotricistas, etc.\n",
    "\n",
    "Además los **trastornos del espectro autista** (nuevo nombre atribuido al autismo debido a su alta variabilidad en su manifestacion) tiene **muchas comorbilidades**, es decir hay otros trastornos y enfermedades que van junto con la enfermedad principal. Por eso es **fundamental ser capaz de discriminar el trastorno del espectro autista de otros trastornos asociados** para definir las **intervenciones adecuadas y esenciales para favorecer el desarrollo y la calidad de vida de los sujetos con autismo**. \n",
    "\n",
    "Puede ser que los sujetos **\"falsos negativos\"** (autistas que no individuamos) sean **autistas ad alto funcionamento** y/o que han desarrollado **mecanismos de compensación** que han sido útiles para enmascarar y **manejar las dificultades**. Cuidado: esto no quiere decir que no hayan quedado **signos residuales de autismo que puedan comprometer muchas áreas de su vida como el trabajo y la sociedad**.\n",
    "\n",
    "Entonces creemos que sea importante individuar la mayor parte de las personas que necesitan ayuda para mejorar sus condiciones de vida. Por eso nuestro clasificador final tendrà un **ratio de verdadero positivo muy alto (alrededor del 96%)** a coste de un **ratio de falsos positivos alto (alrededor del 51%).**\n",
    "\n",
    "Claramente esta es la nuestra conclusión que damos con nuestro **humilde intento de explorar e investigar lo más posible este complejo trastorno** que podemos definir no como un trastorno claro, sino como una \"**constelación de síntomas**\" que causan el síndrome de los trastornos del espectro autista.\n",
    "\n",
    "Terminamos nuestro trabajo con esta imagen que pensamos pueda reflejar la **dificultad de clasificar y representar sintéticamente los trastornos del espectro autista** y, al contrario, la sencillez con la que el amor puede constituir una solución válida para mejorar la vida a los sujetos autistas y no solo a ellos..."
   ]
  },
  {
   "cell_type": "code",
   "execution_count": 214,
   "metadata": {},
   "outputs": [
    {
     "data": {
      "image/jpeg": "[encoded data removed]",
      "text/plain": [
       "<IPython.core.display.Image object>"
      ]
     },
     "execution_count": 214,
     "metadata": {},
     "output_type": "execute_result"
    }
   ],
   "source": [
    "from IPython import display\n",
    "display.Image(\"https://d2lcsjo4hzzyvz.cloudfront.net/blog/wp-content/uploads/2021/03/31163717/AUTISMO.jpg\")"
   ]
  }
 ],
 "metadata": {
  "kernelspec": {
   "display_name": "Python 3 (ipykernel)",
   "language": "python",
   "name": "python3"
  },
  "language_info": {
   "codemirror_mode": {
    "name": "ipython",
    "version": 3
   },
   "file_extension": ".py",
   "mimetype": "text/x-python",
   "name": "python",
   "nbconvert_exporter": "python",
   "pygments_lexer": "ipython3",
   "version": "3.8.5"
  }
 },
 "nbformat": 4,
 "nbformat_minor": 4
}
